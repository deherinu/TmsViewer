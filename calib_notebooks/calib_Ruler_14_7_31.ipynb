{
 "metadata": {
  "name": "",
  "signature": "sha256:bda70ac3a91c9253ce2fcd356e7dcd3861dda543e56c5d3433fb246ad133e7d7"
 },
 "nbformat": 3,
 "nbformat_minor": 0,
 "worksheets": [
  {
   "cells": [
    {
     "cell_type": "heading",
     "level": 1,
     "metadata": {},
     "source": [
      "TMS - optitracking calibration"
     ]
    },
    {
     "cell_type": "markdown",
     "metadata": {},
     "source": [
      "This file demonstrates how to convert the data taken during the calibration procedure into useful values that can be used for visualizing and analysing the data. This process should be carried out interactively in a python console or notebook, as in this example. We will start by loading some modules we will use throughout the process"
     ]
    },
    {
     "cell_type": "code",
     "collapsed": false,
     "input": [
      "from __future__ import division\n",
      "import numpy as np\n",
      "import scipy.optimize\n",
      "import sys\n",
      "import os\n",
      "import datetime\n",
      "from itertools import izip\n",
      "#change this to the directory containing your tms-data\n",
      "os.chdir(r\"C:\\Users\\da.angulo39\\Dropbox\\VaBD\\ProyectoSavingBrains\\TMS-Optitracking\\TMS_Data Agosto 2014\")\n",
      "#directory containing the tms view 2 project\n",
      "sys.path.append(r\"C:\\Users\\da.angulo39\\Dropbox\\VaBD\\ProyectoSavingBrains\\TMS-Optitracking\\tms_view2\")\n",
      "from tms import quat\n",
      "#utility functions used during the calibration\n",
      "from tms.calibration_commands import *\n",
      "from tms  import tms_utils as tms\n",
      "\n",
      "\n"
     ],
     "language": "python",
     "metadata": {},
     "outputs": [],
     "prompt_number": 1
    },
    {
     "cell_type": "markdown",
     "metadata": {},
     "source": [
      "## 3 Ruler Calibration\n",
      "\n",
      "Here we are trying to obtain a constant which can be used to transform optitracking units into mm.\n",
      "\n",
      "### 3.0 Prerequisites\n",
      "\n",
      "The pointer calibration should have been completed, and the $v$ values saved into the calibration_data.py file"
     ]
    },
    {
     "cell_type": "code",
     "collapsed": false,
     "input": [
      "calib_date = datetime.date(2014, 7, 31)\n",
      "point_f = get_pointer_point_function(calib_date)"
     ],
     "language": "python",
     "metadata": {},
     "outputs": [],
     "prompt_number": 2
    },
    {
     "cell_type": "markdown",
     "metadata": {},
     "source": [
      "### 2.1 Loading the data\n",
      "\n",
      "The first step is loading the samples for this calibration. This should be loaded into a list. In order to keep data organized, this information should be saved in the calibration_data.py file. We will use a function from calibration commands"
     ]
    },
    {
     "cell_type": "code",
     "collapsed": false,
     "input": [
      "import tms.calibration_data\n",
      "samples = tms.calibration_data.RULER_SAMPLES\n",
      "print samples"
     ],
     "language": "python",
     "metadata": {},
     "outputs": [
      {
       "output_type": "stream",
       "stream": "stdout",
       "text": [
        "['67000', '68000', '70000', '79000', '80000']\n"
       ]
      }
     ],
     "prompt_number": 5
    },
    {
     "cell_type": "markdown",
     "metadata": {},
     "source": [
      "Now we are going to load the data inside this files, "
     ]
    },
    {
     "cell_type": "code",
     "collapsed": false,
     "input": [
      "ruler_data = map(load_data,samples)\n",
      "for d in ruler_data[0]:\n",
      "    print d"
     ],
     "language": "python",
     "metadata": {},
     "outputs": [
      {
       "output_type": "stream",
       "stream": "stdout",
       "text": [
        "Point with reference:\n",
        "=====================\n",
        "Type: 1\n",
        "Capture Time : Thu Jul 31 17:35:55 COT 2014\n",
        "Refer.  Time : Wed Dec 31 19:17:39 COT 1969\n",
        "Object  Time : Wed Dec 31 19:17:55 COT 1969\n",
        "Ref.    pos  : 0.01 , -0.00 , -0.61\n",
        "Ref.    orn  : 0.10 , -0.07 , -0.69 , -0.71\n",
        "object  pos  : 0.12 , -0.18 , -0.18\n",
        "object  orn  : -0.28 , -0.47 , 0.17 , -0.82\n",
        "\n",
        "Point with reference:\n",
        "=====================\n",
        "Type: 2\n",
        "Capture Time : Thu Jul 31 17:36:05 COT 2014\n",
        "Refer.  Time : Wed Dec 31 19:17:39 COT 1969\n",
        "Object  Time : Wed Dec 31 19:18:05 COT 1969\n",
        "Ref.    pos  : 0.01 , -0.00 , -0.61\n",
        "Ref.    orn  : 0.10 , -0.07 , -0.69 , -0.71\n",
        "object  pos  : 0.12 , -0.15 , -0.53\n",
        "object  orn  : -0.25 , -0.36 , 0.23 , -0.87\n",
        "\n",
        "Point with reference:\n",
        "=====================\n",
        "Type: 3\n",
        "Capture Time : Thu Jul 31 17:36:15 COT 2014\n",
        "Refer.  Time : Wed Dec 31 19:17:39 COT 1969\n",
        "Object  Time : Wed Dec 31 19:18:15 COT 1969\n",
        "Ref.    pos  : 0.01 , -0.00 , -0.61\n",
        "Ref.    orn  : 0.10 , -0.07 , -0.69 , -0.71\n",
        "object  pos  : 0.12 , -0.14 , -0.48\n",
        "object  orn  : -0.24 , -0.31 , 0.30 , -0.87\n",
        "\n",
        "Point with reference:\n",
        "=====================\n",
        "Type: 4\n",
        "Capture Time : Thu Jul 31 17:36:25 COT 2014\n",
        "Refer.  Time : Wed Dec 31 19:17:39 COT 1969\n",
        "Object  Time : Wed Dec 31 19:18:26 COT 1969\n",
        "Ref.    pos  : 0.01 , -0.00 , -0.61\n",
        "Ref.    orn  : 0.10 , -0.07 , -0.69 , -0.71\n",
        "object  pos  : 0.13 , -0.16 , -0.54\n",
        "object  orn  : -0.27 , -0.39 , 0.25 , -0.84\n",
        "\n",
        "Point with reference:\n",
        "=====================\n",
        "Type: 0\n",
        "Capture Time : Thu Jul 31 17:36:52 COT 2014\n",
        "Refer.  Time : Wed Dec 31 19:18:43 COT 1969\n",
        "Object  Time : Wed Dec 31 19:16:40 COT 1969\n",
        "Ref.    pos  : 0.01 , -0.24 , -0.73\n",
        "Ref.    orn  : 0.20 , 0.29 , -0.48 , -0.80\n",
        "object  pos  : 0.32 , -0.14 , -0.13\n",
        "object  orn  : 0.52 , 0.12 , -0.53 , 0.66\n",
        "\n"
       ]
      }
     ],
     "prompt_number": 45
    },
    {
     "cell_type": "markdown",
     "metadata": {},
     "source": [
      "There is lots of information in these files, because we are only calibrating the sample we don't care about the reference. \n",
      "\n",
      "Now we should look at each of the samples separately in order to find obvious problems. If any of them looks problematic (for example, contains missing values) we should remove it."
     ]
    },
    {
     "cell_type": "code",
     "collapsed": false,
     "input": [
      "print len(ruler_data)\n",
      "#save a copy, handy\n",
      "orig_ruler_data = ruler_data[:]"
     ],
     "language": "python",
     "metadata": {},
     "outputs": [
      {
       "output_type": "stream",
       "stream": "stdout",
       "text": [
        "5\n"
       ]
      }
     ],
     "prompt_number": 10
    },
    {
     "cell_type": "markdown",
     "metadata": {},
     "source": [
      "Be sure to look at all the samples by changing the index in the next command... Afterwards do any cleanup necessary in the next cell."
     ]
    },
    {
     "cell_type": "code",
     "collapsed": true,
     "input": [
      "for d in orig_ruler_data[1]:\n",
      "    print d\n",
      "    "
     ],
     "language": "python",
     "metadata": {},
     "outputs": [
      {
       "output_type": "stream",
       "stream": "stdout",
       "text": [
        "Point with reference:\n",
        "=====================\n",
        "Type: 1\n",
        "Capture Time : Thu Jul 31 17:38:27 COT 2014\n",
        "Refer.  Time : Wed Dec 31 19:20:13 COT 1969\n",
        "Object  Time : Wed Dec 31 19:20:14 COT 1969\n",
        "Ref.    pos  : 0.14 , -0.08 , -0.53\n",
        "Ref.    orn  : 0.23 , -0.10 , -0.56 , -0.79\n",
        "object  pos  : 0.33 , -0.08 , -0.32\n",
        "object  orn  : 0.36 , 0.62 , -0.29 , 0.63\n",
        "\n",
        "Point with reference:\n",
        "=====================\n",
        "Type: 2\n",
        "Capture Time : Thu Jul 31 17:38:37 COT 2014\n",
        "Refer.  Time : Wed Dec 31 19:20:13 COT 1969\n",
        "Object  Time : Wed Dec 31 19:20:30 COT 1969\n",
        "Ref.    pos  : 0.14 , -0.08 , -0.53\n",
        "Ref.    orn  : 0.23 , -0.10 , -0.56 , -0.79\n",
        "object  pos  : -0.14 , -0.18 , -0.37\n",
        "object  orn  : 0.39 , 0.71 , 0.25 , 0.53\n",
        "\n",
        "Point with reference:\n",
        "=====================\n",
        "Type: 3\n",
        "Capture Time : Thu Jul 31 17:38:47 COT 2014\n",
        "Refer.  Time : Wed Dec 31 19:20:39 COT 1969\n",
        "Object  Time : Wed Dec 31 19:20:40 COT 1969\n",
        "Ref.    pos  : 0.18 , -0.14 , -0.31\n",
        "Ref.    orn  : 0.74 , -0.26 , -0.58 , -0.19\n",
        "object  pos  : 0.18 , -0.16 , -0.33\n",
        "object  orn  : 0.32 , 0.79 , 0.23 , 0.46\n",
        "\n",
        "Point with reference:\n",
        "=====================\n",
        "Type: 4\n",
        "Capture Time : Thu Jul 31 17:38:57 COT 2014\n",
        "Refer.  Time : Wed Dec 31 19:20:49 COT 1969\n",
        "Object  Time : Wed Dec 31 19:20:49 COT 1969\n",
        "Ref.    pos  : 0.08 , -0.16 , -0.34\n",
        "Ref.    orn  : 0.71 , -0.16 , -0.64 , -0.25\n",
        "object  pos  : -0.17 , -0.19 , -0.35\n",
        "object  orn  : 0.36 , 0.70 , 0.19 , 0.59\n",
        "\n",
        "Point with reference:\n",
        "=====================\n",
        "Type: 0\n",
        "Capture Time : Thu Jul 31 17:39:20 COT 2014\n",
        "Refer.  Time : Wed Dec 31 19:21:10 COT 1969\n",
        "Object  Time : Wed Dec 31 19:21:06 COT 1969\n",
        "Ref.    pos  : 0.21 , -0.22 , -1.00\n",
        "Ref.    orn  : 0.22 , -0.32 , -0.19 , 0.90\n",
        "object  pos  : -0.00 , -0.24 , -0.89\n",
        "object  orn  : 0.40 , -0.48 , 0.18 , 0.76\n",
        "\n"
       ]
      }
     ],
     "prompt_number": 17
    },
    {
     "cell_type": "code",
     "collapsed": false,
     "input": [
      "# 0 looks wrong visually\n",
      "\n",
      "ruler_data = [orig_ruler_data[1][2:4] ,orig_ruler_data[2],orig_ruler_data[3],orig_ruler_data[4][-5:]]"
     ],
     "language": "python",
     "metadata": {},
     "outputs": [],
     "prompt_number": 46
    },
    {
     "cell_type": "markdown",
     "metadata": {},
     "source": [
      "Make sure we only get calibration samples"
     ]
    },
    {
     "cell_type": "code",
     "collapsed": false,
     "input": [
      "ruler_data = [filter(lambda x:x.type!=0,s) for s in ruler_data]\n"
     ],
     "language": "python",
     "metadata": {},
     "outputs": [],
     "prompt_number": 47
    },
    {
     "cell_type": "code",
     "collapsed": false,
     "input": [
      "for p in ruler_data[0]: print p"
     ],
     "language": "python",
     "metadata": {},
     "outputs": [
      {
       "output_type": "stream",
       "stream": "stdout",
       "text": [
        "Point with reference:\n",
        "=====================\n",
        "Type: 3\n",
        "Capture Time : Thu Jul 31 17:38:47 COT 2014\n",
        "Refer.  Time : Wed Dec 31 19:20:39 COT 1969\n",
        "Object  Time : Wed Dec 31 19:20:40 COT 1969\n",
        "Ref.    pos  : 0.18 , -0.14 , -0.31\n",
        "Ref.    orn  : 0.74 , -0.26 , -0.58 , -0.19\n",
        "object  pos  : 0.18 , -0.16 , -0.33\n",
        "object  orn  : 0.32 , 0.79 , 0.23 , 0.46\n",
        "\n",
        "Point with reference:\n",
        "=====================\n",
        "Type: 4\n",
        "Capture Time : Thu Jul 31 17:38:57 COT 2014\n",
        "Refer.  Time : Wed Dec 31 19:20:49 COT 1969\n",
        "Object  Time : Wed Dec 31 19:20:49 COT 1969\n",
        "Ref.    pos  : 0.08 , -0.16 , -0.34\n",
        "Ref.    orn  : 0.71 , -0.16 , -0.64 , -0.25\n",
        "object  pos  : -0.17 , -0.19 , -0.35\n",
        "object  orn  : 0.36 , 0.70 , 0.19 , 0.59\n",
        "\n"
       ]
      }
     ],
     "prompt_number": 49
    },
    {
     "cell_type": "markdown",
     "metadata": {},
     "source": [
      "Finally, lets keep only the position and orientation, and transform the orientation to quaternions objects. "
     ]
    },
    {
     "cell_type": "code",
     "collapsed": false,
     "input": [
      "ruler_pairs = [map(transform_sample_no_ref,s) for s in ruler_data]\n"
     ],
     "language": "python",
     "metadata": {},
     "outputs": [],
     "prompt_number": 50
    },
    {
     "cell_type": "markdown",
     "metadata": {},
     "source": [
      "We will now use the pointer_point function to get the positions of the points."
     ]
    },
    {
     "cell_type": "code",
     "collapsed": false,
     "input": [
      "ruler_points = [map(lambda x:point_f(x.pos,x.orn),s) for s in ruler_pairs]\n",
      "\n"
     ],
     "language": "python",
     "metadata": {},
     "outputs": [],
     "prompt_number": 51
    },
    {
     "cell_type": "markdown",
     "metadata": {},
     "source": [
      "Lets take a look at this data using vtk. Look for the vtk window that will open after excecuting this cell.\n"
     ]
    },
    {
     "cell_type": "code",
     "collapsed": false,
     "input": [
      "# first let't get some colors\n",
      "import colorbrewer\n",
      "colors = colorbrewer.Set3[max(3,len(ruler_points))]\n",
      "colors = map(lambda c:map(lambda x:x/255,c),colors)\n",
      "viewer = VtkViewer()\n",
      "for i,points in enumerate(ruler_points):\n",
      "    c = colors[i]\n",
      "    # uncomment to view data 1 by 1\n",
      "    # viewer = VtkViewer()\n",
      "    for p in points:\n",
      "        ac = get_sphere_actor(*p)\n",
      "        ac.GetProperty().SetColor(c)\n",
      "        viewer.add_actor(ac)\n",
      "viewer.start()\n",
      "del viewer\n",
      "\n"
     ],
     "language": "python",
     "metadata": {},
     "outputs": [],
     "prompt_number": 52
    },
    {
     "cell_type": "markdown",
     "metadata": {},
     "source": [
      "If some sample looks weird, you may use the above code to look at them individually"
     ]
    },
    {
     "cell_type": "markdown",
     "metadata": {},
     "source": [
      "If everything looks fine continue to the next section, otherwise data should be fixed."
     ]
    },
    {
     "cell_type": "markdown",
     "metadata": {},
     "source": [
      "## 2.2 Measure distance between pairs\n",
      "\n",
      "Ideally each sample contains two points at one extreme of the ruler and two at the other. If there is only two points we have to use those. We will compute the distances for each trial, and afterwards compute the mean."
     ]
    },
    {
     "cell_type": "code",
     "collapsed": false,
     "input": [
      "distances = []\n",
      "for points in ruler_points:\n",
      "    if len(points) == 4:\n",
      "        p1 = (points[0]+points[2])/2\n",
      "        p2 = (points[1]+points[3])/2\n",
      "    elif len(points) == 2:\n",
      "        p1 = points[0]\n",
      "        p2 = points[1]\n",
      "    else:\n",
      "        continue\n",
      "    d = np.linalg.norm(p1-p2)\n",
      "    distances.append(d)\n",
      "print distances"
     ],
     "language": "python",
     "metadata": {},
     "outputs": [
      {
       "output_type": "stream",
       "stream": "stdout",
       "text": [
        "[0.38619743692188058, 0.38441009855943969, 0.37962577968834021, 0.38312400333683455]\n"
       ]
      }
     ],
     "prompt_number": 55
    },
    {
     "cell_type": "markdown",
     "metadata": {},
     "source": [
      "We can see the distances are all very consisent around 0.38,the exact mean is:"
     ]
    },
    {
     "cell_type": "code",
     "collapsed": false,
     "input": [
      "mean_d = np.mean(distances)\n",
      "print mean_d"
     ],
     "language": "python",
     "metadata": {},
     "outputs": [
      {
       "output_type": "stream",
       "stream": "stdout",
       "text": [
        "0.383339329627\n"
       ]
      }
     ],
     "prompt_number": 57
    },
    {
     "cell_type": "markdown",
     "metadata": {},
     "source": [
      "The real length of the rules is about 0.31 meters, therefore to convert optitrack units to meters we would need to multiply by"
     ]
    },
    {
     "cell_type": "code",
     "collapsed": false,
     "input": [
      "k = 0.31/mean_d\n",
      "print k"
     ],
     "language": "python",
     "metadata": {},
     "outputs": [
      {
       "output_type": "stream",
       "stream": "stdout",
       "text": [
        "0.808683002347\n"
       ]
      }
     ],
     "prompt_number": 58
    },
    {
     "cell_type": "code",
     "collapsed": false,
     "input": [],
     "language": "python",
     "metadata": {},
     "outputs": []
    }
   ],
   "metadata": {}
  }
 ]
}