{
 "metadata": {
  "name": "",
  "signature": "sha256:484eec9e96e5b3706c45b6a91853fed39c8565260610c5977d2c0ccd2d649e8e"
 },
 "nbformat": 3,
 "nbformat_minor": 0,
 "worksheets": [
  {
   "cells": [
    {
     "cell_type": "heading",
     "level": 1,
     "metadata": {},
     "source": [
      "TMS - optitracking calibration"
     ]
    },
    {
     "cell_type": "markdown",
     "metadata": {},
     "source": [
      "This file demonstrates how to convert the data taken during the calibration procedure into useful values that can be used for visualizing and analysing the data. This process should be carried out interactively in a python console or notebook, as in this example. We will start by loading some modules we will use throughout the process"
     ]
    },
    {
     "cell_type": "code",
     "collapsed": false,
     "input": [
      "from __future__ import division\n",
      "import numpy as np\n",
      "import scipy.optimize\n",
      "import sys\n",
      "import os\n",
      "import datetime\n",
      "from itertools import izip\n",
      "#change this to the directory containing your tms-data\n",
      "os.chdir(r\"C:\\Users\\Diego\\Dropbox\\VaBD\\ProyectoSavingBrains\\TMS-Optitracking\\TMS Data Mayo 2014\\TMS_Data\")\n",
      "#directory containing the tms view 2 project\n",
      "sys.path.append(r\"C:\\Users\\Diego\\Dropbox\\VaBD\\ProyectoSavingBrains\\TMS-Optitracking\\tms_view2\")\n",
      "import quat\n",
      "import tms_utils as tms\n",
      "\n",
      "#utility functions used during the calibration\n",
      "from calibration_commands import *"
     ],
     "language": "python",
     "metadata": {},
     "outputs": [],
     "prompt_number": 1
    },
    {
     "cell_type": "markdown",
     "metadata": {},
     "source": [
      "## 2 Coil Calibration\n",
      "\n",
      "Here the objective is to obtain a function that will transform the vrpn values into coordinates corresponding to the center of the coil, and to an hypotethical point located 10 units over the center. This will be useful for drawing the cones that indicate the direction of the stimulation.\n",
      "\n",
      "### 2.0 Prerequisites\n",
      "\n",
      "The pointer calibration should have been completed, and the $v$ values saved into the calibration_data.py file"
     ]
    },
    {
     "cell_type": "code",
     "collapsed": false,
     "input": [
      "calib_date = datetime.date(2013, 4, 11)\n",
      "point_f = get_pointer_point_function(calib_date)"
     ],
     "language": "python",
     "metadata": {},
     "outputs": [],
     "prompt_number": 2
    },
    {
     "cell_type": "markdown",
     "metadata": {},
     "source": [
      "### 2.1 Loading the data\n",
      "\n",
      "The first step is loading the samples for this calibration. This should be loaded into a list. In order to keep data organized, this information should be saved in the calibration_data.py file. We will use a function from calibration commands"
     ]
    },
    {
     "cell_type": "code",
     "collapsed": false,
     "input": [
      "coil_samples = load_coil_samples(calib_date)\n",
      "print coil_samples"
     ],
     "language": "python",
     "metadata": {},
     "outputs": [
      {
       "output_type": "stream",
       "stream": "stdout",
       "text": [
        "['1006', '1007', '1008', '1009']\n"
       ]
      }
     ],
     "prompt_number": 3
    },
    {
     "cell_type": "markdown",
     "metadata": {},
     "source": [
      "Now we are going to load the data inside this files, "
     ]
    },
    {
     "cell_type": "code",
     "collapsed": false,
     "input": [
      "coil_data = map(load_data,coil_samples)\n",
      "for d in coil_data[2]:\n",
      "    print d"
     ],
     "language": "python",
     "metadata": {},
     "outputs": [
      {
       "output_type": "stream",
       "stream": "stdout",
       "text": [
        "Point with reference:\n",
        "=====================\n",
        "Type: 1\n",
        "Capture Time : Thu Apr 11 17:08:41 COT 2013\n",
        "Refer.  Time : Wed Dec 31 19:00:00 COT 1969\n",
        "Object  Time : Wed Dec 31 19:38:34 COT 1969\n",
        "Ref.    pos  : -1.00 , -1.00 , -1.00\n",
        "Ref.    orn  : -1.00 , -1.00 , -1.00 , -1.00\n",
        "object  pos  : 0.40 , 0.62 , -0.71\n",
        "object  orn  : 0.34 , 0.06 , 0.94 , -0.08\n",
        "\n",
        "Point with reference:\n",
        "=====================\n",
        "Type: 2\n",
        "Capture Time : Thu Apr 11 17:08:51 COT 2013\n",
        "Refer.  Time : Wed Dec 31 19:00:00 COT 1969\n",
        "Object  Time : Wed Dec 31 19:38:44 COT 1969\n",
        "Ref.    pos  : -1.00 , -1.00 , -1.00\n",
        "Ref.    orn  : -1.00 , -1.00 , -1.00 , -1.00\n",
        "object  pos  : 0.45 , 0.60 , -0.83\n",
        "object  orn  : 0.34 , 0.02 , 0.93 , -0.10\n",
        "\n",
        "Point with reference:\n",
        "=====================\n",
        "Type: 3\n",
        "Capture Time : Thu Apr 11 17:09:01 COT 2013\n",
        "Refer.  Time : Wed Dec 31 19:00:00 COT 1969\n",
        "Object  Time : Wed Dec 31 19:38:54 COT 1969\n",
        "Ref.    pos  : -1.00 , -1.00 , -1.00\n",
        "Ref.    orn  : -1.00 , -1.00 , -1.00 , -1.00\n",
        "object  pos  : 0.09 , 0.62 , -0.51\n",
        "object  orn  : 0.76 , 0.11 , -0.65 , 0.01\n",
        "\n",
        "Point with reference:\n",
        "=====================\n",
        "Type: 4\n",
        "Capture Time : Thu Apr 11 17:09:11 COT 2013\n",
        "Refer.  Time : Wed Dec 31 19:00:00 COT 1969\n",
        "Object  Time : Wed Dec 31 19:39:04 COT 1969\n",
        "Ref.    pos  : -1.00 , -1.00 , -1.00\n",
        "Ref.    orn  : -1.00 , -1.00 , -1.00 , -1.00\n",
        "object  pos  : 0.32 , 0.62 , -0.77\n",
        "object  orn  : 0.21 , -0.01 , 0.98 , -0.07\n",
        "\n",
        "Point with reference:\n",
        "=====================\n",
        "Type: 0\n",
        "Capture Time : Thu Apr 11 17:09:25 COT 2013\n",
        "Refer.  Time : Wed Dec 31 19:00:00 COT 1969\n",
        "Object  Time : Wed Dec 31 19:39:18 COT 1969\n",
        "Ref.    pos  : -1.00 , -1.00 , -1.00\n",
        "Ref.    orn  : -1.00 , -1.00 , -1.00 , -1.00\n",
        "object  pos  : 0.26 , 0.60 , -0.58\n",
        "object  orn  : 1.00 , 0.03 , 0.02 , 0.04\n",
        "\n",
        "Point with reference:\n",
        "=====================\n",
        "Type: 0\n",
        "Capture Time : Thu Apr 11 17:09:29 COT 2013\n",
        "Refer.  Time : Wed Dec 31 19:00:00 COT 1969\n",
        "Object  Time : Wed Dec 31 19:39:22 COT 1969\n",
        "Ref.    pos  : -1.00 , -1.00 , -1.00\n",
        "Ref.    orn  : -1.00 , -1.00 , -1.00 , -1.00\n",
        "object  pos  : 0.26 , 0.60 , -0.58\n",
        "object  orn  : 1.00 , 0.03 , 0.02 , 0.04\n",
        "\n",
        "Point with reference:\n",
        "=====================\n",
        "Type: 0\n",
        "Capture Time : Thu Apr 11 17:09:33 COT 2013\n",
        "Refer.  Time : Wed Dec 31 19:00:00 COT 1969\n",
        "Object  Time : Wed Dec 31 19:39:26 COT 1969\n",
        "Ref.    pos  : -1.00 , -1.00 , -1.00\n",
        "Ref.    orn  : -1.00 , -1.00 , -1.00 , -1.00\n",
        "object  pos  : 0.26 , 0.60 , -0.58\n",
        "object  orn  : 1.00 , 0.03 , 0.02 , 0.04\n",
        "\n",
        "Point with reference:\n",
        "=====================\n",
        "Type: 0\n",
        "Capture Time : Thu Apr 11 17:09:38 COT 2013\n",
        "Refer.  Time : Wed Dec 31 19:00:00 COT 1969\n",
        "Object  Time : Wed Dec 31 19:39:31 COT 1969\n",
        "Ref.    pos  : -1.00 , -1.00 , -1.00\n",
        "Ref.    orn  : -1.00 , -1.00 , -1.00 , -1.00\n",
        "object  pos  : 0.26 , 0.60 , -0.58\n",
        "object  orn  : 1.00 , 0.03 , 0.02 , 0.04\n",
        "\n"
       ]
      }
     ],
     "prompt_number": 4
    },
    {
     "cell_type": "markdown",
     "metadata": {},
     "source": [
      "There is lots of information in these files, because we are only calibrating the sample we don't care about the reference. There should be four calibration samples, and about 4 Coil samples for each index. \n",
      "\n",
      "Now we should look at each of the samples separately in order to find obvious problems. If any of them looks problematic (for example, contains missing values) we should remove it."
     ]
    },
    {
     "cell_type": "code",
     "collapsed": false,
     "input": [
      "print len(coil_data)\n",
      "#save a copy, handy\n",
      "orig_coil_data = coil_data[:]"
     ],
     "language": "python",
     "metadata": {},
     "outputs": [
      {
       "output_type": "stream",
       "stream": "stdout",
       "text": [
        "4\n"
       ]
      }
     ],
     "prompt_number": 5
    },
    {
     "cell_type": "markdown",
     "metadata": {},
     "source": [
      "Be sure to look at all the samples by changing the index in the next command... Afterwards do any cleanup necessary in the next cell."
     ]
    },
    {
     "cell_type": "code",
     "collapsed": true,
     "input": [
      "coil_data = map(load_data,coil_samples)\n",
      "for d in coil_data[3]:\n",
      "    print d\n",
      "    "
     ],
     "language": "python",
     "metadata": {},
     "outputs": [
      {
       "output_type": "stream",
       "stream": "stdout",
       "text": [
        "Point with reference:\n",
        "=====================\n",
        "Type: 1\n",
        "Capture Time : Thu Apr 11 17:10:22 COT 2013\n",
        "Refer.  Time : Wed Dec 31 19:00:00 COT 1969\n",
        "Object  Time : Wed Dec 31 19:40:15 COT 1969\n",
        "Ref.    pos  : -1.00 , -1.00 , -1.00\n",
        "Ref.    orn  : -1.00 , -1.00 , -1.00 , -1.00\n",
        "object  pos  : 0.49 , 0.65 , -0.34\n",
        "object  orn  : 0.04 , 0.19 , 0.98 , 0.00\n",
        "\n",
        "Point with reference:\n",
        "=====================\n",
        "Type: 2\n",
        "Capture Time : Thu Apr 11 17:10:32 COT 2013\n",
        "Refer.  Time : Wed Dec 31 19:00:00 COT 1969\n",
        "Object  Time : Wed Dec 31 19:40:25 COT 1969\n",
        "Ref.    pos  : -1.00 , -1.00 , -1.00\n",
        "Ref.    orn  : -1.00 , -1.00 , -1.00 , -1.00\n",
        "object  pos  : 0.54 , 0.64 , -0.44\n",
        "object  orn  : 0.07 , -0.02 , -1.00 , 0.01\n",
        "\n",
        "Point with reference:\n",
        "=====================\n",
        "Type: 3\n",
        "Capture Time : Thu Apr 11 17:10:42 COT 2013\n",
        "Refer.  Time : Wed Dec 31 19:00:00 COT 1969\n",
        "Object  Time : Wed Dec 31 19:40:35 COT 1969\n",
        "Ref.    pos  : -1.00 , -1.00 , -1.00\n",
        "Ref.    orn  : -1.00 , -1.00 , -1.00 , -1.00\n",
        "object  pos  : 0.26 , 0.62 , -0.30\n",
        "object  orn  : 0.27 , 0.05 , -0.96 , 0.07\n",
        "\n",
        "Point with reference:\n",
        "=====================\n",
        "Type: 4\n",
        "Capture Time : Thu Apr 11 17:10:52 COT 2013\n",
        "Refer.  Time : Wed Dec 31 19:00:00 COT 1969\n",
        "Object  Time : Wed Dec 31 19:40:45 COT 1969\n",
        "Ref.    pos  : -1.00 , -1.00 , -1.00\n",
        "Ref.    orn  : -1.00 , -1.00 , -1.00 , -1.00\n",
        "object  pos  : 0.45 , 0.64 , -0.41\n",
        "object  orn  : 0.04 , 0.05 , 1.00 , -0.01\n",
        "\n",
        "Point with reference:\n",
        "=====================\n",
        "Type: 0\n",
        "Capture Time : Thu Apr 11 17:11:09 COT 2013\n",
        "Refer.  Time : Wed Dec 31 19:00:00 COT 1969\n",
        "Object  Time : Wed Dec 31 19:41:02 COT 1969\n",
        "Ref.    pos  : -1.00 , -1.00 , -1.00\n",
        "Ref.    orn  : -1.00 , -1.00 , -1.00 , -1.00\n",
        "object  pos  : 0.38 , 0.61 , -0.21\n",
        "object  orn  : 0.97 , 0.04 , -0.22 , 0.09\n",
        "\n",
        "Point with reference:\n",
        "=====================\n",
        "Type: 0\n",
        "Capture Time : Thu Apr 11 17:11:13 COT 2013\n",
        "Refer.  Time : Wed Dec 31 19:00:00 COT 1969\n",
        "Object  Time : Wed Dec 31 19:41:06 COT 1969\n",
        "Ref.    pos  : -1.00 , -1.00 , -1.00\n",
        "Ref.    orn  : -1.00 , -1.00 , -1.00 , -1.00\n",
        "object  pos  : 0.38 , 0.61 , -0.21\n",
        "object  orn  : 0.97 , 0.04 , -0.22 , 0.09\n",
        "\n",
        "Point with reference:\n",
        "=====================\n",
        "Type: 0\n",
        "Capture Time : Thu Apr 11 17:11:17 COT 2013\n",
        "Refer.  Time : Wed Dec 31 19:00:00 COT 1969\n",
        "Object  Time : Wed Dec 31 19:41:11 COT 1969\n",
        "Ref.    pos  : -1.00 , -1.00 , -1.00\n",
        "Ref.    orn  : -1.00 , -1.00 , -1.00 , -1.00\n",
        "object  pos  : 0.38 , 0.61 , -0.21\n",
        "object  orn  : 0.97 , 0.04 , -0.22 , 0.09\n",
        "\n",
        "Point with reference:\n",
        "=====================\n",
        "Type: 0\n",
        "Capture Time : Thu Apr 11 17:11:22 COT 2013\n",
        "Refer.  Time : Wed Dec 31 19:00:00 COT 1969\n",
        "Object  Time : Wed Dec 31 19:41:15 COT 1969\n",
        "Ref.    pos  : -1.00 , -1.00 , -1.00\n",
        "Ref.    orn  : -1.00 , -1.00 , -1.00 , -1.00\n",
        "object  pos  : 0.38 , 0.61 , -0.21\n",
        "object  orn  : 0.97 , 0.04 , -0.22 , 0.09\n",
        "\n"
       ]
      }
     ],
     "prompt_number": 6
    },
    {
     "cell_type": "code",
     "collapsed": false,
     "input": [
      "coil_data = orig_coil_data[:]\n",
      "#sample 0 has for strange points at the end\n",
      "coil_data[0] = coil_data[0][:8] # still looks odd visually, maybe only point 4 is bad, \n",
      "\n",
      "\n"
     ],
     "language": "python",
     "metadata": {},
     "outputs": [],
     "prompt_number": 7
    },
    {
     "cell_type": "markdown",
     "metadata": {},
     "source": [
      "Now we are going to split the samples in two groups, stage_one are the ones where the pointer is placed at specific points over the coil and stage two will be the ones where the tms is fired and the information from the coil tracker is captured"
     ]
    },
    {
     "cell_type": "code",
     "collapsed": false,
     "input": [
      "stage_one = [filter(lambda x:x.type!=0,s) for s in coil_data]\n",
      "stage_two = [filter(lambda x:x.type==0,s) for s in coil_data]"
     ],
     "language": "python",
     "metadata": {},
     "outputs": [],
     "prompt_number": 8
    },
    {
     "cell_type": "markdown",
     "metadata": {},
     "source": [
      "Finally, lets keep only the position and orientation, and transform the orientation to quaternions objects. "
     ]
    },
    {
     "cell_type": "code",
     "collapsed": false,
     "input": [
      "stage_one_pairs = [map(transform_sample_no_ref,s) for s in stage_one]\n",
      "stage_two_pairs = [map(transform_sample_no_ref,s) for s in stage_two]\n",
      "print stage_one_pairs[0][1]\n",
      "print stage_two_pairs[0][1]"
     ],
     "language": "python",
     "metadata": {},
     "outputs": [
      {
       "output_type": "stream",
       "stream": "stdout",
       "text": [
        "PointerSample(pos=array([ 0.26969013,  0.60594147, -0.601138  ]), orn=Quaternion:\n",
        "array([ 0.36913568,  0.04222316,  0.92706501, -0.0500655 ]))\n",
        "PointerSample(pos=array([ 0.01873338,  0.5896225 , -0.62664783]), orn=Quaternion:\n",
        "array([ 0.69284695, -0.03095386, -0.71924198,  0.0411817 ]))\n"
       ]
      }
     ],
     "prompt_number": 9
    },
    {
     "cell_type": "markdown",
     "metadata": {},
     "source": [
      "We will now use the pointer_point function to get the positions of the points from the samples in stage one."
     ]
    },
    {
     "cell_type": "code",
     "collapsed": false,
     "input": [
      "stage_one_points = [map(lambda x:point_f(x.pos,x.orn),s) for s in stage_one_pairs]\n",
      "# create a dictionaries to match the image shown below\n",
      "stage_one_dicts = [dict((izip((4,1,2,3),pts))) for pts in stage_one_points]\n",
      "len(stage_one_dicts)"
     ],
     "language": "python",
     "metadata": {},
     "outputs": [
      {
       "metadata": {},
       "output_type": "pyout",
       "prompt_number": 10,
       "text": [
        "4"
       ]
      }
     ],
     "prompt_number": 10
    },
    {
     "cell_type": "markdown",
     "metadata": {},
     "source": [
      "Lets take a look at this data using vtk. Look for the vtk window that will open after excecuting this cell.\n",
      "\n",
      "<img src=\"files/tmsCali.png\">"
     ]
    },
    {
     "cell_type": "code",
     "collapsed": false,
     "input": [
      "# first let't get some colors\n",
      "import colorbrewer\n",
      "colors = colorbrewer.Set3[max(3,len(coil_data))]\n",
      "colors = map(lambda c:map(lambda x:x/255,c),colors)\n",
      "viewer = VtkViewer()\n",
      "for i,points_dict in enumerate(stage_one_dicts):\n",
      "    c = colors[i]\n",
      "    # uncomment to view data 1 by 1\n",
      "    # viewer = VtkViewer()\n",
      "    for i,p in points_dict.iteritems():\n",
      "        ac = get_sphere_actor(*p)\n",
      "        ac.GetProperty().SetColor(c)\n",
      "        if i == 3:\n",
      "            #The front sample\n",
      "            ac.GetProperty().SetRepresentationToWireframe()\n",
      "        viewer.add_actor(ac)\n",
      "    #and lets add some lines\n",
      "    lines = [(1,3),(3,2),(2,4),(4,1),(1,2)]\n",
      "    for p1,p2 in lines:\n",
      "        acl = get_line_actor(points_dict[p1],points_dict[p2])\n",
      "        acl.GetProperty().SetColor(c)\n",
      "        viewer.add_actor(acl)\n",
      "    # uncomment to view data 1 by 1\n",
      "    #viewer.start()\n",
      "    #del viewer\n",
      "viewer.start()\n",
      "del viewer\n",
      "\n"
     ],
     "language": "python",
     "metadata": {},
     "outputs": [],
     "prompt_number": 11
    },
    {
     "cell_type": "markdown",
     "metadata": {},
     "source": [
      "If some sample looks weird, you may use the above code to look at them individually\n",
      "\n",
      "Now lets look at the data from stage_two"
     ]
    },
    {
     "cell_type": "code",
     "collapsed": false,
     "input": [
      "viewer = VtkViewer()\n",
      "for i,pts in enumerate(stage_two_pairs):\n",
      "    c = colors[i]\n",
      "    for pos,orn in pts:\n",
      "        center = get_sphere_actor(*pos)\n",
      "        center.GetProperty().SetColor(c)\n",
      "        dummy_q = quat.Quaternion([0,0.1,0,0])\n",
      "        dummy_qr = orn * dummy_q * orn.conj()\n",
      "        dummy_v = dummy_qr.x[1:]\n",
      "        ln = get_line_actor(pos,dummy_v+pos)\n",
      "        ln.GetProperty().SetColor(c)\n",
      "        viewer.add_actor(ln)\n",
      "        viewer.add_actor(center)\n",
      "viewer.start()\n",
      "del viewer"
     ],
     "language": "python",
     "metadata": {},
     "outputs": [],
     "prompt_number": 12
    },
    {
     "cell_type": "markdown",
     "metadata": {},
     "source": [
      "If everything looks fine continue to the next section, otherwise data should be fixed."
     ]
    },
    {
     "cell_type": "markdown",
     "metadata": {},
     "source": [
      "## 2.2 Find target points in stage_one data\n",
      "\n",
      "The first thing we must do is find the center of the coil, and the hypothetical point directly over it from the data in stage_one. For this we will do some linear algebra.\n",
      "\n",
      "<img src=\"files/tmsCaliVecs.png\">\n",
      "\n",
      "The point pc will represent the center of the coil, and will be the projection of v2 over v1. The hypotetical point ph will be located 0.1 units directly on top of pc. By directly on top, we mean across the perpendicular vector to the plane that contains p1, p2 and p3."
     ]
    },
    {
     "cell_type": "code",
     "collapsed": false,
     "input": [
      "coil_centers = list()\n",
      "coil_tops = list()\n",
      "for points_dict in stage_one_dicts:\n",
      "    p1 = points_dict[1]\n",
      "    p2 = points_dict[2]\n",
      "    p3 = points_dict[3]\n",
      "    \n",
      "    v1 = p2 - p1\n",
      "    v2 = p3 - p1\n",
      "    v1_u = v1/np.linalg.norm(v1) # unitary vector\n",
      "    v2_p = np.dot(v2,v1_u)*v1_u # projection of v2 on v1\n",
      "    pc = p1 + v2_p\n",
      "    coil_centers.append(pc)\n",
      "    \n",
      "    vp = np.cross(v1,v2) # perpendicular vector\n",
      "    vp_u = vp/np.linalg.norm(vp) # unitary\n",
      "    ph = pc + 0.1*vp_u\n",
      "    coil_tops.append(ph)\n",
      "        "
     ],
     "language": "python",
     "metadata": {},
     "outputs": [],
     "prompt_number": 13
    },
    {
     "cell_type": "markdown",
     "metadata": {},
     "source": [
      "Now lets add this features to the picture we had of the stage_one data"
     ]
    },
    {
     "cell_type": "code",
     "collapsed": false,
     "input": [
      "viewer = VtkViewer()\n",
      "for i,points_dict in enumerate(stage_one_dicts):\n",
      "    c = colors[i]\n",
      "    #uncomment to look at an individual case\n",
      "    #if i!=1:\n",
      "    #    continue\n",
      "    for pi,p in points_dict.iteritems():\n",
      "        ac = get_sphere_actor(*p)\n",
      "        ac.GetProperty().SetColor(c)\n",
      "        if pi == 3:\n",
      "            #The front sample\n",
      "            ac.GetProperty().SetRepresentationToWireframe()\n",
      "        viewer.add_actor(ac)\n",
      "    #and lets add some lines\n",
      "    lines = [(1,3),(3,2),(2,4),(4,1),(1,2)]\n",
      "    for p1,p2 in lines:\n",
      "        acl = get_line_actor(points_dict[p1],points_dict[p2])\n",
      "        acl.GetProperty().SetColor(c)\n",
      "        viewer.add_actor(acl)\n",
      "    #add the centers\n",
      "    pc = coil_centers[i]\n",
      "    cact = get_sphere_actor(*pc)\n",
      "    cact.GetProperty().SetColor(c)\n",
      "    viewer.add_actor(cact)\n",
      "    #add lines towards the top\n",
      "    pt = coil_tops[i]\n",
      "    tl = get_line_actor(pc,pt)\n",
      "    tl.GetProperty().SetColor(c)\n",
      "    viewer.add_actor(tl)\n",
      "    \n",
      "    \n",
      "viewer.start()\n",
      "del viewer"
     ],
     "language": "python",
     "metadata": {},
     "outputs": [],
     "prompt_number": 14
    },
    {
     "cell_type": "markdown",
     "metadata": {},
     "source": [
      "## 2.3 Find coil parameters"
     ]
    },
    {
     "cell_type": "markdown",
     "metadata": {},
     "source": [
      "Theory: The system deliver the coordinates of a position P and an orientation O. The center of the coil and the hypotethetical point at the top can be found as\n",
      "\n",
      "$$P^c = P + O \\times V^c \\times \\overline{O}$$\n",
      "$$P^t = P + O \\times V^t \\times \\overline{O}$$\n",
      "\n",
      "Where $V^c$ and $V^t$ are unknown vectors. The objective here is to find these vectors. Notice these are the same formulas from the pointer calibration.\n",
      "\n",
      "We already have approximate positions for $P_c$ and $P_t$; and now we must find the vectors that connect the coil solid body point P to these points. The equations are therefore\n",
      "\n",
      "$$P^c = P_{j} + O_{j} \\times V^c \\times \\overline{O_{j}} + e^c_{j} $$\n",
      "$$P^t = P_{j} + O_{j} \\times V^t \\times \\overline{O_{j}} + e^t_{j} $$\n",
      "\n",
      "Where e represents the error in the measurement, the objective is to find the values of $V_c$ and $V_t$ that minimize these errors. We should have several sets of samples, each with its own $P^c$, $P^t$ , but $V^c$, $V^t$ should adjust for all of them. For each case we have then\n",
      "\n",
      "$$P^c_i = P_{i,j} + O_{i,j} \\times V^c \\times \\overline{O_{i,j}} + e^c_i,j $$\n",
      "$$P^t_i = P_{i,j} + O_{i,j} \\times V^t \\times \\overline{O_{i,j}} + e^t_i,j $$\n",
      "\n",
      "Let \n",
      "\n",
      "$${f^c_{v}}(p,o) = \\hat{P^c} = p + o \\times v^c \\times \\overline{o} $$\n",
      "$${f^t_{v}}(p,o) = \\hat{P^t} = p + o \\times v^t \\times \\overline{o} $$\n",
      "\n",
      "If we assing the same weight to all the errors, we can define the total error as\n",
      "Given that we don't care specially about the exact position of P^t, but we care of its position relative to P^c we are going to define the following error terms\n",
      "\n",
      "$$e^c = \\left| P^c - \\hat{P^c}\\right| $$\n",
      "$$e^t = \\left| P^t - P^c - (\\hat{P^t} - \\hat{P^c} )\\right| $$\n",
      "\n",
      "And the full error will be equal to\n",
      "\n",
      "$$e^t = e^c + e^t $$\n",
      "\n",
      "We will estimate both parameters at the same time. Notice it would be possible to assign different weight to both kinds of errors in order to create a trade off between weight of errors in both parameters\n",
      "\n"
     ]
    },
    {
     "cell_type": "code",
     "collapsed": false,
     "input": [
      "def coil_center_error(vc):\n",
      "    tot_error = 0\n",
      "    f = get_point_function(vc)\n",
      "    for ct,(pairs) in izip(coil_centers,stage_two_pairs):\n",
      "        mapped_centers = np.array([f(pj.pos,pj.orn) for pj in pairs])\n",
      "        #L1 norm more robust to outliers than quadratic error\n",
      "        tot_error += sum(abs(np.linalg.norm(p-ct)) for p in mapped_centers )\n",
      "    return tot_error\n",
      "                            "
     ],
     "language": "python",
     "metadata": {},
     "outputs": [],
     "prompt_number": 15
    },
    {
     "cell_type": "code",
     "collapsed": false,
     "input": [
      "def coil_top_error(vt,vc):\n",
      "    #what matters here is the angle between the two vectors\n",
      "    tot_error = 0\n",
      "    f_t = get_point_function(vt)\n",
      "    f_c = get_point_function(vc)\n",
      "    for top,ctr,(pairs) in izip(coil_tops,coil_centers,stage_two_pairs):\n",
      "        #for each case\n",
      "        mapped_tops = [f_t(pj.pos,pj.orn) for pj in pairs]\n",
      "        mapped_centers = [f_c(pj.pos,pj.orn) for pj in pairs]\n",
      "        #L1 norm more robust to outliers than quadratic error\n",
      "        v1s = [tp - ct for tp,ct in izip(mapped_tops,mapped_centers)]\n",
      "        v2 = top - ctr\n",
      "        #angle_error = lambda v11,v22: np.linalg.norm(np.cross(v11,v22))/(np.linalg.norm(v11)*np.linalg.norm(v22))\n",
      "        angle_error = lambda v11,v22: 1-(np.dot(v11,v22))/(np.linalg.norm(v11)*np.linalg.norm(v22))\n",
      "        errors = [angle_error(v1,v2) for v1 in v1s]\n",
      "        #print v1s\n",
      "        tot_error += (sum(errors))\n",
      "    return tot_error\n",
      "                            "
     ],
     "language": "python",
     "metadata": {},
     "outputs": [],
     "prompt_number": 16
    },
    {
     "cell_type": "code",
     "collapsed": false,
     "input": [
      "def total_coil_error(vct):\n",
      "    vc = vct[0:3]\n",
      "    vt = vct[3:6]\n",
      "    return coil_center_error(vc)**2+coil_top_error(vt,vc)**2+100*(np.linalg.norm(vt-vc)-0.1)**2"
     ],
     "language": "python",
     "metadata": {},
     "outputs": [],
     "prompt_number": 17
    },
    {
     "cell_type": "code",
     "collapsed": false,
     "input": [
      "vct = np.zeros(6)\n",
      "vct[0:5]=0.1\n",
      "#just a little test\n",
      "print total_coil_error(vct)"
     ],
     "language": "python",
     "metadata": {},
     "outputs": [
      {
       "output_type": "stream",
       "stream": "stdout",
       "text": [
        "231.185640622\n"
       ]
      }
     ],
     "prompt_number": 18
    },
    {
     "cell_type": "code",
     "collapsed": false,
     "input": [
      "#test inverse vec function\n",
      "t1 = coil_centers[0]\n",
      "pair1 = stage_two_pairs[0][0]\n",
      "\n",
      "cand = find_inverse_vec(t1,pair1)\n",
      "print t1\n",
      "print pair1\n",
      "print cand\n",
      "\n",
      "#test\n",
      "c_f = get_point_function(cand)\n",
      "print c_f(*pair1)"
     ],
     "language": "python",
     "metadata": {},
     "outputs": [
      {
       "output_type": "stream",
       "stream": "stdout",
       "text": [
        "[ 0.01956918  0.71606484 -0.6348682 ]\n",
        "PointerSample(pos=array([ 0.01875999,  0.59042287, -0.62541401]), orn=Quaternion:\n",
        "array([ 0.69292331, -0.028315  , -0.71941137,  0.03876687]))\n",
        "[ 0.00243294  0.12595068 -0.0025394 ]\n",
        "[ 0.01956918  0.71606484 -0.6348682 ]\n"
       ]
      }
     ],
     "prompt_number": 19
    },
    {
     "cell_type": "code",
     "collapsed": false,
     "input": [
      "ctr_guess = np.mean([find_inverse_vec(c,pc[0]) for c,pc in izip(coil_centers,stage_two_pairs)] ,axis=0)\n",
      "print ctr_guess\n",
      "top_guess = np.mean([find_inverse_vec(t,pc[0]) for t,pc in izip(coil_tops,stage_two_pairs)] ,axis=0)\n",
      "print top_guess\n",
      "print top_guess - ctr_guess\n",
      "print np.linalg.norm(top_guess-ctr_guess)\n",
      "guess = np.concatenate((ctr_guess,top_guess))\n",
      "print\n",
      "print coil_center_error(ctr_guess)\n",
      "print coil_top_error(top_guess,ctr_guess)\n",
      "print total_coil_error(guess)"
     ],
     "language": "python",
     "metadata": {},
     "outputs": [
      {
       "output_type": "stream",
       "stream": "stdout",
       "text": [
        "[ 0.00944324  0.11816735 -0.02427273]\n",
        "[-0.00958322  0.0201751  -0.02439282]\n",
        "[-0.01902647 -0.09799226 -0.00012009]\n",
        "0.0998223591228\n",
        "\n",
        "0.542278545422\n",
        "0.0291114077255\n",
        "0.294916650513\n"
       ]
      }
     ],
     "prompt_number": 20
    },
    {
     "cell_type": "code",
     "collapsed": false,
     "input": [
      "res = scipy.optimize.minimize(total_coil_error,guess)\n",
      "print res\n"
     ],
     "language": "python",
     "metadata": {},
     "outputs": [
      {
       "output_type": "stream",
       "stream": "stdout",
       "text": [
        "   status: 0\n",
        "  success: True\n",
        "     njev: 23\n",
        "     nfev: 184\n",
        " hess_inv: array([[ 0.00490714, -0.00323526, -0.0026744 ,  0.00467671, -0.00319824,\n",
        "        -0.00286961],\n",
        "       [-0.00323526,  0.00340792,  0.00208945, -0.00295931,  0.00351794,\n",
        "         0.00240064],\n",
        "       [-0.0026744 ,  0.00208945,  0.00255215, -0.00265724,  0.00215243,\n",
        "         0.00253847],\n",
        "       [ 0.00467671, -0.00295931, -0.00265724,  0.01494873, -0.00382791,\n",
        "        -0.00379143],\n",
        "       [-0.00319824,  0.00351794,  0.00215243, -0.00382791,  0.00843798,\n",
        "         0.00265196],\n",
        "       [-0.00286961,  0.00240064,  0.00253847, -0.00379143,  0.00265196,\n",
        "         0.0127416 ]])\n",
        "      fun: 0.24160160121505755\n",
        "        x: array([ 0.01136029,  0.1179763 , -0.01221494, -0.00780321,  0.01982973,\n",
        "       -0.01210801])\n",
        "  message: 'Optimization terminated successfully.'\n",
        "      jac: array([  8.77305865e-07,   6.00889325e-06,  -3.04356217e-06,\n",
        "        -4.39770520e-06,   1.29081309e-06,  -5.52274287e-06])\n"
       ]
      }
     ],
     "prompt_number": 21
    },
    {
     "cell_type": "markdown",
     "metadata": {},
     "source": [
      "Now lets see the results the vct vector, and the final value of the error. Check that the final status is 0, and success is True... otherwise adjustments should be made to the initial values or model."
     ]
    },
    {
     "cell_type": "code",
     "collapsed": false,
     "input": [
      "print \"Success: \", res.success\n",
      "print res.fun\n",
      "vc=res.x[0:3]\n",
      "vt=res.x[3:6]\n",
      "#vc = guess[0:3]\n",
      "#vt = guess[3:6]\n",
      "\n",
      "print vc\n",
      "print vt\n",
      "print np.linalg.norm(vt-vc)"
     ],
     "language": "python",
     "metadata": {},
     "outputs": [
      {
       "output_type": "stream",
       "stream": "stdout",
       "text": [
        "Success:  True\n",
        "0.241601601215\n",
        "[ 0.01136029  0.1179763  -0.01221494]\n",
        "[-0.00780321  0.01982973 -0.01210801]\n",
        "0.100000005659\n"
       ]
      }
     ],
     "prompt_number": 22
    },
    {
     "cell_type": "markdown",
     "metadata": {},
     "source": [
      "## 2.4 Verifying results\n",
      "\n"
     ]
    },
    {
     "cell_type": "markdown",
     "metadata": {},
     "source": [
      "Lets calculate the mappings from the stage_two samples to centers and tops"
     ]
    },
    {
     "cell_type": "code",
     "collapsed": false,
     "input": [
      "f_c = get_point_function(vc)\n",
      "f_t = get_point_function(vt)\n",
      "mapped_centers = [map(lambda p:f_c(p.pos,p.orn),s) for s in stage_two_pairs]\n",
      "mapped_tops = [map(lambda p:f_t(p.pos,p.orn),s) for s in stage_two_pairs]\n",
      "print (zip(mapped_centers,mapped_tops)[0])[0]"
     ],
     "language": "python",
     "metadata": {},
     "outputs": [
      {
       "output_type": "stream",
       "stream": "stdout",
       "text": [
        "[array([ 0.02900019,  0.70913057, -0.62487439]), array([ 0.02902747,  0.70832635, -0.62695743]), array([ 0.02900643,  0.70851836, -0.62490477]), array([ 0.02908694,  0.70858898, -0.62471016])]\n"
       ]
      }
     ],
     "prompt_number": 23
    },
    {
     "cell_type": "markdown",
     "metadata": {},
     "source": [
      "Now lets use vtk to verify the calibration results, we will reuse some of the code from section 2.1"
     ]
    },
    {
     "cell_type": "code",
     "collapsed": false,
     "input": [
      "viewer = VtkViewer()\n",
      "for i,points_dict in enumerate(stage_one_dicts):\n",
      "    c = colors[i]\n",
      "    for pi,p in points_dict.iteritems():\n",
      "        ac = get_sphere_actor(*p)\n",
      "        ac.GetProperty().SetColor(c)\n",
      "        if pi == 3:\n",
      "            #The front sample\n",
      "            ac.GetProperty().SetRepresentationToWireframe()\n",
      "        viewer.add_actor(ac)\n",
      "    #and lets add some lines\n",
      "    lines = [(1,3),(3,2),(2,4),(4,1),(1,2)]\n",
      "    for p1,p2 in lines:\n",
      "        acl = get_line_actor(points_dict[p1],points_dict[p2])\n",
      "        acl.GetProperty().SetColor(c)\n",
      "        viewer.add_actor(acl)\n",
      "    #add the centers\n",
      "    pc = coil_centers[i]\n",
      "    cact = get_sphere_actor(*pc)\n",
      "    cact.GetProperty().SetColor(c)\n",
      "    viewer.add_actor(cact)\n",
      "    #add lines towards the top\n",
      "    pt = coil_tops[i]\n",
      "    tl = get_line_actor(pc,pt)\n",
      "    tl.GetProperty().SetColor(c)\n",
      "    viewer.add_actor(tl)\n",
      "    \n",
      "    \n",
      "#viewer.start()\n",
      "#del viewer"
     ],
     "language": "python",
     "metadata": {},
     "outputs": [],
     "prompt_number": 24
    },
    {
     "cell_type": "markdown",
     "metadata": {},
     "source": [
      "Let's add the mapped points and tops"
     ]
    },
    {
     "cell_type": "code",
     "collapsed": false,
     "input": [
      "for i in xrange(len(mapped_centers)):\n",
      "    c = colors[i]\n",
      "    samp_ctrs = mapped_centers[i]\n",
      "    samp_tops = mapped_tops[i]\n",
      "    for pc,tp in izip(samp_ctrs,samp_tops):\n",
      "        ac = get_sphere_actor(*pc)\n",
      "        ac.GetProperty().SetColor(c)\n",
      "        ac.GetProperty().SetRepresentationToWireframe()\n",
      "        viewer.add_actor(ac)\n",
      "        la = get_line_actor(pc,tp)\n",
      "        la.GetProperty().SetColor((1,1,1)) # white to distinguish from model line\n",
      "        viewer.add_actor(la)\n",
      "        \n",
      "\n",
      "viewer.start()\n",
      "del viewer"
     ],
     "language": "python",
     "metadata": {},
     "outputs": [],
     "prompt_number": 25
    },
    {
     "cell_type": "markdown",
     "metadata": {},
     "source": [
      "## 2.5 Save Results\n",
      "\n",
      "If everything looks ok, let's copy the results to the file calibration_data.py\n"
     ]
    },
    {
     "cell_type": "code",
     "collapsed": false,
     "input": [
      "#Final V\n",
      "vc=res.x[0:3]\n",
      "vt=res.x[3:]\n",
      "print tuple(vc), \",\"\n",
      "print tuple(vt), \",\"\n",
      "#Final error\n",
      "print res.fun, \"),\"\n"
     ],
     "language": "python",
     "metadata": {},
     "outputs": [
      {
       "output_type": "stream",
       "stream": "stdout",
       "text": [
        "(0.01136029497968935, 0.117976304258855, -0.012214941030153723) ,\n",
        "(-0.0078032050711651299, 0.019829730384275462, -0.012108009645751169) ,\n",
        "0.241601601215 ),\n"
       ]
      }
     ],
     "prompt_number": 26
    },
    {
     "cell_type": "markdown",
     "metadata": {},
     "source": [
      "### 2.6 Test saved results"
     ]
    },
    {
     "cell_type": "code",
     "collapsed": false,
     "input": [
      "from read_and_transform import *"
     ],
     "language": "python",
     "metadata": {},
     "outputs": [],
     "prompt_number": 27
    },
    {
     "cell_type": "code",
     "collapsed": false,
     "input": [
      "viewer = VtkViewer()\n",
      "for i,points_dict in enumerate(stage_one_dicts):\n",
      "    c = colors[i]\n",
      "    for pi,p in points_dict.iteritems():\n",
      "        ac = get_sphere_actor(*p)\n",
      "        ac.GetProperty().SetColor(c)\n",
      "        if pi == 3:\n",
      "            #The front sample\n",
      "            ac.GetProperty().SetRepresentationToWireframe()\n",
      "        #viewer.add_actor(ac)\n",
      "    #and lets add some lines\n",
      "    lines = [(1,3),(3,2),(2,4),(4,1),(1,2)]\n",
      "    for p1,p2 in lines:\n",
      "        acl = get_line_actor(points_dict[p1],points_dict[p2])\n",
      "        acl.GetProperty().SetColor(c)\n",
      "        viewer.add_actor(acl)\n",
      "    #add the centers\n",
      "    pc = coil_centers[i]\n",
      "    cact = get_sphere_actor(*pc)\n",
      "    cact.GetProperty().SetColor(c)\n",
      "    viewer.add_actor(cact)\n",
      "    #add lines towards the top\n",
      "    pt = coil_tops[i]\n",
      "    tl = get_line_actor(pc,pt)\n",
      "    tl.GetProperty().SetColor(c)\n",
      "    viewer.add_actor(tl)\n",
      "    \n",
      "coil_function = get_coil_transform_function(stage_two[0][0].date)\n",
      "first_samples = map(lambda x:x[0],stage_two)\n",
      "centers = map(coil_function,first_samples)\n",
      "for p,c in izip(first_samples,centers):\n",
      "    print p\n",
      "    print c\n",
      "    \n",
      "\n",
      "\n",
      "for c,t in centers:\n",
      "    cact = get_sphere_actor(*c)\n",
      "    viewer.add_actor(cact)\n",
      "    lact = get_line_actor(c,t)\n",
      "    viewer.add_actor(lact)\n",
      "    \n",
      "viewer.start()\n",
      "del viewer"
     ],
     "language": "python",
     "metadata": {},
     "outputs": [
      {
       "output_type": "stream",
       "stream": "stdout",
       "text": [
        "Point with reference:\n",
        "=====================\n",
        "Type: 0\n",
        "Capture Time : Thu Apr 11 17:06:12 COT 2013\n",
        "Refer.  Time : Wed Dec 31 19:00:00 COT 1969\n",
        "Object  Time : Wed Dec 31 19:36:05 COT 1969\n",
        "Ref.    pos  : -1.00 , -1.00 , -1.00\n",
        "Ref.    orn  : -1.00 , -1.00 , -1.00 , -1.00\n",
        "object  pos  : 0.02 , 0.59 , -0.63\n",
        "object  orn  : 0.69 , -0.03 , -0.72 , 0.04\n",
        "\n",
        "(array([ 0.02900019,  0.70913057, -0.62487439]), array([ 0.03089809,  0.60962432, -0.63461636]))\n",
        "Point with reference:\n",
        "=====================\n",
        "Type: 0\n",
        "Capture Time : Thu Apr 11 17:07:47 COT 2013\n",
        "Refer.  Time : Wed Dec 31 19:00:00 COT 1969\n",
        "Object  Time : Wed Dec 31 19:37:40 COT 1969\n",
        "Ref.    pos  : -1.00 , -1.00 , -1.00\n",
        "Ref.    orn  : -1.00 , -1.00 , -1.00 , -1.00\n",
        "object  pos  : -0.05 , 0.60 , -0.69\n",
        "object  orn  : 0.56 , -0.05 , -0.82 , 0.02\n",
        "\n",
        "(array([-0.0310997 ,  0.71891586, -0.68802378]), array([-0.03024615,  0.61934293, -0.69721649]))\n",
        "Point with reference:\n",
        "=====================\n",
        "Type: 0\n",
        "Capture Time : Thu Apr 11 17:09:25 COT 2013\n",
        "Refer.  Time : Wed Dec 31 19:00:00 COT 1969\n",
        "Object  Time : Wed Dec 31 19:39:18 COT 1969\n",
        "Ref.    pos  : -1.00 , -1.00 , -1.00\n",
        "Ref.    orn  : -1.00 , -1.00 , -1.00 , -1.00\n",
        "object  pos  : 0.26 , 0.60 , -0.58\n",
        "object  orn  : 1.00 , 0.03 , 0.02 , 0.04\n",
        "\n",
        "(array([ 0.26169071,  0.71528145, -0.58935239]), array([ 0.24992598,  0.6161054 , -0.59442209]))\n",
        "Point with reference:\n",
        "=====================\n",
        "Type: 0\n",
        "Capture Time : Thu Apr 11 17:11:09 COT 2013\n",
        "Refer.  Time : Wed Dec 31 19:00:00 COT 1969\n",
        "Object  Time : Wed Dec 31 19:41:02 COT 1969\n",
        "Ref.    pos  : -1.00 , -1.00 , -1.00\n",
        "Ref.    orn  : -1.00 , -1.00 , -1.00 , -1.00\n",
        "object  pos  : 0.38 , 0.61 , -0.21\n",
        "object  orn  : 0.97 , 0.04 , -0.22 , 0.09\n",
        "\n",
        "(array([ 0.37231372,  0.72893297, -0.21655572]), array([ 0.37363886,  0.62957491, -0.22779057]))\n"
       ]
      }
     ],
     "prompt_number": 28
    }
   ],
   "metadata": {}
  }
 ]
}