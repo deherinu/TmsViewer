{
 "metadata": {
  "name": "",
  "signature": "sha256:b1cd78f73b0949c02becaca6454f401d5ea9da8dbb89ba1e45491d4e8aec937f"
 },
 "nbformat": 3,
 "nbformat_minor": 0,
 "worksheets": [
  {
   "cells": [
    {
     "cell_type": "heading",
     "level": 1,
     "metadata": {},
     "source": [
      "TMS - optitracking calibration"
     ]
    },
    {
     "cell_type": "markdown",
     "metadata": {},
     "source": [
      "This file demonstrates how to convert the data taken during the calibration procedure into useful values that can be used for visualizing and analysing the data. This process should be carried out interactively in a python console or notebook, as in this example. We will start by loading some modules we will use throughout the process"
     ]
    },
    {
     "cell_type": "code",
     "collapsed": false,
     "input": [
      "from __future__ import division\n",
      "import numpy as np\n",
      "import scipy.optimize\n",
      "import sys\n",
      "import os\n",
      "import datetime\n",
      "from itertools import izip\n",
      "#change this to the directory containing your tms-data\n",
      "os.chdir(r\"C:\\Users\\Diego\\Dropbox\\VaBD\\ProyectoSavingBrains\\TMS-Optitracking\\TMS Data Mayo 2014\\TMS_Data\")\n",
      "#directory containing the tms view 2 project\n",
      "sys.path.append(r\"C:\\Users\\Diego\\Dropbox\\VaBD\\ProyectoSavingBrains\\TMS-Optitracking\\tms_view2\")\n",
      "import quat\n",
      "import tms_utils as tms\n",
      "\n",
      "#utility functions used during the calibration\n",
      "from calibration_commands import *"
     ],
     "language": "python",
     "metadata": {},
     "outputs": [],
     "prompt_number": 1
    },
    {
     "cell_type": "markdown",
     "metadata": {},
     "source": [
      "## 2 Coil Calibration\n",
      "\n",
      "Here the objective is to obtain a function that will transform the vrpn values into coordinates corresponding to the center of the coil, and to an hypotethical point located 10 units over the center. This will be useful for drawing the cones that indicate the direction of the stimulation.\n",
      "\n",
      "### 2.0 Prerequisites\n",
      "\n",
      "The pointer calibration should have been completed, and the $v$ values saved into the calibration_data.py file"
     ]
    },
    {
     "cell_type": "code",
     "collapsed": false,
     "input": [
      "calib_date = datetime.date(2013, 7, 3)\n",
      "point_f = get_pointer_point_function(calib_date)"
     ],
     "language": "python",
     "metadata": {},
     "outputs": [],
     "prompt_number": 2
    },
    {
     "cell_type": "markdown",
     "metadata": {},
     "source": [
      "### 2.1 Loading the data\n",
      "\n",
      "The first step is loading the samples for this calibration. This should be loaded into a list. In order to keep data organized, this information should be saved in the calibration_data.py file. We will use a function from calibration commands"
     ]
    },
    {
     "cell_type": "code",
     "collapsed": false,
     "input": [
      "coil_samples = load_coil_samples(calib_date)\n",
      "print coil_samples"
     ],
     "language": "python",
     "metadata": {},
     "outputs": [
      {
       "output_type": "stream",
       "stream": "stdout",
       "text": [
        "[80001, 80003, 80004, 80006]\n"
       ]
      }
     ],
     "prompt_number": 3
    },
    {
     "cell_type": "markdown",
     "metadata": {},
     "source": [
      "Now we are going to load the data inside this files, "
     ]
    },
    {
     "cell_type": "code",
     "collapsed": false,
     "input": [
      "coil_data = map(load_data,coil_samples)\n",
      "for d in coil_data[2]:\n",
      "    print d"
     ],
     "language": "python",
     "metadata": {},
     "outputs": [
      {
       "output_type": "stream",
       "stream": "stdout",
       "text": [
        "Point with reference:\n",
        "=====================\n",
        "Type: 1\n",
        "Capture Time : Wed Jul 03 16:40:29 COT 2013\n",
        "Refer.  Time : Fri Jan 02 04:10:01 COT 1970\n",
        "Object  Time : Fri Jan 02 04:10:35 COT 1970\n",
        "Ref.    pos  : 0.75 , 1.04 , 0.02\n",
        "Ref.    orn  : 0.40 , 0.31 , -0.66 , 0.55\n",
        "object  pos  : 0.55 , 1.05 , -0.57\n",
        "object  orn  : 0.89 , 0.02 , -0.31 , 0.34\n",
        "\n",
        "Point with reference:\n",
        "=====================\n",
        "Type: 2\n",
        "Capture Time : Wed Jul 03 16:40:39 COT 2013\n",
        "Refer.  Time : Fri Jan 02 04:10:01 COT 1970\n",
        "Object  Time : Fri Jan 02 04:10:47 COT 1970\n",
        "Ref.    pos  : 0.75 , 1.04 , 0.02\n",
        "Ref.    orn  : 0.40 , 0.31 , -0.66 , 0.55\n",
        "object  pos  : 0.29 , 1.18 , -0.55\n",
        "object  orn  : 0.58 , -0.18 , -0.64 , 0.48\n",
        "\n",
        "Point with reference:\n",
        "=====================\n",
        "Type: 3\n",
        "Capture Time : Wed Jul 03 16:40:49 COT 2013\n",
        "Refer.  Time : Fri Jan 02 04:10:56 COT 1970\n",
        "Object  Time : Fri Jan 02 04:10:57 COT 1970\n",
        "Ref.    pos  : 0.43 , 1.08 , -0.48\n",
        "Ref.    orn  : 0.76 , -0.62 , -0.01 , -0.18\n",
        "object  pos  : 0.41 , 1.12 , -0.48\n",
        "object  orn  : 0.77 , 0.27 , -0.42 , 0.40\n",
        "\n",
        "Point with reference:\n",
        "=====================\n",
        "Type: 4\n",
        "Capture Time : Wed Jul 03 16:40:59 COT 2013\n",
        "Refer.  Time : Fri Jan 02 04:11:00 COT 1970\n",
        "Object  Time : Fri Jan 02 04:11:07 COT 1970\n",
        "Ref.    pos  : 0.46 , 1.06 , -0.64\n",
        "Ref.    orn  : 0.18 , -0.25 , 0.92 , -0.24\n",
        "object  pos  : 0.46 , 1.09 , -0.59\n",
        "object  orn  : 0.69 , -0.36 , -0.57 , 0.28\n",
        "\n",
        "Point with reference:\n",
        "=====================\n",
        "Type: 0\n",
        "Capture Time : Wed Jul 03 16:41:17 COT 2013\n",
        "Refer.  Time : Fri Jan 02 04:11:00 COT 1970\n",
        "Object  Time : Fri Jan 02 04:11:25 COT 1970\n",
        "Ref.    pos  : 0.46 , 1.06 , -0.64\n",
        "Ref.    orn  : 0.18 , -0.25 , 0.92 , -0.24\n",
        "object  pos  : 0.33 , 1.07 , -0.59\n",
        "object  orn  : 0.76 , -0.13 , -0.61 , -0.21\n",
        "\n",
        "Point with reference:\n",
        "=====================\n",
        "Type: 0\n",
        "Capture Time : Wed Jul 03 16:41:22 COT 2013\n",
        "Refer.  Time : Fri Jan 02 04:11:00 COT 1970\n",
        "Object  Time : Fri Jan 02 04:11:30 COT 1970\n",
        "Ref.    pos  : 0.46 , 1.06 , -0.64\n",
        "Ref.    orn  : 0.18 , -0.25 , 0.92 , -0.24\n",
        "object  pos  : 0.33 , 1.07 , -0.59\n",
        "object  orn  : 0.76 , -0.13 , -0.61 , -0.21\n",
        "\n",
        "Point with reference:\n",
        "=====================\n",
        "Type: 0\n",
        "Capture Time : Wed Jul 03 16:41:26 COT 2013\n",
        "Refer.  Time : Fri Jan 02 04:11:00 COT 1970\n",
        "Object  Time : Fri Jan 02 04:11:34 COT 1970\n",
        "Ref.    pos  : 0.46 , 1.06 , -0.64\n",
        "Ref.    orn  : 0.18 , -0.25 , 0.92 , -0.24\n",
        "object  pos  : 0.33 , 1.07 , -0.59\n",
        "object  orn  : 0.76 , -0.13 , -0.61 , -0.21\n",
        "\n",
        "Point with reference:\n",
        "=====================\n",
        "Type: 0\n",
        "Capture Time : Wed Jul 03 16:41:30 COT 2013\n",
        "Refer.  Time : Fri Jan 02 04:11:00 COT 1970\n",
        "Object  Time : Fri Jan 02 04:11:38 COT 1970\n",
        "Ref.    pos  : 0.46 , 1.06 , -0.64\n",
        "Ref.    orn  : 0.18 , -0.25 , 0.92 , -0.24\n",
        "object  pos  : 0.33 , 1.07 , -0.59\n",
        "object  orn  : 0.76 , -0.12 , -0.61 , -0.21\n",
        "\n"
       ]
      }
     ],
     "prompt_number": 4
    },
    {
     "cell_type": "markdown",
     "metadata": {},
     "source": [
      "There is lots of information in these files, because we are only calibrating the sample we don't care about the reference. There should be four calibration samples, and about 4 Coil samples for each index. \n",
      "\n",
      "Now we should look at each of the samples separately in order to find obvious problems. If any of them looks problematic (for example, contains missing values) we should remove it."
     ]
    },
    {
     "cell_type": "code",
     "collapsed": false,
     "input": [
      "print len(coil_data)\n",
      "#save a copy, handy\n",
      "orig_coil_data = coil_data[:]"
     ],
     "language": "python",
     "metadata": {},
     "outputs": [
      {
       "output_type": "stream",
       "stream": "stdout",
       "text": [
        "4\n"
       ]
      }
     ],
     "prompt_number": 5
    },
    {
     "cell_type": "markdown",
     "metadata": {},
     "source": [
      "Be sure to look at all the samples by changing the index in the next command... Afterwards do any cleanup necessary in the next cell."
     ]
    },
    {
     "cell_type": "code",
     "collapsed": true,
     "input": [
      "coil_data = map(load_data,coil_samples)\n",
      "for d in coil_data[3]:\n",
      "    print d\n",
      "    "
     ],
     "language": "python",
     "metadata": {},
     "outputs": [
      {
       "output_type": "stream",
       "stream": "stdout",
       "text": [
        "Point with reference:\n",
        "=====================\n",
        "Type: 1\n",
        "Capture Time : Wed Jul 03 16:44:49 COT 2013\n",
        "Refer.  Time : Fri Jan 02 04:14:48 COT 1970\n",
        "Object  Time : Fri Jan 02 04:14:57 COT 1970\n",
        "Ref.    pos  : 0.29 , 1.05 , -0.57\n",
        "Ref.    orn  : 0.03 , 0.71 , 0.01 , -0.70\n",
        "object  pos  : 0.36 , 1.10 , -0.49\n",
        "object  orn  : 0.69 , -0.04 , -0.52 , 0.50\n",
        "\n",
        "Point with reference:\n",
        "=====================\n",
        "Type: 2\n",
        "Capture Time : Wed Jul 03 16:44:59 COT 2013\n",
        "Refer.  Time : Fri Jan 02 04:15:04 COT 1970\n",
        "Object  Time : Fri Jan 02 04:15:02 COT 1970\n",
        "Ref.    pos  : 0.18 , 1.09 , -0.62\n",
        "Ref.    orn  : 0.87 , 0.05 , 0.23 , 0.42\n",
        "object  pos  : 0.23 , 1.16 , -0.61\n",
        "object  orn  : 0.82 , 0.40 , -0.19 , 0.35\n",
        "\n",
        "Point with reference:\n",
        "=====================\n",
        "Type: 3\n",
        "Capture Time : Wed Jul 03 16:45:09 COT 2013\n",
        "Refer.  Time : Fri Jan 02 04:15:08 COT 1970\n",
        "Object  Time : Fri Jan 02 04:15:17 COT 1970\n",
        "Ref.    pos  : 0.19 , 1.10 , -0.63\n",
        "Ref.    orn  : 0.28 , -0.34 , 0.69 , 0.57\n",
        "object  pos  : 0.27 , 1.14 , -0.50\n",
        "object  orn  : 0.67 , -0.04 , -0.63 , 0.39\n",
        "\n",
        "Point with reference:\n",
        "=====================\n",
        "Type: 4\n",
        "Capture Time : Wed Jul 03 16:45:19 COT 2013\n",
        "Refer.  Time : Fri Jan 02 04:15:08 COT 1970\n",
        "Object  Time : Fri Jan 02 04:15:27 COT 1970\n",
        "Ref.    pos  : 0.19 , 1.10 , -0.63\n",
        "Ref.    orn  : 0.28 , -0.34 , 0.69 , 0.57\n",
        "object  pos  : 0.36 , 1.11 , -0.56\n",
        "object  orn  : 0.69 , -0.11 , -0.64 , 0.32\n",
        "\n",
        "Point with reference:\n",
        "=====================\n",
        "Type: 0\n",
        "Capture Time : Wed Jul 03 16:45:35 COT 2013\n",
        "Refer.  Time : Fri Jan 02 04:15:08 COT 1970\n",
        "Object  Time : Fri Jan 02 04:15:44 COT 1970\n",
        "Ref.    pos  : 0.19 , 1.10 , -0.63\n",
        "Ref.    orn  : 0.28 , -0.34 , 0.69 , 0.57\n",
        "object  pos  : 0.25 , 1.07 , -0.63\n",
        "object  orn  : 0.46 , -0.08 , -0.86 , -0.18\n",
        "\n",
        "Point with reference:\n",
        "=====================\n",
        "Type: 0\n",
        "Capture Time : Wed Jul 03 16:45:40 COT 2013\n",
        "Refer.  Time : Fri Jan 02 04:15:08 COT 1970\n",
        "Object  Time : Fri Jan 02 04:15:48 COT 1970\n",
        "Ref.    pos  : 0.19 , 1.10 , -0.63\n",
        "Ref.    orn  : 0.28 , -0.34 , 0.69 , 0.57\n",
        "object  pos  : 0.25 , 1.07 , -0.63\n",
        "object  orn  : 0.46 , -0.08 , -0.86 , -0.18\n",
        "\n",
        "Point with reference:\n",
        "=====================\n",
        "Type: 0\n",
        "Capture Time : Wed Jul 03 16:45:44 COT 2013\n",
        "Refer.  Time : Fri Jan 02 04:15:08 COT 1970\n",
        "Object  Time : Fri Jan 02 04:15:52 COT 1970\n",
        "Ref.    pos  : 0.19 , 1.10 , -0.63\n",
        "Ref.    orn  : 0.28 , -0.34 , 0.69 , 0.57\n",
        "object  pos  : 0.25 , 1.07 , -0.63\n",
        "object  orn  : 0.46 , -0.08 , -0.86 , -0.18\n",
        "\n",
        "Point with reference:\n",
        "=====================\n",
        "Type: 0\n",
        "Capture Time : Wed Jul 03 16:45:49 COT 2013\n",
        "Refer.  Time : Fri Jan 02 04:15:08 COT 1970\n",
        "Object  Time : Fri Jan 02 04:15:57 COT 1970\n",
        "Ref.    pos  : 0.19 , 1.10 , -0.63\n",
        "Ref.    orn  : 0.28 , -0.34 , 0.69 , 0.57\n",
        "object  pos  : 0.25 , 1.07 , -0.63\n",
        "object  orn  : 0.47 , -0.07 , -0.86 , -0.18\n",
        "\n"
       ]
      }
     ],
     "prompt_number": 9
    },
    {
     "cell_type": "code",
     "collapsed": false,
     "input": [
      "coil_data = orig_coil_data[:]\n",
      "#sample 0 has for strange points at the end\n",
      "# 4 second point is delayed\n",
      "\n",
      "\n"
     ],
     "language": "python",
     "metadata": {},
     "outputs": [],
     "prompt_number": 10
    },
    {
     "cell_type": "markdown",
     "metadata": {},
     "source": [
      "Now we are going to split the samples in two groups, stage_one are the ones where the pointer is placed at specific points over the coil and stage two will be the ones where the tms is fired and the information from the coil tracker is captured"
     ]
    },
    {
     "cell_type": "code",
     "collapsed": false,
     "input": [
      "stage_one = [filter(lambda x:x.type!=0,s) for s in coil_data]\n",
      "stage_two = [filter(lambda x:x.type==0,s) for s in coil_data]"
     ],
     "language": "python",
     "metadata": {},
     "outputs": [],
     "prompt_number": 11
    },
    {
     "cell_type": "markdown",
     "metadata": {},
     "source": [
      "Finally, lets keep only the position and orientation, and transform the orientation to quaternions objects. "
     ]
    },
    {
     "cell_type": "code",
     "collapsed": false,
     "input": [
      "stage_one_pairs = [map(transform_sample_no_ref,s) for s in stage_one]\n",
      "stage_two_pairs = [map(transform_sample_no_ref,s) for s in stage_two]\n",
      "print stage_one_pairs[0][1]\n",
      "print stage_two_pairs[0][1]"
     ],
     "language": "python",
     "metadata": {},
     "outputs": [
      {
       "output_type": "stream",
       "stream": "stdout",
       "text": [
        "PointerSample(pos=array([ 0.3081392 ,  1.1469152 , -0.79900521]), orn=Quaternion:\n",
        "array([ 0.53879505, -0.27069849, -0.60961056,  0.51458448]))\n",
        "PointerSample(pos=array([ 0.31918979,  1.05522013, -0.74582577]), orn=Quaternion:\n",
        "array([ 0.31705382, -0.11211547, -0.93731552, -0.09135965]))\n"
       ]
      }
     ],
     "prompt_number": 12
    },
    {
     "cell_type": "markdown",
     "metadata": {},
     "source": [
      "We will now use the pointer_point function to get the positions of the points from the samples in stage one."
     ]
    },
    {
     "cell_type": "code",
     "collapsed": false,
     "input": [
      "stage_one_points = [map(lambda x:point_f(x.pos,x.orn),s) for s in stage_one_pairs]\n",
      "# create a dictionaries to match the image shown below\n",
      "stage_one_dicts = [dict((izip((1,2,4,3),pts))) for pts in stage_one_points]\n",
      "len(stage_one_dicts)"
     ],
     "language": "python",
     "metadata": {},
     "outputs": [
      {
       "metadata": {},
       "output_type": "pyout",
       "prompt_number": 13,
       "text": [
        "4"
       ]
      }
     ],
     "prompt_number": 13
    },
    {
     "cell_type": "markdown",
     "metadata": {},
     "source": [
      "Lets take a look at this data using vtk. Look for the vtk window that will open after excecuting this cell.\n",
      "\n",
      "<img src=\"files/tmsCali.png\">"
     ]
    },
    {
     "cell_type": "code",
     "collapsed": false,
     "input": [
      "# first let't get some colors\n",
      "import colorbrewer\n",
      "colors = colorbrewer.Set3[max(3,len(coil_data))]\n",
      "colors = map(lambda c:map(lambda x:x/255,c),colors)\n",
      "viewer = VtkViewer()\n",
      "for i,points_dict in enumerate(stage_one_dicts):\n",
      "    c = colors[i]\n",
      "    # uncomment to view data 1 by 1\n",
      "    # viewer = VtkViewer()\n",
      "    for i,p in points_dict.iteritems():\n",
      "        ac = get_sphere_actor(*p)\n",
      "        ac.GetProperty().SetColor(c)\n",
      "        if i == 3:\n",
      "            #The front sample\n",
      "            ac.GetProperty().SetRepresentationToWireframe()\n",
      "        viewer.add_actor(ac)\n",
      "    #and lets add some lines\n",
      "    lines = [(1,3),(3,2),(2,4),(4,1),(1,2)]\n",
      "    for p1,p2 in lines:\n",
      "        acl = get_line_actor(points_dict[p1],points_dict[p2])\n",
      "        acl.GetProperty().SetColor(c)\n",
      "        viewer.add_actor(acl)\n",
      "    # uncomment to view data 1 by 1\n",
      "    #viewer.start()\n",
      "    #del viewer\n",
      "viewer.start()\n",
      "del viewer\n",
      "\n"
     ],
     "language": "python",
     "metadata": {},
     "outputs": [],
     "prompt_number": 14
    },
    {
     "cell_type": "markdown",
     "metadata": {},
     "source": [
      "If some sample looks weird, you may use the above code to look at them individually\n",
      "\n",
      "Now lets look at the data from stage_two"
     ]
    },
    {
     "cell_type": "code",
     "collapsed": false,
     "input": [
      "viewer = VtkViewer()\n",
      "for i,pts in enumerate(stage_two_pairs):\n",
      "    c = colors[i]\n",
      "    for pos,orn in pts:\n",
      "        center = get_sphere_actor(*pos)\n",
      "        center.GetProperty().SetColor(c)\n",
      "        dummy_q = quat.Quaternion([0,0.1,0,0])\n",
      "        dummy_qr = orn * dummy_q * orn.conj()\n",
      "        dummy_v = dummy_qr.x[1:]\n",
      "        ln = get_line_actor(pos,dummy_v+pos)\n",
      "        ln.GetProperty().SetColor(c)\n",
      "        viewer.add_actor(ln)\n",
      "        viewer.add_actor(center)\n",
      "viewer.start()\n",
      "del viewer"
     ],
     "language": "python",
     "metadata": {},
     "outputs": [],
     "prompt_number": 15
    },
    {
     "cell_type": "markdown",
     "metadata": {},
     "source": [
      "If everything looks fine continue to the next section, otherwise data should be fixed."
     ]
    },
    {
     "cell_type": "markdown",
     "metadata": {},
     "source": [
      "## 2.2 Find target points in stage_one data\n",
      "\n",
      "The first thing we must do is find the center of the coil, and the hypothetical point directly over it from the data in stage_one. For this we will do some linear algebra.\n",
      "\n",
      "<img src=\"files/tmsCaliVecs.png\">\n",
      "\n",
      "The point pc will represent the center of the coil, and will be the projection of v2 over v1. The hypotetical point ph will be located 0.1 units directly on top of pc. By directly on top, we mean across the perpendicular vector to the plane that contains p1, p2 and p3."
     ]
    },
    {
     "cell_type": "code",
     "collapsed": false,
     "input": [
      "coil_centers = list()\n",
      "coil_tops = list()\n",
      "for points_dict in stage_one_dicts:\n",
      "    p1 = points_dict[1]\n",
      "    p2 = points_dict[2]\n",
      "    p3 = points_dict[3]\n",
      "    \n",
      "    v1 = p2 - p1\n",
      "    v2 = p3 - p1\n",
      "    v1_u = v1/np.linalg.norm(v1) # unitary vector\n",
      "    v2_p = np.dot(v2,v1_u)*v1_u # projection of v2 on v1\n",
      "    pc = p1 + v2_p\n",
      "    coil_centers.append(pc)\n",
      "    \n",
      "    vp = np.cross(v1,v2) # perpendicular vector\n",
      "    vp_u = vp/np.linalg.norm(vp) # unitary\n",
      "    ph = pc + 0.1*vp_u\n",
      "    coil_tops.append(ph)\n",
      "        "
     ],
     "language": "python",
     "metadata": {},
     "outputs": [],
     "prompt_number": 16
    },
    {
     "cell_type": "markdown",
     "metadata": {},
     "source": [
      "Now lets add this features to the picture we had of the stage_one data"
     ]
    },
    {
     "cell_type": "code",
     "collapsed": false,
     "input": [
      "viewer = VtkViewer()\n",
      "for i,points_dict in enumerate(stage_one_dicts):\n",
      "    c = colors[i]\n",
      "    #uncomment to look at an individual case\n",
      "    #if i!=1:\n",
      "    #    continue\n",
      "    for pi,p in points_dict.iteritems():\n",
      "        ac = get_sphere_actor(*p)\n",
      "        ac.GetProperty().SetColor(c)\n",
      "        if pi == 3:\n",
      "            #The front sample\n",
      "            ac.GetProperty().SetRepresentationToWireframe()\n",
      "        viewer.add_actor(ac)\n",
      "    #and lets add some lines\n",
      "    lines = [(1,3),(3,2),(2,4),(4,1),(1,2)]\n",
      "    for p1,p2 in lines:\n",
      "        acl = get_line_actor(points_dict[p1],points_dict[p2])\n",
      "        acl.GetProperty().SetColor(c)\n",
      "        viewer.add_actor(acl)\n",
      "    #add the centers\n",
      "    pc = coil_centers[i]\n",
      "    cact = get_sphere_actor(*pc)\n",
      "    cact.GetProperty().SetColor(c)\n",
      "    viewer.add_actor(cact)\n",
      "    #add lines towards the top\n",
      "    pt = coil_tops[i]\n",
      "    tl = get_line_actor(pc,pt)\n",
      "    tl.GetProperty().SetColor(c)\n",
      "    viewer.add_actor(tl)\n",
      "    \n",
      "    \n",
      "viewer.start()\n",
      "del viewer"
     ],
     "language": "python",
     "metadata": {},
     "outputs": [],
     "prompt_number": 17
    },
    {
     "cell_type": "markdown",
     "metadata": {},
     "source": [
      "## 2.3 Find coil parameters"
     ]
    },
    {
     "cell_type": "markdown",
     "metadata": {},
     "source": [
      "Theory: The system deliver the coordinates of a position P and an orientation O. The center of the coil and the hypotethetical point at the top can be found as\n",
      "\n",
      "$$P^c = P + O \\times V^c \\times \\overline{O}$$\n",
      "$$P^t = P + O \\times V^t \\times \\overline{O}$$\n",
      "\n",
      "Where $V^c$ and $V^t$ are unknown vectors. The objective here is to find these vectors. Notice these are the same formulas from the pointer calibration.\n",
      "\n",
      "We already have approximate positions for $P_c$ and $P_t$; and now we must find the vectors that connect the coil solid body point P to these points. The equations are therefore\n",
      "\n",
      "$$P^c = P_{j} + O_{j} \\times V^c \\times \\overline{O_{j}} + e^c_{j} $$\n",
      "$$P^t = P_{j} + O_{j} \\times V^t \\times \\overline{O_{j}} + e^t_{j} $$\n",
      "\n",
      "Where e represents the error in the measurement, the objective is to find the values of $V_c$ and $V_t$ that minimize these errors. We should have several sets of samples, each with its own $P^c$, $P^t$ , but $V^c$, $V^t$ should adjust for all of them. For each case we have then\n",
      "\n",
      "$$P^c_i = P_{i,j} + O_{i,j} \\times V^c \\times \\overline{O_{i,j}} + e^c_i,j $$\n",
      "$$P^t_i = P_{i,j} + O_{i,j} \\times V^t \\times \\overline{O_{i,j}} + e^t_i,j $$\n",
      "\n",
      "Let \n",
      "\n",
      "$${f^c_{v}}(p,o) = \\hat{P^c} = p + o \\times v^c \\times \\overline{o} $$\n",
      "$${f^t_{v}}(p,o) = \\hat{P^t} = p + o \\times v^t \\times \\overline{o} $$\n",
      "\n",
      "If we assing the same weight to all the errors, we can define the total error as\n",
      "Given that we don't care specially about the exact position of P^t, but we care of its position relative to P^c we are going to define the following error terms\n",
      "\n",
      "$$e^c = \\left| P^c - \\hat{P^c}\\right| $$\n",
      "$$e^t = \\left| P^t - P^c - (\\hat{P^t} - \\hat{P^c} )\\right| $$\n",
      "\n",
      "And the full error will be equal to\n",
      "\n",
      "$$e^t = e^c + e^t $$\n",
      "\n",
      "We will estimate both parameters at the same time. Notice it would be possible to assign different weight to both kinds of errors in order to create a trade off between weight of errors in both parameters\n",
      "\n"
     ]
    },
    {
     "cell_type": "code",
     "collapsed": false,
     "input": [
      "def coil_center_error(vc):\n",
      "    tot_error = 0\n",
      "    f = get_point_function(vc)\n",
      "    for ct,(pairs) in izip(coil_centers,stage_two_pairs):\n",
      "        mapped_centers = np.array([f(pj.pos,pj.orn) for pj in pairs])\n",
      "        #L1 norm more robust to outliers than quadratic error\n",
      "        tot_error += sum(abs(np.linalg.norm(p-ct)) for p in mapped_centers )\n",
      "    return tot_error\n",
      "                            "
     ],
     "language": "python",
     "metadata": {},
     "outputs": [],
     "prompt_number": 18
    },
    {
     "cell_type": "code",
     "collapsed": false,
     "input": [
      "def coil_top_error(vt,vc):\n",
      "    #what matters here is the angle between the two vectors\n",
      "    tot_error = 0\n",
      "    f_t = get_point_function(vt)\n",
      "    f_c = get_point_function(vc)\n",
      "    for top,ctr,(pairs) in izip(coil_tops,coil_centers,stage_two_pairs):\n",
      "        #for each case\n",
      "        mapped_tops = [f_t(pj.pos,pj.orn) for pj in pairs]\n",
      "        mapped_centers = [f_c(pj.pos,pj.orn) for pj in pairs]\n",
      "        #L1 norm more robust to outliers than quadratic error\n",
      "        v1s = [tp - ct for tp,ct in izip(mapped_tops,mapped_centers)]\n",
      "        v2 = top - ctr\n",
      "        #angle_error = lambda v11,v22: np.linalg.norm(np.cross(v11,v22))/(np.linalg.norm(v11)*np.linalg.norm(v22))\n",
      "        angle_error = lambda v11,v22: 1-(np.dot(v11,v22))/(np.linalg.norm(v11)*np.linalg.norm(v22))\n",
      "        errors = [angle_error(v1,v2) for v1 in v1s]\n",
      "        #print v1s\n",
      "        tot_error += (sum(errors))\n",
      "    return tot_error\n",
      "                            "
     ],
     "language": "python",
     "metadata": {},
     "outputs": [],
     "prompt_number": 19
    },
    {
     "cell_type": "code",
     "collapsed": false,
     "input": [
      "def total_coil_error(vct):\n",
      "    vc = vct[0:3]\n",
      "    vt = vct[3:6]\n",
      "    return coil_center_error(vc)**2+coil_top_error(vt,vc)**2+100*(np.linalg.norm(vt-vc)-0.1)**2"
     ],
     "language": "python",
     "metadata": {},
     "outputs": [],
     "prompt_number": 20
    },
    {
     "cell_type": "code",
     "collapsed": false,
     "input": [
      "vct = np.zeros(6)\n",
      "vct[0:5]=0.1\n",
      "#just a little test\n",
      "print total_coil_error(vct)"
     ],
     "language": "python",
     "metadata": {},
     "outputs": [
      {
       "output_type": "stream",
       "stream": "stdout",
       "text": [
        "242.645437073\n"
       ]
      }
     ],
     "prompt_number": 21
    },
    {
     "cell_type": "code",
     "collapsed": false,
     "input": [
      "#test inverse vec function\n",
      "t1 = coil_centers[0]\n",
      "pair1 = stage_two_pairs[0][0]\n",
      "\n",
      "cand = find_inverse_vec(t1,pair1)\n",
      "print t1\n",
      "print pair1\n",
      "print cand\n",
      "\n",
      "#test\n",
      "c_f = get_point_function(cand)\n",
      "print c_f(*pair1)"
     ],
     "language": "python",
     "metadata": {},
     "outputs": [
      {
       "output_type": "stream",
       "stream": "stdout",
       "text": [
        "[ 0.30663056  0.97050134 -0.69180599]\n",
        "PointerSample(pos=array([ 0.31889302,  1.05566776, -0.74668336]), orn=Quaternion:\n",
        "array([ 0.31823763, -0.11275224, -0.93723863, -0.08715153]))\n",
        "[ 0.03000548 -0.07995237 -0.05587936]\n",
        "[ 0.30663056  0.97050134 -0.69180599]\n"
       ]
      }
     ],
     "prompt_number": 22
    },
    {
     "cell_type": "code",
     "collapsed": false,
     "input": [
      "ctr_guess = np.mean([find_inverse_vec(c,pc[0]) for c,pc in izip(coil_centers,stage_two_pairs)] ,axis=0)\n",
      "print ctr_guess\n",
      "top_guess = np.mean([find_inverse_vec(t,pc[0]) for t,pc in izip(coil_tops,stage_two_pairs)] ,axis=0)\n",
      "print top_guess\n",
      "print top_guess - ctr_guess\n",
      "print np.linalg.norm(top_guess-ctr_guess)\n",
      "guess = np.concatenate((ctr_guess,top_guess))\n",
      "print\n",
      "print coil_center_error(ctr_guess)\n",
      "print coil_top_error(top_guess,ctr_guess)\n",
      "print total_coil_error(guess)"
     ],
     "language": "python",
     "metadata": {},
     "outputs": [
      {
       "output_type": "stream",
       "stream": "stdout",
       "text": [
        "[ 0.03158675 -0.07415958 -0.06188686]\n",
        "[ 0.0304179  -0.17373482 -0.06812039]\n",
        "[-0.00116885 -0.09957524 -0.00623353]\n",
        "0.0997770075325\n",
        "\n",
        "0.146983387923\n",
        "0.0431176897194\n",
        "0.023468224056\n"
       ]
      }
     ],
     "prompt_number": 23
    },
    {
     "cell_type": "code",
     "collapsed": false,
     "input": [
      "res = scipy.optimize.minimize(total_coil_error,guess)\n",
      "print res\n"
     ],
     "language": "python",
     "metadata": {},
     "outputs": [
      {
       "output_type": "stream",
       "stream": "stdout",
       "text": [
        "   status: 0\n",
        "  success: True\n",
        "     njev: 16\n",
        "     nfev: 128\n",
        " hess_inv: array([[ 0.003015  ,  0.00100099, -0.00228222,  0.00301277,  0.00100436,\n",
        "        -0.0022949 ],\n",
        "       [ 0.00100099,  0.0036173 , -0.00269902,  0.00099972,  0.0036037 ,\n",
        "        -0.00270649],\n",
        "       [-0.00228222, -0.00269902,  0.00728239, -0.00228567, -0.00268106,\n",
        "         0.00729282],\n",
        "       [ 0.00301277,  0.00099972, -0.00228567,  0.01035386,  0.00097924,\n",
        "        -0.00228275],\n",
        "       [ 0.00100436,  0.0036037 , -0.00268106,  0.00097924,  0.00860758,\n",
        "        -0.00280934],\n",
        "       [-0.0022949 , -0.00270649,  0.00729282, -0.00228275, -0.00280934,\n",
        "         0.01462025]])\n",
        "      fun: 0.02301671711455755\n",
        "        x: array([ 0.03130596, -0.07376506, -0.06018933,  0.03081238, -0.17359378,\n",
        "       -0.06601905])\n",
        "  message: 'Optimization terminated successfully.'\n",
        "      jac: array([ -4.78234142e-07,   1.68359838e-06,  -1.07940286e-06,\n",
        "         6.65895641e-08,  -6.39585778e-07,  -1.58324838e-07])\n"
       ]
      }
     ],
     "prompt_number": 24
    },
    {
     "cell_type": "markdown",
     "metadata": {},
     "source": [
      "Now lets see the results the vct vector, and the final value of the error. Check that the final status is 0, and success is True... otherwise adjustments should be made to the initial values or model."
     ]
    },
    {
     "cell_type": "code",
     "collapsed": false,
     "input": [
      "print \"Success: \", res.success\n",
      "print res.fun\n",
      "vc=res.x[0:3]\n",
      "vt=res.x[3:6]\n",
      "#vc = guess[0:3]\n",
      "#vt = guess[3:6]\n",
      "\n",
      "print vc\n",
      "print vt"
     ],
     "language": "python",
     "metadata": {},
     "outputs": [
      {
       "output_type": "stream",
       "stream": "stdout",
       "text": [
        "Success:  True\n",
        "0.0230167171146\n",
        "[ 0.03130596 -0.07376506 -0.06018933]\n",
        "[ 0.03081238 -0.17359378 -0.06601905]\n"
       ]
      }
     ],
     "prompt_number": 25
    },
    {
     "cell_type": "markdown",
     "metadata": {},
     "source": [
      "## 2.4 Verifying results\n",
      "\n"
     ]
    },
    {
     "cell_type": "markdown",
     "metadata": {},
     "source": [
      "Lets calculate the mappings from the stage_two samples to centers and tops"
     ]
    },
    {
     "cell_type": "code",
     "collapsed": false,
     "input": [
      "f_c = get_point_function(vc)\n",
      "f_t = get_point_function(vt)\n",
      "mapped_centers = [map(lambda p:f_c(p.pos,p.orn),s) for s in stage_two_pairs]\n",
      "mapped_tops = [map(lambda p:f_t(p.pos,p.orn),s) for s in stage_two_pairs]\n",
      "print (zip(mapped_centers,mapped_tops)[0])[0]"
     ],
     "language": "python",
     "metadata": {},
     "outputs": [
      {
       "output_type": "stream",
       "stream": "stdout",
       "text": [
        "[array([ 0.30976378,  0.97562667, -0.6870664 ]), array([ 0.30972892,  0.97471957, -0.68688295]), array([ 0.30999032,  0.97443767, -0.68674986]), array([ 0.30984795,  0.97439703, -0.6870072 ])]\n"
       ]
      }
     ],
     "prompt_number": 26
    },
    {
     "cell_type": "markdown",
     "metadata": {},
     "source": [
      "Now lets use vtk to verify the calibration results, we will reuse some of the code from section 2.1"
     ]
    },
    {
     "cell_type": "code",
     "collapsed": false,
     "input": [
      "viewer = VtkViewer()\n",
      "for i,points_dict in enumerate(stage_one_dicts):\n",
      "    c = colors[i]\n",
      "    for pi,p in points_dict.iteritems():\n",
      "        ac = get_sphere_actor(*p)\n",
      "        ac.GetProperty().SetColor(c)\n",
      "        if pi == 3:\n",
      "            #The front sample\n",
      "            ac.GetProperty().SetRepresentationToWireframe()\n",
      "        viewer.add_actor(ac)\n",
      "    #and lets add some lines\n",
      "    lines = [(1,3),(3,2),(2,4),(4,1),(1,2)]\n",
      "    for p1,p2 in lines:\n",
      "        acl = get_line_actor(points_dict[p1],points_dict[p2])\n",
      "        acl.GetProperty().SetColor(c)\n",
      "        viewer.add_actor(acl)\n",
      "    #add the centers\n",
      "    pc = coil_centers[i]\n",
      "    cact = get_sphere_actor(*pc)\n",
      "    cact.GetProperty().SetColor(c)\n",
      "    viewer.add_actor(cact)\n",
      "    #add lines towards the top\n",
      "    pt = coil_tops[i]\n",
      "    tl = get_line_actor(pc,pt)\n",
      "    tl.GetProperty().SetColor(c)\n",
      "    viewer.add_actor(tl)\n",
      "    \n",
      "    \n",
      "#viewer.start()\n",
      "#del viewer"
     ],
     "language": "python",
     "metadata": {},
     "outputs": [],
     "prompt_number": 27
    },
    {
     "cell_type": "markdown",
     "metadata": {},
     "source": [
      "Let's add the mapped points and tops"
     ]
    },
    {
     "cell_type": "code",
     "collapsed": false,
     "input": [
      "for i in xrange(len(mapped_centers)):\n",
      "    c = colors[i]\n",
      "    samp_ctrs = mapped_centers[i]\n",
      "    samp_tops = mapped_tops[i]\n",
      "    for pc,tp in izip(samp_ctrs,samp_tops):\n",
      "        ac = get_sphere_actor(*pc)\n",
      "        ac.GetProperty().SetColor(c)\n",
      "        ac.GetProperty().SetRepresentationToWireframe()\n",
      "        viewer.add_actor(ac)\n",
      "        la = get_line_actor(pc,tp)\n",
      "        la.GetProperty().SetColor((1,1,1)) # white to distinguish from model line\n",
      "        viewer.add_actor(la)\n",
      "        \n",
      "\n",
      "viewer.start()\n",
      "del viewer"
     ],
     "language": "python",
     "metadata": {},
     "outputs": [],
     "prompt_number": 28
    },
    {
     "cell_type": "markdown",
     "metadata": {},
     "source": [
      "## 2.5 Save Results\n",
      "\n",
      "If everything looks ok, let's copy the results to the file calibration_data.py\n"
     ]
    },
    {
     "cell_type": "code",
     "collapsed": false,
     "input": [
      "#Final V\n",
      "vc=res.x[0:3]\n",
      "vt=res.x[3:]\n",
      "print tuple(vc), \",\"\n",
      "print tuple(vt), \",\"\n",
      "#Final error\n",
      "print res.fun, \"),\"\n"
     ],
     "language": "python",
     "metadata": {},
     "outputs": [
      {
       "output_type": "stream",
       "stream": "stdout",
       "text": [
        "(0.031305959253347428, -0.073765063359274408, -0.060189329861594462) ,\n",
        "(0.030812382353119699, -0.17359378111224416, -0.066019054921502354) ,\n",
        "0.0230167171146 ),\n"
       ]
      }
     ],
     "prompt_number": 29
    },
    {
     "cell_type": "markdown",
     "metadata": {},
     "source": [
      "### 2.6 Test saved results"
     ]
    },
    {
     "cell_type": "code",
     "collapsed": false,
     "input": [
      "from read_and_transform import *"
     ],
     "language": "python",
     "metadata": {},
     "outputs": [],
     "prompt_number": 27
    },
    {
     "cell_type": "code",
     "collapsed": false,
     "input": [
      "viewer = VtkViewer()\n",
      "for i,points_dict in enumerate(stage_one_dicts):\n",
      "    c = colors[i]\n",
      "    for pi,p in points_dict.iteritems():\n",
      "        ac = get_sphere_actor(*p)\n",
      "        ac.GetProperty().SetColor(c)\n",
      "        if pi == 3:\n",
      "            #The front sample\n",
      "            ac.GetProperty().SetRepresentationToWireframe()\n",
      "        #viewer.add_actor(ac)\n",
      "    #and lets add some lines\n",
      "    lines = [(1,3),(3,2),(2,4),(4,1),(1,2)]\n",
      "    for p1,p2 in lines:\n",
      "        acl = get_line_actor(points_dict[p1],points_dict[p2])\n",
      "        acl.GetProperty().SetColor(c)\n",
      "        viewer.add_actor(acl)\n",
      "    #add the centers\n",
      "    pc = coil_centers[i]\n",
      "    cact = get_sphere_actor(*pc)\n",
      "    cact.GetProperty().SetColor(c)\n",
      "    viewer.add_actor(cact)\n",
      "    #add lines towards the top\n",
      "    pt = coil_tops[i]\n",
      "    tl = get_line_actor(pc,pt)\n",
      "    tl.GetProperty().SetColor(c)\n",
      "    viewer.add_actor(tl)\n",
      "    \n",
      "coil_function = get_coil_transform_function(stage_two[0][0].date)\n",
      "first_samples = map(lambda x:x[0],stage_two)\n",
      "centers = map(coil_function,first_samples)\n",
      "for p,c in izip(first_samples,centers):\n",
      "    print p\n",
      "    print c\n",
      "    \n",
      "\n",
      "\n",
      "for c,t in centers:\n",
      "    cact = get_sphere_actor(*c)\n",
      "    viewer.add_actor(cact)\n",
      "    lact = get_line_actor(c,t)\n",
      "    viewer.add_actor(lact)\n",
      "    \n",
      "viewer.start()\n",
      "del viewer"
     ],
     "language": "python",
     "metadata": {},
     "outputs": [
      {
       "output_type": "stream",
       "stream": "stdout",
       "text": [
        "Point with reference:\n",
        "=====================\n",
        "Type: 0\n",
        "Capture Time : Wed Apr 24 11:26:55 COT 2013\n",
        "Refer.  Time : Thu Jan 01 11:42:00 COT 1970\n",
        "Object  Time : Thu Jan 01 11:45:47 COT 1970\n",
        "Ref.    pos  : 0.28 , 0.62 , -0.55\n",
        "Ref.    orn  : 0.93 , -0.25 , -0.15 , 0.24\n",
        "object  pos  : 0.21 , 0.62 , -0.40\n",
        "object  orn  : 0.92 , 0.39 , 0.05 , -0.10\n",
        "\n",
        "(array([ 0.2606271 ,  0.54396968, -0.42050651]), array([ 0.24367336,  0.44730204, -0.43968809]))\n",
        "Point with reference:\n",
        "=====================\n",
        "Type: 0\n",
        "Capture Time : Wed Apr 24 11:28:57 COT 2013\n",
        "Refer.  Time : Thu Jan 01 11:47:04 COT 1970\n",
        "Object  Time : Thu Jan 01 11:47:50 COT 1970\n",
        "Ref.    pos  : 0.13 , 0.63 , -0.42\n",
        "Ref.    orn  : 0.05 , -0.86 , -0.46 , 0.22\n",
        "object  pos  : 0.24 , 0.61 , -0.37\n",
        "object  orn  : 0.90 , 0.39 , 0.14 , -0.11\n",
        "\n",
        "(array([ 0.29107624,  0.54290217, -0.40394116]), array([ 0.27477653,  0.44625561, -0.42378458]))\n",
        "Point with reference:\n",
        "=====================\n",
        "Type: 0\n",
        "Capture Time : Wed Apr 24 11:30:41 COT 2013\n",
        "Refer.  Time : Thu Jan 01 11:48:34 COT 1970\n",
        "Object  Time : Thu Jan 01 11:49:34 COT 1970\n",
        "Ref.    pos  : 0.90 , 1.31 , -0.27\n",
        "Ref.    orn  : 0.36 , 0.72 , -0.53 , 0.28\n",
        "object  pos  : 0.24 , 0.61 , -0.37\n",
        "object  orn  : 0.90 , 0.39 , 0.14 , -0.11\n",
        "\n",
        "(array([ 0.29094809,  0.54288746, -0.40394761]), array([ 0.27469474,  0.44621213, -0.42368857]))\n"
       ]
      }
     ],
     "prompt_number": 28
    }
   ],
   "metadata": {}
  }
 ]
}