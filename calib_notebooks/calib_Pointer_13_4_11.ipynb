{
 "metadata": {
  "name": ""
 },
 "nbformat": 3,
 "nbformat_minor": 0,
 "worksheets": [
  {
   "cells": [
    {
     "cell_type": "heading",
     "level": 1,
     "metadata": {},
     "source": [
      "TMS - optitracking calibration"
     ]
    },
    {
     "cell_type": "markdown",
     "metadata": {},
     "source": [
      "This file demonstrates how to convert the data taken during the calibration procedure into useful values that can be used for visualizing and analysing the data. This process should be carried out interactively in a python console or notebook, as in this example. We will start by loading some modules we will use throughout the process"
     ]
    },
    {
     "cell_type": "code",
     "collapsed": false,
     "input": [
      "from __future__ import division\n",
      "import numpy as np\n",
      "import scipy.optimize\n",
      "import sys\n",
      "import os\n",
      "from itertools import izip\n",
      "#change this to the directory containing your tms-data\n",
      "os.chdir(r\"C:\\Users\\Diego\\Dropbox\\VaBD\\ProyectoSavingBrains\\TMS-Optitracking\\TMS Data Mayo 2014\\TMS_Data\")\n",
      "#directory containing the tms view 2 project\n",
      "sys.path.append(r\"C:\\Users\\Diego\\Dropbox\\VaBD\\ProyectoSavingBrains\\TMS-Optitracking\\tms_view2\")\n",
      "import quat\n",
      "import tms_utils as tms\n",
      "\n",
      "#utility functions used during the calibration\n",
      "from calibration_commands import *"
     ],
     "language": "python",
     "metadata": {},
     "outputs": [],
     "prompt_number": 1
    },
    {
     "cell_type": "markdown",
     "metadata": {},
     "source": [
      "## 1 Pointer Calibration\n",
      "\n",
      "Here the objective is to obtain a function that will transform the vrpn values into coordinates corresponding to tip of the pointer\n",
      "\n",
      "### 1.1 Loading the data\n",
      "\n",
      "The first step is loading the samples for this calibration. This should be loaded into a list. In order to keep data organized, this information should be saved in the calibration_data.py file. We will use a function from calibration commands"
     ]
    },
    {
     "cell_type": "code",
     "collapsed": false,
     "input": [
      "calib_date = datetime.date(2013, 4, 11)\n",
      "pointer_samples = load_pointer_samples(calib_date)\n",
      "print pointer_samples"
     ],
     "language": "python",
     "metadata": {},
     "outputs": [
      {
       "output_type": "stream",
       "stream": "stdout",
       "text": [
        "['1002', '1003', '1004', '1005', '10021', '10031', '10032']\n"
       ]
      }
     ],
     "prompt_number": 2
    },
    {
     "cell_type": "markdown",
     "metadata": {},
     "source": [
      "Now we are going to load the data inside this files, "
     ]
    },
    {
     "cell_type": "code",
     "collapsed": false,
     "input": [
      "pointer_data = map(load_data,pointer_samples)\n",
      "print pointer_data[1]"
     ],
     "language": "python",
     "metadata": {},
     "outputs": [
      {
       "output_type": "stream",
       "stream": "stdout",
       "text": [
        "[Point with reference:\n",
        "=====================\n",
        "Type: 1\n",
        "Capture Time : Thu Apr 11 16:52:51 COT 2013\n",
        "Refer.  Time : Wed Dec 31 19:00:00 COT 1969\n",
        "Object  Time : Wed Dec 31 19:22:45 COT 1969\n",
        "Ref.    pos  : -1.00 , -1.00 , -1.00\n",
        "Ref.    orn  : -1.00 , -1.00 , -1.00 , -1.00\n",
        "object  pos  : 0.28 , 0.61 , -0.63\n",
        "object  orn  : -0.13 , 0.86 , 0.11 , 0.48\n",
        ", Point with reference:\n",
        "=====================\n",
        "Type: 2\n",
        "Capture Time : Thu Apr 11 16:53:01 COT 2013\n",
        "Refer.  Time : Wed Dec 31 19:00:00 COT 1969\n",
        "Object  Time : Wed Dec 31 19:22:55 COT 1969\n",
        "Ref.    pos  : -1.00 , -1.00 , -1.00\n",
        "Ref.    orn  : -1.00 , -1.00 , -1.00 , -1.00\n",
        "object  pos  : 0.24 , 0.60 , -0.69\n",
        "object  orn  : -0.10 , -0.98 , -0.14 , 0.10\n",
        ", Point with reference:\n",
        "=====================\n",
        "Type: 3\n",
        "Capture Time : Thu Apr 11 16:53:11 COT 2013\n",
        "Refer.  Time : Wed Dec 31 19:00:00 COT 1969\n",
        "Object  Time : Wed Dec 31 19:23:05 COT 1969\n",
        "Ref.    pos  : -1.00 , -1.00 , -1.00\n",
        "Ref.    orn  : -1.00 , -1.00 , -1.00 , -1.00\n",
        "object  pos  : 0.25 , 0.61 , -0.65\n",
        "object  orn  : -0.53 , -0.22 , -0.18 , 0.80\n",
        ", Point with reference:\n",
        "=====================\n",
        "Type: 4\n",
        "Capture Time : Thu Apr 11 16:53:21 COT 2013\n",
        "Refer.  Time : Wed Dec 31 19:00:00 COT 1969\n",
        "Object  Time : Wed Dec 31 19:23:15 COT 1969\n",
        "Ref.    pos  : -1.00 , -1.00 , -1.00\n",
        "Ref.    orn  : -1.00 , -1.00 , -1.00 , -1.00\n",
        "object  pos  : 0.24 , 0.62 , -0.63\n",
        "object  orn  : -0.48 , 0.23 , -0.06 , 0.84\n",
        "]\n"
       ]
      }
     ],
     "prompt_number": 3
    },
    {
     "cell_type": "markdown",
     "metadata": {},
     "source": [
      "There is lots of information in these files, because we are only calibrating the sample we don't care about the reference, we also don't care about the samples with type 0 (the coil samples), so lets filter this out"
     ]
    },
    {
     "cell_type": "code",
     "collapsed": false,
     "input": [
      "pointer_data_org = [filter(lambda p:p.type!=0,s) for s in pointer_data]\n",
      "print pointer_data_org[0:1]"
     ],
     "language": "python",
     "metadata": {},
     "outputs": [
      {
       "output_type": "stream",
       "stream": "stdout",
       "text": [
        "[[Point with reference:\n",
        "=====================\n",
        "Type: 1\n",
        "Capture Time : Thu Apr 11 16:50:39 COT 2013\n",
        "Refer.  Time : Wed Dec 31 19:00:00 COT 1969\n",
        "Object  Time : Wed Dec 31 19:20:32 COT 1969\n",
        "Ref.    pos  : -1.00 , -1.00 , -1.00\n",
        "Ref.    orn  : -1.00 , -1.00 , -1.00 , -1.00\n",
        "object  pos  : 0.24 , 0.64 , -0.62\n",
        "object  orn  : -0.15 , 0.75 , 0.10 , 0.64\n",
        ", Point with reference:\n",
        "=====================\n",
        "Type: 2\n",
        "Capture Time : Thu Apr 11 16:50:49 COT 2013\n",
        "Refer.  Time : Wed Dec 31 19:00:00 COT 1969\n",
        "Object  Time : Wed Dec 31 19:20:42 COT 1969\n",
        "Ref.    pos  : -1.00 , -1.00 , -1.00\n",
        "Ref.    orn  : -1.00 , -1.00 , -1.00 , -1.00\n",
        "object  pos  : 0.22 , 0.62 , -0.70\n",
        "object  orn  : -0.06 , 0.97 , 0.05 , 0.24\n",
        ", Point with reference:\n",
        "=====================\n",
        "Type: 3\n",
        "Capture Time : Thu Apr 11 16:50:59 COT 2013\n",
        "Refer.  Time : Wed Dec 31 19:00:00 COT 1969\n",
        "Object  Time : Wed Dec 31 19:20:52 COT 1969\n",
        "Ref.    pos  : -1.00 , -1.00 , -1.00\n",
        "Ref.    orn  : -1.00 , -1.00 , -1.00 , -1.00\n",
        "object  pos  : 0.14 , 0.63 , -0.53\n",
        "object  orn  : -0.18 , 0.05 , 0.05 , 0.98\n",
        ", Point with reference:\n",
        "=====================\n",
        "Type: 4\n",
        "Capture Time : Thu Apr 11 16:51:09 COT 2013\n",
        "Refer.  Time : Wed Dec 31 19:00:00 COT 1969\n",
        "Object  Time : Wed Dec 31 19:21:02 COT 1969\n",
        "Ref.    pos  : -1.00 , -1.00 , -1.00\n",
        "Ref.    orn  : -1.00 , -1.00 , -1.00 , -1.00\n",
        "object  pos  : 0.08 , 0.63 , -0.59\n",
        "object  orn  : -0.12 , -0.55 , -0.09 , 0.82\n",
        "]]\n"
       ]
      }
     ],
     "prompt_number": 4
    },
    {
     "cell_type": "markdown",
     "metadata": {},
     "source": [
      "Now we should look at each of the samples separately in order to find obvious problems. If any of them looks problematic (for example, contains missing values) we should remove it"
     ]
    },
    {
     "cell_type": "code",
     "collapsed": false,
     "input": [
      "print len(pointer_data_org)"
     ],
     "language": "python",
     "metadata": {},
     "outputs": [
      {
       "output_type": "stream",
       "stream": "stdout",
       "text": [
        "7\n"
       ]
      }
     ],
     "prompt_number": 5
    },
    {
     "cell_type": "markdown",
     "metadata": {},
     "source": [
      "Be sure to look at all the samples by changing the index in the next command... Afterwards do any cleanup necessary in the next cell."
     ]
    },
    {
     "cell_type": "code",
     "collapsed": false,
     "input": [
      "print pointer_data_org[0]"
     ],
     "language": "python",
     "metadata": {},
     "outputs": [
      {
       "output_type": "stream",
       "stream": "stdout",
       "text": [
        "[Point with reference:\n",
        "=====================\n",
        "Type: 1\n",
        "Capture Time : Thu Apr 11 16:50:39 COT 2013\n",
        "Refer.  Time : Wed Dec 31 19:00:00 COT 1969\n",
        "Object  Time : Wed Dec 31 19:20:32 COT 1969\n",
        "Ref.    pos  : -1.00 , -1.00 , -1.00\n",
        "Ref.    orn  : -1.00 , -1.00 , -1.00 , -1.00\n",
        "object  pos  : 0.24 , 0.64 , -0.62\n",
        "object  orn  : -0.15 , 0.75 , 0.10 , 0.64\n",
        ", Point with reference:\n",
        "=====================\n",
        "Type: 2\n",
        "Capture Time : Thu Apr 11 16:50:49 COT 2013\n",
        "Refer.  Time : Wed Dec 31 19:00:00 COT 1969\n",
        "Object  Time : Wed Dec 31 19:20:42 COT 1969\n",
        "Ref.    pos  : -1.00 , -1.00 , -1.00\n",
        "Ref.    orn  : -1.00 , -1.00 , -1.00 , -1.00\n",
        "object  pos  : 0.22 , 0.62 , -0.70\n",
        "object  orn  : -0.06 , 0.97 , 0.05 , 0.24\n",
        ", Point with reference:\n",
        "=====================\n",
        "Type: 3\n",
        "Capture Time : Thu Apr 11 16:50:59 COT 2013\n",
        "Refer.  Time : Wed Dec 31 19:00:00 COT 1969\n",
        "Object  Time : Wed Dec 31 19:20:52 COT 1969\n",
        "Ref.    pos  : -1.00 , -1.00 , -1.00\n",
        "Ref.    orn  : -1.00 , -1.00 , -1.00 , -1.00\n",
        "object  pos  : 0.14 , 0.63 , -0.53\n",
        "object  orn  : -0.18 , 0.05 , 0.05 , 0.98\n",
        ", Point with reference:\n",
        "=====================\n",
        "Type: 4\n",
        "Capture Time : Thu Apr 11 16:51:09 COT 2013\n",
        "Refer.  Time : Wed Dec 31 19:00:00 COT 1969\n",
        "Object  Time : Wed Dec 31 19:21:02 COT 1969\n",
        "Ref.    pos  : -1.00 , -1.00 , -1.00\n",
        "Ref.    orn  : -1.00 , -1.00 , -1.00 , -1.00\n",
        "object  pos  : 0.08 , 0.63 , -0.59\n",
        "object  orn  : -0.12 , -0.55 , -0.09 , 0.82\n",
        "]\n"
       ]
      }
     ],
     "prompt_number": 21
    },
    {
     "cell_type": "code",
     "collapsed": false,
     "input": [
      "# 3 mixed up with oct23 \n",
      "pointer_data = pointer_data_org\n",
      "pointer_data[3] = pointer_data_org[3][:4]"
     ],
     "language": "python",
     "metadata": {},
     "outputs": [],
     "prompt_number": 22
    },
    {
     "cell_type": "markdown",
     "metadata": {},
     "source": [
      "Finally, lets keep only the position and orientation, and transform the orientation to quaternions objects. "
     ]
    },
    {
     "cell_type": "code",
     "collapsed": false,
     "input": [
      "pointer_pairs = [map(transform_sample_no_ref,s) for s in pointer_data]\n",
      "print pointer_pairs[0][0]"
     ],
     "language": "python",
     "metadata": {},
     "outputs": [
      {
       "output_type": "stream",
       "stream": "stdout",
       "text": [
        "PointerSample(pos=array([ 0.23966242,  0.63865221, -0.6205067 ]), orn=Quaternion:\n",
        "array([ 0.63576812, -0.15294798,  0.74963373,  0.10225017]))\n"
       ]
      }
     ],
     "prompt_number": 23
    },
    {
     "cell_type": "markdown",
     "metadata": {},
     "source": [
      "Lets take a look at this data using vtk. Look for the vtk window that will open after excecuting this cell."
     ]
    },
    {
     "cell_type": "code",
     "collapsed": false,
     "input": [
      "# first let't get some colors\n",
      "import colorbrewer\n",
      "colors = colorbrewer.Set3[max(3,len(pointer_pairs))]\n",
      "colors = map(lambda c:map(lambda x:x/255,c),colors)\n",
      "viewer = VtkViewer()\n",
      "for i,si in enumerate(pointer_pairs):\n",
      "    c = colors[i]\n",
      "    for p in si:\n",
      "        ac = get_sphere_actor(*p.pos)\n",
      "        ac.GetProperty().SetColor(c)\n",
      "        viewer.add_actor(ac)\n",
      "viewer.start()\n",
      "del viewer\n",
      "\n"
     ],
     "language": "python",
     "metadata": {},
     "outputs": [],
     "prompt_number": 24
    },
    {
     "cell_type": "markdown",
     "metadata": {},
     "source": [
      "## 1.2 Find pointer parameters"
     ]
    },
    {
     "cell_type": "markdown",
     "metadata": {},
     "source": [
      "Theory: The system deliver the coordinates of a position P and an orientation O. The point of the pointer (X) can be found as\n",
      "\n",
      "$$X = P + O \\times V \\times \\overline{O}$$\n",
      "\n",
      "Where V is an unknown vector. The objective here is to find this vector. \n",
      "\n",
      "The calibration position consisted in moving the pointer around while keeping the tip constant, this means, keeping X constant. We therefore have\n",
      "\n",
      "$$X = P_{j} + O_{j} \\times V \\times \\overline{O_{j}} + e_j $$\n",
      "\n",
      "Where e represents the error in the measurement, the objective is to find the values of V that minimize this error. We should have several sets of 4 samples, each with its own X, but V should be the same for all of them. For each case we have then\n",
      "\n",
      "$$X_i = P_{i,j} + O_{i,j} \\times V \\times \\overline{O_{i,j}} + e_i,j $$\n",
      "\n",
      "Let \n",
      "\n",
      "$${f_v}(p,o) = x = p + o \\times v \\times \\overline{o} $$\n",
      "\n",
      "If we assing the same weight to all the errors, we can define the total error as\n",
      "\n",
      "$$E= \\sum_{i,j} \\left|e_{j,i}\\right| = \\sum_{i,j} \\left|(X_i - f_v(P_{i,j},O_{i,j})\\right| $$\n",
      "\n"
     ]
    },
    {
     "cell_type": "code",
     "collapsed": false,
     "input": [
      "def pointer_error(vx):\n",
      "    #vx = V:x0:1\n",
      "    v = vx[0:3]\n",
      "    f = get_point_function(v)\n",
      "    tot_error = 0\n",
      "    for i in xrange(len(pointer_pairs)):\n",
      "        si = pointer_pairs[i]\n",
      "        x = vx[(i+1)*3:(i+2)*3]\n",
      "        mapped_points = np.array([f(pj.pos,pj.orn) for pj in si])\n",
      "        #x = np.mean(mapped_points,axis=0)\n",
      "        #L1 norm more robust to outliers than quadratic error\n",
      "        tot_error += sum(abs(np.linalg.norm(p-x))**2 for p in mapped_points )\n",
      "    return tot_error\n",
      "                            "
     ],
     "language": "python",
     "metadata": {},
     "outputs": [],
     "prompt_number": 31
    },
    {
     "cell_type": "code",
     "collapsed": false,
     "input": [
      "si=pointer_pairs[0]\n",
      "print pointer_error([0]*3*(len(pointer_pairs)+1))"
     ],
     "language": "python",
     "metadata": {},
     "outputs": [
      {
       "output_type": "stream",
       "stream": "stdout",
       "text": [
        "25.8663506039\n"
       ]
      }
     ],
     "prompt_number": 32
    },
    {
     "cell_type": "code",
     "collapsed": false,
     "input": [
      "vx = np.ones(3*(len(pointer_pairs)+1))\n",
      "vx[0:3] = [0.01732672, -0.10923792, -0.12175739]\n",
      "#initialize vx as the meaan of the samples\n",
      "for i,s in enumerate(pointer_pairs):\n",
      "    mat = np.array(map(lambda x:x.pos,s))\n",
      "    vx[(i+1)*3:(i+2)*3] = np.mean(mat,axis=0)\n",
      "print vx\n",
      "#just a little test\n",
      "print pointer_error(vx)"
     ],
     "language": "python",
     "metadata": {},
     "outputs": [
      {
       "output_type": "stream",
       "stream": "stdout",
       "text": [
        "[ 0.01732672 -0.10923792 -0.12175739  0.17014203  0.62854722 -0.60929076\n",
        "  0.2507422   0.61101663 -0.64849856  0.28682793  0.60504894 -0.63648206\n",
        "  0.60404286  0.82582656 -0.41389147  0.07589442  0.61145335 -0.67840871\n",
        "  0.24390789  0.62681562 -0.69039324  0.2748172   0.60726051 -0.69955753]\n",
        "0.595177255449\n"
       ]
      }
     ],
     "prompt_number": 33
    },
    {
     "cell_type": "code",
     "collapsed": false,
     "input": [
      "res = scipy.optimize.minimize(pointer_error,vx)\n",
      "print res\n"
     ],
     "language": "python",
     "metadata": {},
     "outputs": [
      {
       "output_type": "stream",
       "stream": "stdout",
       "text": [
        "   status: 0\n",
        "  success: True\n",
        "     njev: 19\n",
        "     nfev: 494\n",
        " hess_inv: array([[  2.53921335e-02,   3.52598022e-03,   1.50598274e-03,\n",
        "          2.14852191e-03,   2.85368283e-03,  -4.35370901e-03,\n",
        "          2.29953043e-03,   1.29084822e-03,  -4.04426419e-03,\n",
        "          6.57726045e-03,   2.89863168e-03,  -7.48716452e-03,\n",
        "         -2.10101946e-03,   5.42619030e-03,  -1.97151185e-02,\n",
        "          1.29562626e-03,   8.00161040e-03,  -2.15456493e-02,\n",
        "          4.10997647e-03,   3.54651161e-03,  -4.51411794e-03,\n",
        "         -6.03122530e-03,   4.67708502e-03,  -1.46816407e-02],\n",
        "       [  3.52598022e-03,   2.46760765e-01,   7.86888197e-02,\n",
        "         -9.50015856e-03,   2.56992093e-01,  -2.11230144e-02,\n",
        "          3.65283421e-02,   2.17274904e-01,  -9.39615802e-02,\n",
        "          2.39257553e-02,   2.53922873e-01,  -3.44913040e-02,\n",
        "          2.63728526e-02,   2.47050552e-01,   2.67531573e-02,\n",
        "          3.55725030e-02,   2.33883102e-01,   2.66765979e-02,\n",
        "          2.17861289e-02,   2.55326068e-01,  -3.11696602e-02,\n",
        "          9.96196405e-03,   2.51327930e-01,  -5.30013862e-03],\n",
        "       [  1.50598274e-03,   7.86888197e-02,   5.40336889e-02,\n",
        "          1.18552076e-03,   8.99975891e-02,  -4.95412515e-03,\n",
        "          1.82794042e-02,   8.60256120e-02,  -3.49390354e-02,\n",
        "          1.62492468e-02,   8.83026985e-02,  -5.40590552e-03,\n",
        "          3.04291503e-02,   8.29699367e-02,   5.46875386e-03,\n",
        "          3.65603520e-02,   8.04001020e-02,   7.75405783e-03,\n",
        "          1.23969755e-02,   9.21756780e-02,  -7.23911063e-03,\n",
        "          1.90500886e-02,   8.41454441e-02,  -8.74017537e-03],\n",
        "       [  2.14852191e-03,  -9.50015856e-03,   1.18552076e-03,\n",
        "          8.76942803e-01,   1.05267791e-03,  -8.79633731e-02,\n",
        "         -9.82941729e-02,   2.90643304e-02,  -1.44186976e-01,\n",
        "         -1.25772078e-01,   1.12559208e-03,  -5.82901551e-02,\n",
        "         -1.50967964e-02,  -3.36028782e-02,   3.11830993e-02,\n",
        "         -2.31600537e-02,  -5.58500248e-02,   5.56181016e-02,\n",
        "         -1.23143694e-01,   7.71414024e-03,  -8.71742169e-02,\n",
        "         -1.37406106e-02,  -2.72328136e-02,  -3.07428603e-02],\n",
        "       [  2.85368283e-03,   2.56992093e-01,   8.99975891e-02,\n",
        "          1.05267791e-03,   1.13642709e+00,  -1.21773040e-02,\n",
        "          2.60736334e-02,   1.23584978e-01,  -5.40231753e-02,\n",
        "          2.51557995e-02,   1.34288905e-01,  -1.77957916e-02,\n",
        "          3.16532897e-02,   1.30064533e-01,  -5.48985239e-03,\n",
        "          4.18743750e-02,   1.27164849e-01,  -4.88944730e-03,\n",
        "          1.91924058e-02,   1.38655517e-01,  -1.64125268e-02,\n",
        "          1.47341259e-02,   1.31392006e-01,  -2.08725630e-02],\n",
        "       [ -4.35370901e-03,  -2.11230144e-02,  -4.95412515e-03,\n",
        "         -8.79633731e-02,  -1.21773040e-02,   9.16833959e-01,\n",
        "         -7.14600077e-02,   1.18368739e-02,  -1.21993818e-01,\n",
        "         -7.59035729e-02,  -1.19078189e-02,  -6.80170906e-02,\n",
        "         -1.41805083e-02,  -3.09631482e-02,  -5.02748647e-02,\n",
        "         -8.09105328e-03,  -3.74616907e-02,  -3.65159248e-02,\n",
        "         -8.36855235e-02,  -3.17530166e-03,  -8.17457558e-02,\n",
        "         -2.79117973e-02,  -2.90933793e-02,  -7.97215484e-02],\n",
        "       [  2.29953043e-03,   3.65283421e-02,   1.82794042e-02,\n",
        "         -9.82941729e-02,   2.60736334e-02,  -7.14600077e-02,\n",
        "          9.24238191e-01,   3.50051537e-02,  -1.17565823e-01,\n",
        "         -9.95973092e-02,   2.63582063e-02,  -5.39894027e-02,\n",
        "         -2.70249654e-02,   1.91416507e-03,   2.81066837e-02,\n",
        "         -3.44641098e-02,  -1.78372233e-02,   4.46083768e-02,\n",
        "         -9.53724410e-02,   2.87023569e-02,  -7.28943458e-02,\n",
        "         -2.31349858e-02,   7.39635633e-03,  -1.92589794e-02],\n",
        "       [  1.29084822e-03,   2.17274904e-01,   8.60256120e-02,\n",
        "          2.90643304e-02,   1.23584978e-01,   1.18368739e-02,\n",
        "          3.50051537e-02,   1.04019477e+00,   2.54953923e-02,\n",
        "          3.35261436e-02,   1.25316719e-01,  -3.24144282e-02,\n",
        "         -9.12141704e-02,   1.54979769e-01,  -1.94914760e-03,\n",
        "         -9.45988609e-02,   1.50884315e-01,  -2.64805147e-02,\n",
        "          4.45964224e-02,   1.06502814e-01,   2.97597636e-04,\n",
        "         -7.49406763e-02,   1.55042292e-01,   3.07778560e-02],\n",
        "       [ -4.04426419e-03,  -9.39615802e-02,  -3.49390354e-02,\n",
        "         -1.44186976e-01,  -5.40231753e-02,  -1.21993818e-01,\n",
        "         -1.17565823e-01,   2.54953923e-02,   8.03538492e-01,\n",
        "         -1.29411860e-01,  -5.52398308e-02,  -7.27673221e-02,\n",
        "          4.21497274e-02,  -1.03642356e-01,  -4.37946954e-02,\n",
        "          5.05814171e-02,  -1.15052015e-01,  -7.75309321e-03,\n",
        "         -1.44732605e-01,  -3.20745568e-02,  -1.14432577e-01,\n",
        "          1.46272789e-02,  -9.95939536e-02,  -1.15243016e-01],\n",
        "       [  6.57726045e-03,   2.39257553e-02,   1.62492468e-02,\n",
        "         -1.25772078e-01,   2.51557995e-02,  -7.59035729e-02,\n",
        "         -9.95973092e-02,   3.35261436e-02,  -1.29411860e-01,\n",
        "          8.59479746e-01,   2.57461714e-02,  -4.96907395e-02,\n",
        "         -3.98064257e-02,  -8.15504896e-03,   8.64056439e-02,\n",
        "         -5.91002158e-02,  -3.96476030e-02,   1.09378671e-01,\n",
        "         -1.27284798e-01,   2.48284649e-02,  -7.80147021e-02,\n",
        "         -2.17594851e-02,   5.26763378e-04,   1.86279259e-02],\n",
        "       [  2.89863168e-03,   2.53922873e-01,   8.83026985e-02,\n",
        "          1.12559208e-03,   1.34288905e-01,  -1.19078189e-02,\n",
        "          2.63582063e-02,   1.25316719e-01,  -5.52398308e-02,\n",
        "          2.57461714e-02,   1.13197447e+00,  -1.55676833e-02,\n",
        "          3.81813462e-02,   1.26346116e-01,  -5.41370479e-03,\n",
        "          4.89686302e-02,   1.23806309e-01,  -3.70367008e-03,\n",
        "          1.89863502e-02,   1.37440478e-01,  -1.56540196e-02,\n",
        "          1.98434233e-02,   1.27651004e-01,  -2.24666382e-02],\n",
        "       [ -7.48716452e-03,  -3.44913040e-02,  -5.40590552e-03,\n",
        "         -5.82901551e-02,  -1.77957916e-02,  -6.80170906e-02,\n",
        "         -5.39894027e-02,  -3.24144282e-02,  -7.27673221e-02,\n",
        "         -4.96907395e-02,  -1.55676833e-02,   9.21187670e-01,\n",
        "         -7.50337879e-02,  -1.10108010e-02,  -7.95645880e-02,\n",
        "         -7.00506805e-02,  -1.19823537e-02,  -8.30498378e-02,\n",
        "         -5.29383229e-02,  -1.78248142e-02,  -7.02947496e-02,\n",
        "         -7.81557009e-02,  -1.15207849e-02,  -7.18596355e-02],\n",
        "       [ -2.10101946e-03,   2.63728526e-02,   3.04291503e-02,\n",
        "         -1.50967964e-02,   3.16532897e-02,  -1.41805083e-02,\n",
        "         -2.70249654e-02,  -9.12141704e-02,   4.21497274e-02,\n",
        "         -3.98064257e-02,   3.81813462e-02,  -7.50337879e-02,\n",
        "          7.70885851e-01,   8.28662071e-02,   2.50721303e-03,\n",
        "         -2.51909215e-01,   6.94075270e-02,  -3.23118719e-02,\n",
        "         -1.11152846e-02,   7.75422386e-04,  -2.92178478e-02,\n",
        "         -1.76501441e-01,   8.38830445e-02,   5.66008424e-02],\n",
        "       [  5.42619030e-03,   2.47050552e-01,   8.29699367e-02,\n",
        "         -3.36028782e-02,   1.30064533e-01,  -3.09631482e-02,\n",
        "          1.91416507e-03,   1.54979769e-01,  -1.03642356e-01,\n",
        "         -8.15504896e-03,   1.26346116e-01,  -1.10108010e-02,\n",
        "          8.28662071e-02,   1.09912837e+00,   2.14302018e-02,\n",
        "          9.30484798e-02,   9.03173069e-02,   3.89803304e-02,\n",
        "         -1.78053133e-02,   1.40786054e-01,  -3.14462928e-02,\n",
        "          5.74665118e-02,   1.02826606e-01,  -2.97281270e-02],\n",
        "       [ -1.97151185e-02,   2.67531573e-02,   5.46875386e-03,\n",
        "          3.11830993e-02,  -5.48985239e-03,  -5.02748647e-02,\n",
        "          2.81066837e-02,  -1.94914760e-03,  -4.37946954e-02,\n",
        "          8.64056439e-02,  -5.41370479e-03,  -7.95645880e-02,\n",
        "          2.50721303e-03,   2.14302018e-02,   7.44180518e-01,\n",
        "          4.78126227e-02,   5.81820875e-02,  -2.74170339e-01,\n",
        "          5.10874503e-02,   8.04253539e-03,  -4.86906007e-02,\n",
        "         -5.28564593e-02,   1.10943802e-02,  -1.94661615e-01],\n",
        "       [  1.29562626e-03,   3.55725030e-02,   3.65603520e-02,\n",
        "         -2.31600537e-02,   4.18743750e-02,  -8.09105328e-03,\n",
        "         -3.44641098e-02,  -9.45988609e-02,   5.05814171e-02,\n",
        "         -5.91002158e-02,   4.89686302e-02,  -7.00506805e-02,\n",
        "         -2.51909215e-01,   9.30484798e-02,   4.78126227e-02,\n",
        "          7.15352429e-01,   7.14154878e-02,   1.28725737e-02,\n",
        "         -2.14759987e-02,   5.58848874e-03,  -2.51357833e-02,\n",
        "         -1.84862258e-01,   9.61023626e-02,   9.55074254e-02],\n",
        "       [  8.00161040e-03,   2.33883102e-01,   8.04001020e-02,\n",
        "         -5.58500248e-02,   1.27164849e-01,  -3.74616907e-02,\n",
        "         -1.78372233e-02,   1.50884315e-01,  -1.15052015e-01,\n",
        "         -3.96476030e-02,   1.23806309e-01,  -1.19823537e-02,\n",
        "          6.94075270e-02,   9.03173069e-02,   5.81820875e-02,\n",
        "          7.14154878e-02,   1.07325318e+00,   8.00216632e-02,\n",
        "         -4.30583737e-02,   1.35748394e-01,  -3.85144750e-02,\n",
        "          5.40009319e-02,   9.62153818e-02,  -6.62066603e-03],\n",
        "       [ -2.15456493e-02,   2.66765979e-02,   7.75405783e-03,\n",
        "          5.56181016e-02,  -4.88944730e-03,  -3.65159248e-02,\n",
        "          4.46083768e-02,  -2.64805147e-02,  -7.75309321e-03,\n",
        "          1.09378671e-01,  -3.70367008e-03,  -8.30498378e-02,\n",
        "         -3.23118719e-02,   3.89803304e-02,  -2.74170339e-01,\n",
        "          1.28725737e-02,   8.00216632e-02,   6.95882775e-01,\n",
        "          7.66193016e-02,   2.86047272e-03,  -3.73278396e-02,\n",
        "         -8.16324629e-02,   2.69511312e-02,  -1.88031095e-01],\n",
        "       [  4.10997647e-03,   2.17861289e-02,   1.23969755e-02,\n",
        "         -1.23143694e-01,   1.91924058e-02,  -8.36855235e-02,\n",
        "         -9.53724410e-02,   4.45964224e-02,  -1.44732605e-01,\n",
        "         -1.27284798e-01,   1.89863502e-02,  -5.29383229e-02,\n",
        "         -1.11152846e-02,  -1.78053133e-02,   5.10874503e-02,\n",
        "         -2.14759987e-02,  -4.30583737e-02,   7.66193016e-02,\n",
        "          8.77474641e-01,   2.48642674e-02,  -8.36050962e-02,\n",
        "         -7.33934510e-03,  -1.05281993e-02,  -1.66595904e-02],\n",
        "       [  3.54651161e-03,   2.55326068e-01,   9.21756780e-02,\n",
        "          7.71414024e-03,   1.38655517e-01,  -3.17530166e-03,\n",
        "          2.87023569e-02,   1.06502814e-01,  -3.20745568e-02,\n",
        "          2.48284649e-02,   1.37440478e-01,  -1.78248142e-02,\n",
        "          7.75422386e-04,   1.40786054e-01,   8.04253539e-03,\n",
        "          5.58848874e-03,   1.35748394e-01,   2.86047272e-03,\n",
        "          2.48642674e-02,   1.13518830e+00,  -9.56966808e-03,\n",
        "         -5.31875553e-03,   1.42315670e-01,   1.95771869e-03],\n",
        "       [ -4.51411794e-03,  -3.11696602e-02,  -7.23911063e-03,\n",
        "         -8.71742169e-02,  -1.64125268e-02,  -8.17457558e-02,\n",
        "         -7.28943458e-02,   2.97597636e-04,  -1.14432577e-01,\n",
        "         -7.80147021e-02,  -1.56540196e-02,  -7.02947496e-02,\n",
        "         -2.92178478e-02,  -3.14462928e-02,  -4.86906007e-02,\n",
        "         -2.51357833e-02,  -3.85144750e-02,  -3.73278396e-02,\n",
        "         -8.36050962e-02,  -9.56966808e-03,   9.18935299e-01,\n",
        "         -3.86667006e-02,  -2.96083556e-02,  -7.35957436e-02],\n",
        "       [ -6.03122530e-03,   9.96196405e-03,   1.90500886e-02,\n",
        "         -1.37406106e-02,   1.47341259e-02,  -2.79117973e-02,\n",
        "         -2.31349858e-02,  -7.49406763e-02,   1.46272789e-02,\n",
        "         -2.17594851e-02,   1.98434233e-02,  -7.81557009e-02,\n",
        "         -1.76501441e-01,   5.74665118e-02,  -5.28564593e-02,\n",
        "         -1.84862258e-01,   5.40009319e-02,  -8.16324629e-02,\n",
        "         -7.33934510e-03,  -5.31875553e-03,  -3.86667006e-02,\n",
        "          8.52150534e-01,   5.63162323e-02,  -1.75207308e-03],\n",
        "       [  4.67708502e-03,   2.51327930e-01,   8.41454441e-02,\n",
        "         -2.72328136e-02,   1.31392006e-01,  -2.90933793e-02,\n",
        "          7.39635633e-03,   1.55042292e-01,  -9.95939536e-02,\n",
        "          5.26763378e-04,   1.27651004e-01,  -1.15207849e-02,\n",
        "          8.38830445e-02,   1.02826606e-01,   1.10943802e-02,\n",
        "          9.61023626e-02,   9.62153818e-02,   2.69511312e-02,\n",
        "         -1.05281993e-02,   1.42315670e-01,  -2.96083556e-02,\n",
        "          5.63162323e-02,   1.10590619e+00,  -3.54300251e-02],\n",
        "       [ -1.46816407e-02,  -5.30013862e-03,  -8.74017537e-03,\n",
        "         -3.07428603e-02,  -2.08725630e-02,  -7.97215484e-02,\n",
        "         -1.92589794e-02,   3.07778560e-02,  -1.15243016e-01,\n",
        "          1.86279259e-02,  -2.24666382e-02,  -7.18596355e-02,\n",
        "          5.66008424e-02,  -2.97281270e-02,  -1.94661615e-01,\n",
        "          9.55074254e-02,  -6.62066603e-03,  -1.88031095e-01,\n",
        "         -1.66595904e-02,   1.95771869e-03,  -7.35957436e-02,\n",
        "         -1.75207308e-03,  -3.54300251e-02,   8.10873174e-01]])\n",
        "      fun: 0.0007302707208505127\n",
        "        x: array([ 0.01671682, -0.10924963, -0.12109983,  0.16345338,  0.49021737,\n",
        "       -0.60843546,  0.21609192,  0.46348169, -0.59419885,  0.25522902,\n",
        "        0.47028713, -0.64337714,  0.52459228,  0.70551433, -0.43204626,\n",
        "       -0.01467443,  0.49421311, -0.70484227,  0.2208603 ,  0.48167171,\n",
        "       -0.68785722,  0.2181594 ,  0.48499827, -0.68739639])\n",
        "  message: 'Optimization terminated successfully.'\n",
        "      jac: array([  1.65164238e-08,  -4.32919478e-09,   4.05270839e-09,\n",
        "         8.58562998e-10,  -2.54658516e-09,   1.25146471e-09,\n",
        "        -1.01863407e-10,  -1.42608769e-09,   2.38651410e-09,\n",
        "         4.51109372e-10,  -1.84809323e-09,   1.51339918e-09,\n",
        "         3.63797881e-10,  -2.67755240e-09,   8.44011083e-10,\n",
        "        -2.54658516e-10,  -2.56113708e-09,   1.53522706e-09,\n",
        "        -1.81898940e-10,  -2.49565346e-09,   1.06956577e-09,\n",
        "         7.93079380e-10,  -2.65572453e-09,   1.09866960e-09])\n"
       ]
      }
     ],
     "prompt_number": 34
    },
    {
     "cell_type": "markdown",
     "metadata": {},
     "source": [
      "Now lets see the results the v vector, and the final value of the error. Check that the final status is 0, and success is True... otherwise adjustments should be made to the initial values or model."
     ]
    },
    {
     "cell_type": "code",
     "collapsed": false,
     "input": [
      "print \"Success: \", res.success\n",
      "print res.fun\n",
      "v=res.x[0:3]\n",
      "print v"
     ],
     "language": "python",
     "metadata": {},
     "outputs": [
      {
       "output_type": "stream",
       "stream": "stdout",
       "text": [
        "Success:  True\n",
        "0.000730270720851\n",
        "[ 0.01671682 -0.10924963 -0.12109983]\n"
       ]
      }
     ],
     "prompt_number": 35
    },
    {
     "cell_type": "markdown",
     "metadata": {},
     "source": [
      "## 1.3 Verifying results\n",
      "\n"
     ]
    },
    {
     "cell_type": "markdown",
     "metadata": {},
     "source": [
      "Lets calculate the mappings to the tip, given the vector v"
     ]
    },
    {
     "cell_type": "code",
     "collapsed": false,
     "input": [
      "point = get_point_function(v)\n",
      "mapped_points = [map(lambda p:point(p.pos,p.orn),s) for s in pointer_pairs]\n",
      "print mapped_points"
     ],
     "language": "python",
     "metadata": {},
     "outputs": [
      {
       "output_type": "stream",
       "stream": "stdout",
       "text": [
        "[[array([ 0.16485476,  0.49302247, -0.61179483]), array([ 0.16470456,  0.4928806 , -0.60658046]), array([ 0.16181593,  0.48896373, -0.60596322]), array([ 0.1624383 ,  0.48600271, -0.6094033 ])], [array([ 0.21135777,  0.46883069, -0.59259589]), array([ 0.21494929,  0.46392099, -0.59496163]), array([ 0.22377894,  0.45793253, -0.59611695]), array([ 0.21428171,  0.46324259, -0.59312091])], [array([ 0.25916195,  0.46886709, -0.64484791]), array([ 0.25376939,  0.47550746, -0.64141318]), array([ 0.25378309,  0.46834792, -0.64342681]), array([ 0.25420169,  0.46842607, -0.64382062])], [array([ 0.52498649,  0.70701425, -0.4336645 ]), array([ 0.52714253,  0.7051865 , -0.43170856]), array([ 0.52425925,  0.70482173, -0.4315481 ]), array([ 0.52198087,  0.70503485, -0.43126386])], [array([-0.01656831,  0.49476896, -0.70442073]), array([-0.01353912,  0.50011603, -0.7106087 ]), array([-0.01364817,  0.49718197, -0.7094707 ]), array([-0.01494211,  0.48478553, -0.69486892])], [array([ 0.22580569,  0.47898153, -0.68940438]), array([ 0.22031456,  0.48621627, -0.68781277]), array([ 0.21931077,  0.48164199, -0.68737278]), array([ 0.2180102 ,  0.4798471 , -0.68683894])], [array([ 0.21901283,  0.48545877, -0.68937611]), array([ 0.21823727,  0.48481317, -0.69042549]), array([ 0.21768218,  0.48924518, -0.68546031]), array([ 0.21770536,  0.48047599, -0.68432363])]]\n"
       ]
      }
     ],
     "prompt_number": 36
    },
    {
     "cell_type": "markdown",
     "metadata": {},
     "source": [
      "Now lets use vtk to verify the calibration results"
     ]
    },
    {
     "cell_type": "code",
     "collapsed": false,
     "input": [
      "viewer = VtkViewer()\n",
      "#The x_i\n",
      "for i,xi in enumerate(mapped_points):\n",
      "    \n",
      "    x = np.mean(np.array(xi),axis=0)\n",
      "    ac = get_sphere_actor(*x)\n",
      "    c = colors[i]\n",
      "    ac.GetProperty().SetColor(c)\n",
      "    ac.GetProperty().SetRepresentationToWireframe()\n",
      "    viewer.add_actor(ac)\n",
      "    \n",
      "\n",
      "#viewer.start()"
     ],
     "language": "python",
     "metadata": {},
     "outputs": [],
     "prompt_number": 38
    },
    {
     "cell_type": "markdown",
     "metadata": {},
     "source": [
      "Let's add the mapped points in the same colors"
     ]
    },
    {
     "cell_type": "code",
     "collapsed": false,
     "input": [
      "for i,s in enumerate(mapped_points):\n",
      "    for p in s:\n",
      "        ac = get_sphere_actor(*p)\n",
      "        ac.GetProperty().SetColor(colors[i])\n",
      "        ac.GetProperty().SetRepresentationToWireframe()\n",
      "        viewer.add_actor(ac)\n",
      "\n",
      "#viewer.start()"
     ],
     "language": "python",
     "metadata": {},
     "outputs": [],
     "prompt_number": 39
    },
    {
     "cell_type": "markdown",
     "metadata": {},
     "source": [
      "And Let's add the original data"
     ]
    },
    {
     "cell_type": "code",
     "collapsed": false,
     "input": [
      " for i,si in enumerate(pointer_pairs):\n",
      "    c = colors[i]\n",
      "    for p in si:\n",
      "        ac = get_sphere_actor(*p.pos)\n",
      "        ac.GetProperty().SetColor(c)\n",
      "        viewer.add_actor(ac)\n",
      "#viewer.start()"
     ],
     "language": "python",
     "metadata": {},
     "outputs": [],
     "prompt_number": 40
    },
    {
     "cell_type": "markdown",
     "metadata": {},
     "source": [
      "Let's connect them with lines"
     ]
    },
    {
     "cell_type": "code",
     "collapsed": false,
     "input": [
      "for i,(ops,mps) in enumerate(izip(pointer_pairs,mapped_points)):\n",
      "    c = colors[i]\n",
      "    for p1,p2 in izip(ops,mps):\n",
      "        ac = get_line_actor(p1.pos,p2)\n",
      "        ac.GetProperty().SetColor(c)\n",
      "        viewer.add_actor(ac)\n",
      "viewer.start()\n",
      "del viewer"
     ],
     "language": "python",
     "metadata": {},
     "outputs": [],
     "prompt_number": 41
    },
    {
     "cell_type": "markdown",
     "metadata": {},
     "source": [
      "<img src=\"files/Captura.PNG\">"
     ]
    },
    {
     "cell_type": "markdown",
     "metadata": {},
     "source": [
      "## 1.4 Save Results\n",
      "\n",
      "If everything looks ok, let's copy the results to the file calibration_data.py\n"
     ]
    },
    {
     "cell_type": "code",
     "collapsed": false,
     "input": [
      "#Final V\n",
      "v=res.x[0:3]\n",
      "print tuple(v)\n",
      "#Final error\n",
      "print res.fun\n"
     ],
     "language": "python",
     "metadata": {},
     "outputs": [
      {
       "output_type": "stream",
       "stream": "stdout",
       "text": [
        "(0.098375330930390123, 0.083144699264077554, -0.15265044232796784)\n",
        "0.143546943395\n"
       ]
      }
     ],
     "prompt_number": 76
    }
   ],
   "metadata": {}
  }
 ]
}