{
 "metadata": {
  "name": ""
 },
 "nbformat": 3,
 "nbformat_minor": 0,
 "worksheets": [
  {
   "cells": [
    {
     "cell_type": "heading",
     "level": 1,
     "metadata": {},
     "source": [
      "TMS - optitracking calibration"
     ]
    },
    {
     "cell_type": "markdown",
     "metadata": {},
     "source": [
      "This file demonstrates how to convert the data taken during the calibration procedure into useful values that can be used for visualizing and analysing the data. This process should be carried out interactively in a python console or notebook, as in this example. We will start by loading some modules we will use throughout the process"
     ]
    },
    {
     "cell_type": "code",
     "collapsed": false,
     "input": [
      "from __future__ import division\n",
      "import numpy as np\n",
      "import scipy.optimize\n",
      "import sys\n",
      "import os\n",
      "from itertools import izip\n",
      "#change this to the directory containing your tms-data\n",
      "os.chdir(r\"C:\\Users\\Diego\\Dropbox\\VaBD\\ProyectoSavingBrains\\TMS-Optitracking\\TMS Data Mayo 2014\\TMS_Data\")\n",
      "#directory containing the tms view 2 project\n",
      "sys.path.append(r\"C:\\Users\\Diego\\Dropbox\\VaBD\\ProyectoSavingBrains\\TMS-Optitracking\\tms_view2\")\n",
      "import quat\n",
      "import tms_utils as tms\n",
      "\n",
      "#utility functions used during the calibration\n",
      "from calibration_commands import *"
     ],
     "language": "python",
     "metadata": {},
     "outputs": [],
     "prompt_number": 57
    },
    {
     "cell_type": "markdown",
     "metadata": {},
     "source": [
      "## 1 Pointer Calibration\n",
      "\n",
      "Here the objective is to obtain a function that will transform the vrpn values into coordinates corresponding to tip of the pointer\n",
      "\n",
      "### 1.1 Loading the data\n",
      "\n",
      "The first step is loading the samples for this calibration. This should be loaded into a list. In order to keep data organized, this information should be saved in the calibration_data.py file. We will use a function from calibration commands"
     ]
    },
    {
     "cell_type": "code",
     "collapsed": false,
     "input": [
      "calib_date = datetime.date(2013, 11, 20)\n",
      "pointer_samples = load_pointer_samples(calib_date)\n",
      "print pointer_samples"
     ],
     "language": "python",
     "metadata": {},
     "outputs": [
      {
       "output_type": "stream",
       "stream": "stdout",
       "text": [
        "['50000', '50100', '50200']\n"
       ]
      }
     ],
     "prompt_number": 58
    },
    {
     "cell_type": "markdown",
     "metadata": {},
     "source": [
      "Now we are going to load the data inside this files, "
     ]
    },
    {
     "cell_type": "code",
     "collapsed": false,
     "input": [
      "pointer_data = map(load_data,pointer_samples)\n",
      "print pointer_data[1]"
     ],
     "language": "python",
     "metadata": {},
     "outputs": [
      {
       "output_type": "stream",
       "stream": "stdout",
       "text": [
        "[Point with reference:\n",
        "=====================\n",
        "Type: 1\n",
        "Capture Time : Wed Nov 20 16:13:10 COT 2013\n",
        "Refer.  Time : Wed Dec 31 19:12:36 COT 1969\n",
        "Object  Time : Wed Dec 31 19:12:43 COT 1969\n",
        "Ref.    pos  : 0.07 , 0.13 , -0.21\n",
        "Ref.    orn  : 0.40 , -0.16 , 0.12 , 0.89\n",
        "object  pos  : 0.09 , 0.17 , -0.23\n",
        "object  orn  : 0.08 , -0.81 , -0.57 , 0.14\n",
        ", Point with reference:\n",
        "=====================\n",
        "Type: 2\n",
        "Capture Time : Wed Nov 20 16:13:20 COT 2013\n",
        "Refer.  Time : Wed Dec 31 19:12:46 COT 1969\n",
        "Object  Time : Wed Dec 31 19:12:53 COT 1969\n",
        "Ref.    pos  : -0.17 , 0.13 , -0.36\n",
        "Ref.    orn  : -0.14 , 0.95 , 0.14 , 0.23\n",
        "object  pos  : -0.23 , 0.16 , -0.34\n",
        "object  orn  : -0.02 , -0.58 , -0.51 , 0.64\n",
        ", Point with reference:\n",
        "=====================\n",
        "Type: 3\n",
        "Capture Time : Wed Nov 20 16:13:30 COT 2013\n",
        "Refer.  Time : Wed Dec 31 19:13:03 COT 1969\n",
        "Object  Time : Wed Dec 31 19:13:03 COT 1969\n",
        "Ref.    pos  : -0.06 , 0.13 , -0.20\n",
        "Ref.    orn  : 0.94 , 0.06 , -0.16 , 0.29\n",
        "object  pos  : -0.06 , 0.17 , -0.10\n",
        "object  orn  : -0.52 , 0.30 , -0.14 , 0.79\n",
        ", Point with reference:\n",
        "=====================\n",
        "Type: 4\n",
        "Capture Time : Wed Nov 20 16:13:40 COT 2013\n",
        "Refer.  Time : Wed Dec 31 19:13:13 COT 1969\n",
        "Object  Time : Wed Dec 31 19:13:13 COT 1969\n",
        "Ref.    pos  : 0.00 , 0.11 , -0.26\n",
        "Ref.    orn  : 0.01 , -0.50 , 0.77 , 0.41\n",
        "object  pos  : 0.05 , 0.18 , -0.32\n",
        "object  orn  : -0.76 , -0.00 , -0.62 , 0.19\n",
        ", Point with reference:\n",
        "=====================\n",
        "Type: 0\n",
        "Capture Time : Wed Nov 20 16:14:36 COT 2013\n",
        "Refer.  Time : Wed Dec 31 19:14:07 COT 1969\n",
        "Object  Time : Wed Dec 31 19:14:09 COT 1969\n",
        "Ref.    pos  : 0.02 , 0.42 , -0.73\n",
        "Ref.    orn  : 0.33 , 0.10 , 0.70 , 0.63\n",
        "object  pos  : -0.07 , 0.10 , -0.26\n",
        "object  orn  : -0.16 , -0.25 , -0.03 , 0.95\n",
        ", Point with reference:\n",
        "=====================\n",
        "Type: 0\n",
        "Capture Time : Wed Nov 20 16:16:14 COT 2013\n",
        "Refer.  Time : Wed Dec 31 19:15:43 COT 1969\n",
        "Object  Time : Wed Dec 31 19:15:48 COT 1969\n",
        "Ref.    pos  : -0.06 , 0.13 , -0.32\n",
        "Ref.    orn  : -0.04 , 0.80 , 0.21 , 0.56\n",
        "object  pos  : -0.07 , 0.09 , -0.26\n",
        "object  orn  : -0.16 , -0.23 , -0.02 , 0.96\n",
        ", Point with reference:\n",
        "=====================\n",
        "Type: 0\n",
        "Capture Time : Wed Nov 20 16:16:22 COT 2013\n",
        "Refer.  Time : Wed Dec 31 19:15:50 COT 1969\n",
        "Object  Time : Wed Dec 31 19:15:56 COT 1969\n",
        "Ref.    pos  : -0.04 , 0.09 , -0.32\n",
        "Ref.    orn  : -0.07 , -0.21 , -0.86 , 0.45\n",
        "object  pos  : -0.08 , 0.09 , -0.27\n",
        "object  orn  : -0.16 , -0.27 , -0.03 , 0.95\n",
        ", Point with reference:\n",
        "=====================\n",
        "Type: 0\n",
        "Capture Time : Wed Nov 20 16:16:28 COT 2013\n",
        "Refer.  Time : Wed Dec 31 19:15:50 COT 1969\n",
        "Object  Time : Wed Dec 31 19:16:02 COT 1969\n",
        "Ref.    pos  : -0.04 , 0.09 , -0.32\n",
        "Ref.    orn  : -0.07 , -0.21 , -0.86 , 0.45\n",
        "object  pos  : -0.08 , 0.09 , -0.27\n",
        "object  orn  : -0.15 , -0.27 , -0.03 , 0.95\n",
        ", Point with reference:\n",
        "=====================\n",
        "Type: 0\n",
        "Capture Time : Wed Nov 20 16:16:33 COT 2013\n",
        "Refer.  Time : Wed Dec 31 19:15:50 COT 1969\n",
        "Object  Time : Wed Dec 31 19:16:07 COT 1969\n",
        "Ref.    pos  : -0.04 , 0.09 , -0.32\n",
        "Ref.    orn  : -0.07 , -0.21 , -0.86 , 0.45\n",
        "object  pos  : -0.08 , 0.09 , -0.27\n",
        "object  orn  : -0.14 , -0.27 , -0.04 , 0.95\n",
        ", Point with reference:\n",
        "=====================\n",
        "Type: 0\n",
        "Capture Time : Wed Nov 20 16:16:38 COT 2013\n",
        "Refer.  Time : Wed Dec 31 19:15:50 COT 1969\n",
        "Object  Time : Wed Dec 31 19:16:12 COT 1969\n",
        "Ref.    pos  : -0.04 , 0.09 , -0.32\n",
        "Ref.    orn  : -0.07 , -0.21 , -0.86 , 0.45\n",
        "object  pos  : -0.10 , 0.07 , -0.25\n",
        "object  orn  : 0.74 , 0.19 , 0.62 , 0.19\n",
        ", Point with reference:\n",
        "=====================\n",
        "Type: 0\n",
        "Capture Time : Wed Nov 20 16:16:43 COT 2013\n",
        "Refer.  Time : Wed Dec 31 19:16:16 COT 1969\n",
        "Object  Time : Wed Dec 31 19:16:17 COT 1969\n",
        "Ref.    pos  : 0.21 , 0.08 , -0.66\n",
        "Ref.    orn  : 0.30 , 0.28 , -0.37 , 0.84\n",
        "object  pos  : -0.10 , 0.07 , -0.24\n",
        "object  orn  : 0.74 , 0.19 , 0.62 , 0.19\n",
        ", Point with reference:\n",
        "=====================\n",
        "Type: 1\n",
        "Capture Time : Thu May 08 18:24:49 COT 2014\n",
        "Refer.  Time : Wed Dec 31 19:45:55 COT 1969\n",
        "Object  Time : Wed Dec 31 19:46:02 COT 1969\n",
        "Ref.    pos  : 0.33 , -0.48 , -0.24\n",
        "Ref.    orn  : -0.04 , -0.71 , -0.30 , 0.63\n",
        "object  pos  : 0.24 , -0.37 , -0.14\n",
        "object  orn  : 0.32 , -0.22 , 0.24 , 0.89\n",
        ", Point with reference:\n",
        "=====================\n",
        "Type: 2\n",
        "Capture Time : Thu May 08 18:24:59 COT 2014\n",
        "Refer.  Time : Wed Dec 31 19:46:14 COT 1969\n",
        "Object  Time : Wed Dec 31 19:46:18 COT 1969\n",
        "Ref.    pos  : 0.13 , -0.52 , -0.02\n",
        "Ref.    orn  : -0.03 , 0.30 , -0.51 , 0.81\n",
        "object  pos  : 0.11 , -0.51 , 0.01\n",
        "object  orn  : -0.17 , -0.02 , 0.98 , -0.03\n",
        ", Point with reference:\n",
        "=====================\n",
        "Type: 3\n",
        "Capture Time : Thu May 08 18:25:09 COT 2014\n",
        "Refer.  Time : Wed Dec 31 19:46:22 COT 1969\n",
        "Object  Time : Wed Dec 31 19:46:28 COT 1969\n",
        "Ref.    pos  : 0.27 , -0.51 , -0.06\n",
        "Ref.    orn  : -0.29 , 0.95 , 0.05 , 0.08\n",
        "object  pos  : 0.29 , -0.51 , -0.09\n",
        "object  orn  : 0.25 , -0.09 , -0.94 , -0.21\n",
        ", Point with reference:\n",
        "=====================\n",
        "Type: 4\n",
        "Capture Time : Thu May 08 18:25:19 COT 2014\n",
        "Refer.  Time : Wed Dec 31 19:46:31 COT 1969\n",
        "Object  Time : Wed Dec 31 19:46:32 COT 1969\n",
        "Ref.    pos  : 0.16 , -0.56 , -0.12\n",
        "Ref.    orn  : -0.74 , 0.50 , -0.31 , 0.31\n",
        "object  pos  : nan , nan , nan\n",
        "object  orn  : nan , nan , nan , nan\n",
        ", Point with reference:\n",
        "=====================\n",
        "Type: 0\n",
        "Capture Time : Thu May 08 18:25:36 COT 2014\n",
        "Refer.  Time : Wed Dec 31 19:46:51 COT 1969\n",
        "Object  Time : Wed Dec 31 19:46:56 COT 1969\n",
        "Ref.    pos  : 0.08 , 0.17 , -0.23\n",
        "Ref.    orn  : 0.04 , -0.59 , -0.60 , 0.54\n",
        "object  pos  : -0.26 , 0.06 , -0.23\n",
        "object  orn  : 0.13 , 0.95 , 0.03 , 0.27\n",
        ", Point with reference:\n",
        "=====================\n",
        "Type: 0\n",
        "Capture Time : Thu May 08 18:25:47 COT 2014\n",
        "Refer.  Time : Wed Dec 31 19:47:04 COT 1969\n",
        "Object  Time : Wed Dec 31 19:47:05 COT 1969\n",
        "Ref.    pos  : 0.61 , -0.27 , -0.15\n",
        "Ref.    orn  : -0.89 , -0.19 , 0.41 , -0.06\n",
        "object  pos  : -0.30 , 0.01 , -0.19\n",
        "object  orn  : 0.11 , 0.95 , 0.15 , 0.25\n",
        ", Point with reference:\n",
        "=====================\n",
        "Type: 0\n",
        "Capture Time : Thu May 08 18:25:58 COT 2014\n",
        "Refer.  Time : Wed Dec 31 19:47:04 COT 1969\n",
        "Object  Time : Wed Dec 31 19:47:16 COT 1969\n",
        "Ref.    pos  : 0.61 , -0.27 , -0.15\n",
        "Ref.    orn  : -0.89 , -0.19 , 0.41 , -0.06\n",
        "object  pos  : -0.32 , 0.03 , -0.19\n",
        "object  orn  : 0.07 , 0.95 , 0.15 , 0.26\n",
        ", Point with reference:\n",
        "=====================\n",
        "Type: 0\n",
        "Capture Time : Thu May 08 18:26:04 COT 2014\n",
        "Refer.  Time : Wed Dec 31 19:47:04 COT 1969\n",
        "Object  Time : Wed Dec 31 19:47:24 COT 1969\n",
        "Ref.    pos  : 0.61 , -0.27 , -0.15\n",
        "Ref.    orn  : -0.89 , -0.19 , 0.41 , -0.06\n",
        "object  pos  : -0.32 , 0.02 , -0.18\n",
        "object  orn  : 0.05 , 0.93 , 0.16 , 0.32\n",
        ", Point with reference:\n",
        "=====================\n",
        "Type: 0\n",
        "Capture Time : Thu May 08 18:26:11 COT 2014\n",
        "Refer.  Time : Wed Dec 31 19:47:04 COT 1969\n",
        "Object  Time : Wed Dec 31 19:47:30 COT 1969\n",
        "Ref.    pos  : 0.61 , -0.27 , -0.15\n",
        "Ref.    orn  : -0.89 , -0.19 , 0.41 , -0.06\n",
        "object  pos  : -0.38 , 0.05 , -0.18\n",
        "object  orn  : 0.00 , 0.96 , 0.18 , 0.22\n",
        "]\n"
       ]
      }
     ],
     "prompt_number": 59
    },
    {
     "cell_type": "markdown",
     "metadata": {},
     "source": [
      "There is lots of information in these files, because we are only calibrating the sample we don't care about the reference, we also don't care about the samples with type 0 (the coil samples), so lets filter this out"
     ]
    },
    {
     "cell_type": "code",
     "collapsed": false,
     "input": [
      "pointer_data_org = [filter(lambda p:p.type!=0,s) for s in pointer_data]\n",
      "print pointer_data_org[0:1]"
     ],
     "language": "python",
     "metadata": {},
     "outputs": [
      {
       "output_type": "stream",
       "stream": "stdout",
       "text": [
        "[[Point with reference:\n",
        "=====================\n",
        "Type: 1\n",
        "Capture Time : Wed Nov 20 16:08:36 COT 2013\n",
        "Refer.  Time : Wed Dec 31 19:07:58 COT 1969\n",
        "Object  Time : Wed Dec 31 19:07:59 COT 1969\n",
        "Ref.    pos  : 0.20 , 0.46 , 0.02\n",
        "Ref.    orn  : 0.48 , -0.86 , -0.17 , -0.00\n",
        "object  pos  : -0.20 , 0.50 , 0.24\n",
        "object  orn  : -0.33 , 0.20 , 0.26 , 0.88\n",
        ", Point with reference:\n",
        "=====================\n",
        "Type: 2\n",
        "Capture Time : Wed Nov 20 16:08:46 COT 2013\n",
        "Refer.  Time : Wed Dec 31 19:07:58 COT 1969\n",
        "Object  Time : Wed Dec 31 19:07:59 COT 1969\n",
        "Ref.    pos  : 0.20 , 0.46 , 0.02\n",
        "Ref.    orn  : 0.48 , -0.86 , -0.17 , -0.00\n",
        "object  pos  : -0.20 , 0.50 , 0.24\n",
        "object  orn  : -0.33 , 0.20 , 0.26 , 0.88\n",
        ", Point with reference:\n",
        "=====================\n",
        "Type: 3\n",
        "Capture Time : Wed Nov 20 16:08:56 COT 2013\n",
        "Refer.  Time : Wed Dec 31 19:07:58 COT 1969\n",
        "Object  Time : Wed Dec 31 19:07:59 COT 1969\n",
        "Ref.    pos  : 0.20 , 0.46 , 0.02\n",
        "Ref.    orn  : 0.48 , -0.86 , -0.17 , -0.00\n",
        "object  pos  : -0.20 , 0.50 , 0.24\n",
        "object  orn  : -0.33 , 0.20 , 0.26 , 0.88\n",
        ", Point with reference:\n",
        "=====================\n",
        "Type: 4\n",
        "Capture Time : Wed Nov 20 16:09:06 COT 2013\n",
        "Refer.  Time : Wed Dec 31 19:07:58 COT 1969\n",
        "Object  Time : Wed Dec 31 19:07:59 COT 1969\n",
        "Ref.    pos  : 0.20 , 0.46 , 0.02\n",
        "Ref.    orn  : 0.48 , -0.86 , -0.17 , -0.00\n",
        "object  pos  : -0.20 , 0.50 , 0.24\n",
        "object  orn  : -0.33 , 0.20 , 0.26 , 0.88\n",
        "]]\n"
       ]
      }
     ],
     "prompt_number": 60
    },
    {
     "cell_type": "markdown",
     "metadata": {},
     "source": [
      "Now we should look at each of the samples separately in order to find obvious problems. If any of them looks problematic (for example, contains missing values) we should remove it"
     ]
    },
    {
     "cell_type": "code",
     "collapsed": false,
     "input": [
      "print len(pointer_data_org)"
     ],
     "language": "python",
     "metadata": {},
     "outputs": [
      {
       "output_type": "stream",
       "stream": "stdout",
       "text": [
        "3\n"
       ]
      }
     ],
     "prompt_number": 61
    },
    {
     "cell_type": "markdown",
     "metadata": {},
     "source": [
      "Be sure to look at all the samples by changing the index in the next command... Afterwards do any cleanup necessary in the next cell."
     ]
    },
    {
     "cell_type": "code",
     "collapsed": false,
     "input": [
      "print pointer_data_org[1]"
     ],
     "language": "python",
     "metadata": {},
     "outputs": [
      {
       "output_type": "stream",
       "stream": "stdout",
       "text": [
        "[Point with reference:\n",
        "=====================\n",
        "Type: 1\n",
        "Capture Time : Wed Nov 20 16:13:10 COT 2013\n",
        "Refer.  Time : Wed Dec 31 19:12:36 COT 1969\n",
        "Object  Time : Wed Dec 31 19:12:43 COT 1969\n",
        "Ref.    pos  : 0.07 , 0.13 , -0.21\n",
        "Ref.    orn  : 0.40 , -0.16 , 0.12 , 0.89\n",
        "object  pos  : 0.09 , 0.17 , -0.23\n",
        "object  orn  : 0.08 , -0.81 , -0.57 , 0.14\n",
        ", Point with reference:\n",
        "=====================\n",
        "Type: 2\n",
        "Capture Time : Wed Nov 20 16:13:20 COT 2013\n",
        "Refer.  Time : Wed Dec 31 19:12:46 COT 1969\n",
        "Object  Time : Wed Dec 31 19:12:53 COT 1969\n",
        "Ref.    pos  : -0.17 , 0.13 , -0.36\n",
        "Ref.    orn  : -0.14 , 0.95 , 0.14 , 0.23\n",
        "object  pos  : -0.23 , 0.16 , -0.34\n",
        "object  orn  : -0.02 , -0.58 , -0.51 , 0.64\n",
        ", Point with reference:\n",
        "=====================\n",
        "Type: 3\n",
        "Capture Time : Wed Nov 20 16:13:30 COT 2013\n",
        "Refer.  Time : Wed Dec 31 19:13:03 COT 1969\n",
        "Object  Time : Wed Dec 31 19:13:03 COT 1969\n",
        "Ref.    pos  : -0.06 , 0.13 , -0.20\n",
        "Ref.    orn  : 0.94 , 0.06 , -0.16 , 0.29\n",
        "object  pos  : -0.06 , 0.17 , -0.10\n",
        "object  orn  : -0.52 , 0.30 , -0.14 , 0.79\n",
        ", Point with reference:\n",
        "=====================\n",
        "Type: 4\n",
        "Capture Time : Wed Nov 20 16:13:40 COT 2013\n",
        "Refer.  Time : Wed Dec 31 19:13:13 COT 1969\n",
        "Object  Time : Wed Dec 31 19:13:13 COT 1969\n",
        "Ref.    pos  : 0.00 , 0.11 , -0.26\n",
        "Ref.    orn  : 0.01 , -0.50 , 0.77 , 0.41\n",
        "object  pos  : 0.05 , 0.18 , -0.32\n",
        "object  orn  : -0.76 , -0.00 , -0.62 , 0.19\n",
        ", Point with reference:\n",
        "=====================\n",
        "Type: 1\n",
        "Capture Time : Thu May 08 18:24:49 COT 2014\n",
        "Refer.  Time : Wed Dec 31 19:45:55 COT 1969\n",
        "Object  Time : Wed Dec 31 19:46:02 COT 1969\n",
        "Ref.    pos  : 0.33 , -0.48 , -0.24\n",
        "Ref.    orn  : -0.04 , -0.71 , -0.30 , 0.63\n",
        "object  pos  : 0.24 , -0.37 , -0.14\n",
        "object  orn  : 0.32 , -0.22 , 0.24 , 0.89\n",
        ", Point with reference:\n",
        "=====================\n",
        "Type: 2\n",
        "Capture Time : Thu May 08 18:24:59 COT 2014\n",
        "Refer.  Time : Wed Dec 31 19:46:14 COT 1969\n",
        "Object  Time : Wed Dec 31 19:46:18 COT 1969\n",
        "Ref.    pos  : 0.13 , -0.52 , -0.02\n",
        "Ref.    orn  : -0.03 , 0.30 , -0.51 , 0.81\n",
        "object  pos  : 0.11 , -0.51 , 0.01\n",
        "object  orn  : -0.17 , -0.02 , 0.98 , -0.03\n",
        ", Point with reference:\n",
        "=====================\n",
        "Type: 3\n",
        "Capture Time : Thu May 08 18:25:09 COT 2014\n",
        "Refer.  Time : Wed Dec 31 19:46:22 COT 1969\n",
        "Object  Time : Wed Dec 31 19:46:28 COT 1969\n",
        "Ref.    pos  : 0.27 , -0.51 , -0.06\n",
        "Ref.    orn  : -0.29 , 0.95 , 0.05 , 0.08\n",
        "object  pos  : 0.29 , -0.51 , -0.09\n",
        "object  orn  : 0.25 , -0.09 , -0.94 , -0.21\n",
        ", Point with reference:\n",
        "=====================\n",
        "Type: 4\n",
        "Capture Time : Thu May 08 18:25:19 COT 2014\n",
        "Refer.  Time : Wed Dec 31 19:46:31 COT 1969\n",
        "Object  Time : Wed Dec 31 19:46:32 COT 1969\n",
        "Ref.    pos  : 0.16 , -0.56 , -0.12\n",
        "Ref.    orn  : -0.74 , 0.50 , -0.31 , 0.31\n",
        "object  pos  : nan , nan , nan\n",
        "object  orn  : nan , nan , nan , nan\n",
        "]\n"
       ]
      }
     ],
     "prompt_number": 62
    },
    {
     "cell_type": "code",
     "collapsed": false,
     "input": [
      "# 0 doesnt move, useles, \n",
      "# 1 has two dates, should keep only first 4, and 1 appears moved\n",
      "# 2 possible problem with first sample of 2\n",
      "pointer_data = [pointer_data_org[1][0:0]+pointer_data_org[1][1:4],pointer_data_org[2][1:]]\n"
     ],
     "language": "python",
     "metadata": {},
     "outputs": [],
     "prompt_number": 63
    },
    {
     "cell_type": "markdown",
     "metadata": {},
     "source": [
      "Finally, lets keep only the position and orientation, and transform the orientation to quaternions objects. "
     ]
    },
    {
     "cell_type": "code",
     "collapsed": false,
     "input": [
      "pointer_pairs = [map(transform_sample_no_ref,s) for s in pointer_data]\n",
      "print pointer_pairs[0][0]"
     ],
     "language": "python",
     "metadata": {},
     "outputs": [
      {
       "output_type": "stream",
       "stream": "stdout",
       "text": [
        "PointerSample(pos=array([-0.23096533,  0.15734543, -0.33602905]), orn=Quaternion:\n",
        "array([ 0.63916975, -0.02263355, -0.57947522, -0.50513178]))\n"
       ]
      }
     ],
     "prompt_number": 64
    },
    {
     "cell_type": "markdown",
     "metadata": {},
     "source": [
      "Lets take a look at this data using vtk. Look for the vtk window that will open after excecuting this cell."
     ]
    },
    {
     "cell_type": "code",
     "collapsed": false,
     "input": [
      "# first let't get some colors\n",
      "import colorbrewer\n",
      "colors = colorbrewer.Set3[max(3,len(pointer_pairs))]\n",
      "colors = map(lambda c:map(lambda x:x/255,c),colors)\n",
      "viewer = VtkViewer()\n",
      "for i,si in enumerate(pointer_pairs):\n",
      "    c = colors[i]\n",
      "    for p in si:\n",
      "        ac = get_sphere_actor(*p.pos)\n",
      "        ac.GetProperty().SetColor(c)\n",
      "        viewer.add_actor(ac)\n",
      "viewer.start()\n",
      "del viewer\n",
      "\n"
     ],
     "language": "python",
     "metadata": {},
     "outputs": [],
     "prompt_number": 65
    },
    {
     "cell_type": "markdown",
     "metadata": {},
     "source": [
      "## 1.2 Find pointer parameters"
     ]
    },
    {
     "cell_type": "markdown",
     "metadata": {},
     "source": [
      "Theory: The system deliver the coordinates of a position P and an orientation O. The point of the pointer (X) can be found as\n",
      "\n",
      "$$X = P + O \\times V \\times \\overline{O}$$\n",
      "\n",
      "Where V is an unknown vector. The objective here is to find this vector. \n",
      "\n",
      "The calibration position consisted in moving the pointer around while keeping the tip constant, this means, keeping X constant. We therefore have\n",
      "\n",
      "$$X = P_{j} + O_{j} \\times V \\times \\overline{O_{j}} + e_j $$\n",
      "\n",
      "Where e represents the error in the measurement, the objective is to find the values of V that minimize this error. We should have several sets of 4 samples, each with its own X, but V should be the same for all of them. For each case we have then\n",
      "\n",
      "$$X_i = P_{i,j} + O_{i,j} \\times V \\times \\overline{O_{i,j}} + e_i,j $$\n",
      "\n",
      "Let \n",
      "\n",
      "$${f_v}(p,o) = x = p + o \\times v \\times \\overline{o} $$\n",
      "\n",
      "If we assing the same weight to all the errors, we can define the total error as\n",
      "\n",
      "$$E= \\sum_{i,j} \\left|e_{j,i}\\right| = \\sum_{i,j} \\left|(X_i - f_v(P_{i,j},O_{i,j})\\right| $$\n",
      "\n"
     ]
    },
    {
     "cell_type": "code",
     "collapsed": false,
     "input": [
      "def pointer_error(vx):\n",
      "    #vx = V:x0:1\n",
      "    v = vx[0:3]\n",
      "    f = get_point_function(v)\n",
      "    tot_error = 0\n",
      "    for i in xrange(len(pointer_pairs)):\n",
      "        si = pointer_pairs[i]\n",
      "        x = vx[(i+1)*3:(i+2)*3]\n",
      "        mapped_points = np.array([f(pj.pos,pj.orn) for pj in si])\n",
      "        #x = np.mean(mapped_points,axis=0)\n",
      "        #L1 norm more robust to outliers than quadratic error\n",
      "        tot_error += sum(abs(np.linalg.norm(p-x)) for p in mapped_points )\n",
      "    return tot_error\n",
      "                            "
     ],
     "language": "python",
     "metadata": {},
     "outputs": [],
     "prompt_number": 66
    },
    {
     "cell_type": "code",
     "collapsed": false,
     "input": [
      "si=pointer_pairs[0]\n",
      "print pointer_error([0]*3*(len(pointer_pairs)+1))"
     ],
     "language": "python",
     "metadata": {},
     "outputs": [
      {
       "output_type": "stream",
       "stream": "stdout",
       "text": [
        "1.83952822282\n"
       ]
      }
     ],
     "prompt_number": 67
    },
    {
     "cell_type": "code",
     "collapsed": false,
     "input": [
      "vx = np.ones(3*(len(pointer_pairs)+1))\n",
      "#initialize vx as the meaan of the samples\n",
      "for i,s in enumerate(pointer_pairs):\n",
      "    mat = np.array(map(lambda x:x.pos,s))\n",
      "    vx[(i+1)*3:(i+2)*3] = np.mean(mat,axis=0)\n",
      "print vx\n",
      "#just a little test\n",
      "print pointer_error(vx)"
     ],
     "language": "python",
     "metadata": {},
     "outputs": [
      {
       "output_type": "stream",
       "stream": "stdout",
       "text": [
        "[ 1.          1.          1.         -0.07755118  0.16745227 -0.25455657\n",
        " -0.16125552  0.15001848 -0.07705581]\n",
        "10.2613208525\n"
       ]
      }
     ],
     "prompt_number": 68
    },
    {
     "cell_type": "code",
     "collapsed": false,
     "input": [
      "res = scipy.optimize.minimize(pointer_error,vx)\n",
      "print res\n"
     ],
     "language": "python",
     "metadata": {},
     "outputs": [
      {
       "output_type": "stream",
       "stream": "stdout",
       "text": [
        "   status: 2\n",
        "  success: False\n",
        "     njev: 83\n",
        "     nfev: 924\n",
        " hess_inv: array([[ 0.01613489, -0.0030082 , -0.00316002,  0.01105694, -0.01205578,\n",
        "        -0.0035258 ,  0.00420853, -0.0148328 ,  0.00288752],\n",
        "       [-0.0030082 ,  0.00619511,  0.00167237, -0.0018856 ,  0.0054397 ,\n",
        "        -0.00406237, -0.00086987,  0.00637681, -0.00085838],\n",
        "       [-0.00316002,  0.00167237,  0.00669335,  0.00159973,  0.00732292,\n",
        "         0.00142824,  0.00054791,  0.00564719, -0.00087394],\n",
        "       [ 0.01105694, -0.0018856 ,  0.00159973,  0.00995718, -0.00539553,\n",
        "        -0.00151748,  0.00375394, -0.00875807,  0.00181012],\n",
        "       [-0.01205578,  0.0054397 ,  0.00732292, -0.00539553,  0.01404115,\n",
        "         0.00117858, -0.00217098,  0.01462138, -0.00255546],\n",
        "       [-0.0035258 , -0.00406237,  0.00142824, -0.00151748,  0.00117858,\n",
        "         0.00518776, -0.0004616 ,  0.00079401, -0.00041303],\n",
        "       [ 0.00420853, -0.00086987,  0.00054791,  0.00375394, -0.00217098,\n",
        "        -0.0004616 ,  0.01259568, -0.00622817, -0.00197625],\n",
        "       [-0.0148328 ,  0.00637681,  0.00564719, -0.00875807,  0.01462138,\n",
        "         0.00079401, -0.00622817,  0.02415436, -0.00028002],\n",
        "       [ 0.00288752, -0.00085838, -0.00087394,  0.00181012, -0.00255546,\n",
        "        -0.00041303, -0.00197625, -0.00028002,  0.01336255]])\n",
        "      fun: 0.14354694339536517\n",
        "        x: array([ 0.09837533,  0.0831447 , -0.15265044, -0.08078636,  0.03808472,\n",
        "       -0.25354181, -0.08493694,  0.04400077, -0.06622688])\n",
        "  message: 'Desired error not necessarily achieved due to precision loss.'\n",
        "      jac: array([  4.71336946e-01,  -2.88056582e-01,  -2.39107998e-01,\n",
        "        -2.28734784e-01,   5.52368088e-01,  -3.86191905e-02,\n",
        "         1.05921365e-03,  -1.77533180e-03,  -2.56817788e-04])\n"
       ]
      }
     ],
     "prompt_number": 69
    },
    {
     "cell_type": "markdown",
     "metadata": {},
     "source": [
      "Now lets see the results the v vector, and the final value of the error. Check that the final status is 0, and success is True... otherwise adjustments should be made to the initial values or model."
     ]
    },
    {
     "cell_type": "code",
     "collapsed": false,
     "input": [
      "print \"Success: \", res.success\n",
      "print res.fun\n",
      "v=res.x[0:3]\n",
      "print v"
     ],
     "language": "python",
     "metadata": {},
     "outputs": [
      {
       "output_type": "stream",
       "stream": "stdout",
       "text": [
        "Success:  False\n",
        "0.143546943395\n",
        "[ 0.09837533  0.0831447  -0.15265044]\n"
       ]
      }
     ],
     "prompt_number": 70
    },
    {
     "cell_type": "markdown",
     "metadata": {},
     "source": [
      "## 1.3 Verifying results\n",
      "\n"
     ]
    },
    {
     "cell_type": "markdown",
     "metadata": {},
     "source": [
      "Lets calculate the mappings to the tip, given the vector v"
     ]
    },
    {
     "cell_type": "code",
     "collapsed": false,
     "input": [
      "point = get_point_function(v)\n",
      "mapped_points = [map(lambda p:point(p.pos,p.orn),s) for s in pointer_pairs]\n",
      "print mapped_points"
     ],
     "language": "python",
     "metadata": {},
     "outputs": [
      {
       "output_type": "stream",
       "stream": "stdout",
       "text": [
        "[[array([-0.08340196,  0.04324973, -0.26461395]), array([-0.0807866 ,  0.03808414, -0.25354157]), array([-0.04782144,  0.03391891, -0.23007457])], [array([-0.12772934,  0.04487651, -0.06195895]), array([-0.08113892,  0.0398752 , -0.07346348]), array([-0.06281876,  0.06050722, -0.03980879])]]\n"
       ]
      }
     ],
     "prompt_number": 71
    },
    {
     "cell_type": "markdown",
     "metadata": {},
     "source": [
      "Now lets use vtk to verify the calibration results"
     ]
    },
    {
     "cell_type": "code",
     "collapsed": false,
     "input": [
      "viewer = VtkViewer()\n",
      "#The x_i\n",
      "for i,xi in enumerate(mapped_points):\n",
      "    \n",
      "    x = np.mean(np.array(xi),axis=0)\n",
      "    ac = get_sphere_actor(*x)\n",
      "    c = colors[i]\n",
      "    ac.GetProperty().SetColor(c)\n",
      "    ac.GetProperty().SetRepresentationToWireframe()\n",
      "    viewer.add_actor(ac)\n",
      "    \n",
      "\n",
      "#viewer.start()"
     ],
     "language": "python",
     "metadata": {},
     "outputs": [],
     "prompt_number": 72
    },
    {
     "cell_type": "markdown",
     "metadata": {},
     "source": [
      "Let's add the mapped points in the same colors"
     ]
    },
    {
     "cell_type": "code",
     "collapsed": false,
     "input": [
      "for i,s in enumerate(mapped_points):\n",
      "    for p in s:\n",
      "        ac = get_sphere_actor(*p)\n",
      "        ac.GetProperty().SetColor(colors[i])\n",
      "        ac.GetProperty().SetRepresentationToWireframe()\n",
      "        viewer.add_actor(ac)\n",
      "\n",
      "#viewer.start()"
     ],
     "language": "python",
     "metadata": {},
     "outputs": [],
     "prompt_number": 73
    },
    {
     "cell_type": "markdown",
     "metadata": {},
     "source": [
      "And Let's add the original data"
     ]
    },
    {
     "cell_type": "code",
     "collapsed": false,
     "input": [
      " for i,si in enumerate(pointer_pairs):\n",
      "    c = colors[i]\n",
      "    for p in si:\n",
      "        ac = get_sphere_actor(*p.pos)\n",
      "        ac.GetProperty().SetColor(c)\n",
      "        viewer.add_actor(ac)\n",
      "#viewer.start()"
     ],
     "language": "python",
     "metadata": {},
     "outputs": [],
     "prompt_number": 74
    },
    {
     "cell_type": "markdown",
     "metadata": {},
     "source": [
      "Let's connect them with lines"
     ]
    },
    {
     "cell_type": "code",
     "collapsed": false,
     "input": [
      "for i,(ops,mps) in enumerate(izip(pointer_pairs,mapped_points)):\n",
      "    c = colors[i]\n",
      "    for p1,p2 in izip(ops,mps):\n",
      "        ac = get_line_actor(p1.pos,p2)\n",
      "        ac.GetProperty().SetColor(c)\n",
      "        viewer.add_actor(ac)\n",
      "viewer.start()\n",
      "del viewer"
     ],
     "language": "python",
     "metadata": {},
     "outputs": [],
     "prompt_number": 75
    },
    {
     "cell_type": "markdown",
     "metadata": {},
     "source": [
      "<img src=\"files/Captura.PNG\">"
     ]
    },
    {
     "cell_type": "markdown",
     "metadata": {},
     "source": [
      "## 1.4 Save Results\n",
      "\n",
      "If everything looks ok, let's copy the results to the file calibration_data.py\n"
     ]
    },
    {
     "cell_type": "code",
     "collapsed": false,
     "input": [
      "#Final V\n",
      "v=res.x[0:3]\n",
      "print tuple(v)\n",
      "#Final error\n",
      "print res.fun\n"
     ],
     "language": "python",
     "metadata": {},
     "outputs": [
      {
       "output_type": "stream",
       "stream": "stdout",
       "text": [
        "(0.098375330930390123, 0.083144699264077554, -0.15265044232796784)\n",
        "0.143546943395\n"
       ]
      }
     ],
     "prompt_number": 76
    }
   ],
   "metadata": {}
  }
 ]
}