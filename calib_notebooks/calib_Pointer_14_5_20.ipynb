{
 "metadata": {
  "name": "",
  "signature": "sha256:83d7eca22b36fa697dd9531d0a87e75f6f0747af1e739a1aaa5398a018f460fa"
 },
 "nbformat": 3,
 "nbformat_minor": 0,
 "worksheets": [
  {
   "cells": [
    {
     "cell_type": "heading",
     "level": 1,
     "metadata": {},
     "source": [
      "TMS - optitracking calibration"
     ]
    },
    {
     "cell_type": "markdown",
     "metadata": {},
     "source": [
      "This file demonstrates how to convert the data taken during the calibration procedure into useful values that can be used for visualizing and analysing the data. This process should be carried out interactively in a python console or notebook, as in this example. We will start by loading some modules we will use throughout the process"
     ]
    },
    {
     "cell_type": "code",
     "collapsed": false,
     "input": [
      "from __future__ import division\n",
      "import numpy as np\n",
      "import scipy.optimize\n",
      "import sys\n",
      "import os\n",
      "import datetime\n",
      "from itertools import izip\n",
      "#change this to the directory containing your tms-data\n",
      "os.chdir(r\"C:\\Users\\Diego\\Dropbox\\VaBD\\ProyectoSavingBrains\\TMS-Optitracking\\TMS Data 22 Jul 2014\")\n",
      "#directory containing the tms view 2 project\n",
      "sys.path.append(r\"C:\\Users\\Diego\\Dropbox\\VaBD\\ProyectoSavingBrains\\TMS-Optitracking\\tms_view2\")\n",
      "import quat\n",
      "import tms_utils as tms\n",
      "\n",
      "#utility functions used during the calibration\n",
      "from calibration_commands import *"
     ],
     "language": "python",
     "metadata": {},
     "outputs": [],
     "prompt_number": 2
    },
    {
     "cell_type": "markdown",
     "metadata": {},
     "source": [
      "## 1 Pointer Calibration\n",
      "\n",
      "Here the objective is to obtain a function that will transform the vrpn values into coordinates corresponding to tip of the pointer\n",
      "\n",
      "### 1.1 Loading the data\n",
      "\n",
      "The first step is loading the samples for this calibration. This should be loaded into a list. In order to keep data organized, this information should be saved in the calibration_data.py file. We will use a function from calibration commands"
     ]
    },
    {
     "cell_type": "code",
     "collapsed": false,
     "input": [
      "calib_date = datetime.date(2014, 5, 20)\n",
      "pointer_samples = load_pointer_samples(calib_date)\n",
      "print pointer_samples"
     ],
     "language": "python",
     "metadata": {},
     "outputs": [
      {
       "output_type": "stream",
       "stream": "stdout",
       "text": [
        "['89100', '89200', '89300', '89400', '89500', '89600', '89700', '89800', '89900', '89910', '89920']\n"
       ]
      }
     ],
     "prompt_number": 4
    },
    {
     "cell_type": "markdown",
     "metadata": {},
     "source": [
      "Now we are going to load the data inside this files, "
     ]
    },
    {
     "cell_type": "code",
     "collapsed": false,
     "input": [
      "pointer_data = map(load_data,pointer_samples)\n",
      "print pointer_data[4]"
     ],
     "language": "python",
     "metadata": {},
     "outputs": [
      {
       "output_type": "stream",
       "stream": "stdout",
       "text": [
        "[(1,2014-05-20 16:18:42,1970-01-02 03:41:22,(-0.06747237592935562, -0.06570544093847275, -0.5645818710327148),(0.17103233933448792, -0.26715120673179626, -0.1591881811618805, 0.934899628162384),1970-01-02 03:41:08,(-0.11819158494472504, -0.08643960952758789, -0.5548585057258606),(0.29100024700164795, -0.38676121830940247, 0.8531619310379028, 0.1945490688085556)), (2,2014-05-20 16:18:53,1970-01-02 03:41:32,(-0.022823672741651535, -0.08017131686210632, -0.6910697817802429),(0.3355185389518738, 0.4946489930152893, 0.06867320090532303, 0.7987701296806335),1970-01-02 03:41:23,(-0.07270185649394989, -0.04646901413798332, -0.5998056530952454),(-0.06402751803398132, 0.31932756304740906, -0.9158797860145569, -0.23472227156162262)), (3,2014-05-20 16:19:03,1970-01-02 03:41:42,(-0.11925487220287323, -0.0684598907828331, -0.7054196000099182),(0.23958121240139008, 0.9140982627868652, 0.18076996505260468, 0.2726673185825348),1970-01-02 03:41:23,(-0.07270185649394989, -0.04646901413798332, -0.5998056530952454),(-0.06402751803398132, 0.31932756304740906, -0.9158797860145569, -0.23472227156162262)), (4,2014-05-20 16:19:13,1970-01-02 03:41:52,(-0.22087356448173523, -0.10381552577018738, -0.6070137023925781),(-0.09515529870986938, -0.7888014316558838, -0.4219413101673126, 0.4366959035396576),1970-01-02 03:41:23,(-0.07270185649394989, -0.04646901413798332, -0.5998056530952454),(-0.06402751803398132, 0.31932756304740906, -0.9158797860145569, -0.23472227156162262))]\n"
       ]
      }
     ],
     "prompt_number": 5
    },
    {
     "cell_type": "markdown",
     "metadata": {},
     "source": [
      "There is lots of information in these files, because we are only calibrating the sample we don't care about the reference, we also don't care about the samples with type 0 (the coil samples), so lets filter this out"
     ]
    },
    {
     "cell_type": "code",
     "collapsed": false,
     "input": [
      "pointer_data = [filter(lambda p:p.type!=0,s) for s in pointer_data]\n",
      "print pointer_data[0:1]"
     ],
     "language": "python",
     "metadata": {},
     "outputs": [
      {
       "output_type": "stream",
       "stream": "stdout",
       "text": [
        "[[(1,2014-05-20 16:11:56,1970-01-02 03:34:36,(0.08911439031362534, -0.07973717898130417, -0.6272886991500854),(0.08056776225566864, -0.21174214780330658, -0.10195638239383698, 0.9686480164527893),1970-01-02 03:34:35,(0.043961554765701294, -0.10335589200258255, -0.6144538521766663),(0.2953372597694397, -0.438504159450531, 0.8402785062789917, 0.1200917437672615)), (2,2014-05-20 16:12:06,1970-01-02 03:34:46,(0.12919479608535767, -0.0911010354757309, -0.6867233514785767),(0.2278176248073578, 0.46717458963394165, -0.005876871757209301, 0.8542906045913696),1970-01-02 03:34:36,(0.07604099065065384, -0.09899967908859253, -0.6231700778007507),(0.11843129247426987, -0.4080111086368561, 0.8918552994728088, 0.1552257239818573)), (3,2014-05-20 16:12:16,1970-01-02 03:34:56,(0.06856998056173325, -0.08558135479688644, -0.7333501577377319),(0.18810439109802246, 0.9200188517570496, 0.16019268333911896, 0.3041715919971466),1970-01-02 03:34:56,(0.10927217453718185, -0.1068277508020401, -0.7384096384048462),(0.8563863039016724, -0.20389783382415771, -0.2701820731163025, -0.38991013169288635)), (4,2014-05-20 16:12:26,1970-01-02 03:35:06,(0.011651362292468548, -0.09600529074668884, -0.6835780739784241),(0.15571871399879456, 0.8371110558509827, 0.23035888373851776, -0.47109609842300415),1970-01-02 03:35:05,(0.012014483101665974, -0.12632392346858978, -0.7163022756576538),(0.7773689031600952, -0.5182157754898071, 0.3300397992134094, -0.134995236992836))]]\n"
       ]
      }
     ],
     "prompt_number": 14
    },
    {
     "cell_type": "markdown",
     "metadata": {},
     "source": [
      "Now we should look at each of the samples separately in order to find obvious problems. If any of them looks problematic (for example, contains missing values) we should remove it"
     ]
    },
    {
     "cell_type": "code",
     "collapsed": false,
     "input": [
      "print len(pointer_data)\n",
      "orig_point_data = pointer_data[:]"
     ],
     "language": "python",
     "metadata": {},
     "outputs": [
      {
       "output_type": "stream",
       "stream": "stdout",
       "text": [
        "11\n"
       ]
      }
     ],
     "prompt_number": 5
    },
    {
     "cell_type": "markdown",
     "metadata": {},
     "source": [
      "Be sure to look at all the samples by changing the index in the next command... Afterwards do any cleanup necessary in the next cell."
     ]
    },
    {
     "cell_type": "code",
     "collapsed": false,
     "input": [
      "for p in pointer_data[10]: print p"
     ],
     "language": "python",
     "metadata": {},
     "outputs": [
      {
       "output_type": "stream",
       "stream": "stdout",
       "text": [
        "Point with reference:\n",
        "=====================\n",
        "Type: 1\n",
        "Capture Time : Tue May 20 16:28:28 COT 2014\n",
        "Refer.  Time : Fri Jan 02 03:50:54 COT 1970\n",
        "Object  Time : Fri Jan 02 03:51:08 COT 1970\n",
        "Ref.    pos  : 0.16 , 0.03 , -0.17\n",
        "Ref.    orn  : 0.21 , -0.08 , -0.63 , -0.74\n",
        "object  pos  : 0.21 , -0.03 , -0.37\n",
        "object  orn  : 0.21 , -0.07 , -0.27 , 0.94\n",
        "\n",
        "Point with reference:\n",
        "=====================\n",
        "Type: 2\n",
        "Capture Time : Tue May 20 16:28:38 COT 2014\n",
        "Refer.  Time : Fri Jan 02 03:50:54 COT 1970\n",
        "Object  Time : Fri Jan 02 03:51:18 COT 1970\n",
        "Ref.    pos  : 0.16 , 0.03 , -0.17\n",
        "Ref.    orn  : 0.21 , -0.08 , -0.63 , -0.74\n",
        "object  pos  : 0.27 , -0.04 , -0.51\n",
        "object  orn  : 0.40 , 0.49 , -0.01 , 0.77\n",
        "\n",
        "Point with reference:\n",
        "=====================\n",
        "Type: 3\n",
        "Capture Time : Tue May 20 16:28:48 COT 2014\n",
        "Refer.  Time : Fri Jan 02 03:51:23 COT 1970\n",
        "Object  Time : Fri Jan 02 03:51:28 COT 1970\n",
        "Ref.    pos  : 0.18 , -0.04 , -0.55\n",
        "Ref.    orn  : 0.84 , -0.24 , -0.34 , -0.35\n",
        "object  pos  : 0.16 , -0.02 , -0.56\n",
        "object  orn  : 0.28 , 0.92 , 0.12 , 0.26\n",
        "\n",
        "Point with reference:\n",
        "=====================\n",
        "Type: 4\n",
        "Capture Time : Tue May 20 16:28:58 COT 2014\n",
        "Refer.  Time : Fri Jan 02 03:51:29 COT 1970\n",
        "Object  Time : Fri Jan 02 03:51:38 COT 1970\n",
        "Ref.    pos  : 0.29 , 0.07 , -0.45\n",
        "Ref.    orn  : 0.76 , -0.35 , 0.08 , -0.54\n",
        "object  pos  : 0.08 , -0.01 , -0.42\n",
        "object  orn  : -0.06 , -0.72 , -0.32 , 0.61\n",
        "\n"
       ]
      }
     ],
     "prompt_number": 17
    },
    {
     "cell_type": "code",
     "collapsed": false,
     "input": [
      "# 7 looks stuck\n",
      "# 9 first one is stuck\n",
      "pointer_data = orig_point_data[:7]+orig_point_data[8:9]+orig_point_data[10:]"
     ],
     "language": "python",
     "metadata": {},
     "outputs": [],
     "prompt_number": 18
    },
    {
     "cell_type": "markdown",
     "metadata": {},
     "source": [
      "Finally, lets keep only the position and orientation, and transform the orientation to quaternions objects. "
     ]
    },
    {
     "cell_type": "code",
     "collapsed": false,
     "input": [
      "pointer_pairs = [map(transform_sample_no_ref,s) for s in pointer_data]\n",
      "print pointer_pairs[0][0]"
     ],
     "language": "python",
     "metadata": {},
     "outputs": [
      {
       "output_type": "stream",
       "stream": "stdout",
       "text": [
        "PointerSample(pos=array([ 0.08911439, -0.07973718, -0.6272887 ]), orn=Quaternion:\n",
        "array([ 0.08056776, -0.21174215, -0.10195638,  0.96864802]))\n"
       ]
      }
     ],
     "prompt_number": 19
    },
    {
     "cell_type": "markdown",
     "metadata": {},
     "source": [
      "Lets take a look at this data using vtk. Look for the vtk window that will open after excecuting this cell."
     ]
    },
    {
     "cell_type": "code",
     "collapsed": false,
     "input": [
      "# first let't get some colors\n",
      "import colorbrewer\n",
      "colors = colorbrewer.Set3[max(3,len(pointer_pairs))]\n",
      "colors = map(lambda c:map(lambda x:x/255,c),colors)\n",
      "viewer = VtkViewer()\n",
      "for i,si in enumerate(pointer_pairs):\n",
      "    c = colors[i]\n",
      "    for p in si:\n",
      "        ac = get_sphere_actor(*p.pos)\n",
      "        ac.GetProperty().SetColor(c)\n",
      "        viewer.add_actor(ac)\n",
      "viewer.start()\n",
      "del viewer\n",
      "\n"
     ],
     "language": "python",
     "metadata": {},
     "outputs": [],
     "prompt_number": 20
    },
    {
     "cell_type": "markdown",
     "metadata": {},
     "source": [
      "## 1.2 Find pointer parameters"
     ]
    },
    {
     "cell_type": "markdown",
     "metadata": {},
     "source": [
      "Theory: The system deliver the coordinates of a position P and an orientation O. The point of the pointer (X) can be found as\n",
      "\n",
      "$$X = P + O \\times V \\times \\overline{O}$$\n",
      "\n",
      "Where V is an unknown vector. The objective here is to find this vector. \n",
      "\n",
      "The calibration position consisted in moving the pointer around while keeping the tip constant, this means, keeping X constant. We therefore have\n",
      "\n",
      "$$X = P_{j} + O_{j} \\times V \\times \\overline{O_{j}} + e_j $$\n",
      "\n",
      "Where e represents the error in the measurement, the objective is to find the values of V that minimize this error. We should have several sets of 4 samples, each with its own X, but V should be the same for all of them. For each case we have then\n",
      "\n",
      "$$X_i = P_{i,j} + O_{i,j} \\times V \\times \\overline{O_{i,j}} + e_i,j $$\n",
      "\n",
      "Let \n",
      "\n",
      "$${f_v}(p,o) = x = p + o \\times v \\times \\overline{o} $$\n",
      "\n",
      "If we assing the same weight to all the errors, we can define the total error as\n",
      "\n",
      "$$E= \\sum_{i,j} \\left|e_{j,i}\\right| = \\sum_{i,j} \\left|(X_i - f_v(P_{i,j},O_{i,j})\\right| $$\n",
      "\n"
     ]
    },
    {
     "cell_type": "code",
     "collapsed": false,
     "input": [
      "def pointer_error(vx):\n",
      "    #vx = V:x0:1\n",
      "    v = vx[0:3]\n",
      "    f = get_point_function(v)\n",
      "    tot_error = 0\n",
      "    for i in xrange(len(pointer_pairs)):\n",
      "        si = pointer_pairs[i]\n",
      "        mapped_points = np.array([f(pj.pos,pj.orn) for pj in si])\n",
      "        x = np.mean(mapped_points,axis=0)\n",
      "        #L1 norm more robust to outliers than quadratic error\n",
      "        tot_error += sum(abs(np.linalg.norm(p-x)) for p in mapped_points )\n",
      "    return tot_error\n",
      "                            "
     ],
     "language": "python",
     "metadata": {},
     "outputs": [],
     "prompt_number": 35
    },
    {
     "cell_type": "code",
     "collapsed": false,
     "input": [
      "si=pointer_pairs[0]\n",
      "print pointer_error([0]*3)"
     ],
     "language": "python",
     "metadata": {},
     "outputs": [
      {
       "output_type": "stream",
       "stream": "stdout",
       "text": [
        "2.85313945815\n"
       ]
      }
     ],
     "prompt_number": 36
    },
    {
     "cell_type": "code",
     "collapsed": false,
     "input": [
      "vx = np.ones(3)\n",
      "#initialize vx as the meaan of the samples\n",
      "#for i,s in enumerate(pointer_pairs):\n",
      "#    mat = np.array(map(lambda x:x.pos,s))\n",
      "#    vx[(i+1)*3:(i+2)*3] = np.mean(mat,axis=0)\n",
      "print vx\n",
      "#just a little test\n",
      "print pointer_error(vx)"
     ],
     "language": "python",
     "metadata": {},
     "outputs": [
      {
       "output_type": "stream",
       "stream": "stdout",
       "text": [
        "[ 1.  1.  1.]\n",
        "53.9814756015\n"
       ]
      }
     ],
     "prompt_number": 37
    },
    {
     "cell_type": "code",
     "collapsed": false,
     "input": [
      "res = scipy.optimize.minimize(pointer_error,vx)\n",
      "print res\n"
     ],
     "language": "python",
     "metadata": {},
     "outputs": [
      {
       "output_type": "stream",
       "stream": "stdout",
       "text": [
        "   status: 0\n",
        "  success: True\n",
        "     njev: 29\n",
        "     nfev: 145\n",
        " hess_inv: array([[ 0.00067041, -0.00104628, -0.00025185],\n",
        "       [-0.00104628,  0.00283917,  0.00065696],\n",
        "       [-0.00025185,  0.00065696,  0.00044613]])\n",
        "      fun: 0.398133337988624\n",
        "        x: array([-0.0034266 ,  0.14676623, -0.00675302])\n",
        "  message: 'Optimization terminated successfully.'\n",
        "      jac: array([  1.28149986e-06,   2.90572643e-07,   1.49011612e-08])\n"
       ]
      }
     ],
     "prompt_number": 38
    },
    {
     "cell_type": "markdown",
     "metadata": {},
     "source": [
      "Now lets see the results the v vector, and the final value of the error. Check that the final status is 0, and success is True... otherwise adjustments should be made to the initial values or model (maybe change the norm)."
     ]
    },
    {
     "cell_type": "code",
     "collapsed": false,
     "input": [
      "print \"Success: \", res.success\n",
      "print res.fun\n",
      "v=res.x[0:3]\n",
      "print v"
     ],
     "language": "python",
     "metadata": {},
     "outputs": [
      {
       "output_type": "stream",
       "stream": "stdout",
       "text": [
        "Success:  True\n",
        "0.398133337989\n",
        "[-0.0034266   0.14676623 -0.00675302]\n"
       ]
      }
     ],
     "prompt_number": 39
    },
    {
     "cell_type": "markdown",
     "metadata": {},
     "source": [
      "## 1.3 Verifying results\n",
      "\n"
     ]
    },
    {
     "cell_type": "markdown",
     "metadata": {},
     "source": [
      "Lets calculate the mappings to the tip, given the vector v"
     ]
    },
    {
     "cell_type": "code",
     "collapsed": false,
     "input": [
      "point = get_point_function(v)\n",
      "mapped_points = [map(lambda p:point(p.pos,p.orn),s) for s in pointer_pairs]\n",
      "print mapped_points"
     ],
     "language": "python",
     "metadata": {},
     "outputs": [
      {
       "output_type": "stream",
       "stream": "stdout",
       "text": [
        "[[array([ 0.07849944, -0.22112608, -0.66594323]), array([ 0.06746385, -0.22243224, -0.66350535]), array([ 0.08823289, -0.2141518 , -0.66493464]), array([ 0.09308785, -0.21767003, -0.6707929 ])], [array([-0.1475551 , -0.23941134, -0.21443791]), array([-0.14586109, -0.23150582, -0.21344954]), array([-0.14404746, -0.23751188, -0.22623321]), array([-0.14519683, -0.23741398, -0.21737897])], [array([ 0.31687255, -0.25611474, -0.46448925]), array([ 0.31982583, -0.2606991 , -0.46541958]), array([ 0.31955649, -0.25432089, -0.46743683]), array([ 0.31563296, -0.26088439, -0.46326248])], [array([ 0.49112715, -0.20210287, -0.29663046]), array([ 0.47907559, -0.19265221, -0.29431946]), array([ 0.49001107, -0.20246206, -0.30616325]), array([ 0.48916583, -0.19089564, -0.29768078])], [array([-0.0954465 , -0.19644121, -0.62560055]), array([-0.09618926, -0.19307833, -0.6321871 ]), array([-0.0965708 , -0.18807363, -0.6231052 ]), array([-0.1077698 , -0.19415885, -0.63237692])], [array([-0.00070455, -0.16361309, -0.21835815]), array([-0.00037007, -0.16468169, -0.22217232]), array([-0.00789876, -0.16250901, -0.22311238]), array([-0.01089696, -0.16447292, -0.2151831 ])], [array([ 0.3502705 , -0.16786358, -0.37859299]), array([ 0.36083443, -0.16222944, -0.37599464]), array([ 0.3526024 , -0.16994465, -0.38042618]), array([ 0.36186867, -0.17258089, -0.37542785])], [array([ 0.17226272, -0.1653476 , -0.3007357 ]), array([ 0.09907909, -0.25962406, -0.29739745]), array([ 0.09347574, -0.25053999, -0.29623429]), array([ 0.09481782, -0.24708625, -0.29964536])], [array([ 0.16527348, -0.13741895, -0.45307653]), array([ 0.17051945, -0.13566965, -0.46083226]), array([ 0.16290272, -0.13430768, -0.47626228]), array([ 0.16395523, -0.12651475, -0.45576163])]]\n"
       ]
      }
     ],
     "prompt_number": 40
    },
    {
     "cell_type": "markdown",
     "metadata": {},
     "source": [
      "Now lets use vtk to verify the calibration results"
     ]
    },
    {
     "cell_type": "code",
     "collapsed": false,
     "input": [
      "viewer = VtkViewer()\n",
      "#The x_i\n",
      "for i,xi in enumerate(mapped_points):\n",
      "    \n",
      "    x = np.mean(np.array(xi),axis=0)\n",
      "    ac = get_sphere_actor(*x)\n",
      "    c = colors[i]\n",
      "    ac.GetProperty().SetColor(c)\n",
      "    ac.GetProperty().SetRepresentationToWireframe()\n",
      "    viewer.add_actor(ac)\n",
      "    \n",
      "\n",
      "#viewer.start()"
     ],
     "language": "python",
     "metadata": {},
     "outputs": [],
     "prompt_number": 41
    },
    {
     "cell_type": "markdown",
     "metadata": {},
     "source": [
      "Let's add the mapped points in the same colors"
     ]
    },
    {
     "cell_type": "code",
     "collapsed": false,
     "input": [
      "for i,s in enumerate(mapped_points):\n",
      "    for p in s:\n",
      "        ac = get_sphere_actor(*p)\n",
      "        ac.GetProperty().SetColor(colors[i])\n",
      "        ac.GetProperty().SetRepresentationToWireframe()\n",
      "        viewer.add_actor(ac)\n",
      "\n",
      "#viewer.start()"
     ],
     "language": "python",
     "metadata": {},
     "outputs": [],
     "prompt_number": 42
    },
    {
     "cell_type": "markdown",
     "metadata": {},
     "source": [
      "And Let's add the original data"
     ]
    },
    {
     "cell_type": "code",
     "collapsed": false,
     "input": [
      " for i,si in enumerate(pointer_pairs):\n",
      "    c = colors[i]\n",
      "    for p in si:\n",
      "        ac = get_sphere_actor(*p.pos)\n",
      "        ac.GetProperty().SetColor(c)\n",
      "        viewer.add_actor(ac)\n",
      "#viewer.start()"
     ],
     "language": "python",
     "metadata": {},
     "outputs": [],
     "prompt_number": 43
    },
    {
     "cell_type": "markdown",
     "metadata": {},
     "source": [
      "Let's connect them with lines"
     ]
    },
    {
     "cell_type": "code",
     "collapsed": false,
     "input": [
      "for i,(ops,mps) in enumerate(izip(pointer_pairs,mapped_points)):\n",
      "    c = colors[i]\n",
      "    for p1,p2 in izip(ops,mps):\n",
      "        ac = get_line_actor(p1.pos,p2)\n",
      "        ac.GetProperty().SetColor(c)\n",
      "        viewer.add_actor(ac)\n",
      "viewer.start()\n",
      "del viewer"
     ],
     "language": "python",
     "metadata": {},
     "outputs": [],
     "prompt_number": 44
    },
    {
     "cell_type": "markdown",
     "metadata": {},
     "source": [
      "<img src=\"files/Captura.PNG\">"
     ]
    },
    {
     "cell_type": "markdown",
     "metadata": {},
     "source": [
      "## 1.4 Save Results\n",
      "\n",
      "If everything looks ok, let's copy the results to the file calibration_data.py\n"
     ]
    },
    {
     "cell_type": "code",
     "collapsed": false,
     "input": [
      "#Final V\n",
      "v=res.x[0:3]\n",
      "print tuple(v), \",\"\n",
      "#Final error\n",
      "print res.fun, \",\"\n"
     ],
     "language": "python",
     "metadata": {},
     "outputs": [
      {
       "output_type": "stream",
       "stream": "stdout",
       "text": [
        "(-0.0034266019861622773, 0.14676623217464224, -0.0067530244406257345) ,\n",
        "0.398133337989 ,\n"
       ]
      }
     ],
     "prompt_number": 45
    },
    {
     "cell_type": "markdown",
     "metadata": {},
     "source": [
      "## 1.5 Test Saved Results\n"
     ]
    },
    {
     "cell_type": "code",
     "collapsed": false,
     "input": [
      "from read_and_transform import *\n",
      "import colorbrewer\n",
      "date = pointer_data[0][0].date\n",
      "p_f = get_pointer_transform_function(date)\n",
      "colors = colorbrewer.Set3[max(3,len(pointer_data))]\n",
      "colors = map(lambda c:map(lambda x:x/255,c),colors)\n",
      "\n",
      "centers = [ [p_f(p) for p in trial] for trial in pointer_data]\n",
      "\n",
      "\n",
      "viewer = VtkViewer()\n",
      "for i,pcs in enumerate(izip(pointer_data,centers)):\n",
      "    \n",
      "    c = colors[i]\n",
      "    for pp,ct in izip(*pcs):\n",
      "        p=pp.point_pos\n",
      "        ac = get_sphere_actor(*ct)\n",
      "        ac.GetProperty().SetColor(c)\n",
      "        ac.GetProperty().SetRepresentationToWireframe()\n",
      "        viewer.add_actor(ac)\n",
      "        \n",
      "        ac = get_sphere_actor(*p)\n",
      "        ac.GetProperty().SetColor(c)\n",
      "        viewer.add_actor(ac)\n",
      "        \n",
      "        ac = get_line_actor(p,ct)\n",
      "        ac.GetProperty().SetColor(c)\n",
      "        viewer.add_actor(ac)\n",
      "\n",
      "\n",
      "        \n",
      "viewer.start()\n",
      "del viewer"
     ],
     "language": "python",
     "metadata": {},
     "outputs": []
    }
   ],
   "metadata": {}
  }
 ]
}