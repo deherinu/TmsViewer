{
 "metadata": {
  "name": "",
  "signature": "sha256:6eeaa1d93a5fbfd90c1055f11e5290ab444479633b0e7ad4d5dc842357433d6c"
 },
 "nbformat": 3,
 "nbformat_minor": 0,
 "worksheets": [
  {
   "cells": [
    {
     "cell_type": "heading",
     "level": 1,
     "metadata": {},
     "source": [
      "TMS - optitracking calibration"
     ]
    },
    {
     "cell_type": "markdown",
     "metadata": {},
     "source": [
      "This file demonstrates how to convert the data taken during the calibration procedure into useful values that can be used for visualizing and analysing the data. This process should be carried out interactively in a python console or notebook, as in this example. We will start by loading some modules we will use throughout the process"
     ]
    },
    {
     "cell_type": "code",
     "collapsed": false,
     "input": [
      "from __future__ import division\n",
      "import numpy as np\n",
      "import scipy.optimize\n",
      "import sys\n",
      "import os\n",
      "import datetime\n",
      "from itertools import izip\n",
      "#change this to the directory containing your tms-data\n",
      "os.chdir(r\"C:\\Users\\da.angulo39\\Dropbox\\VaBD\\ProyectoSavingBrains\\TMS-Optitracking\\TMS_Data Agosto 2014\")\n",
      "#directory containing the tms view 2 project\n",
      "sys.path.append(r\"C:\\Users\\da.angulo39\\Dropbox\\VaBD\\ProyectoSavingBrains\\TMS-Optitracking\\tms_view2\")\n",
      "from tms import  quat\n",
      "\n",
      "#utility functions used during the calibration\n",
      "from tms.calibration_commands import *\n",
      "\n",
      "from tms import  tms_utils as tms"
     ],
     "language": "python",
     "metadata": {},
     "outputs": [],
     "prompt_number": 1
    },
    {
     "cell_type": "markdown",
     "metadata": {},
     "source": [
      "## 1 Pointer Calibration\n",
      "\n",
      "Here the objective is to obtain a function that will transform the vrpn values into coordinates corresponding to tip of the pointer\n",
      "\n",
      "### 1.1 Loading the data\n",
      "\n",
      "The first step is loading the samples for this calibration. This should be loaded into a list. In order to keep data organized, this information should be saved in the calibration_data.py file. We will use a function from calibration commands"
     ]
    },
    {
     "cell_type": "code",
     "collapsed": false,
     "input": [
      "calib_date = datetime.date(2014, 7, 31)\n",
      "pointer_samples = load_pointer_samples(calib_date)\n",
      "print pointer_samples"
     ],
     "language": "python",
     "metadata": {},
     "outputs": [
      {
       "output_type": "stream",
       "stream": "stdout",
       "text": [
        "['60000', '61000', '62000', '65000', '66000']\n"
       ]
      }
     ],
     "prompt_number": 2
    },
    {
     "cell_type": "markdown",
     "metadata": {},
     "source": [
      "Now we are going to load the data inside this files, "
     ]
    },
    {
     "cell_type": "code",
     "collapsed": false,
     "input": [
      "pointer_data = map(load_data,pointer_samples)\n",
      "print pointer_data[4]"
     ],
     "language": "python",
     "metadata": {},
     "outputs": [
      {
       "output_type": "stream",
       "stream": "stdout",
       "text": [
        "[(1,2014-07-31 17:32:32,1969-12-31 19:14:32,(0.3155171573162079, -0.12932108342647552, -0.159856915473938),(-0.2534945607185364, -0.24090971052646637, 0.1474856436252594, -0.9251761436462402),1969-12-31 19:14:13,(0.3134194612503052, -0.12364320456981659, -0.2075277417898178),(0.5344873070716858, -0.6441077589988708, -0.29876455664634705, -0.4584628939628601)), (2,2014-07-31 17:32:42,1969-12-31 19:14:42,(0.26945760846138, -0.12077434360980988, -0.1255149245262146),(0.15625235438346863, -0.15076038241386414, -0.1673784852027893, 0.9616864919662476),1969-12-31 19:14:13,(0.3134194612503052, -0.12364320456981659, -0.2075277417898178),(0.5344873070716858, -0.6441077589988708, -0.29876455664634705, -0.4584628939628601)), (3,2014-07-31 17:32:52,1969-12-31 19:14:50,(0.3149607479572296, -0.15431593358516693, -0.2828032970428467),(0.4077567458152771, 0.7332987785339355, -0.017164040356874466, 0.5437947511672974),1969-12-31 19:14:13,(0.3134194612503052, -0.12364320456981659, -0.2075277417898178),(0.5344873070716858, -0.6441077589988708, -0.29876455664634705, -0.4584628939628601)), (4,2014-07-31 17:33:02,1969-12-31 19:14:53,(0.2504698932170868, -0.0768393725156784, -0.29443663358688354),(0.2869575023651123, 0.9507349729537964, 0.005623433273285627, 0.11716138571500778),1969-12-31 19:15:02,(0.2027563750743866, -0.08593177050352097, -0.2771848440170288),(7.069270213833079e-05, 0.7670385241508484, -0.045057717710733414, -0.6400168538093567)), (0,2014-07-31 17:33:28,1969-12-31 19:12:01,(0.7055644989013672, 0.3260641396045685, -0.6971297860145569),(0.15077461302280426, 0.33727186918258667, -0.510420024394989, -0.7765218019485474),1969-12-31 19:15:04,(0.29968079924583435, -0.07361343502998352, -0.3325677514076233),(0.6477032899856567, -0.32657715678215027, -0.6854483485221863, -0.06315238773822784))]\n"
       ]
      }
     ],
     "prompt_number": 3
    },
    {
     "cell_type": "markdown",
     "metadata": {},
     "source": [
      "There is lots of information in these files, because we are only calibrating the sample we don't care about the reference, we also don't care about the samples with type 0 (the coil samples), so lets filter this out"
     ]
    },
    {
     "cell_type": "code",
     "collapsed": false,
     "input": [
      "pointer_data = [filter(lambda p:p.type!=0,s) for s in pointer_data]\n",
      "print pointer_data[0:1]"
     ],
     "language": "python",
     "metadata": {},
     "outputs": [
      {
       "output_type": "stream",
       "stream": "stdout",
       "text": [
        "[[(1,2014-07-31 17:19:50,1969-12-31 19:01:51,(0.1749342530965805, -0.1082158237695694, -0.5919249057769775),(0.2145870327949524, 0.41391465067863464, -0.030000774189829826, 0.8841533064842224),1969-12-31 19:01:51,(0.14591661095619202, -0.11440184712409973, -0.6149985790252686),(0.36306267976760864, -0.20035526156425476, 0.7313416600227356, -0.5414634346961975)), (2,2014-07-31 17:20:00,1969-12-31 19:02:01,(0.1433965414762497, -0.10584503412246704, -0.5112988352775574),(0.14301106333732605, -0.2769159972667694, -0.10972583293914795, 0.9438356161117554),1969-12-31 19:01:53,(0.10156843811273575, -0.11754663288593292, -0.5309996008872986),(0.16633912920951843, -0.39708319306373596, 0.8925727009773254, 0.13405275344848633)), (3,2014-07-31 17:20:11,1969-12-31 19:02:11,(0.06253816187381744, -0.1071261540055275, -0.533972978591919),(0.33459579944610596, -0.7405564785003662, -0.4796762764453888, -0.3309567868709564),1969-12-31 19:02:02,(0.05951661616563797, -0.12528076767921448, -0.5601603984832764),(0.7064363360404968, -0.42085325717926025, 0.5561580657958984, -0.1204923540353775)), (4,2014-07-31 17:20:21,1969-12-31 19:02:13,(0.08524467796087265, -0.10804188251495361, -0.6137688159942627),(0.1574854999780655, 0.9657810926437378, 0.14369165897369385, 0.14770908653736115),1969-12-31 19:02:12,(0.08597559481859207, -0.1222492903470993, -0.6072157621383667),(0.9053375124931335, -0.2753206789493561, 0.08361195772886276, -0.3123644292354584))]]\n"
       ]
      }
     ],
     "prompt_number": 4
    },
    {
     "cell_type": "markdown",
     "metadata": {},
     "source": [
      "Now we should look at each of the samples separately in order to find obvious problems. If any of them looks problematic (for example, contains missing values) we should remove it"
     ]
    },
    {
     "cell_type": "code",
     "collapsed": false,
     "input": [
      "print len(pointer_data)\n",
      "orig_point_data = pointer_data[:]"
     ],
     "language": "python",
     "metadata": {},
     "outputs": [
      {
       "output_type": "stream",
       "stream": "stdout",
       "text": [
        "5\n"
       ]
      }
     ],
     "prompt_number": 5
    },
    {
     "cell_type": "markdown",
     "metadata": {},
     "source": [
      "Be sure to look at all the samples by changing the index in the next command... Afterwards do any cleanup necessary in the next cell."
     ]
    },
    {
     "cell_type": "code",
     "collapsed": false,
     "input": [
      "for p in pointer_data[4]: print p"
     ],
     "language": "python",
     "metadata": {},
     "outputs": [
      {
       "output_type": "stream",
       "stream": "stdout",
       "text": [
        "Point with reference:\n",
        "=====================\n",
        "Type: 1\n",
        "Capture Time : Thu Jul 31 17:32:32 COT 2014\n",
        "Refer.  Time : Wed Dec 31 19:14:13 COT 1969\n",
        "Object  Time : Wed Dec 31 19:14:32 COT 1969\n",
        "Ref.    pos  : 0.31 , -0.12 , -0.21\n",
        "Ref.    orn  : 0.53 , -0.64 , -0.30 , -0.46\n",
        "object  pos  : 0.32 , -0.13 , -0.16\n",
        "object  orn  : -0.25 , -0.24 , 0.15 , -0.93\n",
        "\n",
        "Point with reference:\n",
        "=====================\n",
        "Type: 2\n",
        "Capture Time : Thu Jul 31 17:32:42 COT 2014\n",
        "Refer.  Time : Wed Dec 31 19:14:13 COT 1969\n",
        "Object  Time : Wed Dec 31 19:14:42 COT 1969\n",
        "Ref.    pos  : 0.31 , -0.12 , -0.21\n",
        "Ref.    orn  : 0.53 , -0.64 , -0.30 , -0.46\n",
        "object  pos  : 0.27 , -0.12 , -0.13\n",
        "object  orn  : 0.16 , -0.15 , -0.17 , 0.96\n",
        "\n",
        "Point with reference:\n",
        "=====================\n",
        "Type: 3\n",
        "Capture Time : Thu Jul 31 17:32:52 COT 2014\n",
        "Refer.  Time : Wed Dec 31 19:14:13 COT 1969\n",
        "Object  Time : Wed Dec 31 19:14:50 COT 1969\n",
        "Ref.    pos  : 0.31 , -0.12 , -0.21\n",
        "Ref.    orn  : 0.53 , -0.64 , -0.30 , -0.46\n",
        "object  pos  : 0.31 , -0.15 , -0.28\n",
        "object  orn  : 0.41 , 0.73 , -0.02 , 0.54\n",
        "\n",
        "Point with reference:\n",
        "=====================\n",
        "Type: 4\n",
        "Capture Time : Thu Jul 31 17:33:02 COT 2014\n",
        "Refer.  Time : Wed Dec 31 19:15:02 COT 1969\n",
        "Object  Time : Wed Dec 31 19:14:53 COT 1969\n",
        "Ref.    pos  : 0.20 , -0.09 , -0.28\n",
        "Ref.    orn  : 0.00 , 0.77 , -0.05 , -0.64\n",
        "object  pos  : 0.25 , -0.08 , -0.29\n",
        "object  orn  : 0.29 , 0.95 , 0.01 , 0.12\n",
        "\n"
       ]
      }
     ],
     "prompt_number": 6
    },
    {
     "cell_type": "code",
     "collapsed": false,
     "input": [
      "#0,1 last point stuck\n",
      "pointer_data = [orig_point_data[0][:3],orig_point_data[1][:3],orig_point_data[3][:3],orig_point_data[4][:2],orig_point_data[2]]"
     ],
     "language": "python",
     "metadata": {},
     "outputs": [],
     "prompt_number": 7
    },
    {
     "cell_type": "markdown",
     "metadata": {},
     "source": [
      "Finally, lets keep only the position and orientation, and transform the orientation to quaternions objects. "
     ]
    },
    {
     "cell_type": "code",
     "collapsed": false,
     "input": [
      "pointer_pairs = [map(transform_sample_no_ref,s) for s in pointer_data]\n",
      "print pointer_pairs[0][0]"
     ],
     "language": "python",
     "metadata": {},
     "outputs": [
      {
       "output_type": "stream",
       "stream": "stdout",
       "text": [
        "PointerSample(pos=array([ 0.17493425, -0.10821582, -0.59192491]), orn=Quaternion:\n",
        "array([ 0.21458703,  0.41391465, -0.03000077,  0.88415331]))\n"
       ]
      }
     ],
     "prompt_number": 8
    },
    {
     "cell_type": "markdown",
     "metadata": {},
     "source": [
      "Lets take a look at this data using vtk. Look for the vtk window that will open after excecuting this cell."
     ]
    },
    {
     "cell_type": "code",
     "collapsed": false,
     "input": [
      "# first let't get some colors\n",
      "import colorbrewer\n",
      "colors = colorbrewer.Set3[max(3,len(pointer_pairs))]\n",
      "colors = map(lambda c:map(lambda x:x/255,c),colors)\n",
      "viewer = VtkViewer()\n",
      "for i,si in enumerate(pointer_pairs):\n",
      "    c = colors[i]\n",
      "    for p in si:\n",
      "        ac = get_sphere_actor(*p.pos)\n",
      "        ac.GetProperty().SetColor(c)\n",
      "        viewer.add_actor(ac)\n",
      "viewer.start()\n",
      "del viewer\n",
      "\n"
     ],
     "language": "python",
     "metadata": {},
     "outputs": [],
     "prompt_number": 39
    },
    {
     "cell_type": "markdown",
     "metadata": {},
     "source": [
      "## 1.2 Find pointer parameters"
     ]
    },
    {
     "cell_type": "markdown",
     "metadata": {},
     "source": [
      "Theory: The system deliver the coordinates of a position P and an orientation O. The point of the pointer (X) can be found as\n",
      "\n",
      "$$X = P + O \\times V \\times \\overline{O}$$\n",
      "\n",
      "Where V is an unknown vector. The objective here is to find this vector. \n",
      "\n",
      "The calibration position consisted in moving the pointer around while keeping the tip constant, this means, keeping X constant. We therefore have\n",
      "\n",
      "$$X = P_{j} + O_{j} \\times V \\times \\overline{O_{j}} + e_j $$\n",
      "\n",
      "Where e represents the error in the measurement, the objective is to find the values of V that minimize this error. We should have several sets of 4 samples, each with its own X, but V should be the same for all of them. For each case we have then\n",
      "\n",
      "$$X_i = P_{i,j} + O_{i,j} \\times V \\times \\overline{O_{i,j}} + e_i,j $$\n",
      "\n",
      "Let \n",
      "\n",
      "$${f_v}(p,o) = x = p + o \\times v \\times \\overline{o} $$\n",
      "\n",
      "If we assing the same weight to all the errors, we can define the total error as\n",
      "\n",
      "$$E= \\sum_{i,j} \\left|e_{j,i}\\right| = \\sum_{i,j} \\left|(X_i - f_v(P_{i,j},O_{i,j})\\right| $$\n",
      "\n"
     ]
    },
    {
     "cell_type": "code",
     "collapsed": false,
     "input": [
      "def pointer_error(vx):\n",
      "    #vx = V:x0:1\n",
      "    v = vx[0:3]\n",
      "    f = get_point_function(v)\n",
      "    tot_error = 0\n",
      "    for i in xrange(len(pointer_pairs)):\n",
      "        si = pointer_pairs[i]\n",
      "        mapped_points = np.array([f(pj.pos,pj.orn) for pj in si])\n",
      "        x = np.mean(mapped_points,axis=0)\n",
      "        #L1 norm more robust to outliers than quadratic error\n",
      "        tot_error += sum(abs(np.linalg.norm(p-x)) for p in mapped_points )\n",
      "    return tot_error\n",
      "                            "
     ],
     "language": "python",
     "metadata": {},
     "outputs": [],
     "prompt_number": 40
    },
    {
     "cell_type": "code",
     "collapsed": false,
     "input": [
      "si=pointer_pairs[0]\n",
      "print pointer_error([0]*3)"
     ],
     "language": "python",
     "metadata": {},
     "outputs": [
      {
       "output_type": "stream",
       "stream": "stdout",
       "text": [
        "0.993763122001\n"
       ]
      }
     ],
     "prompt_number": 41
    },
    {
     "cell_type": "code",
     "collapsed": false,
     "input": [
      "vx = np.ones(3)\n",
      "#initialize vx as the meaan of the samples\n",
      "#for i,s in enumerate(pointer_pairs):\n",
      "#    mat = np.array(map(lambda x:x.pos,s))\n",
      "#    vx[(i+1)*3:(i+2)*3] = np.mean(mat,axis=0)\n",
      "print vx\n",
      "#just a little test\n",
      "print pointer_error(vx)"
     ],
     "language": "python",
     "metadata": {},
     "outputs": [
      {
       "output_type": "stream",
       "stream": "stdout",
       "text": [
        "[ 1.  1.  1.]\n",
        "19.049816388\n"
       ]
      }
     ],
     "prompt_number": 42
    },
    {
     "cell_type": "code",
     "collapsed": false,
     "input": [
      "res = scipy.optimize.minimize(pointer_error,vx)\n",
      "print res\n"
     ],
     "language": "python",
     "metadata": {},
     "outputs": [
      {
       "output_type": "stream",
       "stream": "stdout",
       "text": [
        "   status: 0\n",
        "  success: True\n",
        "     njev: 23\n",
        "     nfev: 115\n",
        " hess_inv: array([[ 0.00561818, -0.00895053, -0.00380311],\n",
        "       [-0.00895053,  0.01766521,  0.00686375],\n",
        "       [-0.00380311,  0.00686375,  0.00386879]])\n",
        "      fun: 0.33028365009251637\n",
        "        x: array([ 0.01561257,  0.10491035, -0.0188358 ])\n",
        "  message: 'Optimization terminated successfully.'\n",
        "      jac: array([ -8.00192356e-06,  -4.44427133e-06,   2.92807817e-06])\n"
       ]
      }
     ],
     "prompt_number": 43
    },
    {
     "cell_type": "markdown",
     "metadata": {},
     "source": [
      "Now lets see the results the v vector, and the final value of the error. Check that the final status is 0, and success is True... otherwise adjustments should be made to the initial values or model (maybe change the norm)."
     ]
    },
    {
     "cell_type": "code",
     "collapsed": false,
     "input": [
      "print \"Success: \", res.success\n",
      "print res.fun\n",
      "v=res.x[0:3]\n",
      "print v"
     ],
     "language": "python",
     "metadata": {},
     "outputs": [
      {
       "output_type": "stream",
       "stream": "stdout",
       "text": [
        "Success:  True\n",
        "0.330283650093\n",
        "[ 0.01561257  0.10491035 -0.0188358 ]\n"
       ]
      }
     ],
     "prompt_number": 44
    },
    {
     "cell_type": "markdown",
     "metadata": {},
     "source": [
      "## 1.3 Verifying results\n",
      "\n"
     ]
    },
    {
     "cell_type": "markdown",
     "metadata": {},
     "source": [
      "Lets calculate the mappings to the tip, given the vector v"
     ]
    },
    {
     "cell_type": "code",
     "collapsed": false,
     "input": [
      "point = get_point_function(v)\n",
      "mapped_points = [map(lambda p:point(p.pos,p.orn),s) for s in pointer_pairs]\n",
      "print mapped_points"
     ],
     "language": "python",
     "metadata": {},
     "outputs": [
      {
       "output_type": "stream",
       "stream": "stdout",
       "text": [
        "[[array([ 0.11015092, -0.19339379, -0.57957353]), array([ 0.11930812, -0.19636489, -0.56450247]), array([ 0.16212811, -0.14794939, -0.52949772])], [array([-0.10919018, -0.19951784, -0.88979271]), array([-0.10271683, -0.20084255, -0.89598801]), array([-0.09520532, -0.19809413, -0.894141  ])], [array([ 0.18631211, -0.20101631, -0.08271059]), array([ 0.18840563, -0.19169876, -0.08692263]), array([ 0.19055365, -0.09691802, -0.0887478 ])], [array([ 0.24007163, -0.20252986, -0.1833764 ]), array([ 0.23552988, -0.2040273 , -0.18486622])], [array([-0.01677944, -0.19708383, -0.60630076]), array([-0.00970576, -0.19562265, -0.59516904]), array([ 0.00473487, -0.19972771, -0.59918633]), array([-0.04198523, -0.20311235, -0.62141136])]]\n"
       ]
      }
     ],
     "prompt_number": 45
    },
    {
     "cell_type": "markdown",
     "metadata": {},
     "source": [
      "Now lets use vtk to verify the calibration results"
     ]
    },
    {
     "cell_type": "code",
     "collapsed": false,
     "input": [
      "viewer = VtkViewer()\n",
      "#The x_i\n",
      "for i,xi in enumerate(mapped_points):\n",
      "    \n",
      "    x = np.mean(np.array(xi),axis=0)\n",
      "    ac = get_sphere_actor(*x)\n",
      "    c = colors[i]\n",
      "    ac.GetProperty().SetColor(c)\n",
      "    ac.GetProperty().SetRepresentationToWireframe()\n",
      "    viewer.add_actor(ac)\n",
      "    \n",
      "\n",
      "#viewer.start()"
     ],
     "language": "python",
     "metadata": {},
     "outputs": [],
     "prompt_number": 46
    },
    {
     "cell_type": "markdown",
     "metadata": {},
     "source": [
      "Let's add the mapped points in the same colors"
     ]
    },
    {
     "cell_type": "code",
     "collapsed": false,
     "input": [
      "for i,s in enumerate(mapped_points):\n",
      "    for p in s:\n",
      "        ac = get_sphere_actor(*p)\n",
      "        ac.GetProperty().SetColor(colors[i])\n",
      "        ac.GetProperty().SetRepresentationToWireframe()\n",
      "        viewer.add_actor(ac)\n",
      "\n",
      "#viewer.start()"
     ],
     "language": "python",
     "metadata": {},
     "outputs": [],
     "prompt_number": 47
    },
    {
     "cell_type": "markdown",
     "metadata": {},
     "source": [
      "And Let's add the original data"
     ]
    },
    {
     "cell_type": "code",
     "collapsed": false,
     "input": [
      " for i,si in enumerate(pointer_pairs):\n",
      "    c = colors[i]\n",
      "    for p in si:\n",
      "        ac = get_sphere_actor(*p.pos)\n",
      "        ac.GetProperty().SetColor(c)\n",
      "        viewer.add_actor(ac)\n",
      "#viewer.start()"
     ],
     "language": "python",
     "metadata": {},
     "outputs": [],
     "prompt_number": 48
    },
    {
     "cell_type": "markdown",
     "metadata": {},
     "source": [
      "Let's connect them with lines"
     ]
    },
    {
     "cell_type": "code",
     "collapsed": false,
     "input": [
      "for i,(ops,mps) in enumerate(izip(pointer_pairs,mapped_points)):\n",
      "    c = colors[i]\n",
      "    for p1,p2 in izip(ops,mps):\n",
      "        ac = get_line_actor(p1.pos,p2)\n",
      "        ac.GetProperty().SetColor(c)\n",
      "        viewer.add_actor(ac)\n",
      "viewer.start()\n",
      "del viewer"
     ],
     "language": "python",
     "metadata": {},
     "outputs": [],
     "prompt_number": 49
    },
    {
     "cell_type": "markdown",
     "metadata": {},
     "source": [
      "<img src=\"files/Captura.PNG\">"
     ]
    },
    {
     "cell_type": "markdown",
     "metadata": {},
     "source": [
      "## 1.4 Save Results\n",
      "\n",
      "If everything looks ok, let's copy the results to the file calibration_data.py\n"
     ]
    },
    {
     "cell_type": "code",
     "collapsed": false,
     "input": [
      "#Final V\n",
      "v=res.x[0:3]\n",
      "print tuple(v), \",\"\n",
      "#Final error\n",
      "print res.fun, \",\"\n"
     ],
     "language": "python",
     "metadata": {},
     "outputs": [
      {
       "output_type": "stream",
       "stream": "stdout",
       "text": [
        "(0.015612569292322808, 0.10491035286175734, -0.018835798313621827) ,\n",
        "0.330283650093 ,\n"
       ]
      }
     ],
     "prompt_number": 50
    },
    {
     "cell_type": "markdown",
     "metadata": {},
     "source": [
      "## 1.5 Test Saved Results\n"
     ]
    },
    {
     "cell_type": "code",
     "collapsed": false,
     "input": [
      "from tms.read_and_transform import *\n",
      "import colorbrewer\n",
      "date = pointer_data[0][0].date\n",
      "p_f = get_pointer_transform_function(date)\n",
      "colors = colorbrewer.Set3[max(3,len(pointer_data))]\n",
      "colors = map(lambda c:map(lambda x:x/255,c),colors)\n",
      "\n",
      "centers = [ [p_f(p) for p in trial] for trial in pointer_data]\n",
      "\n",
      "\n",
      "viewer = VtkViewer()\n",
      "for i,pcs in enumerate(izip(pointer_data,centers)):\n",
      "    \n",
      "    c = colors[i]\n",
      "    for pp,ct in izip(*pcs):\n",
      "        p=pp.point_pos\n",
      "        ac = get_sphere_actor(*ct)\n",
      "        ac.GetProperty().SetColor(c)\n",
      "        ac.GetProperty().SetRepresentationToWireframe()\n",
      "        viewer.add_actor(ac)\n",
      "        \n",
      "        ac = get_sphere_actor(*p)\n",
      "        ac.GetProperty().SetColor(c)\n",
      "        viewer.add_actor(ac)\n",
      "        \n",
      "        ac = get_line_actor(p,ct)\n",
      "        ac.GetProperty().SetColor(c)\n",
      "        viewer.add_actor(ac)\n",
      "\n",
      "\n",
      "        \n",
      "viewer.start()\n",
      "del viewer"
     ],
     "language": "python",
     "metadata": {},
     "outputs": [],
     "prompt_number": 9
    },
    {
     "cell_type": "code",
     "collapsed": false,
     "input": [],
     "language": "python",
     "metadata": {},
     "outputs": []
    }
   ],
   "metadata": {}
  }
 ]
}