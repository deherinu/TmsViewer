{
 "metadata": {
  "name": "",
  "signature": "sha256:ff5a843ab7a4f139b768d08f1a7c85d87ad605c173fb52303e5889cb8e805046"
 },
 "nbformat": 3,
 "nbformat_minor": 0,
 "worksheets": [
  {
   "cells": [
    {
     "cell_type": "heading",
     "level": 1,
     "metadata": {},
     "source": [
      "TMS - optitracking calibration"
     ]
    },
    {
     "cell_type": "markdown",
     "metadata": {},
     "source": [
      "This file demonstrates how to convert the data taken during the calibration procedure into useful values that can be used for visualizing and analysing the data. This process should be carried out interactively in a python console or notebook, as in this example. We will start by loading some modules we will use throughout the process"
     ]
    },
    {
     "cell_type": "code",
     "collapsed": false,
     "input": [
      "from __future__ import division\n",
      "import numpy as np\n",
      "import scipy.optimize\n",
      "import sys\n",
      "import os\n",
      "from itertools import izip\n",
      "#change this to the directory containing your tms-data\n",
      "os.chdir(r\"C:\\Users\\Diego\\Dropbox\\VaBD\\ProyectoSavingBrains\\TMS-Optitracking\\TMS Data Mayo 2014\\TMS_Data\")\n",
      "#directory containing the tms view 2 project\n",
      "sys.path.append(r\"C:\\Users\\Diego\\Dropbox\\VaBD\\ProyectoSavingBrains\\TMS-Optitracking\\tms_view2\")\n",
      "import quat\n",
      "import tms_utils as tms\n",
      "import datetime\n",
      "\n",
      "#utility functions used during the calibration\n",
      "from calibration_commands import *"
     ],
     "language": "python",
     "metadata": {},
     "outputs": [],
     "prompt_number": 232
    },
    {
     "cell_type": "markdown",
     "metadata": {},
     "source": [
      "## 2 Coil Calibration\n",
      "\n",
      "Here the objective is to obtain a function that will transform the vrpn values into coordinates corresponding to the center of the coil, and to an hypotethical point located 10 units over the center. This will be useful for drawing the cones that indicate the direction of the stimulation.\n",
      "\n",
      "### 2.0 Prerequisites\n",
      "\n",
      "The pointer calibration should have been completed, and the $v$ values saved into the calibration_data.py file"
     ]
    },
    {
     "cell_type": "code",
     "collapsed": false,
     "input": [
      "calib_date = datetime.date(2013, 9, 18)\n",
      "point_f = get_pointer_point_function(calib_date)"
     ],
     "language": "python",
     "metadata": {},
     "outputs": [],
     "prompt_number": 233
    },
    {
     "cell_type": "markdown",
     "metadata": {},
     "source": [
      "### 2.1 Loading the data\n",
      "\n",
      "The first step is loading the samples for this calibration. This should be loaded into a list. In order to keep data organized, this information should be saved in the calibration_data.py file. We will use a function from calibration commands"
     ]
    },
    {
     "cell_type": "code",
     "collapsed": false,
     "input": [
      "coil_samples = load_coil_samples(calib_date)\n",
      "print coil_samples"
     ],
     "language": "python",
     "metadata": {},
     "outputs": [
      {
       "output_type": "stream",
       "stream": "stdout",
       "text": [
        "['5005', '5006', '5007', '5008']\n"
       ]
      }
     ],
     "prompt_number": 234
    },
    {
     "cell_type": "markdown",
     "metadata": {},
     "source": [
      "Now we are going to load the data inside this files, "
     ]
    },
    {
     "cell_type": "code",
     "collapsed": false,
     "input": [
      "coil_data = map(load_data,coil_samples)\n",
      "for d in coil_data[2]:\n",
      "    print d"
     ],
     "language": "python",
     "metadata": {},
     "outputs": [
      {
       "output_type": "stream",
       "stream": "stdout",
       "text": [
        "Point with reference:\n",
        "=====================\n",
        "Type: 1\n",
        "Capture Time : Wed Sep 18 19:01:15 COT 2013\n",
        "Refer.  Time : Wed Dec 31 19:15:51 COT 1969\n",
        "Object  Time : Wed Dec 31 19:16:10 COT 1969\n",
        "Ref.    pos  : -0.01 , -0.04 , -0.17\n",
        "Ref.    orn  : 0.74 , -0.58 , 0.33 , 0.08\n",
        "object  pos  : 0.27 , 0.03 , -0.32\n",
        "object  orn  : 0.59 , -0.25 , -0.52 , -0.56\n",
        "\n",
        "Point with reference:\n",
        "=====================\n",
        "Type: 2\n",
        "Capture Time : Wed Sep 18 19:01:25 COT 2013\n",
        "Refer.  Time : Wed Dec 31 19:16:20 COT 1969\n",
        "Object  Time : Wed Dec 31 19:16:20 COT 1969\n",
        "Ref.    pos  : 0.07 , 0.02 , -0.14\n",
        "Ref.    orn  : 0.72 , 0.57 , 0.20 , -0.35\n",
        "object  pos  : 0.10 , -0.01 , -0.14\n",
        "object  orn  : -0.18 , -0.74 , 0.40 , -0.51\n",
        "\n",
        "Point with reference:\n",
        "=====================\n",
        "Type: 3\n",
        "Capture Time : Wed Sep 18 19:01:35 COT 2013\n",
        "Refer.  Time : Wed Dec 31 19:16:30 COT 1969\n",
        "Object  Time : Wed Dec 31 19:16:22 COT 1969\n",
        "Ref.    pos  : 0.29 , -0.03 , -0.24\n",
        "Ref.    orn  : 0.86 , 0.50 , -0.13 , -0.01\n",
        "object  pos  : 0.31 , -0.02 , -0.30\n",
        "object  orn  : -0.21 , 0.40 , 0.73 , 0.52\n",
        "\n",
        "Point with reference:\n",
        "=====================\n",
        "Type: 4\n",
        "Capture Time : Wed Sep 18 19:01:45 COT 2013\n",
        "Refer.  Time : Wed Dec 31 19:16:31 COT 1969\n",
        "Object  Time : Wed Dec 31 19:16:39 COT 1969\n",
        "Ref.    pos  : 0.19 , 0.00 , -0.29\n",
        "Ref.    orn  : 0.63 , -0.56 , -0.19 , 0.51\n",
        "object  pos  : 0.21 , 0.01 , -0.33\n",
        "object  orn  : 0.32 , -0.23 , -0.73 , -0.56\n",
        "\n",
        "Point with reference:\n",
        "=====================\n",
        "Type: 0\n",
        "Capture Time : Wed Sep 18 19:02:00 COT 2013\n",
        "Refer.  Time : Wed Dec 31 19:16:42 COT 1969\n",
        "Object  Time : Wed Dec 31 19:16:54 COT 1969\n",
        "Ref.    pos  : 0.29 , 0.13 , 0.55\n",
        "Ref.    orn  : 0.43 , -0.63 , -0.24 , -0.59\n",
        "object  pos  : 0.19 , -0.04 , -0.16\n",
        "object  orn  : 0.80 , 0.23 , 0.24 , -0.49\n",
        "\n",
        "Point with reference:\n",
        "=====================\n",
        "Type: 0\n",
        "Capture Time : Wed Sep 18 19:02:04 COT 2013\n",
        "Refer.  Time : Wed Dec 31 19:16:42 COT 1969\n",
        "Object  Time : Wed Dec 31 19:16:58 COT 1969\n",
        "Ref.    pos  : 0.29 , 0.13 , 0.55\n",
        "Ref.    orn  : 0.43 , -0.63 , -0.24 , -0.59\n",
        "object  pos  : 0.19 , -0.04 , -0.16\n",
        "object  orn  : 0.81 , 0.23 , 0.24 , -0.49\n",
        "\n",
        "Point with reference:\n",
        "=====================\n",
        "Type: 0\n",
        "Capture Time : Wed Sep 18 19:02:08 COT 2013\n",
        "Refer.  Time : Wed Dec 31 19:16:42 COT 1969\n",
        "Object  Time : Wed Dec 31 19:17:02 COT 1969\n",
        "Ref.    pos  : 0.29 , 0.13 , 0.55\n",
        "Ref.    orn  : 0.43 , -0.63 , -0.24 , -0.59\n",
        "object  pos  : 0.19 , -0.04 , -0.16\n",
        "object  orn  : 0.81 , 0.23 , 0.24 , -0.49\n",
        "\n",
        "Point with reference:\n",
        "=====================\n",
        "Type: 0\n",
        "Capture Time : Wed Sep 18 19:02:13 COT 2013\n",
        "Refer.  Time : Wed Dec 31 19:16:42 COT 1969\n",
        "Object  Time : Wed Dec 31 19:17:07 COT 1969\n",
        "Ref.    pos  : 0.29 , 0.13 , 0.55\n",
        "Ref.    orn  : 0.43 , -0.63 , -0.24 , -0.59\n",
        "object  pos  : 0.19 , -0.04 , -0.16\n",
        "object  orn  : 0.81 , 0.23 , 0.24 , -0.49\n",
        "\n"
       ]
      }
     ],
     "prompt_number": 235
    },
    {
     "cell_type": "markdown",
     "metadata": {},
     "source": [
      "There is lots of information in these files, because we are only calibrating the sample we don't care about the reference. There should be four calibration samples, and about 4 Coil samples for each index. \n",
      "\n",
      "Now we should look at each of the samples separately in order to find obvious problems. If any of them looks problematic (for example, contains missing values) we should remove it."
     ]
    },
    {
     "cell_type": "code",
     "collapsed": false,
     "input": [
      "print len(coil_data)"
     ],
     "language": "python",
     "metadata": {},
     "outputs": [
      {
       "output_type": "stream",
       "stream": "stdout",
       "text": [
        "4\n"
       ]
      }
     ],
     "prompt_number": 236
    },
    {
     "cell_type": "markdown",
     "metadata": {},
     "source": [
      "Be sure to look at all the samples by changing the index in the next command... Afterwards do any cleanup necessary in the next cell."
     ]
    },
    {
     "cell_type": "code",
     "collapsed": true,
     "input": [
      "coil_data = map(load_data,coil_samples)\n",
      "for d in coil_data[0]:\n",
      "    print d\n",
      "    "
     ],
     "language": "python",
     "metadata": {},
     "outputs": [
      {
       "output_type": "stream",
       "stream": "stdout",
       "text": [
        "Point with reference:\n",
        "=====================\n",
        "Type: 1\n",
        "Capture Time : Wed Sep 18 18:57:42 COT 2013\n",
        "Refer.  Time : Wed Dec 31 19:12:36 COT 1969\n",
        "Object  Time : Wed Dec 31 19:12:36 COT 1969\n",
        "Ref.    pos  : 0.27 , 0.02 , -0.29\n",
        "Ref.    orn  : 0.73 , -0.22 , 0.25 , -0.60\n",
        "object  pos  : 0.26 , 0.04 , -0.26\n",
        "object  orn  : 0.67 , -0.33 , -0.37 , -0.55\n",
        "\n",
        "Point with reference:\n",
        "=====================\n",
        "Type: 2\n",
        "Capture Time : Wed Sep 18 18:57:52 COT 2013\n",
        "Refer.  Time : Wed Dec 31 19:12:41 COT 1969\n",
        "Object  Time : Wed Dec 31 19:12:46 COT 1969\n",
        "Ref.    pos  : 0.19 , -0.02 , 0.00\n",
        "Ref.    orn  : 0.18 , -0.73 , -0.07 , 0.66\n",
        "object  pos  : 0.14 , 0.03 , 0.01\n",
        "object  orn  : 0.15 , 0.65 , -0.24 , -0.70\n",
        "\n",
        "Point with reference:\n",
        "=====================\n",
        "Type: 3\n",
        "Capture Time : Wed Sep 18 18:58:02 COT 2013\n",
        "Refer.  Time : Wed Dec 31 19:12:56 COT 1969\n",
        "Object  Time : Wed Dec 31 19:12:56 COT 1969\n",
        "Ref.    pos  : 0.29 , 0.00 , -0.03\n",
        "Ref.    orn  : 0.50 , -0.21 , 0.80 , -0.26\n",
        "object  pos  : 0.33 , 0.01 , -0.01\n",
        "object  orn  : -0.22 , 0.39 , -0.10 , -0.89\n",
        "\n",
        "Point with reference:\n",
        "=====================\n",
        "Type: 4\n",
        "Capture Time : Wed Sep 18 18:58:12 COT 2013\n",
        "Refer.  Time : Wed Dec 31 19:13:02 COT 1969\n",
        "Object  Time : Wed Dec 31 19:13:06 COT 1969\n",
        "Ref.    pos  : 0.15 , -0.02 , -0.18\n",
        "Ref.    orn  : 0.70 , 0.34 , 0.53 , -0.34\n",
        "object  pos  : 0.12 , 0.03 , -0.19\n",
        "object  orn  : 0.72 , -0.55 , -0.32 , -0.27\n",
        "\n",
        "Point with reference:\n",
        "=====================\n",
        "Type: 0\n",
        "Capture Time : Wed Sep 18 18:58:34 COT 2013\n",
        "Refer.  Time : Wed Dec 31 19:13:16 COT 1969\n",
        "Object  Time : Wed Dec 31 19:13:28 COT 1969\n",
        "Ref.    pos  : 0.10 , -0.07 , -0.02\n",
        "Ref.    orn  : -0.02 , 0.96 , 0.25 , 0.15\n",
        "object  pos  : 0.24 , -0.04 , -0.09\n",
        "object  orn  : 0.73 , 0.17 , 0.39 , -0.53\n",
        "\n",
        "Point with reference:\n",
        "=====================\n",
        "Type: 0\n",
        "Capture Time : Wed Sep 18 18:58:38 COT 2013\n",
        "Refer.  Time : Wed Dec 31 19:13:16 COT 1969\n",
        "Object  Time : Wed Dec 31 19:13:32 COT 1969\n",
        "Ref.    pos  : 0.10 , -0.07 , -0.02\n",
        "Ref.    orn  : -0.02 , 0.96 , 0.25 , 0.15\n",
        "object  pos  : 0.24 , -0.04 , -0.09\n",
        "object  orn  : 0.73 , 0.17 , 0.39 , -0.53\n",
        "\n",
        "Point with reference:\n",
        "=====================\n",
        "Type: 0\n",
        "Capture Time : Wed Sep 18 18:58:42 COT 2013\n",
        "Refer.  Time : Wed Dec 31 19:13:16 COT 1969\n",
        "Object  Time : Wed Dec 31 19:13:36 COT 1969\n",
        "Ref.    pos  : 0.10 , -0.07 , -0.02\n",
        "Ref.    orn  : -0.02 , 0.96 , 0.25 , 0.15\n",
        "object  pos  : 0.24 , -0.04 , -0.09\n",
        "object  orn  : 0.73 , 0.17 , 0.39 , -0.53\n",
        "\n",
        "Point with reference:\n",
        "=====================\n",
        "Type: 0\n",
        "Capture Time : Wed Sep 18 18:58:46 COT 2013\n",
        "Refer.  Time : Wed Dec 31 19:13:16 COT 1969\n",
        "Object  Time : Wed Dec 31 19:13:40 COT 1969\n",
        "Ref.    pos  : 0.10 , -0.07 , -0.02\n",
        "Ref.    orn  : -0.02 , 0.96 , 0.25 , 0.15\n",
        "object  pos  : 0.24 , -0.04 , -0.09\n",
        "object  orn  : 0.73 , 0.16 , 0.39 , -0.53\n",
        "\n"
       ]
      }
     ],
     "prompt_number": 237
    },
    {
     "cell_type": "code",
     "collapsed": false,
     "input": [
      "coil_data = orig_coil_data[:]\n",
      "#sample 2 has a problem in the type 3 point... could be problematic, better remove it: Confirmed visually, better remove\n",
      "#sample 3 has a problem in the type 2 point... could be problematic, better remove it: Also looks problematic\n",
      "# We are left with only 2 good samples :(\n",
      "coil_data = coil_data[0:2] # +coil_data[3:]"
     ],
     "language": "python",
     "metadata": {},
     "outputs": [],
     "prompt_number": 238
    },
    {
     "cell_type": "markdown",
     "metadata": {},
     "source": [
      "Now we are going to split the samples in two groups, stage_one are the ones where the pointer is placed at specific points over the coil and stage two will be the ones where the tms is fired and the information from the coil tracker is captured"
     ]
    },
    {
     "cell_type": "code",
     "collapsed": false,
     "input": [
      "stage_one = [filter(lambda x:x.type!=0,s) for s in coil_data]\n",
      "stage_two = [filter(lambda x:x.type==0,s) for s in coil_data]"
     ],
     "language": "python",
     "metadata": {},
     "outputs": [],
     "prompt_number": 239
    },
    {
     "cell_type": "markdown",
     "metadata": {},
     "source": [
      "Finally, lets keep only the position and orientation, and transform the orientation to quaternions objects. "
     ]
    },
    {
     "cell_type": "code",
     "collapsed": false,
     "input": [
      "stage_one_pairs = [map(transform_sample_no_ref,s) for s in stage_one]\n",
      "stage_two_pairs = [map(transform_sample_no_ref,s) for s in stage_two]\n",
      "print stage_one_pairs[0][1]\n",
      "print len(stage_one_pairs)\n",
      "print stage_two_pairs[0][1]\n",
      "print len(stage_two_pairs)"
     ],
     "language": "python",
     "metadata": {},
     "outputs": [
      {
       "output_type": "stream",
       "stream": "stdout",
       "text": [
        "PointerSample(pos=array([ 0.14412276,  0.02767517,  0.00816327]), orn=Quaternion:\n",
        "array([ 0.15360504,  0.65421033, -0.24235108, -0.69977164]))\n",
        "2\n",
        "PointerSample(pos=array([ 0.23881024, -0.03931173, -0.09480408]), orn=Quaternion:\n",
        "array([ 0.73291254,  0.16601673,  0.39020211, -0.53199625]))\n",
        "2\n"
       ]
      }
     ],
     "prompt_number": 240
    },
    {
     "cell_type": "markdown",
     "metadata": {},
     "source": [
      "We will now use the pointer_point function to get the positions of the points from the samples in stage one."
     ]
    },
    {
     "cell_type": "code",
     "collapsed": false,
     "input": [
      "stage_one_points = [map(lambda x:point_f(x.pos,x.orn),s) for s in stage_one_pairs]\n",
      "# create a dictionaries to match the image shown below\n",
      "stage_one_dicts = [dict((izip((1,2,4,3),pts))) for pts in stage_one_points]\n",
      "len(stage_one_dicts)"
     ],
     "language": "python",
     "metadata": {},
     "outputs": [
      {
       "metadata": {},
       "output_type": "pyout",
       "prompt_number": 241,
       "text": [
        "2"
       ]
      }
     ],
     "prompt_number": 241
    },
    {
     "cell_type": "markdown",
     "metadata": {},
     "source": [
      "Lets take a look at this data using vtk. Look for the vtk window that will open after excecuting this cell.\n",
      "\n",
      "<img src=\"files/tmsCali.png\">"
     ]
    },
    {
     "cell_type": "code",
     "collapsed": false,
     "input": [
      "# first let't get some colors\n",
      "import colorbrewer\n",
      "colors = colorbrewer.Set3[max(3,len(coil_data))]\n",
      "colors = map(lambda c:map(lambda x:x/255,c),colors)\n",
      "viewer = VtkViewer()\n",
      "for i,points_dict in enumerate(stage_one_dicts):\n",
      "    c = colors[i]\n",
      "    for i,p in points_dict.iteritems():\n",
      "        ac = get_sphere_actor(*p)\n",
      "        ac.GetProperty().SetColor(c)\n",
      "        if i == 3:\n",
      "            #The front sample\n",
      "            ac.GetProperty().SetRepresentationToWireframe()\n",
      "        viewer.add_actor(ac)\n",
      "    #and lets add some lines\n",
      "    lines = [(1,3),(3,2),(2,4),(4,1),(1,2)]\n",
      "    for p1,p2 in lines:\n",
      "        acl = get_line_actor(points_dict[p1],points_dict[p2])\n",
      "        acl.GetProperty().SetColor(c)\n",
      "        viewer.add_actor(acl)\n",
      "        \n",
      "viewer.start()\n",
      "del viewer\n",
      "\n"
     ],
     "language": "python",
     "metadata": {},
     "outputs": [],
     "prompt_number": 242
    },
    {
     "cell_type": "markdown",
     "metadata": {},
     "source": [
      "Now lets look at the data from stage_two"
     ]
    },
    {
     "cell_type": "code",
     "collapsed": false,
     "input": [
      "viewer = VtkViewer()\n",
      "for i,pts in enumerate(stage_two_pairs):\n",
      "    c = colors[i]\n",
      "    for pos,orn in pts:\n",
      "        center = get_sphere_actor(*pos)\n",
      "        center.GetProperty().SetColor(c)\n",
      "        dummy_q = quat.Quaternion([0,0.1,0,0])\n",
      "        dummy_qr = orn * dummy_q * orn.conj()\n",
      "        dummy_v = dummy_qr.x[1:]\n",
      "        ln = get_line_actor(pos,dummy_v+pos)\n",
      "        ln.GetProperty().SetColor(c)\n",
      "        viewer.add_actor(ln)\n",
      "        viewer.add_actor(center)\n",
      "viewer.start()\n",
      "del viewer"
     ],
     "language": "python",
     "metadata": {},
     "outputs": [],
     "prompt_number": 243
    },
    {
     "cell_type": "markdown",
     "metadata": {},
     "source": [
      "If everything looks fine continue to the next section, otherwise data should be fixed."
     ]
    },
    {
     "cell_type": "markdown",
     "metadata": {},
     "source": [
      "## 2.2 Find target points in stage_one data\n",
      "\n",
      "The first thing we must do is find the center of the coil, and the hypothetical point directly over it from the data in stage_one. For this we will do some linear algebra.\n",
      "\n",
      "<img src=\"files/tmsCaliVecs.png\">\n",
      "\n",
      "The point pc will represent the center of the coil, and will be the projection of v2 over v1. The hypotetical point ph will be located 0.1 units directly on top of pc. By directly on top, we mean across the perpendicular vector to the plane that contains p1, p2 and p3."
     ]
    },
    {
     "cell_type": "code",
     "collapsed": false,
     "input": [
      "coil_centers = list()\n",
      "coil_tops = list()\n",
      "for points_dict in stage_one_dicts:\n",
      "    p1 = points_dict[1]\n",
      "    p2 = points_dict[2]\n",
      "    p3 = points_dict[3]\n",
      "    \n",
      "    v1 = p2 - p1\n",
      "    v2 = p3 - p1\n",
      "    v1_u = v1/np.linalg.norm(v1) # unitary vector\n",
      "    v2_p = np.dot(v2,v1_u)*v1_u # projection of v2 on v1\n",
      "    pc = p1 + v2_p\n",
      "    coil_centers.append(pc)\n",
      "    \n",
      "    vp = np.cross(v1,v2) # perpendicular vector\n",
      "    vp_u = vp/np.linalg.norm(vp) # unitary\n",
      "    ph = pc + 0.1*vp_u\n",
      "    coil_tops.append(ph)\n",
      "print len(coil_tops)       "
     ],
     "language": "python",
     "metadata": {},
     "outputs": [
      {
       "output_type": "stream",
       "stream": "stdout",
       "text": [
        "2\n"
       ]
      }
     ],
     "prompt_number": 244
    },
    {
     "cell_type": "markdown",
     "metadata": {},
     "source": [
      "Now lets add this features to the picture we had of the stage_one data"
     ]
    },
    {
     "cell_type": "code",
     "collapsed": false,
     "input": [
      "viewer = VtkViewer()\n",
      "for i,points_dict in enumerate(stage_one_dicts):\n",
      "    c = colors[i]\n",
      "    for pi,p in points_dict.iteritems():\n",
      "        ac = get_sphere_actor(*p)\n",
      "        ac.GetProperty().SetColor(c)\n",
      "        if pi == 3:\n",
      "            #The front sample\n",
      "            ac.GetProperty().SetRepresentationToWireframe()\n",
      "        viewer.add_actor(ac)\n",
      "    #and lets add some lines\n",
      "    lines = [(1,3),(3,2),(2,4),(4,1),(1,2)]\n",
      "    for p1,p2 in lines:\n",
      "        acl = get_line_actor(points_dict[p1],points_dict[p2])\n",
      "        acl.GetProperty().SetColor(c)\n",
      "        viewer.add_actor(acl)\n",
      "    #add the centers\n",
      "    pc = coil_centers[i]\n",
      "    cact = get_sphere_actor(*pc)\n",
      "    cact.GetProperty().SetColor(c)\n",
      "    viewer.add_actor(cact)\n",
      "    #add lines towards the top\n",
      "    pt = coil_tops[i]\n",
      "    tl = get_line_actor(pc,pt)\n",
      "    tl.GetProperty().SetColor(c)\n",
      "    viewer.add_actor(tl)\n",
      "    \n",
      "    \n",
      "viewer.start()\n",
      "del viewer"
     ],
     "language": "python",
     "metadata": {},
     "outputs": [],
     "prompt_number": 245
    },
    {
     "cell_type": "markdown",
     "metadata": {},
     "source": [
      "## 2.3 Find coil parameters"
     ]
    },
    {
     "cell_type": "markdown",
     "metadata": {},
     "source": [
      "Theory: The system deliver the coordinates of a position P and an orientation O. The center of the coil and the hypotethetical point at the top can be found as\n",
      "\n",
      "$$P^c = P + O \\times V^c \\times \\overline{O}$$\n",
      "$$P^t = P + O \\times V^t \\times \\overline{O}$$\n",
      "\n",
      "Where $V^c$ and $V^t$ are unknown vectors. The objective here is to find these vectors. Notice these are the same formulas from the pointer calibration.\n",
      "\n",
      "We already have approximate positions for $P_c$ and $P_t$; and now we must find the vectors that connect the coil solid body point P to these points. The equations are therefore\n",
      "\n",
      "$$P^c = P_{j} + O_{j} \\times V^c \\times \\overline{O_{j}} + e^c_{j} $$\n",
      "$$P^t = P_{j} + O_{j} \\times V^t \\times \\overline{O_{j}} + e^t_{j} $$\n",
      "\n",
      "Where e represents the error in the measurement, the objective is to find the values of $V_c$ and $V_t$ that minimize these errors. We should have several sets of samples, each with its own $P^c$, $P^t$ , but $V^c$, $V^t$ should adjust for all of them. For each case we have then\n",
      "\n",
      "$$P^c_i = P_{i,j} + O_{i,j} \\times V^c \\times \\overline{O_{i,j}} + e^c_i,j $$\n",
      "$$P^t_i = P_{i,j} + O_{i,j} \\times V^t \\times \\overline{O_{i,j}} + e^t_i,j $$\n",
      "\n",
      "Let \n",
      "\n",
      "$${f^c_{v}}(p,o) = \\hat{P^c} = p + o \\times v^c \\times \\overline{o} $$\n",
      "$${f^t_{v}}(p,o) = \\hat{P^t} = p + o \\times v^t \\times \\overline{o} $$\n",
      "\n",
      "If we assing the same weight to all the errors, we can define the total error as\n",
      "Given that we don't care specially about the exact position of P^t, but we care of its position relative to P^c we are going to define the following error terms\n",
      "\n",
      "$$e^c = \\left| P^c - \\hat{P^c}\\right| $$\n",
      "$$e^t = \\left| P^t - P^c - (\\hat{P^t} - \\hat{P^c} )\\right| $$\n",
      "\n",
      "And the full error will be equal to\n",
      "\n",
      "$$e^t = e^c + e^t $$\n",
      "\n",
      "We will estimate both parameters at the same time. Notice it would be possible to assign different weight to both kinds of errors in order to create a trade off between weight of errors in both parameters\n",
      "\n"
     ]
    },
    {
     "cell_type": "code",
     "collapsed": false,
     "input": [
      "def coil_center_error(vc):\n",
      "    tot_error = 0\n",
      "    f = get_point_function(vc)\n",
      "    for ct,(pairs) in izip(coil_centers,stage_two_pairs):\n",
      "        mapped_centers = np.array([f(pj.pos,pj.orn) for pj in pairs])\n",
      "        #L1 norm more robust to outliers than quadratic error\n",
      "        tot_error += sum((np.linalg.norm(p-ct))**2 for p in mapped_centers )\n",
      "    return tot_error\n",
      "                            "
     ],
     "language": "python",
     "metadata": {},
     "outputs": [],
     "prompt_number": 246
    },
    {
     "cell_type": "code",
     "collapsed": false,
     "input": [
      "def coil_top_error(vt,vc):\n",
      "    #what matters here is the angle between the two vectors\n",
      "    tot_error = 0\n",
      "    f_t = get_point_function(vt)\n",
      "    f_c = get_point_function(vc)\n",
      "    for top,ctr,(pairs) in izip(coil_tops,coil_centers,stage_two_pairs):\n",
      "        #for each case\n",
      "        mapped_tops = [f_t(pj.pos,pj.orn) for pj in pairs]\n",
      "        mapped_centers = [f_c(pj.pos,pj.orn) for pj in pairs]\n",
      "        #L1 norm more robust to outliers than quadratic error\n",
      "        v1s = [tp - ct for tp,ct in izip(mapped_tops,mapped_centers)]\n",
      "        v2 = top - ctr\n",
      "        #angle_error = lambda v11,v22: np.linalg.norm(np.cross(v11,v22))/(np.linalg.norm(v11)*np.linalg.norm(v22))\n",
      "        angle_error = lambda v11,v22: 1-(np.dot(v11,v22))/(np.linalg.norm(v11)*np.linalg.norm(v22))\n",
      "        errors = [angle_error(v1,v2) for v1 in v1s]\n",
      "        #print v1s\n",
      "        tot_error += (sum(errors))\n",
      "    return tot_error\n",
      "                            "
     ],
     "language": "python",
     "metadata": {},
     "outputs": [],
     "prompt_number": 247
    },
    {
     "cell_type": "code",
     "collapsed": false,
     "input": [
      "def total_coil_error(vct):\n",
      "    vc = vct[0:3]\n",
      "    vt = vct[3:6]\n",
      "    return coil_center_error(vc)**2+coil_top_error(vt,vc)**2+100*(np.linalg.norm(vt-vc)-0.1)**2"
     ],
     "language": "python",
     "metadata": {},
     "outputs": [],
     "prompt_number": 248
    },
    {
     "cell_type": "code",
     "collapsed": false,
     "input": [
      "vct = np.zeros(6)\n",
      "vct[0:5]=0.1\n",
      "#just a little test\n",
      "print coil_center_error(vct[:3])\n",
      "print coil_top_error(vct[3:],vct[:3])\n",
      "print total_coil_error(vct)\n"
     ],
     "language": "python",
     "metadata": {},
     "outputs": [
      {
       "output_type": "stream",
       "stream": "stdout",
       "text": [
        "0.104952215501\n",
        "14.3411396788\n",
        "205.679302256\n"
       ]
      }
     ],
     "prompt_number": 249
    },
    {
     "cell_type": "code",
     "collapsed": false,
     "input": [
      "#test inverse vec function\n",
      "t1 = coil_centers[0]\n",
      "pair1 = stage_two_pairs[0][0]\n",
      "\n",
      "cand = find_inverse_vec(t1,pair1)\n",
      "print t1\n",
      "print pair1\n",
      "print cand\n",
      "\n",
      "#test\n",
      "c_f = get_point_function(cand)\n",
      "print c_f(*pair1)\n"
     ],
     "language": "python",
     "metadata": {},
     "outputs": [
      {
       "output_type": "stream",
       "stream": "stdout",
       "text": [
        "[ 0.2906423  -0.0906991  -0.14971781]\n",
        "PointerSample(pos=array([ 0.23870994, -0.03942184, -0.09333096]), orn=Quaternion:\n",
        "array([ 0.73331457,  0.1687596 ,  0.39167643, -0.52948987]))\n",
        "[ 0.08238849  0.03702166  0.018637  ]\n",
        "[ 0.2906423  -0.0906991  -0.14971781]\n"
       ]
      }
     ],
     "prompt_number": 250
    },
    {
     "cell_type": "code",
     "collapsed": false,
     "input": [
      "ctr_guess = np.mean([find_inverse_vec(c,pc[0]) for c,pc in izip(coil_centers,stage_two_pairs)] ,axis=0)\n",
      "print ctr_guess\n",
      "top_guess = np.mean([find_inverse_vec(t,pc[0]) for t,pc in izip(coil_tops,stage_two_pairs)] ,axis=0)\n",
      "print top_guess\n",
      "print top_guess - ctr_guess\n",
      "print np.linalg.norm(top_guess-ctr_guess)\n",
      "guess = np.concatenate((ctr_guess,top_guess))\n",
      "print\n",
      "print coil_center_error(ctr_guess)\n",
      "print coil_top_error(top_guess,ctr_guess)\n",
      "print total_coil_error(guess)"
     ],
     "language": "python",
     "metadata": {},
     "outputs": [
      {
       "output_type": "stream",
       "stream": "stdout",
       "text": [
        "[ 0.08705955  0.02054324  0.02045184]\n",
        "[ 0.12799172 -0.01784113  0.09991432]\n",
        "[ 0.04093217 -0.03838437  0.07946248]\n",
        "0.0972784013507\n",
        "\n",
        "0.00233008604447\n",
        "0.220604859485\n",
        "0.0494126432504\n"
       ]
      }
     ],
     "prompt_number": 251
    },
    {
     "cell_type": "code",
     "collapsed": false,
     "input": [
      "res = scipy.optimize.minimize(total_coil_error,guess)\n",
      "print res\n"
     ],
     "language": "python",
     "metadata": {},
     "outputs": [
      {
       "output_type": "stream",
       "stream": "stdout",
       "text": [
        "   status: 0\n",
        "  success: True\n",
        "     njev: 17\n",
        "     nfev: 136\n",
        " hess_inv: array([[  1.22214179,   0.99484054,  -2.70782847,   1.22063508,\n",
        "          0.99452372,  -2.70799332],\n",
        "       [  0.99484054,   1.87258592,  -3.73407568,   0.99514878,\n",
        "          1.87075604,  -3.73350694],\n",
        "       [ -2.70782847,  -3.73407568,  10.66671893,  -2.7085486 ,\n",
        "         -3.73408163,  10.66446316],\n",
        "       [  1.22063508,   0.99514878,  -2.7085486 ,   1.22241863,\n",
        "          0.99448223,  -2.70799029],\n",
        "       [  0.99452372,   1.87075604,  -3.73408163,   0.99448223,\n",
        "          1.87216788,  -3.73418511],\n",
        "       [ -2.70799332,  -3.73350694,  10.66446316,  -2.70799029,\n",
        "         -3.73418511,  10.66651475]])\n",
        "      fun: 0.048646128834876345\n",
        "        x: array([ 0.08614664,  0.02084455,  0.02005509,  0.12856995, -0.01860362,\n",
        "        0.10156646])\n",
        "  message: 'Optimization terminated successfully.'\n",
        "      jac: array([ -6.00703061e-08,   7.82310963e-08,  -1.80676579e-07,\n",
        "         2.98023224e-08,  -6.42612576e-08,   1.62050128e-07])\n"
       ]
      }
     ],
     "prompt_number": 252
    },
    {
     "cell_type": "markdown",
     "metadata": {},
     "source": [
      "Now lets see the results the vct vector, and the final value of the error. Check that the final status is 0, and success is True... otherwise adjustments should be made to the initial values or model."
     ]
    },
    {
     "cell_type": "code",
     "collapsed": false,
     "input": [
      "print \"Success: \", res.success\n",
      "print res.fun\n",
      "vc=res.x[0:3]\n",
      "vt=res.x[3:6]\n",
      "print vc\n",
      "print vt"
     ],
     "language": "python",
     "metadata": {},
     "outputs": [
      {
       "output_type": "stream",
       "stream": "stdout",
       "text": [
        "Success:  True\n",
        "0.0486461288349\n",
        "[ 0.08614664  0.02084455  0.02005509]\n",
        "[ 0.12856995 -0.01860362  0.10156646]\n"
       ]
      }
     ],
     "prompt_number": 253
    },
    {
     "cell_type": "markdown",
     "metadata": {},
     "source": [
      "## 2.4 Verifying results\n",
      "\n"
     ]
    },
    {
     "cell_type": "markdown",
     "metadata": {},
     "source": [
      "Lets calculate the mappings from the stage_two samples to centers and tops"
     ]
    },
    {
     "cell_type": "code",
     "collapsed": false,
     "input": [
      "f_c = get_point_function(vc)\n",
      "f_t = get_point_function(vt)\n",
      "mapped_centers = [map(lambda p:f_c(p.pos,p.orn),s) for s in stage_two_pairs]\n",
      "mapped_tops = [map(lambda p:f_t(p.pos,p.orn),s) for s in stage_two_pairs]\n",
      "print (zip(mapped_centers,mapped_tops)[0])[0]"
     ],
     "language": "python",
     "metadata": {},
     "outputs": [
      {
       "output_type": "stream",
       "stream": "stdout",
       "text": [
        "[array([ 0.27700012, -0.10024476, -0.14894013]), array([ 0.27684527, -0.10063893, -0.1500332 ]), array([ 0.27748475, -0.10337424, -0.15043546]), array([ 0.2779346 , -0.10091865, -0.14897063])]\n"
       ]
      }
     ],
     "prompt_number": 254
    },
    {
     "cell_type": "markdown",
     "metadata": {},
     "source": [
      "Now lets use vtk to verify the calibration results, we will reuse some of the code from section 2.1"
     ]
    },
    {
     "cell_type": "code",
     "collapsed": false,
     "input": [
      "viewer = VtkViewer()\n",
      "for i,points_dict in enumerate(stage_one_dicts):\n",
      "    c = colors[i]\n",
      "    for pi,p in points_dict.iteritems():\n",
      "        ac = get_sphere_actor(*p)\n",
      "        ac.GetProperty().SetColor(c)\n",
      "        if pi == 3:\n",
      "            #The front sample\n",
      "            ac.GetProperty().SetRepresentationToWireframe()\n",
      "        viewer.add_actor(ac)\n",
      "    #and lets add some lines\n",
      "    lines = [(1,3),(3,2),(2,4),(4,1),(1,2)]\n",
      "    for p1,p2 in lines:\n",
      "        acl = get_line_actor(points_dict[p1],points_dict[p2])\n",
      "        acl.GetProperty().SetColor(c)\n",
      "        viewer.add_actor(acl)\n",
      "    #add the centers\n",
      "    pc = coil_centers[i]\n",
      "    cact = get_sphere_actor(*pc)\n",
      "    cact.GetProperty().SetColor(c)\n",
      "    viewer.add_actor(cact)\n",
      "    #add lines towards the top\n",
      "    pt = coil_tops[i]\n",
      "    tl = get_line_actor(pc,pt)\n",
      "    tl.GetProperty().SetColor(c)\n",
      "    viewer.add_actor(tl)\n",
      "    \n",
      "    \n",
      "#viewer.start()\n",
      "#del viewer"
     ],
     "language": "python",
     "metadata": {},
     "outputs": [],
     "prompt_number": 255
    },
    {
     "cell_type": "markdown",
     "metadata": {},
     "source": [
      "Let's add the mapped points and tops"
     ]
    },
    {
     "cell_type": "code",
     "collapsed": false,
     "input": [
      "for i in xrange(len(mapped_centers)):\n",
      "    c = colors[i]\n",
      "    samp_ctrs = mapped_centers[i]\n",
      "    samp_tops = mapped_tops[i]\n",
      "    for pc,tp in izip(samp_ctrs,samp_tops):\n",
      "        ac = get_sphere_actor(*pc)\n",
      "        ac.GetProperty().SetColor(c)\n",
      "        ac.GetProperty().SetRepresentationToWireframe()\n",
      "        viewer.add_actor(ac)\n",
      "        la = get_line_actor(pc,tp)\n",
      "        la.GetProperty().SetColor((1,1,1)) # white to distinguish from model line\n",
      "        viewer.add_actor(la)\n",
      "        \n",
      "\n",
      "viewer.start()\n",
      "del viewer"
     ],
     "language": "python",
     "metadata": {},
     "outputs": [],
     "prompt_number": 256
    },
    {
     "cell_type": "markdown",
     "metadata": {},
     "source": [
      "## 2.5 Save Results\n",
      "\n",
      "If everything looks ok, let's copy the results to the file calibration_data.py\n"
     ]
    },
    {
     "cell_type": "code",
     "collapsed": false,
     "input": [
      "#Final V\n",
      "vc=res.x[0:3]\n",
      "vt=res.x[3:]\n",
      "print tuple(vc), \",\"\n",
      "print tuple(vt), \",\"\n",
      "#Final error\n",
      "print res.fun, \"),\"\n"
     ],
     "language": "python",
     "metadata": {},
     "outputs": [
      {
       "output_type": "stream",
       "stream": "stdout",
       "text": [
        "(0.086146638225653938, 0.020844548463599302, 0.020055091547824574) ,\n",
        "(0.1285699533510111, -0.018603615176119508, 0.10156646081684417) ,\n",
        "0.0486461288349 ),\n"
       ]
      }
     ],
     "prompt_number": 257
    },
    {
     "cell_type": "markdown",
     "metadata": {},
     "source": [
      "## 2.6 Test saved results"
     ]
    },
    {
     "cell_type": "code",
     "collapsed": false,
     "input": [
      "from read_and_transform import *"
     ],
     "language": "python",
     "metadata": {},
     "outputs": [],
     "prompt_number": 258
    },
    {
     "cell_type": "code",
     "collapsed": false,
     "input": [
      "viewer = VtkViewer()\n",
      "for i,points_dict in enumerate(stage_one_dicts):\n",
      "    c = colors[i]\n",
      "    for pi,p in points_dict.iteritems():\n",
      "        ac = get_sphere_actor(*p)\n",
      "        ac.GetProperty().SetColor(c)\n",
      "        if pi == 3:\n",
      "            #The front sample\n",
      "            ac.GetProperty().SetRepresentationToWireframe()\n",
      "        #viewer.add_actor(ac)\n",
      "    #and lets add some lines\n",
      "    lines = [(1,3),(3,2),(2,4),(4,1),(1,2)]\n",
      "    for p1,p2 in lines:\n",
      "        acl = get_line_actor(points_dict[p1],points_dict[p2])\n",
      "        acl.GetProperty().SetColor(c)\n",
      "        viewer.add_actor(acl)\n",
      "    #add the centers\n",
      "    pc = coil_centers[i]\n",
      "    cact = get_sphere_actor(*pc)\n",
      "    cact.GetProperty().SetColor(c)\n",
      "    viewer.add_actor(cact)\n",
      "    #add lines towards the top\n",
      "    pt = coil_tops[i]\n",
      "    tl = get_line_actor(pc,pt)\n",
      "    tl.GetProperty().SetColor(c)\n",
      "    viewer.add_actor(tl)\n",
      "    \n",
      "coil_function = get_coil_transform_function(stage_two[0][0].date)\n",
      "first_samples = map(lambda x:x[0],stage_two)\n",
      "centers = map(coil_function,first_samples)\n",
      "for p,c in izip(first_samples,centers):\n",
      "    print p\n",
      "    print c\n",
      "    \n",
      "\n",
      "\n",
      "for c,t in centers:\n",
      "    cact = get_sphere_actor(*c)\n",
      "    viewer.add_actor(cact)\n",
      "    lact = get_line_actor(c,t)\n",
      "    viewer.add_actor(lact)\n",
      "    \n",
      "viewer.start()\n",
      "del viewer"
     ],
     "language": "python",
     "metadata": {},
     "outputs": [
      {
       "output_type": "stream",
       "stream": "stdout",
       "text": [
        "Point with reference:\n",
        "=====================\n",
        "Type: 0\n",
        "Capture Time : Wed Sep 18 18:58:34 COT 2013\n",
        "Refer.  Time : Wed Dec 31 19:13:16 COT 1969\n",
        "Object  Time : Wed Dec 31 19:13:28 COT 1969\n",
        "Ref.    pos  : 0.10 , -0.07 , -0.02\n",
        "Ref.    orn  : -0.02 , 0.96 , 0.25 , 0.15\n",
        "object  pos  : 0.24 , -0.04 , -0.09\n",
        "object  orn  : 0.73 , 0.17 , 0.39 , -0.53\n",
        "\n",
        "(array([ 0.27705735, -0.10471857, -0.15751308]), array([ 0.18996315, -0.07108354, -0.18637428]))\n",
        "Point with reference:\n",
        "=====================\n",
        "Type: 0\n",
        "Capture Time : Wed Sep 18 19:00:16 COT 2013\n",
        "Refer.  Time : Wed Dec 31 19:15:10 COT 1969\n",
        "Object  Time : Wed Dec 31 19:15:10 COT 1969\n",
        "Ref.    pos  : 0.23 , -0.04 , -0.09\n",
        "Ref.    orn  : 0.44 , 0.86 , 0.27 , -0.03\n",
        "object  pos  : 0.23 , -0.06 , -0.09\n",
        "object  orn  : 0.50 , -0.07 , 0.64 , -0.58\n",
        "\n",
        "(array([ 0.20269299, -0.12741291, -0.15575269]), array([ 0.12410229, -0.08914572, -0.11206278]))\n"
       ]
      }
     ],
     "prompt_number": 259
    }
   ],
   "metadata": {}
  }
 ]
}