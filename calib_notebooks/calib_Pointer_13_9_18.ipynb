{
 "metadata": {
  "name": ""
 },
 "nbformat": 3,
 "nbformat_minor": 0,
 "worksheets": [
  {
   "cells": [
    {
     "cell_type": "heading",
     "level": 1,
     "metadata": {},
     "source": [
      "TMS - optitracking calibration"
     ]
    },
    {
     "cell_type": "markdown",
     "metadata": {},
     "source": [
      "This file demonstrates how to convert the data taken during the calibration procedure into useful values that can be used for visualizing and analysing the data. This process should be carried out interactively in a python console or notebook, as in this example. We will start by loading some modules we will use throughout the process"
     ]
    },
    {
     "cell_type": "code",
     "collapsed": false,
     "input": [
      "from __future__ import division\n",
      "import numpy as np\n",
      "import scipy.optimize\n",
      "import sys\n",
      "import os\n",
      "from itertools import izip\n",
      "#change this to the directory containing your tms-data\n",
      "os.chdir(r\"C:\\Users\\Diego\\Dropbox\\VaBD\\ProyectoSavingBrains\\TMS-Optitracking\\TMS Data Mayo 2014\\TMS_Data\")\n",
      "#directory containing the tms view 2 project\n",
      "sys.path.append(r\"C:\\Users\\Diego\\Dropbox\\VaBD\\ProyectoSavingBrains\\TMS-Optitracking\\tms_view2\")\n",
      "import quat\n",
      "import tms_utils as tms\n",
      "\n",
      "#utility functions used during the calibration\n",
      "from calibration_commands import *"
     ],
     "language": "python",
     "metadata": {},
     "outputs": [],
     "prompt_number": 1
    },
    {
     "cell_type": "markdown",
     "metadata": {},
     "source": [
      "## 1 Pointer Calibration\n",
      "\n",
      "Here the objective is to obtain a function that will transform the vrpn values into coordinates corresponding to tip of the pointer\n",
      "\n",
      "### 1.1 Loading the data\n",
      "\n",
      "The first step is loading the samples for this calibration. This should be loaded into a list. In order to keep data organized, this information should be saved in the calibration_data.py file. We will use a function from calibration commands"
     ]
    },
    {
     "cell_type": "code",
     "collapsed": false,
     "input": [
      "calib_date = datetime.date(2013, 9, 18)\n",
      "pointer_samples = load_pointer_samples(calib_date)\n",
      "print pointer_samples"
     ],
     "language": "python",
     "metadata": {},
     "outputs": [
      {
       "output_type": "stream",
       "stream": "stdout",
       "text": [
        "['5000', '5001', '5002', '5003', '5004']\n"
       ]
      }
     ],
     "prompt_number": 2
    },
    {
     "cell_type": "markdown",
     "metadata": {},
     "source": [
      "Now we are going to load the data inside this files, "
     ]
    },
    {
     "cell_type": "code",
     "collapsed": false,
     "input": [
      "pointer_data = map(load_data,pointer_samples)\n",
      "print pointer_data[4]"
     ],
     "language": "python",
     "metadata": {},
     "outputs": [
      {
       "output_type": "stream",
       "stream": "stdout",
       "text": [
        "[Point with reference:\n",
        "=====================\n",
        "Type: 1\n",
        "Capture Time : Wed Sep 18 18:55:41 COT 2013\n",
        "Refer.  Time : Wed Dec 31 19:10:19 COT 1969\n",
        "Object  Time : Wed Dec 31 19:10:35 COT 1969\n",
        "Ref.    pos  : -0.12 , 0.23 , 0.16\n",
        "Ref.    orn  : -0.63 , -0.77 , 0.10 , 0.07\n",
        "object  pos  : 0.09 , 0.00 , -0.16\n",
        "object  orn  : -0.45 , -0.17 , -0.33 , 0.81\n",
        ", Point with reference:\n",
        "=====================\n",
        "Type: 2\n",
        "Capture Time : Wed Sep 18 18:55:51 COT 2013\n",
        "Refer.  Time : Wed Dec 31 19:10:19 COT 1969\n",
        "Object  Time : Wed Dec 31 19:10:45 COT 1969\n",
        "Ref.    pos  : -0.12 , 0.23 , 0.16\n",
        "Ref.    orn  : -0.63 , -0.77 , 0.10 , 0.07\n",
        "object  pos  : 0.23 , 0.01 , -0.15\n",
        "object  orn  : -0.60 , 0.55 , 0.06 , 0.58\n",
        ", Point with reference:\n",
        "=====================\n",
        "Type: 3\n",
        "Capture Time : Wed Sep 18 18:56:01 COT 2013\n",
        "Refer.  Time : Wed Dec 31 19:10:46 COT 1969\n",
        "Object  Time : Wed Dec 31 19:10:55 COT 1969\n",
        "Ref.    pos  : 0.22 , -0.02 , -0.14\n",
        "Ref.    orn  : 0.57 , -0.78 , -0.17 , 0.19\n",
        "object  pos  : 0.21 , 0.00 , -0.24\n",
        "object  orn  : 0.51 , -0.78 , -0.35 , -0.15\n",
        ", Point with reference:\n",
        "=====================\n",
        "Type: 4\n",
        "Capture Time : Wed Sep 18 18:56:11 COT 2013\n",
        "Refer.  Time : Wed Dec 31 19:10:46 COT 1969\n",
        "Object  Time : Wed Dec 31 19:11:05 COT 1969\n",
        "Ref.    pos  : 0.22 , -0.02 , -0.14\n",
        "Ref.    orn  : 0.57 , -0.78 , -0.17 , 0.19\n",
        "object  pos  : 0.13 , -0.00 , -0.27\n",
        "object  orn  : -0.01 , -0.71 , -0.54 , 0.45\n",
        "]\n"
       ]
      }
     ],
     "prompt_number": 3
    },
    {
     "cell_type": "markdown",
     "metadata": {},
     "source": [
      "There is lots of information in these files, because we are only calibrating the sample we don't care about the reference, we also don't care about the samples with type 0 (the coil samples), so lets filter this out"
     ]
    },
    {
     "cell_type": "code",
     "collapsed": false,
     "input": [
      "pointer_data = [filter(lambda p:p.type!=0,s) for s in pointer_data]\n",
      "print pointer_data[0:1]"
     ],
     "language": "python",
     "metadata": {},
     "outputs": [
      {
       "output_type": "stream",
       "stream": "stdout",
       "text": [
        "[[Point with reference:\n",
        "=====================\n",
        "Type: 1\n",
        "Capture Time : Wed Sep 18 18:51:41 COT 2013\n",
        "Refer.  Time : Wed Dec 31 19:06:33 COT 1969\n",
        "Object  Time : Wed Dec 31 19:06:35 COT 1969\n",
        "Ref.    pos  : 0.24 , 0.08 , -0.36\n",
        "Ref.    orn  : -0.07 , 0.56 , -0.61 , 0.55\n",
        "object  pos  : 0.12 , 0.20 , -0.19\n",
        "object  orn  : -0.47 , -0.18 , 0.51 , 0.70\n",
        "]]\n"
       ]
      }
     ],
     "prompt_number": 4
    },
    {
     "cell_type": "markdown",
     "metadata": {},
     "source": [
      "Now we should look at each of the samples separately in order to find obvious problems. If any of them looks problematic (for example, contains missing values) we should remove it"
     ]
    },
    {
     "cell_type": "code",
     "collapsed": false,
     "input": [
      "print len(pointer_data)"
     ],
     "language": "python",
     "metadata": {},
     "outputs": [
      {
       "output_type": "stream",
       "stream": "stdout",
       "text": [
        "5\n"
       ]
      }
     ],
     "prompt_number": 5
    },
    {
     "cell_type": "markdown",
     "metadata": {},
     "source": [
      "Be sure to look at all the samples by changing the index in the next command... Afterwards do any cleanup necessary in the next cell."
     ]
    },
    {
     "cell_type": "code",
     "collapsed": false,
     "input": [
      "print pointer_data[4]"
     ],
     "language": "python",
     "metadata": {},
     "outputs": [
      {
       "output_type": "stream",
       "stream": "stdout",
       "text": [
        "[Point with reference:\n",
        "=====================\n",
        "Type: 1\n",
        "Capture Time : Wed Sep 18 18:55:41 COT 2013\n",
        "Refer.  Time : Wed Dec 31 19:10:19 COT 1969\n",
        "Object  Time : Wed Dec 31 19:10:35 COT 1969\n",
        "Ref.    pos  : -0.12 , 0.23 , 0.16\n",
        "Ref.    orn  : -0.63 , -0.77 , 0.10 , 0.07\n",
        "object  pos  : 0.09 , 0.00 , -0.16\n",
        "object  orn  : -0.45 , -0.17 , -0.33 , 0.81\n",
        ", Point with reference:\n",
        "=====================\n",
        "Type: 2\n",
        "Capture Time : Wed Sep 18 18:55:51 COT 2013\n",
        "Refer.  Time : Wed Dec 31 19:10:19 COT 1969\n",
        "Object  Time : Wed Dec 31 19:10:45 COT 1969\n",
        "Ref.    pos  : -0.12 , 0.23 , 0.16\n",
        "Ref.    orn  : -0.63 , -0.77 , 0.10 , 0.07\n",
        "object  pos  : 0.23 , 0.01 , -0.15\n",
        "object  orn  : -0.60 , 0.55 , 0.06 , 0.58\n",
        ", Point with reference:\n",
        "=====================\n",
        "Type: 3\n",
        "Capture Time : Wed Sep 18 18:56:01 COT 2013\n",
        "Refer.  Time : Wed Dec 31 19:10:46 COT 1969\n",
        "Object  Time : Wed Dec 31 19:10:55 COT 1969\n",
        "Ref.    pos  : 0.22 , -0.02 , -0.14\n",
        "Ref.    orn  : 0.57 , -0.78 , -0.17 , 0.19\n",
        "object  pos  : 0.21 , 0.00 , -0.24\n",
        "object  orn  : 0.51 , -0.78 , -0.35 , -0.15\n",
        ", Point with reference:\n",
        "=====================\n",
        "Type: 4\n",
        "Capture Time : Wed Sep 18 18:56:11 COT 2013\n",
        "Refer.  Time : Wed Dec 31 19:10:46 COT 1969\n",
        "Object  Time : Wed Dec 31 19:11:05 COT 1969\n",
        "Ref.    pos  : 0.22 , -0.02 , -0.14\n",
        "Ref.    orn  : 0.57 , -0.78 , -0.17 , 0.19\n",
        "object  pos  : 0.13 , -0.00 , -0.27\n",
        "object  orn  : -0.01 , -0.71 , -0.54 , 0.45\n",
        "]\n"
       ]
      }
     ],
     "prompt_number": 6
    },
    {
     "cell_type": "code",
     "collapsed": false,
     "input": [
      "#sample 0 contains only one sample, useless\n",
      "pointer_data = pointer_data[1:]"
     ],
     "language": "python",
     "metadata": {},
     "outputs": [],
     "prompt_number": 7
    },
    {
     "cell_type": "markdown",
     "metadata": {},
     "source": [
      "Finally, lets keep only the position and orientation, and transform the orientation to quaternions objects. "
     ]
    },
    {
     "cell_type": "code",
     "collapsed": false,
     "input": [
      "pointer_pairs = [map(transform_sample_no_ref,s) for s in pointer_data]\n",
      "print pointer_pairs[0][0]"
     ],
     "language": "python",
     "metadata": {},
     "outputs": [
      {
       "output_type": "stream",
       "stream": "stdout",
       "text": [
        "PointerSample(pos=array([ 0.1113925 ,  0.00150082, -0.23876075]), orn=Quaternion:\n",
        "array([ 0.79013574, -0.45296314, -0.10872621, -0.39835727]))\n"
       ]
      }
     ],
     "prompt_number": 8
    },
    {
     "cell_type": "markdown",
     "metadata": {},
     "source": [
      "Lets take a look at this data using vtk. Look for the vtk window that will open after excecuting this cell."
     ]
    },
    {
     "cell_type": "code",
     "collapsed": false,
     "input": [
      "# first let't get some colors\n",
      "import colorbrewer\n",
      "colors = colorbrewer.Set3[max(3,len(pointer_pairs))]\n",
      "colors = map(lambda c:map(lambda x:x/255,c),colors)\n",
      "viewer = VtkViewer()\n",
      "for i,si in enumerate(pointer_pairs):\n",
      "    c = colors[i]\n",
      "    for p in si:\n",
      "        ac = get_sphere_actor(*p.pos)\n",
      "        ac.GetProperty().SetColor(c)\n",
      "        viewer.add_actor(ac)\n",
      "viewer.start()\n",
      "del viewer\n",
      "\n"
     ],
     "language": "python",
     "metadata": {},
     "outputs": [],
     "prompt_number": 9
    },
    {
     "cell_type": "markdown",
     "metadata": {},
     "source": [
      "## 1.2 Find pointer parameters"
     ]
    },
    {
     "cell_type": "markdown",
     "metadata": {},
     "source": [
      "Theory: The system deliver the coordinates of a position P and an orientation O. The point of the pointer (X) can be found as\n",
      "\n",
      "$$X = P + O \\times V \\times \\overline{O}$$\n",
      "\n",
      "Where V is an unknown vector. The objective here is to find this vector. \n",
      "\n",
      "The calibration position consisted in moving the pointer around while keeping the tip constant, this means, keeping X constant. We therefore have\n",
      "\n",
      "$$X = P_{j} + O_{j} \\times V \\times \\overline{O_{j}} + e_j $$\n",
      "\n",
      "Where e represents the error in the measurement, the objective is to find the values of V that minimize this error. We should have several sets of 4 samples, each with its own X, but V should be the same for all of them. For each case we have then\n",
      "\n",
      "$$X_i = P_{i,j} + O_{i,j} \\times V \\times \\overline{O_{i,j}} + e_i,j $$\n",
      "\n",
      "Let \n",
      "\n",
      "$${f_v}(p,o) = x = p + o \\times v \\times \\overline{o} $$\n",
      "\n",
      "If we assing the same weight to all the errors, we can define the total error as\n",
      "\n",
      "$$E= \\sum_{i,j} \\left|e_{j,i}\\right| = \\sum_{i,j} \\left|(X_i - f_v(P_{i,j},O_{i,j})\\right| $$\n",
      "\n"
     ]
    },
    {
     "cell_type": "code",
     "collapsed": false,
     "input": [
      "def pointer_error(vx):\n",
      "    #vx = V:x0:1\n",
      "    v = vx[0:3]\n",
      "    f = get_point_function(v)\n",
      "    tot_error = 0\n",
      "    for i in xrange(len(pointer_pairs)):\n",
      "        si = pointer_pairs[i]\n",
      "        x = vx[(i+1)*3:(i+2)*3]\n",
      "        mapped_points = np.array([f(pj.pos,pj.orn) for pj in si])\n",
      "        #x = np.mean(mapped_points,axis=0)\n",
      "        #L1 norm more robust to outliers than quadratic error\n",
      "        tot_error += sum(abs(np.linalg.norm(p-x)) for p in mapped_points )\n",
      "    return tot_error\n",
      "                            "
     ],
     "language": "python",
     "metadata": {},
     "outputs": [],
     "prompt_number": 10
    },
    {
     "cell_type": "code",
     "collapsed": false,
     "input": [
      "si=pointer_pairs[0]\n",
      "print pointer_error([0]*3*(len(pointer_pairs)+1))"
     ],
     "language": "python",
     "metadata": {},
     "outputs": [
      {
       "output_type": "stream",
       "stream": "stdout",
       "text": [
        "3.65094340544\n"
       ]
      }
     ],
     "prompt_number": 11
    },
    {
     "cell_type": "code",
     "collapsed": false,
     "input": [
      "vx = np.ones(3*(len(pointer_pairs)+1))\n",
      "#initialize vx as the meaan of the samples\n",
      "for i,s in enumerate(pointer_pairs):\n",
      "    mat = np.array(map(lambda x:x.pos,s))\n",
      "    vx[(i+1)*3:(i+2)*3] = np.mean(mat,axis=0)\n",
      "print vx\n",
      "#just a little test\n",
      "print pointer_error(vx)"
     ],
     "language": "python",
     "metadata": {},
     "outputs": [
      {
       "output_type": "stream",
       "stream": "stdout",
       "text": [
        "[  1.00000000e+00   1.00000000e+00   1.00000000e+00   1.57866983e-01\n",
        "   1.97960413e-04  -2.73392338e-01  -8.44617704e-02  -1.27484659e-02\n",
        "  -4.36918555e-02  -2.21727742e-02  -2.17759400e-02  -1.95427351e-01\n",
        "   1.68118792e-01   1.51412278e-03  -2.04577435e-01]\n",
        "27.1859156415\n"
       ]
      }
     ],
     "prompt_number": 15
    },
    {
     "cell_type": "code",
     "collapsed": false,
     "input": [
      "res = scipy.optimize.minimize(pointer_error,vx)\n",
      "print res\n"
     ],
     "language": "python",
     "metadata": {},
     "outputs": [
      {
       "output_type": "stream",
       "stream": "stdout",
       "text": [
        "   status: 0\n",
        "  success: True\n",
        "     njev: 70\n",
        "     nfev: 1190\n",
        " hess_inv: array([[  1.28370897e-02,  -8.55128885e-03,  -1.82299510e-02,\n",
        "         -2.48742520e-05,  -2.41265726e-02,   1.87440986e-03,\n",
        "          1.04878340e-03,  -2.27364551e-02,   1.09091385e-03,\n",
        "          2.35982040e-03,  -2.30261995e-02,  -6.84117757e-04,\n",
        "          7.27130834e-04,  -2.49345521e-02,   3.84922938e-03],\n",
        "       [ -8.55128885e-03,   5.91268004e-03,   1.22626918e-02,\n",
        "          5.59030754e-05,   1.62801348e-02,  -1.25810964e-03,\n",
        "         -7.18010615e-04,   1.52737313e-02,  -7.40689015e-04,\n",
        "         -1.60138400e-03,   1.53037840e-02,   3.96748050e-04,\n",
        "         -5.16508316e-04,   1.67202697e-02,  -2.54693733e-03],\n",
        "       [ -1.82299510e-02,   1.22626918e-02,   2.63281030e-02,\n",
        "          2.18762632e-04,   3.48117382e-02,  -2.63160690e-03,\n",
        "         -1.44931018e-03,   3.26242222e-02,  -1.56426304e-03,\n",
        "         -2.98646807e-03,   3.35365168e-02,   9.99519774e-04,\n",
        "         -1.00943620e-03,   3.56584896e-02,  -5.36185074e-03],\n",
        "       [ -2.48742520e-05,   5.59030754e-05,   2.18762632e-04,\n",
        "          8.27352020e-04,   4.33937807e-04,  -8.20004945e-05,\n",
        "          1.49911700e-05,   2.04021398e-04,   9.59313376e-06,\n",
        "          1.43220802e-04,   3.93520677e-04,   1.59792686e-05,\n",
        "          4.26884809e-06,   1.54166593e-04,   3.64554494e-05],\n",
        "       [ -2.41265726e-02,   1.62801348e-02,   3.48117382e-02,\n",
        "          4.33937807e-04,   4.71743590e-02,  -3.41467287e-03,\n",
        "         -1.90253082e-03,   4.32243486e-02,  -2.02428541e-03,\n",
        "         -4.05849808e-03,   4.41798414e-02,   1.30666463e-03,\n",
        "         -1.35320818e-03,   4.71790210e-02,  -7.08032769e-03],\n",
        "       [  1.87440986e-03,  -1.25810964e-03,  -2.63160690e-03,\n",
        "         -8.20004945e-05,  -3.41467287e-03,   1.04828925e-03,\n",
        "          1.57332506e-04,  -3.23906733e-03,   1.64461531e-04,\n",
        "          3.95172710e-04,  -3.25685448e-03,  -9.60191709e-05,\n",
        "          1.12700463e-04,  -3.60490991e-03,   5.61099059e-04],\n",
        "       [  1.04878340e-03,  -7.18010615e-04,  -1.44931018e-03,\n",
        "          1.49911700e-05,  -1.90253082e-03,   1.57332506e-04,\n",
        "          1.92593339e-03,  -1.42420170e-03,  -4.95303640e-05,\n",
        "          2.83563941e-04,  -1.72734877e-03,  -4.13437536e-05,\n",
        "          6.71646651e-05,  -2.00988148e-03,   3.09395496e-04],\n",
        "       [ -2.27364551e-02,   1.52737313e-02,   3.26242222e-02,\n",
        "          2.04021398e-04,   4.32243486e-02,  -3.23906733e-03,\n",
        "         -1.42420170e-03,   4.32431103e-02,  -1.90613304e-03,\n",
        "         -3.92775507e-03,   4.13876046e-02,   1.22487735e-03,\n",
        "         -1.26543742e-03,   4.43939355e-02,  -6.69115301e-03],\n",
        "       [  1.09091385e-03,  -7.40689015e-04,  -1.56426304e-03,\n",
        "          9.59313376e-06,  -2.02428541e-03,   1.64461531e-04,\n",
        "         -4.95303640e-05,  -1.90613304e-03,   1.29333705e-03,\n",
        "          2.12142549e-04,  -1.92295626e-03,  -6.93171823e-05,\n",
        "          7.45088089e-05,  -2.11824156e-03,   3.09326228e-04],\n",
        "       [  2.35982040e-03,  -1.60138400e-03,  -2.98646807e-03,\n",
        "          1.43220802e-04,  -4.05849808e-03,   3.95172710e-04,\n",
        "          2.83563941e-04,  -3.92775507e-03,   2.12142549e-04,\n",
        "          1.57023556e-03,  -2.04154330e-03,  -2.50503892e-04,\n",
        "          1.59127932e-04,  -4.42824357e-03,   8.84307939e-04],\n",
        "       [ -2.30261995e-02,   1.53037840e-02,   3.35365168e-02,\n",
        "          3.93520677e-04,   4.41798414e-02,  -3.25685448e-03,\n",
        "         -1.72734877e-03,   4.13876046e-02,  -1.92295626e-03,\n",
        "         -2.04154330e-03,   4.60244183e-02,   9.84141822e-04,\n",
        "         -1.23320029e-03,   4.51260644e-02,  -6.55309673e-03],\n",
        "       [ -6.84117757e-04,   3.96748050e-04,   9.99519774e-04,\n",
        "          1.59792686e-05,   1.30666463e-03,  -9.60191709e-05,\n",
        "         -4.13437536e-05,   1.22487735e-03,  -6.93171823e-05,\n",
        "         -2.50503892e-04,   9.84141822e-04,   2.14774264e-04,\n",
        "         -1.60979649e-05,   1.32207708e-03,  -2.16608318e-04],\n",
        "       [  7.27130834e-04,  -5.16508316e-04,  -1.00943620e-03,\n",
        "          4.26884809e-06,  -1.35320818e-03,   1.12700463e-04,\n",
        "          6.71646651e-05,  -1.26543742e-03,   7.45088089e-05,\n",
        "          1.59127932e-04,  -1.23320029e-03,  -1.60979649e-05,\n",
        "          4.20895487e-04,  -1.26803445e-03,   7.97635429e-05],\n",
        "       [ -2.49345521e-02,   1.67202697e-02,   3.56584896e-02,\n",
        "          1.54166593e-04,   4.71790210e-02,  -3.60490991e-03,\n",
        "         -2.00988148e-03,   4.43939355e-02,  -2.11824156e-03,\n",
        "         -4.42824357e-03,   4.51260644e-02,   1.32207708e-03,\n",
        "         -1.26803445e-03,   4.96435143e-02,  -8.62325228e-03],\n",
        "       [  3.84922938e-03,  -2.54693733e-03,  -5.36185074e-03,\n",
        "          3.64554494e-05,  -7.08032769e-03,   5.61099059e-04,\n",
        "          3.09395496e-04,  -6.69115301e-03,   3.09326228e-04,\n",
        "          8.84307939e-04,  -6.55309673e-03,  -2.16608318e-04,\n",
        "          7.97635429e-05,  -8.62325228e-03,   3.53946794e-03]])\n",
        "      fun: 0.05937858780644398\n",
        "        x: array([ 0.09768936,  0.0181102 , -0.14216691,  0.16251304, -0.15780502,\n",
        "       -0.27942543, -0.09203609, -0.16358548, -0.0444571 , -0.0139128 ,\n",
        "       -0.17418969, -0.19867762,  0.1749744 , -0.15134654, -0.18950928])\n",
        "  message: 'Optimization terminated successfully.'\n",
        "      jac: array([  8.15838575e-07,  -1.65635720e-06,  -4.52622771e-07,\n",
        "        -1.89989805e-07,  -1.67638063e-08,  -1.42492354e-07,\n",
        "        -2.74740160e-07,   4.04193997e-07,   2.30967999e-07,\n",
        "        -1.74902380e-06,   5.25265932e-07,  -9.71369445e-07,\n",
        "        -4.08850610e-07,   3.52039933e-07,   3.03611159e-07])\n"
       ]
      }
     ],
     "prompt_number": 17
    },
    {
     "cell_type": "markdown",
     "metadata": {},
     "source": [
      "Now lets see the results the v vector, and the final value of the error. Check that the final status is 0, and success is True... otherwise adjustments should be made to the initial values or model."
     ]
    },
    {
     "cell_type": "code",
     "collapsed": false,
     "input": [
      "print \"Success: \", res.success\n",
      "print res.fun\n",
      "v=res.x[0:3]\n",
      "print v"
     ],
     "language": "python",
     "metadata": {},
     "outputs": [
      {
       "output_type": "stream",
       "stream": "stdout",
       "text": [
        "Success:  True\n",
        "0.0593785878064\n",
        "[ 0.09768936  0.0181102  -0.14216691]\n"
       ]
      }
     ],
     "prompt_number": 22
    },
    {
     "cell_type": "markdown",
     "metadata": {},
     "source": [
      "## 1.3 Verifying results\n",
      "\n"
     ]
    },
    {
     "cell_type": "markdown",
     "metadata": {},
     "source": [
      "Lets calculate the mappings to the tip, given the vector v"
     ]
    },
    {
     "cell_type": "code",
     "collapsed": false,
     "input": [
      "point = get_point_function(v)\n",
      "mapped_points = [map(lambda p:point(p.pos,p.orn),s) for s in pointer_pairs]\n",
      "print mapped_points"
     ],
     "language": "python",
     "metadata": {},
     "outputs": [
      {
       "output_type": "stream",
       "stream": "stdout",
       "text": [
        "[[array([ 0.16207343, -0.15952155, -0.27858362]), array([ 0.16224003, -0.1567836 , -0.27843845]), array([ 0.15975658, -0.15931516, -0.28456706]), array([ 0.16430941, -0.15693928, -0.27995856])], [array([-0.09457114, -0.16526924, -0.04371406]), array([-0.09132251, -0.16713031, -0.04557196]), array([-0.09316571, -0.15883636, -0.04487574]), array([-0.08645768, -0.16027592, -0.04352067])], [array([-0.0139786 , -0.17429898, -0.19865366]), array([-0.01433725, -0.18027944, -0.19749409]), array([-0.01380226, -0.17379592, -0.19866295]), array([-0.01132426, -0.16690314, -0.20216122])], [array([ 0.17599997, -0.14971363, -0.19014363]), array([ 0.1749588 , -0.15104114, -0.19013374]), array([ 0.17000019, -0.15996359, -0.18635494]), array([ 0.1749675 , -0.15181023, -0.1885017 ])]]\n"
       ]
      }
     ],
     "prompt_number": 23
    },
    {
     "cell_type": "markdown",
     "metadata": {},
     "source": [
      "Now lets use vtk to verify the calibration results"
     ]
    },
    {
     "cell_type": "code",
     "collapsed": false,
     "input": [
      "viewer = VtkViewer()\n",
      "#The x_i\n",
      "for i,xi in enumerate(mapped_points):\n",
      "    \n",
      "    x = np.mean(np.array(xi),axis=0)\n",
      "    ac = get_sphere_actor(*x)\n",
      "    c = colors[i]\n",
      "    ac.GetProperty().SetColor(c)\n",
      "    ac.GetProperty().SetRepresentationToWireframe()\n",
      "    viewer.add_actor(ac)\n",
      "    \n",
      "\n",
      "#viewer.start()"
     ],
     "language": "python",
     "metadata": {},
     "outputs": [],
     "prompt_number": 24
    },
    {
     "cell_type": "markdown",
     "metadata": {},
     "source": [
      "Let's add the mapped points in the same colors"
     ]
    },
    {
     "cell_type": "code",
     "collapsed": false,
     "input": [
      "for i,s in enumerate(mapped_points):\n",
      "    for p in s:\n",
      "        ac = get_sphere_actor(*p)\n",
      "        ac.GetProperty().SetColor(colors[i])\n",
      "        ac.GetProperty().SetRepresentationToWireframe()\n",
      "        viewer.add_actor(ac)\n",
      "\n",
      "#viewer.start()"
     ],
     "language": "python",
     "metadata": {},
     "outputs": [],
     "prompt_number": 25
    },
    {
     "cell_type": "markdown",
     "metadata": {},
     "source": [
      "And Let's add the original data"
     ]
    },
    {
     "cell_type": "code",
     "collapsed": false,
     "input": [
      " for i,si in enumerate(pointer_pairs):\n",
      "    c = colors[i]\n",
      "    for p in si:\n",
      "        ac = get_sphere_actor(*p.pos)\n",
      "        ac.GetProperty().SetColor(c)\n",
      "        viewer.add_actor(ac)\n",
      "#viewer.start()"
     ],
     "language": "python",
     "metadata": {},
     "outputs": [],
     "prompt_number": 26
    },
    {
     "cell_type": "markdown",
     "metadata": {},
     "source": [
      "Let's connect them with lines"
     ]
    },
    {
     "cell_type": "code",
     "collapsed": false,
     "input": [
      "for i,(ops,mps) in enumerate(izip(pointer_pairs,mapped_points)):\n",
      "    c = colors[i]\n",
      "    for p1,p2 in izip(ops,mps):\n",
      "        ac = get_line_actor(p1.pos,p2)\n",
      "        ac.GetProperty().SetColor(c)\n",
      "        viewer.add_actor(ac)\n",
      "viewer.start()\n",
      "del viewer"
     ],
     "language": "python",
     "metadata": {},
     "outputs": [],
     "prompt_number": 27
    },
    {
     "cell_type": "markdown",
     "metadata": {},
     "source": [
      "<img src=\"files/Captura.PNG\">"
     ]
    },
    {
     "cell_type": "markdown",
     "metadata": {},
     "source": [
      "## 1.4 Save Results\n",
      "\n",
      "If everything looks ok, let's copy the results to the file calibration_data.py\n"
     ]
    },
    {
     "cell_type": "code",
     "collapsed": false,
     "input": [
      "#Final V\n",
      "v=res.x[0:3]\n",
      "print tuple(v)\n",
      "#Final error\n",
      "print res.fun\n"
     ],
     "language": "python",
     "metadata": {},
     "outputs": [
      {
       "output_type": "stream",
       "stream": "stdout",
       "text": [
        "(0.097689363263547921, 0.01811019714562951, -0.14216691067117207)\n",
        "0.0593785878064\n"
       ]
      }
     ],
     "prompt_number": 19
    }
   ],
   "metadata": {}
  }
 ]
}