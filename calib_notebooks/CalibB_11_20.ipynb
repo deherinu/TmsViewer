{
 "metadata": {
  "name": ""
 },
 "nbformat": 3,
 "nbformat_minor": 0,
 "worksheets": [
  {
   "cells": [
    {
     "cell_type": "heading",
     "level": 1,
     "metadata": {},
     "source": [
      "TMS - optitracking calibration"
     ]
    },
    {
     "cell_type": "markdown",
     "metadata": {},
     "source": [
      "This file demonstrates how to convert the data taken during the calibration procedure into useful values that can be used for visualizing and analysing the data. This process should be carried out interactively in a python console or notebook, as in this example. We will start by loading some modules we will use throughout the process"
     ]
    },
    {
     "cell_type": "code",
     "collapsed": false,
     "input": [
      "from __future__ import division\n",
      "import numpy as np\n",
      "import scipy.optimize\n",
      "import sys\n",
      "import os\n",
      "from itertools import izip\n",
      "#change this to the directory containing your tms-data\n",
      "os.chdir(r\"C:\\Users\\Diego\\Dropbox\\VaBD\\ProyectoSavingBrains\\TMS-Optitracking\\TMS Data Mayo 2014\\TMS_Data\")\n",
      "#directory containing the tms view 2 project\n",
      "sys.path.append(r\"C:\\Users\\Diego\\Dropbox\\VaBD\\ProyectoSavingBrains\\TMS-Optitracking\\tms_view2\")\n",
      "import quat\n",
      "import tms_utils as tms\n",
      "\n",
      "#utility functions used during the calibration\n",
      "from calibration_commands import *"
     ],
     "language": "python",
     "metadata": {},
     "outputs": [],
     "prompt_number": 93
    },
    {
     "cell_type": "markdown",
     "metadata": {},
     "source": [
      "## 1 Pointer Calibration\n",
      "\n",
      "Here the objective is to obtain an affine matrix that will transform the vrpn values into coordinates corresponding to tip of the pointer\n",
      "\n",
      "### 1.1 Loading the data\n",
      "\n",
      "The first step is loading the samples for this calibration. This should be loaded into a list. In order to keep data organized, this information should be saved in the calibration_data.py file. We will use a function from calibration commands"
     ]
    },
    {
     "cell_type": "code",
     "collapsed": false,
     "input": [
      "calib_date = datetime.date(2013, 11, 20)\n",
      "pointer_samples = load_pointer_samples(calib_date)\n",
      "print pointer_samples"
     ],
     "language": "python",
     "metadata": {},
     "outputs": [
      {
       "output_type": "stream",
       "stream": "stdout",
       "text": [
        "['50000', '50100', '50200']\n"
       ]
      }
     ],
     "prompt_number": 94
    },
    {
     "cell_type": "markdown",
     "metadata": {},
     "source": [
      "Now we are going to load the data inside this files"
     ]
    },
    {
     "cell_type": "code",
     "collapsed": false,
     "input": [
      "pointer_data = map(load_pointer_data,pointer_samples)\n",
      "print pointer_data[2]"
     ],
     "language": "python",
     "metadata": {},
     "outputs": [
      {
       "output_type": "stream",
       "stream": "stdout",
       "text": [
        "[Point with reference:\n",
        "=====================\n",
        "Type: 1\n",
        "Capture Time : Wed Nov 20 16:18:00 COT 2013\n",
        "Refer.  Time : Wed Dec 31 19:17:34 COT 1969\n",
        "Object  Time : Wed Dec 31 19:17:28 COT 1969\n",
        "Ref.    pos  : -0.02 , 0.14 , -0.05\n",
        "Ref.    orn  : 0.16 , -0.26 , 0.08 , 0.95\n",
        "object  pos  : 0.03 , 0.16 , -0.08\n",
        "object  orn  : -0.02 , -0.78 , -0.58 , 0.23\n",
        ", Point with reference:\n",
        "=====================\n",
        "Type: 2\n",
        "Capture Time : Wed Nov 20 16:18:10 COT 2013\n",
        "Refer.  Time : Wed Dec 31 19:17:35 COT 1969\n",
        "Object  Time : Wed Dec 31 19:17:44 COT 1969\n",
        "Ref.    pos  : 0.00 , 0.17 , -0.04\n",
        "Ref.    orn  : 0.40 , -0.06 , 0.25 , 0.88\n",
        "object  pos  : -0.28 , 0.17 , -0.11\n",
        "object  orn  : -0.01 , -0.54 , -0.53 , 0.65\n",
        ", Point with reference:\n",
        "=====================\n",
        "Type: 3\n",
        "Capture Time : Wed Nov 20 16:18:20 COT 2013\n",
        "Refer.  Time : Wed Dec 31 19:17:48 COT 1969\n",
        "Object  Time : Wed Dec 31 19:17:54 COT 1969\n",
        "Ref.    pos  : -0.09 , 0.12 , -0.03\n",
        "Ref.    orn  : -0.88 , 0.48 , -0.06 , 0.04\n",
        "object  pos  : -0.12 , 0.13 , 0.10\n",
        "object  orn  : -0.37 , 0.16 , -0.26 , 0.88\n",
        ", Point with reference:\n",
        "=====================\n",
        "Type: 4\n",
        "Capture Time : Wed Nov 20 16:18:31 COT 2013\n",
        "Refer.  Time : Wed Dec 31 19:18:01 COT 1969\n",
        "Object  Time : Wed Dec 31 19:18:04 COT 1969\n",
        "Ref.    pos  : -0.09 , 0.13 , -0.19\n",
        "Ref.    orn  : 0.29 , -0.74 , -0.32 , 0.51\n",
        "object  pos  : -0.09 , 0.15 , -0.22\n",
        "object  orn  : 0.11 , -0.84 , -0.42 , 0.32\n",
        ", Point with reference:\n",
        "=====================\n",
        "Type: 0\n",
        "Capture Time : Wed Nov 20 16:18:52 COT 2013\n",
        "Refer.  Time : Wed Dec 31 19:18:11 COT 1969\n",
        "Object  Time : Wed Dec 31 19:18:26 COT 1969\n",
        "Ref.    pos  : 0.10 , -0.20 , -0.85\n",
        "Ref.    orn  : -0.70 , -0.25 , 0.26 , 0.61\n",
        "object  pos  : -0.11 , 0.10 , -0.07\n",
        "object  orn  : -0.17 , -0.15 , -0.07 , 0.97\n",
        ", Point with reference:\n",
        "=====================\n",
        "Type: 0\n",
        "Capture Time : Wed Nov 20 16:18:57 COT 2013\n",
        "Refer.  Time : Wed Dec 31 19:18:11 COT 1969\n",
        "Object  Time : Wed Dec 31 19:18:31 COT 1969\n",
        "Ref.    pos  : 0.10 , -0.20 , -0.85\n",
        "Ref.    orn  : -0.70 , -0.25 , 0.26 , 0.61\n",
        "object  pos  : -0.11 , 0.10 , -0.07\n",
        "object  orn  : -0.17 , -0.15 , -0.07 , 0.97\n",
        ", Point with reference:\n",
        "=====================\n",
        "Type: 0\n",
        "Capture Time : Wed Nov 20 16:19:02 COT 2013\n",
        "Refer.  Time : Wed Dec 31 19:18:11 COT 1969\n",
        "Object  Time : Wed Dec 31 19:18:36 COT 1969\n",
        "Ref.    pos  : 0.10 , -0.20 , -0.85\n",
        "Ref.    orn  : -0.70 , -0.25 , 0.26 , 0.61\n",
        "object  pos  : -0.11 , 0.10 , -0.07\n",
        "object  orn  : -0.17 , -0.15 , -0.07 , 0.97\n",
        ", Point with reference:\n",
        "=====================\n",
        "Type: 0\n",
        "Capture Time : Wed Nov 20 16:19:07 COT 2013\n",
        "Refer.  Time : Wed Dec 31 19:18:11 COT 1969\n",
        "Object  Time : Wed Dec 31 19:18:41 COT 1969\n",
        "Ref.    pos  : 0.10 , -0.20 , -0.85\n",
        "Ref.    orn  : -0.70 , -0.25 , 0.26 , 0.61\n",
        "object  pos  : -0.11 , 0.10 , -0.07\n",
        "object  orn  : -0.17 , -0.15 , -0.07 , 0.97\n",
        ", Point with reference:\n",
        "=====================\n",
        "Type: 0\n",
        "Capture Time : Wed Nov 20 16:19:12 COT 2013\n",
        "Refer.  Time : Wed Dec 31 19:18:11 COT 1969\n",
        "Object  Time : Wed Dec 31 19:18:46 COT 1969\n",
        "Ref.    pos  : 0.10 , -0.20 , -0.85\n",
        "Ref.    orn  : -0.70 , -0.25 , 0.26 , 0.61\n",
        "object  pos  : -0.11 , 0.10 , -0.07\n",
        "object  orn  : -0.17 , -0.15 , -0.07 , 0.97\n",
        "]\n"
       ]
      }
     ],
     "prompt_number": 95
    },
    {
     "cell_type": "markdown",
     "metadata": {},
     "source": [
      "There is lots of information in these files, because we are only calibrating the sample we don't care about the reference, we also don't care about the samples with type 0 (the coil samples), so lets filter this out"
     ]
    },
    {
     "cell_type": "code",
     "collapsed": false,
     "input": [
      "pointer_data = [filter(lambda p:p.type!=0,s) for s in pointer_data]\n",
      "print pointer_data[0:1]"
     ],
     "language": "python",
     "metadata": {},
     "outputs": [
      {
       "output_type": "stream",
       "stream": "stdout",
       "text": [
        "[[Point with reference:\n",
        "=====================\n",
        "Type: 1\n",
        "Capture Time : Wed Nov 20 16:08:36 COT 2013\n",
        "Refer.  Time : Wed Dec 31 19:07:58 COT 1969\n",
        "Object  Time : Wed Dec 31 19:07:59 COT 1969\n",
        "Ref.    pos  : 0.20 , 0.46 , 0.02\n",
        "Ref.    orn  : 0.48 , -0.86 , -0.17 , -0.00\n",
        "object  pos  : -0.20 , 0.50 , 0.24\n",
        "object  orn  : -0.33 , 0.20 , 0.26 , 0.88\n",
        ", Point with reference:\n",
        "=====================\n",
        "Type: 2\n",
        "Capture Time : Wed Nov 20 16:08:46 COT 2013\n",
        "Refer.  Time : Wed Dec 31 19:07:58 COT 1969\n",
        "Object  Time : Wed Dec 31 19:07:59 COT 1969\n",
        "Ref.    pos  : 0.20 , 0.46 , 0.02\n",
        "Ref.    orn  : 0.48 , -0.86 , -0.17 , -0.00\n",
        "object  pos  : -0.20 , 0.50 , 0.24\n",
        "object  orn  : -0.33 , 0.20 , 0.26 , 0.88\n",
        ", Point with reference:\n",
        "=====================\n",
        "Type: 3\n",
        "Capture Time : Wed Nov 20 16:08:56 COT 2013\n",
        "Refer.  Time : Wed Dec 31 19:07:58 COT 1969\n",
        "Object  Time : Wed Dec 31 19:07:59 COT 1969\n",
        "Ref.    pos  : 0.20 , 0.46 , 0.02\n",
        "Ref.    orn  : 0.48 , -0.86 , -0.17 , -0.00\n",
        "object  pos  : -0.20 , 0.50 , 0.24\n",
        "object  orn  : -0.33 , 0.20 , 0.26 , 0.88\n",
        ", Point with reference:\n",
        "=====================\n",
        "Type: 4\n",
        "Capture Time : Wed Nov 20 16:09:06 COT 2013\n",
        "Refer.  Time : Wed Dec 31 19:07:58 COT 1969\n",
        "Object  Time : Wed Dec 31 19:07:59 COT 1969\n",
        "Ref.    pos  : 0.20 , 0.46 , 0.02\n",
        "Ref.    orn  : 0.48 , -0.86 , -0.17 , -0.00\n",
        "object  pos  : -0.20 , 0.50 , 0.24\n",
        "object  orn  : -0.33 , 0.20 , 0.26 , 0.88\n",
        "]]\n"
       ]
      }
     ],
     "prompt_number": 96
    },
    {
     "cell_type": "markdown",
     "metadata": {},
     "source": [
      "Now we should look at each of the samples separately in order to find obvious problems. If any of them looks problematic (for example, contains missing values) we should remove it"
     ]
    },
    {
     "cell_type": "code",
     "collapsed": false,
     "input": [
      "print len(pointer_data)"
     ],
     "language": "python",
     "metadata": {},
     "outputs": [
      {
       "output_type": "stream",
       "stream": "stdout",
       "text": [
        "3\n"
       ]
      }
     ],
     "prompt_number": 97
    },
    {
     "cell_type": "code",
     "collapsed": false,
     "input": [
      "print pointer_data[1]"
     ],
     "language": "python",
     "metadata": {},
     "outputs": [
      {
       "output_type": "stream",
       "stream": "stdout",
       "text": [
        "[Point with reference:\n",
        "=====================\n",
        "Type: 1\n",
        "Capture Time : Wed Nov 20 16:13:10 COT 2013\n",
        "Refer.  Time : Wed Dec 31 19:12:36 COT 1969\n",
        "Object  Time : Wed Dec 31 19:12:43 COT 1969\n",
        "Ref.    pos  : 0.07 , 0.13 , -0.21\n",
        "Ref.    orn  : 0.40 , -0.16 , 0.12 , 0.89\n",
        "object  pos  : 0.09 , 0.17 , -0.23\n",
        "object  orn  : 0.08 , -0.81 , -0.57 , 0.14\n",
        ", Point with reference:\n",
        "=====================\n",
        "Type: 2\n",
        "Capture Time : Wed Nov 20 16:13:20 COT 2013\n",
        "Refer.  Time : Wed Dec 31 19:12:46 COT 1969\n",
        "Object  Time : Wed Dec 31 19:12:53 COT 1969\n",
        "Ref.    pos  : -0.17 , 0.13 , -0.36\n",
        "Ref.    orn  : -0.14 , 0.95 , 0.14 , 0.23\n",
        "object  pos  : -0.23 , 0.16 , -0.34\n",
        "object  orn  : -0.02 , -0.58 , -0.51 , 0.64\n",
        ", Point with reference:\n",
        "=====================\n",
        "Type: 3\n",
        "Capture Time : Wed Nov 20 16:13:30 COT 2013\n",
        "Refer.  Time : Wed Dec 31 19:13:03 COT 1969\n",
        "Object  Time : Wed Dec 31 19:13:03 COT 1969\n",
        "Ref.    pos  : -0.06 , 0.13 , -0.20\n",
        "Ref.    orn  : 0.94 , 0.06 , -0.16 , 0.29\n",
        "object  pos  : -0.06 , 0.17 , -0.10\n",
        "object  orn  : -0.52 , 0.30 , -0.14 , 0.79\n",
        ", Point with reference:\n",
        "=====================\n",
        "Type: 4\n",
        "Capture Time : Wed Nov 20 16:13:40 COT 2013\n",
        "Refer.  Time : Wed Dec 31 19:13:13 COT 1969\n",
        "Object  Time : Wed Dec 31 19:13:13 COT 1969\n",
        "Ref.    pos  : 0.00 , 0.11 , -0.26\n",
        "Ref.    orn  : 0.01 , -0.50 , 0.77 , 0.41\n",
        "object  pos  : 0.05 , 0.18 , -0.32\n",
        "object  orn  : -0.76 , -0.00 , -0.62 , 0.19\n",
        ", Point with reference:\n",
        "=====================\n",
        "Type: 1\n",
        "Capture Time : Thu May 08 18:24:49 COT 2014\n",
        "Refer.  Time : Wed Dec 31 19:45:55 COT 1969\n",
        "Object  Time : Wed Dec 31 19:46:02 COT 1969\n",
        "Ref.    pos  : 0.33 , -0.48 , -0.24\n",
        "Ref.    orn  : -0.04 , -0.71 , -0.30 , 0.63\n",
        "object  pos  : 0.24 , -0.37 , -0.14\n",
        "object  orn  : 0.32 , -0.22 , 0.24 , 0.89\n",
        ", Point with reference:\n",
        "=====================\n",
        "Type: 2\n",
        "Capture Time : Thu May 08 18:24:59 COT 2014\n",
        "Refer.  Time : Wed Dec 31 19:46:14 COT 1969\n",
        "Object  Time : Wed Dec 31 19:46:18 COT 1969\n",
        "Ref.    pos  : 0.13 , -0.52 , -0.02\n",
        "Ref.    orn  : -0.03 , 0.30 , -0.51 , 0.81\n",
        "object  pos  : 0.11 , -0.51 , 0.01\n",
        "object  orn  : -0.17 , -0.02 , 0.98 , -0.03\n",
        ", Point with reference:\n",
        "=====================\n",
        "Type: 3\n",
        "Capture Time : Thu May 08 18:25:09 COT 2014\n",
        "Refer.  Time : Wed Dec 31 19:46:22 COT 1969\n",
        "Object  Time : Wed Dec 31 19:46:28 COT 1969\n",
        "Ref.    pos  : 0.27 , -0.51 , -0.06\n",
        "Ref.    orn  : -0.29 , 0.95 , 0.05 , 0.08\n",
        "object  pos  : 0.29 , -0.51 , -0.09\n",
        "object  orn  : 0.25 , -0.09 , -0.94 , -0.21\n",
        ", Point with reference:\n",
        "=====================\n",
        "Type: 4\n",
        "Capture Time : Thu May 08 18:25:19 COT 2014\n",
        "Refer.  Time : Wed Dec 31 19:46:31 COT 1969\n",
        "Object  Time : Wed Dec 31 19:46:32 COT 1969\n",
        "Ref.    pos  : 0.16 , -0.56 , -0.12\n",
        "Ref.    orn  : -0.74 , 0.50 , -0.31 , 0.31\n",
        "object  pos  : nan , nan , nan\n",
        "object  orn  : nan , nan , nan , nan\n",
        "]\n"
       ]
      }
     ],
     "prompt_number": 98
    },
    {
     "cell_type": "code",
     "collapsed": false,
     "input": [
      "#sample 1 contains data from two different days\n",
      "pointer_data[1] = pointer_data[1][:4]\n",
      "#sample 0 is always the same... new samples never arrived\n",
      "pointer_data = pointer_data[1:]\n"
     ],
     "language": "python",
     "metadata": {},
     "outputs": [],
     "prompt_number": 99
    },
    {
     "cell_type": "markdown",
     "metadata": {},
     "source": [
      "Finally, lets keep only the position and orientation, and transform the orientation to quaternions objects. "
     ]
    },
    {
     "cell_type": "code",
     "collapsed": false,
     "input": [
      "pointer_pairs = [map(transform_pointer_sample,s) for s in pointer_data]\n",
      "print pointer_pairs[0][0]"
     ],
     "language": "python",
     "metadata": {},
     "outputs": [
      {
       "output_type": "stream",
       "stream": "stdout",
       "text": [
        "PointerSample(pos=array([ 0.09402764,  0.17415331, -0.22514406]), orn=Quaternion:\n",
        "array([ 0.13881454,  0.07814534, -0.80502158, -0.5714578 ]))\n"
       ]
      }
     ],
     "prompt_number": 100
    },
    {
     "cell_type": "markdown",
     "metadata": {},
     "source": [
      "Lets take a look at this data using vtk, first let't get some colors"
     ]
    },
    {
     "cell_type": "code",
     "collapsed": false,
     "input": [
      "import colorbrewer\n",
      "colors = colorbrewer.Set3[max(3,len(pointer_pairs))]\n",
      "colors = map(lambda c:map(lambda x:x/255,c),colors)\n",
      "viewer = VtkViewer()\n",
      "for i,si in enumerate(pointer_pairs):\n",
      "    c = colors[i]\n",
      "    for p in si:\n",
      "        ac = get_sphere_actor(*p.pos)\n",
      "        ac.GetProperty().SetColor(c)\n",
      "        viewer.add_actor(ac)\n",
      "viewer.start()\n",
      "\n"
     ],
     "language": "python",
     "metadata": {},
     "outputs": [],
     "prompt_number": 101
    },
    {
     "cell_type": "markdown",
     "metadata": {},
     "source": [
      "## 1.2 Find pointer parameters"
     ]
    },
    {
     "cell_type": "markdown",
     "metadata": {},
     "source": [
      "Theory: The system deliver the coordinates of a position P and an orientation O. The point of the pointer (X) can be found as\n",
      "\n",
      "$$X = P + O \\times V \\times \\overline{O}$$\n",
      "\n",
      "Where V is an unknown vector. The objective here is to find this vector. \n",
      "\n",
      "The calibration position consisted in moving the pointer around while keeping the tip constant, this means, keeping X constant. We therefore have\n",
      "\n",
      "$$X = P_{j} + O_{j} \\times V \\times \\overline{O_{j}} + e_j $$\n",
      "\n",
      "Where e represents the error in the measurement, the objective is to find the values of V that minimize this error. We should have several sets of 4 samples, each with its own X, but V should be the same for all of them. For each case we have then\n",
      "\n",
      "$$X_i = P_{i,j} + O_{i,j} \\times V \\times \\overline{O_{i,j}} + e_i,j $$\n",
      "\n",
      "If we assing the same weight to all the errors, we can define the total quadratic error as\n",
      "\n",
      "$$E= \\sum_{i,j} e_{j,i}^2 = \\sum_{i,j} (X_i - P_{i,j} - O_{i,j} \\times V \\times \\overline{O_{i,j}})^2 $$\n",
      "\n"
     ]
    },
    {
     "cell_type": "code",
     "collapsed": false,
     "input": [
      "def pointer_error(vx):\n",
      "    #vx = V:x0:1\n",
      "    v = vx[0:3]\n",
      "    f = get_point_function(v)\n",
      "    tot_error = 0\n",
      "    for i in xrange(len(pointer_pairs)):\n",
      "        si = pointer_pairs[i]\n",
      "        x = vx[(i+1)*3:(i+2)*3]\n",
      "        mapped_points = np.array([f(pj.pos,pj.orn) for pj in si])\n",
      "        #x = np.mean(mapped_points,axis=0)\n",
      "        #Abs norm more robust to outliers than quadratic error\n",
      "        tot_error += sum(abs(np.linalg.norm(p-x)) for p in mapped_points )\n",
      "    return tot_error\n",
      "                              "
     ],
     "language": "python",
     "metadata": {},
     "outputs": [],
     "prompt_number": 102
    },
    {
     "cell_type": "code",
     "collapsed": false,
     "input": [
      "si=pointer_pairs[0]\n",
      "print pointer_error([0,0,0,0,0,0,0,0,0])"
     ],
     "language": "python",
     "metadata": {},
     "outputs": [
      {
       "output_type": "stream",
       "stream": "stdout",
       "text": [
        "0.731426759692\n"
       ]
      }
     ],
     "prompt_number": 103
    },
    {
     "cell_type": "code",
     "collapsed": false,
     "input": [
      "vx = np.zeros(3*(len(pointer_pairs)+1))\n",
      "#initialize vx as the meaan of the samples\n",
      "for i,s in enumerate(pointer_pairs):\n",
      "    mat = np.array(map(lambda x:x.pos,s))\n",
      "    vx[(i+1)*3:(i+2)*3] = np.mean(mat,axis=0)\n",
      "print vx\n",
      "#just a little test\n",
      "print pointer_error(vx)\n"
     ],
     "language": "python",
     "metadata": {},
     "outputs": [
      {
       "output_type": "stream",
       "stream": "stdout",
       "text": [
        "[ 0.          0.          0.         -0.03465648  0.16912753 -0.24720344\n",
        " -0.11328987  0.15205621 -0.07845773]\n",
        "0.199322621439\n"
       ]
      }
     ],
     "prompt_number": 104
    },
    {
     "cell_type": "code",
     "collapsed": false,
     "input": [
      "res = scipy.optimize.minimize(pointer_error,vx,jac=False,options={\"maxiter\":1000})\n",
      "print res\n"
     ],
     "language": "python",
     "metadata": {},
     "outputs": [
      {
       "output_type": "stream",
       "stream": "stdout",
       "text": [
        "   status: 0\n",
        "  success: True\n",
        "     njev: 14\n",
        "     nfev: 154\n",
        " hess_inv: array([[ 0.13392364, -0.03733085, -0.07442016, -0.02180406, -0.10581588,\n",
        "         0.04523129, -0.02494839, -0.13397125,  0.02699631],\n",
        "       [-0.03733085,  0.10593507,  0.05351441,  0.03066636,  0.05781585,\n",
        "        -0.00398133,  0.03157609,  0.10696157,  0.03164278],\n",
        "       [-0.07442016,  0.05351441,  0.17501046,  0.03677378,  0.14611108,\n",
        "        -0.01793952, -0.01388671,  0.18129089,  0.01145997],\n",
        "       [-0.02180406,  0.03066636,  0.03677378,  0.93966296,  0.0171081 ,\n",
        "        -0.06148437, -0.08128147, -0.10025342, -0.14808576],\n",
        "       [-0.10581588,  0.05781585,  0.14611108,  0.0171081 ,  0.71348364,\n",
        "         0.05191229,  0.23323543, -0.16024242,  0.12716869],\n",
        "       [ 0.04523129, -0.00398133, -0.01793952, -0.06148437,  0.05191229,\n",
        "         0.73622695,  0.18145579,  0.00418057, -0.33222094],\n",
        "       [-0.02494839,  0.03157609, -0.01388671, -0.08128147,  0.23323543,\n",
        "         0.18145579,  0.306495  , -0.11687458, -0.01134718],\n",
        "       [-0.13397125,  0.10696157,  0.18129089, -0.10025342, -0.16024242,\n",
        "         0.00418057, -0.11687458,  0.67185254, -0.11674636],\n",
        "       [ 0.02699631,  0.03164278,  0.01145997, -0.14808576,  0.12716869,\n",
        "        -0.33222094, -0.01134718, -0.11674636,  0.46247126]])\n",
        "      fun: 0.038702000619856604\n",
        "        x: array([ 0.147673  ,  0.04551027, -0.15107053, -0.04944009,  0.01557131,\n",
        "       -0.19294165, -0.0891553 ,  0.00067805, -0.0236288 ])\n",
        "  message: 'Optimization terminated successfully.'\n",
        "      jac: array([ -3.08593735e-06,   4.41446900e-07,  -3.12505290e-06,\n",
        "         2.79257074e-06,   2.85403803e-06,   1.41328201e-06,\n",
        "         5.41703776e-06,   2.13785097e-06,   1.45751983e-07])\n"
       ]
      }
     ],
     "prompt_number": 105
    },
    {
     "cell_type": "markdown",
     "metadata": {},
     "source": [
      "Now lets see the results the v vector, and the final value of the error"
     ]
    },
    {
     "cell_type": "code",
     "collapsed": false,
     "input": [
      "print res.fun\n",
      "v=res.x[0:3]\n",
      "print v"
     ],
     "language": "python",
     "metadata": {},
     "outputs": [
      {
       "output_type": "stream",
       "stream": "stdout",
       "text": [
        "0.0387020006199\n",
        "[ 0.147673    0.04551027 -0.15107053]\n"
       ]
      }
     ],
     "prompt_number": 106
    },
    {
     "cell_type": "markdown",
     "metadata": {},
     "source": [
      "## 1.3 Verifying results\n",
      "\n"
     ]
    },
    {
     "cell_type": "markdown",
     "metadata": {},
     "source": [
      "Lets calculate the mappings to the tip, given the vector v"
     ]
    },
    {
     "cell_type": "code",
     "collapsed": false,
     "input": [
      "point = get_point_function(v)\n",
      "mapped_points = [map(lambda p:point(p.pos,p.orn),s) for s in pointer_pairs]\n",
      "print mapped_points"
     ],
     "language": "python",
     "metadata": {},
     "outputs": [
      {
       "output_type": "stream",
       "stream": "stdout",
       "text": [
        "[[array([ 0.00260028,  0.01165689, -0.11588863]), array([-0.11879227, -0.0047099 , -0.24739458]), array([-0.03777486, -0.00277922, -0.23539537]), array([-0.04379486,  0.05811608, -0.17308869])], [array([-0.03573296,  0.0004638 ,  0.04935452]), array([-0.16283607, -0.00400541, -0.04688642]), array([-0.05271293, -0.00974997, -0.04941327]), array([-0.10534192,  0.01600273, -0.04757008])]]\n"
       ]
      }
     ],
     "prompt_number": 107
    },
    {
     "cell_type": "markdown",
     "metadata": {},
     "source": [
      "Now lets use vtk to verify the calibration results"
     ]
    },
    {
     "cell_type": "code",
     "collapsed": false,
     "input": [
      "viewer = VtkViewer()\n",
      "#The x_i\n",
      "for i in xrange(len(mapped_points)):\n",
      "    x = res.x[3*(i+1):3*(i+2)]\n",
      "    ac = get_sphere_actor(*x)\n",
      "    c = colors[i]\n",
      "    ac.GetProperty().SetColor(c)\n",
      "    ac.GetProperty().SetRepresentationToWireframe()\n",
      "    viewer.add_actor(ac)\n",
      "    \n",
      "\n",
      "viewer.start()"
     ],
     "language": "python",
     "metadata": {},
     "outputs": [],
     "prompt_number": 108
    },
    {
     "cell_type": "markdown",
     "metadata": {},
     "source": [
      "Let's add the mapped pints in the same colors"
     ]
    },
    {
     "cell_type": "code",
     "collapsed": false,
     "input": [
      "for i,s in enumerate(mapped_points):\n",
      "    for p in s:\n",
      "        ac = get_sphere_actor(*p)\n",
      "        ac.GetProperty().SetColor(colors[i])\n",
      "        ac.GetProperty().SetRepresentationToWireframe()\n",
      "        viewer.add_actor(ac)\n",
      "\n",
      "#viewer.start()"
     ],
     "language": "python",
     "metadata": {},
     "outputs": [],
     "prompt_number": 109
    },
    {
     "cell_type": "markdown",
     "metadata": {},
     "source": [
      "And Let's add the original data"
     ]
    },
    {
     "cell_type": "code",
     "collapsed": false,
     "input": [
      " for i,si in enumerate(pointer_pairs):\n",
      "    c = colors[i]\n",
      "    for p in si:\n",
      "        ac = get_sphere_actor(*p.pos)\n",
      "        ac.GetProperty().SetColor(c)\n",
      "        viewer.add_actor(ac)\n",
      "#viewer.start()"
     ],
     "language": "python",
     "metadata": {},
     "outputs": [],
     "prompt_number": 110
    },
    {
     "cell_type": "markdown",
     "metadata": {},
     "source": [
      "Let's connect them with lines"
     ]
    },
    {
     "cell_type": "code",
     "collapsed": false,
     "input": [
      "for i,(ops,mps) in enumerate(izip(pointer_pairs,mapped_points)):\n",
      "    c = colors[i]\n",
      "    for p1,p2 in izip(ops,mps):\n",
      "        ac = get_line_actor(p1.pos,p2)\n",
      "        ac.GetProperty().SetColor(c)\n",
      "        viewer.add_actor(ac)\n",
      "viewer.start()"
     ],
     "language": "python",
     "metadata": {},
     "outputs": [],
     "prompt_number": 111
    }
   ],
   "metadata": {}
  }
 ]
}