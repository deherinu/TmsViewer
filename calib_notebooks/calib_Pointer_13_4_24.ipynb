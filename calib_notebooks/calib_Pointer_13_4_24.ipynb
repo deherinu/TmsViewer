{
 "metadata": {
  "name": "",
  "signature": "sha256:c0f295c3ed567a1b5325f1c222dc0a5c75434f93480b41ba703dba1414d76e58"
 },
 "nbformat": 3,
 "nbformat_minor": 0,
 "worksheets": [
  {
   "cells": [
    {
     "cell_type": "heading",
     "level": 1,
     "metadata": {},
     "source": [
      "TMS - optitracking calibration"
     ]
    },
    {
     "cell_type": "markdown",
     "metadata": {},
     "source": [
      "This file demonstrates how to convert the data taken during the calibration procedure into useful values that can be used for visualizing and analysing the data. This process should be carried out interactively in a python console or notebook, as in this example. We will start by loading some modules we will use throughout the process"
     ]
    },
    {
     "cell_type": "code",
     "collapsed": false,
     "input": [
      "from __future__ import division\n",
      "import numpy as np\n",
      "import scipy.optimize\n",
      "import sys\n",
      "import os\n",
      "import datetime\n",
      "from itertools import izip\n",
      "#change this to the directory containing your tms-data\n",
      "os.chdir(r\"C:\\Users\\Diego\\Dropbox\\VaBD\\ProyectoSavingBrains\\TMS-Optitracking\\TMS Data Mayo 2014\\TMS_Data\")\n",
      "#directory containing the tms view 2 project\n",
      "sys.path.append(r\"C:\\Users\\Diego\\Dropbox\\VaBD\\ProyectoSavingBrains\\TMS-Optitracking\\tms_view2\")\n",
      "import quat\n",
      "import tms_utils as tms\n",
      "\n",
      "#utility functions used during the calibration\n",
      "from calibration_commands import *"
     ],
     "language": "python",
     "metadata": {},
     "outputs": [],
     "prompt_number": 2
    },
    {
     "cell_type": "markdown",
     "metadata": {},
     "source": [
      "## 1 Pointer Calibration\n",
      "\n",
      "Here the objective is to obtain a function that will transform the vrpn values into coordinates corresponding to tip of the pointer\n",
      "\n",
      "### 1.1 Loading the data\n",
      "\n",
      "The first step is loading the samples for this calibration. This should be loaded into a list. In order to keep data organized, this information should be saved in the calibration_data.py file. We will use a function from calibration commands"
     ]
    },
    {
     "cell_type": "code",
     "collapsed": false,
     "input": [
      "calib_date = datetime.date(2013, 4, 24)\n",
      "pointer_samples = load_pointer_samples(calib_date)\n",
      "print pointer_samples"
     ],
     "language": "python",
     "metadata": {},
     "outputs": [
      {
       "output_type": "stream",
       "stream": "stdout",
       "text": [
        "['1201', '1202', '1203', '1204', '1207', '1208', '1209']\n"
       ]
      }
     ],
     "prompt_number": 3
    },
    {
     "cell_type": "markdown",
     "metadata": {},
     "source": [
      "Now we are going to load the data inside this files, "
     ]
    },
    {
     "cell_type": "code",
     "collapsed": false,
     "input": [
      "pointer_data = map(load_data,pointer_samples)\n",
      "print pointer_data[4]"
     ],
     "language": "python",
     "metadata": {},
     "outputs": [
      {
       "output_type": "stream",
       "stream": "stdout",
       "text": [
        "[(1,2013-04-24 11:55:41,1970-01-01 12:14:34,(0.24944323301315308, 0.8883746266365051, -0.5218389630317688),(0.8530058860778809, 0.11218784004449844, -0.24003633856773376, 0.4496414065361023),1970-01-01 12:05:02,(1.2195303440093994, 1.384728193283081, -0.8498274087905884),(0.37490445375442505, 0.0805729329586029, -0.9224219918251038, -0.04574288800358772)), (2,2013-04-24 11:55:51,1970-01-01 12:14:44,(0.23780912160873413, 0.8776119351387024, -0.5912938117980957),(0.9043490290641785, 0.28042128682136536, 0.19942131638526917, 0.2524832785129547),1970-01-01 12:05:02,(1.2195303440093994, 1.384728193283081, -0.8498274087905884),(0.37490445375442505, 0.0805729329586029, -0.9224219918251038, -0.04574288800358772)), (3,2013-04-24 11:56:01,1970-01-01 12:14:54,(0.20470665395259857, 0.890658438205719, -0.5682348608970642),(0.7190912365913391, 0.4976392090320587, 0.46875113248825073, 0.12464126199483871),1970-01-01 12:05:02,(1.2195303440093994, 1.384728193283081, -0.8498274087905884),(0.37490445375442505, 0.0805729329586029, -0.9224219918251038, -0.04574288800358772)), (4,2013-04-24 11:56:11,1970-01-01 12:15:04,(0.16370755434036255, 0.8910422325134277, -0.502491295337677),(0.2567084729671478, -0.30085569620132446, -0.7864907383918762, 0.47436150908470154),1970-01-01 12:05:02,(1.2195303440093994, 1.384728193283081, -0.8498274087905884),(0.37490445375442505, 0.0805729329586029, -0.9224219918251038, -0.04574288800358772))]\n"
       ]
      }
     ],
     "prompt_number": 4
    },
    {
     "cell_type": "markdown",
     "metadata": {},
     "source": [
      "There is lots of information in these files, because we are only calibrating the sample we don't care about the reference, we also don't care about the samples with type 0 (the coil samples), so lets filter this out"
     ]
    },
    {
     "cell_type": "code",
     "collapsed": false,
     "input": [
      "pointer_data = [filter(lambda p:p.type!=0,s) for s in pointer_data]\n",
      "print pointer_data[0:1]"
     ],
     "language": "python",
     "metadata": {},
     "outputs": [
      {
       "output_type": "stream",
       "stream": "stdout",
       "text": [
        "[[(1,2013-04-24 11:32:27,1970-01-01 11:51:19,(0.433356374502182, 0.7686194181442261, -0.5294849276542664),(0.9245642423629761, 0.0570138618350029, -0.24808603525161743, 0.2835201621055603),1970-01-01 11:48:34,(0.9020995497703552, 1.3117856979370117, -0.2683728337287903),(0.35526034235954285, 0.7190861105918884, -0.529931366443634, 0.27545955777168274)), (2,2013-04-24 11:32:37,1970-01-01 11:51:29,(0.36791741847991943, 0.7602229714393616, -0.6203553080558777),(0.9258040189743042, 0.20711684226989746, 0.2666151821613312, 0.17001718282699585),1970-01-01 11:51:21,(0.41310402750968933, 0.760026752948761, -0.48809221386909485),(0.32399678230285645, -0.3837200403213501, 0.8288359045982361, 0.24660919606685638)), (3,2013-04-24 11:32:47,1970-01-01 11:51:39,(0.3469897508621216, 0.764621913433075, -0.4050956666469574),(0.5964057445526123, -0.00870213471353054, -0.743718147277832, 0.3018406629562378),1970-01-01 11:51:31,(0.4065108299255371, 0.7637034058570862, -0.4764512777328491),(0.3457014560699463, -0.38497886061668396, 0.8071589469909668, 0.28421175479888916)), (4,2013-04-24 11:32:57,1970-01-01 11:51:49,(0.21655923128128052, 0.7701968550682068, -0.4948323667049408),(0.10495807230472565, 0.22472849488258362, 0.9426276087760925, -0.2234593778848648),1970-01-01 11:51:31,(0.4065108299255371, 0.7637034058570862, -0.4764512777328491),(0.3457014560699463, -0.38497886061668396, 0.8071589469909668, 0.28421175479888916))]]\n"
       ]
      }
     ],
     "prompt_number": 5
    },
    {
     "cell_type": "markdown",
     "metadata": {},
     "source": [
      "Now we should look at each of the samples separately in order to find obvious problems. If any of them looks problematic (for example, contains missing values) we should remove it"
     ]
    },
    {
     "cell_type": "code",
     "collapsed": false,
     "input": [
      "print len(pointer_data)\n",
      "orig_point_data = pointer_data[:]"
     ],
     "language": "python",
     "metadata": {},
     "outputs": [
      {
       "output_type": "stream",
       "stream": "stdout",
       "text": [
        "7\n"
       ]
      }
     ],
     "prompt_number": 6
    },
    {
     "cell_type": "markdown",
     "metadata": {},
     "source": [
      "Be sure to look at all the samples by changing the index in the next command... Afterwards do any cleanup necessary in the next cell."
     ]
    },
    {
     "cell_type": "code",
     "collapsed": false,
     "input": [
      "print pointer_data[6]"
     ],
     "language": "python",
     "metadata": {},
     "outputs": [
      {
       "output_type": "stream",
       "stream": "stdout",
       "text": [
        "[(1,2013-04-24 11:59:15,1970-01-01 12:18:08,(0.35648074746131897, 0.8835105299949646, -0.5190063714981079),(-0.03741629421710968, -0.43034493923187256, -0.8076575994491577, 0.4013632833957672),1970-01-01 12:17:55,(-0.0660175308585167, 1.1330130100250244, -0.3000143766403198),(0.2115519940853119, 0.09956060349941254, -0.7235484719276428, 0.6494698524475098)), (2,2013-04-24 11:59:25,1970-01-01 12:18:18,(0.3859087824821472, 0.8875529170036316, -0.5340868830680847),(0.6894603967666626, 0.49051162600517273, 0.5164008736610413, 0.13180620968341827),1970-01-01 12:17:55,(-0.0660175308585167, 1.1330130100250244, -0.3000143766403198),(0.2115519940853119, 0.09956060349941254, -0.7235484719276428, 0.6494698524475098)), (3,2013-04-24 11:59:35,1970-01-01 12:18:28,(0.4463484287261963, 0.8747367858886719, -0.5337181091308594),(0.9053258299827576, 0.1776987612247467, -0.0482005849480629, 0.38273364305496216),1970-01-01 12:17:55,(-0.0660175308585167, 1.1330130100250244, -0.3000143766403198),(0.2115519940853119, 0.09956060349941254, -0.7235484719276428, 0.6494698524475098)), (4,2013-04-24 11:59:45,1970-01-01 12:18:38,(0.4054984748363495, 0.8890559673309326, -0.4764224588871002),(0.6276062726974487, -0.09010173380374908, -0.5584726333618164, 0.5348835587501526),1970-01-01 12:17:55,(-0.0660175308585167, 1.1330130100250244, -0.3000143766403198),(0.2115519940853119, 0.09956060349941254, -0.7235484719276428, 0.6494698524475098))]\n"
       ]
      }
     ],
     "prompt_number": 7
    },
    {
     "cell_type": "code",
     "collapsed": false,
     "input": [
      "#all looks good\n",
      "pointer_data = pointer_data[:]"
     ],
     "language": "python",
     "metadata": {},
     "outputs": [],
     "prompt_number": 8
    },
    {
     "cell_type": "markdown",
     "metadata": {},
     "source": [
      "Finally, lets keep only the position and orientation, and transform the orientation to quaternions objects. "
     ]
    },
    {
     "cell_type": "code",
     "collapsed": false,
     "input": [
      "pointer_pairs = [map(transform_sample_no_ref,s) for s in pointer_data]\n",
      "print pointer_pairs[0][0]"
     ],
     "language": "python",
     "metadata": {},
     "outputs": [
      {
       "output_type": "stream",
       "stream": "stdout",
       "text": [
        "PointerSample(pos=array([ 0.43335637,  0.76861942, -0.52948493]), orn=Quaternion:\n",
        "array([ 0.92456424,  0.05701386, -0.24808604,  0.28352016]))\n"
       ]
      }
     ],
     "prompt_number": 9
    },
    {
     "cell_type": "markdown",
     "metadata": {},
     "source": [
      "Lets take a look at this data using vtk. Look for the vtk window that will open after excecuting this cell."
     ]
    },
    {
     "cell_type": "code",
     "collapsed": false,
     "input": [
      "# first let't get some colors\n",
      "import colorbrewer\n",
      "colors = colorbrewer.Set3[max(3,len(pointer_pairs))]\n",
      "colors = map(lambda c:map(lambda x:x/255,c),colors)\n",
      "viewer = VtkViewer()\n",
      "for i,si in enumerate(pointer_pairs):\n",
      "    c = colors[i]\n",
      "    for p in si:\n",
      "        ac = get_sphere_actor(*p.pos)\n",
      "        ac.GetProperty().SetColor(c)\n",
      "        viewer.add_actor(ac)\n",
      "viewer.start()\n",
      "del viewer\n",
      "\n"
     ],
     "language": "python",
     "metadata": {},
     "outputs": [],
     "prompt_number": 10
    },
    {
     "cell_type": "markdown",
     "metadata": {},
     "source": [
      "## 1.2 Find pointer parameters"
     ]
    },
    {
     "cell_type": "markdown",
     "metadata": {},
     "source": [
      "Theory: The system deliver the coordinates of a position P and an orientation O. The point of the pointer (X) can be found as\n",
      "\n",
      "$$X = P + O \\times V \\times \\overline{O}$$\n",
      "\n",
      "Where V is an unknown vector. The objective here is to find this vector. \n",
      "\n",
      "The calibration position consisted in moving the pointer around while keeping the tip constant, this means, keeping X constant. We therefore have\n",
      "\n",
      "$$X = P_{j} + O_{j} \\times V \\times \\overline{O_{j}} + e_j $$\n",
      "\n",
      "Where e represents the error in the measurement, the objective is to find the values of V that minimize this error. We should have several sets of 4 samples, each with its own X, but V should be the same for all of them. For each case we have then\n",
      "\n",
      "$$X_i = P_{i,j} + O_{i,j} \\times V \\times \\overline{O_{i,j}} + e_i,j $$\n",
      "\n",
      "Let \n",
      "\n",
      "$${f_v}(p,o) = x = p + o \\times v \\times \\overline{o} $$\n",
      "\n",
      "If we assing the same weight to all the errors, we can define the total error as\n",
      "\n",
      "$$E= \\sum_{i,j} \\left|e_{j,i}\\right| = \\sum_{i,j} \\left|(X_i - f_v(P_{i,j},O_{i,j})\\right| $$\n",
      "\n"
     ]
    },
    {
     "cell_type": "code",
     "collapsed": false,
     "input": [
      "def pointer_error(vx):\n",
      "    #vx = V:x0:1\n",
      "    v = vx[0:3]\n",
      "    f = get_point_function(v)\n",
      "    tot_error = 0\n",
      "    for i in xrange(len(pointer_pairs)):\n",
      "        si = pointer_pairs[i]\n",
      "        x = vx[(i+1)*3:(i+2)*3]\n",
      "        mapped_points = np.array([f(pj.pos,pj.orn) for pj in si])\n",
      "        #x = np.mean(mapped_points,axis=0)\n",
      "        #L1 norm more robust to outliers than quadratic error\n",
      "        tot_error += sum(abs(np.linalg.norm(p-x))**2 for p in mapped_points )\n",
      "    return tot_error\n",
      "                            "
     ],
     "language": "python",
     "metadata": {},
     "outputs": [],
     "prompt_number": 11
    },
    {
     "cell_type": "code",
     "collapsed": false,
     "input": [
      "si=pointer_pairs[0]\n",
      "print pointer_error([0]*3*(len(pointer_pairs)+1))"
     ],
     "language": "python",
     "metadata": {},
     "outputs": [
      {
       "output_type": "stream",
       "stream": "stdout",
       "text": [
        "32.9852528469\n"
       ]
      }
     ],
     "prompt_number": 12
    },
    {
     "cell_type": "code",
     "collapsed": false,
     "input": [
      "vx = np.ones(3*(len(pointer_pairs)+1))\n",
      "#initialize vx as the meaan of the samples\n",
      "for i,s in enumerate(pointer_pairs):\n",
      "    mat = np.array(map(lambda x:x.pos,s))\n",
      "    vx[(i+1)*3:(i+2)*3] = np.mean(mat,axis=0)\n",
      "print vx\n",
      "#just a little test\n",
      "print pointer_error(vx)"
     ],
     "language": "python",
     "metadata": {},
     "outputs": [
      {
       "output_type": "stream",
       "stream": "stdout",
       "text": [
        "[ 1.          1.          1.          0.34120569  0.76591529 -0.51244207\n",
        "  0.3924941   0.76680602 -0.4828302   0.40321936  1.02391112 -0.59664393\n",
        "  0.41029189  0.77367531 -0.6228804   0.21391664  0.88692181 -0.54596473\n",
        "  0.39752791  0.88577084 -0.51497417  0.39855911  0.88371405 -0.51580846]\n",
        "83.4456075925\n"
       ]
      }
     ],
     "prompt_number": 13
    },
    {
     "cell_type": "code",
     "collapsed": false,
     "input": [
      "res = scipy.optimize.minimize(pointer_error,vx)\n",
      "print res\n"
     ],
     "language": "python",
     "metadata": {},
     "outputs": [
      {
       "output_type": "stream",
       "stream": "stdout",
       "text": [
        "   status: 0\n",
        "  success: True\n",
        "     njev: 17\n",
        "     nfev: 442\n",
        " hess_inv: array([[  1.20193584e-01,   1.10612288e-01,  -7.75378839e-02,\n",
        "          7.38336945e-03,   1.70970498e-01,  -5.40310483e-03,\n",
        "          6.26476874e-03,   1.69494936e-01,   2.18011053e-02,\n",
        "          3.74311213e-02,   1.68804432e-01,   7.80292345e-04,\n",
        "          5.61895395e-02,   1.66087866e-01,   6.12923637e-03,\n",
        "          9.97216250e-03,   1.77216613e-01,  -1.50183844e-02,\n",
        "          1.43590944e-03,   1.78495734e-01,  -1.97888437e-03,\n",
        "          7.50679304e-03,   1.74613449e-01,  -2.26086812e-02],\n",
        "       [  1.10612288e-01,   1.49077447e-01,  -8.77232037e-02,\n",
        "          2.33231952e-03,   2.02613648e-01,  -1.25724507e-02,\n",
        "          2.12750761e-03,   2.00435150e-01,   9.83303107e-03,\n",
        "          3.03009216e-02,   1.98894915e-01,  -1.03600480e-02,\n",
        "          3.92141551e-02,   1.96250937e-01,   1.68934593e-02,\n",
        "          3.65494414e-04,   1.96452200e-01,  -1.29725137e-02,\n",
        "         -6.52716325e-03,   1.95350448e-01,   3.71148732e-03,\n",
        "          5.14181805e-03,   1.90823626e-01,  -2.59099081e-02],\n",
        "       [ -7.75378839e-02,  -8.77232037e-02,   8.34451788e-02,\n",
        "         -7.81831746e-03,  -1.36042080e-01,   1.06607202e-02,\n",
        "         -1.39660043e-02,  -1.35015499e-01,  -8.18385493e-03,\n",
        "         -3.29560596e-02,  -1.34240098e-01,   1.27339785e-02,\n",
        "         -2.83289700e-02,  -1.35771448e-01,   1.01432100e-02,\n",
        "         -1.37009236e-03,  -1.39769716e-01,   1.81367443e-02,\n",
        "          5.78891554e-03,  -1.38674054e-01,   5.27930393e-03,\n",
        "         -5.60181540e-03,  -1.37355391e-01,   2.04859599e-02],\n",
        "       [  7.38336945e-03,   2.33231952e-03,  -7.81831746e-03,\n",
        "          9.67995495e-01,   3.57442055e-02,  -4.18195898e-05,\n",
        "         -5.54793437e-02,   3.37825549e-02,  -2.21545994e-02,\n",
        "         -6.08696410e-02,   3.13420455e-02,   8.52387942e-03,\n",
        "         -3.17821015e-02,   1.81078005e-02,   9.92961895e-02,\n",
        "         -1.73007470e-02,  -1.15958589e-02,   4.07164151e-02,\n",
        "         -4.88085526e-03,  -1.33119204e-02,   3.77669476e-02,\n",
        "         -1.20174580e-02,  -2.07354791e-02,   8.62960467e-03],\n",
        "       [  1.70970498e-01,   2.02613648e-01,  -1.36042080e-01,\n",
        "          3.57442055e-02,   1.13379931e+00,   4.07479445e-03,\n",
        "          4.44777189e-02,   1.31701460e-01,   5.60166109e-02,\n",
        "          9.04385472e-02,   1.34880983e-01,   1.41824986e-02,\n",
        "          1.11988287e-01,   1.39739853e-01,  -6.41963214e-02,\n",
        "          3.70081692e-02,   1.86048083e-01,  -4.37529521e-02,\n",
        "          1.75944331e-02,   1.92358073e-01,  -2.97185270e-02,\n",
        "          1.99667887e-02,   1.92249928e-01,  -2.60674685e-02],\n",
        "       [ -5.40310483e-03,  -1.25724507e-02,   1.06607202e-02,\n",
        "         -4.18195898e-05,   4.07479445e-03,   9.64344846e-01,\n",
        "          3.15173376e-02,   4.00566275e-03,  -6.01710857e-02,\n",
        "         -4.29753338e-03,   2.10254000e-03,  -7.22572346e-02,\n",
        "         -1.05411657e-01,   1.86542277e-02,  -5.12795690e-02,\n",
        "         -4.31832626e-02,  -1.92775056e-02,  -2.04003893e-02,\n",
        "         -4.06368107e-02,  -3.17970623e-02,  -7.71981348e-03,\n",
        "         -6.41104925e-03,  -2.42303214e-02,  -1.00323163e-02],\n",
        "       [  6.26476874e-03,   2.12750761e-03,  -1.39660043e-02,\n",
        "         -5.54793437e-02,   4.44777189e-02,   3.15173376e-02,\n",
        "          8.76662987e-01,   4.12356831e-02,   1.28541244e-02,\n",
        "         -1.03681637e-01,   3.87879074e-02,   7.77803280e-02,\n",
        "          3.32371707e-02,   1.81280332e-03,   2.14908240e-01,\n",
        "          7.28465972e-03,  -1.69060005e-02,   8.89376820e-02,\n",
        "          2.70577420e-02,  -9.00204518e-03,   7.18148938e-02,\n",
        "         -1.56050959e-02,  -2.80776388e-02,   2.53670766e-02],\n",
        "       [  1.69494936e-01,   2.00435150e-01,  -1.35015499e-01,\n",
        "          3.37825549e-02,   1.31701460e-01,   4.00566275e-03,\n",
        "          4.12356831e-02,   1.12938295e+00,   5.38829995e-02,\n",
        "          8.60340688e-02,   1.32503810e-01,   1.43704770e-02,\n",
        "          1.08364623e-01,   1.36783524e-01,  -5.87924750e-02,\n",
        "          3.56011697e-02,   1.80903185e-01,  -4.11221204e-02,\n",
        "          1.71381906e-02,   1.87033656e-01,  -2.73751152e-02,\n",
        "          1.90966515e-02,   1.86588613e-01,  -2.50343003e-02],\n",
        "       [  2.18011053e-02,   9.83303107e-03,  -8.18385493e-03,\n",
        "         -2.21545994e-02,   5.60166109e-02,  -6.01710857e-02,\n",
        "          1.28541244e-02,   5.38829995e-02,   8.86640625e-01,\n",
        "         -4.61974720e-02,   4.90514564e-02,  -1.13763171e-01,\n",
        "         -1.90626024e-01,   6.67077915e-02,  -1.21103483e-02,\n",
        "         -8.29637397e-02,  -1.65495178e-02,  -6.35229205e-03,\n",
        "         -7.08212145e-02,  -3.84261094e-02,   1.47617310e-02,\n",
        "         -1.82817277e-02,  -3.18690473e-02,  -1.34101320e-02],\n",
        "       [  3.74311213e-02,   3.03009216e-02,  -3.29560596e-02,\n",
        "         -6.08696410e-02,   9.04385472e-02,  -4.29753338e-03,\n",
        "         -1.03681637e-01,   8.60340688e-02,  -4.61974720e-02,\n",
        "          8.86432216e-01,   8.12579918e-02,   9.73313812e-03,\n",
        "         -6.46928509e-02,   5.70334348e-02,   1.88184221e-01,\n",
        "         -3.63638912e-02,  -2.87299269e-03,   7.50399931e-02,\n",
        "         -1.30734179e-02,  -7.22812496e-03,   7.25689458e-02,\n",
        "         -2.28647156e-02,  -2.14518438e-02,   1.30618370e-02],\n",
        "       [  1.68804432e-01,   1.98894915e-01,  -1.34240098e-01,\n",
        "          3.13420455e-02,   1.34880983e-01,   2.10254000e-03,\n",
        "          3.87879074e-02,   1.32503810e-01,   4.90514564e-02,\n",
        "          8.12579918e-02,   1.13528882e+00,   1.11014885e-02,\n",
        "          1.00359390e-01,   1.39429974e-01,  -5.41094115e-02,\n",
        "          3.19752995e-02,   1.79315915e-01,  -3.91852845e-02,\n",
        "          1.45601895e-02,   1.84641656e-01,  -2.50532600e-02,\n",
        "          1.78367595e-02,   1.84063837e-01,  -2.49792257e-02],\n",
        "       [  7.80292345e-04,  -1.03600480e-02,   1.27339785e-02,\n",
        "          8.52387942e-03,   1.41824986e-02,  -7.22572346e-02,\n",
        "          7.77803280e-02,   1.43704770e-02,  -1.13763171e-01,\n",
        "          9.73313812e-03,   1.11014885e-02,   8.52473462e-01,\n",
        "         -1.99447150e-01,   4.74890767e-02,  -1.27374133e-01,\n",
        "         -8.17751655e-02,  -2.05440293e-02,  -5.24950675e-02,\n",
        "         -8.04725967e-02,  -4.52122757e-02,  -2.50651865e-02,\n",
        "         -9.26207885e-03,  -2.84784488e-02,  -2.43022527e-02],\n",
        "       [  5.61895395e-02,   3.92141551e-02,  -2.83289700e-02,\n",
        "         -3.17821015e-02,   1.11988287e-01,  -1.05411657e-01,\n",
        "          3.32371707e-02,   1.08364623e-01,  -1.90626024e-01,\n",
        "         -6.46928509e-02,   1.00359390e-01,  -1.99447150e-01,\n",
        "          6.80930210e-01,   1.33196275e-01,  -3.83909743e-02,\n",
        "         -1.40009006e-01,  -4.95794655e-03,  -2.03188322e-02,\n",
        "         -1.22177803e-01,  -4.25616974e-02,   1.86580460e-02,\n",
        "         -2.86868944e-02,  -3.02950466e-02,  -2.76747203e-02],\n",
        "       [  1.66087866e-01,   1.96250937e-01,  -1.35771448e-01,\n",
        "          1.81078005e-02,   1.39739853e-01,   1.86542277e-02,\n",
        "          1.81280332e-03,   1.36783524e-01,   6.67077915e-02,\n",
        "          5.70334348e-02,   1.39429974e-01,   4.74890767e-02,\n",
        "          1.33196275e-01,   1.13077100e+00,   8.94554500e-03,\n",
        "          4.42854128e-02,   1.75574827e-01,  -1.28184323e-02,\n",
        "          3.10725586e-02,   1.85869803e-01,  -6.36521345e-03,\n",
        "          1.55699511e-02,   1.79051098e-01,  -1.59328322e-02],\n",
        "       [  6.12923637e-03,   1.68934593e-02,   1.01432100e-02,\n",
        "          9.92961895e-02,  -6.41963214e-02,  -5.12795690e-02,\n",
        "          2.14908240e-01,  -5.87924750e-02,  -1.21103483e-02,\n",
        "          1.88184221e-01,  -5.41094115e-02,  -1.27374133e-01,\n",
        "         -3.83909743e-02,   8.94554500e-03,   6.26538902e-01,\n",
        "         -5.64913670e-03,   4.87072631e-02,  -1.56280212e-01,\n",
        "         -4.18816026e-02,   3.66367578e-02,  -1.26330066e-01,\n",
        "          2.93858806e-02,   6.89899911e-02,  -4.55629682e-02],\n",
        "       [  9.97216250e-03,   3.65494414e-04,  -1.37009236e-03,\n",
        "         -1.73007470e-02,   3.70081692e-02,  -4.31832626e-02,\n",
        "          7.28465972e-03,   3.56011697e-02,  -8.29637397e-02,\n",
        "         -3.63638912e-02,   3.19752995e-02,  -8.17751655e-02,\n",
        "         -1.40009006e-01,   4.42854128e-02,  -5.64913670e-03,\n",
        "          9.39331534e-01,  -1.69709276e-02,  -2.83083919e-03,\n",
        "         -5.12917326e-02,  -3.28371897e-02,   1.17834468e-02,\n",
        "         -1.38150044e-02,  -2.82137276e-02,  -8.80639454e-03],\n",
        "       [  1.77216613e-01,   1.96452200e-01,  -1.39769716e-01,\n",
        "         -1.15958589e-02,   1.86048083e-01,  -1.92775056e-02,\n",
        "         -1.69060005e-02,   1.80903185e-01,  -1.65495178e-02,\n",
        "         -2.87299269e-03,   1.79315915e-01,  -2.05440293e-02,\n",
        "         -4.95794655e-03,   1.75574827e-01,   4.87072631e-02,\n",
        "         -1.69709276e-02,   1.15295907e+00,   3.26424649e-03,\n",
        "         -1.62138650e-02,   1.48518454e-01,   2.11442666e-02,\n",
        "         -2.07593647e-03,   1.42447067e-01,  -1.94560161e-02],\n",
        "       [ -1.50183844e-02,  -1.29725137e-02,   1.81367443e-02,\n",
        "          4.07164151e-02,  -4.37529521e-02,  -2.04003893e-02,\n",
        "          8.89376820e-02,  -4.11221204e-02,  -6.35229205e-03,\n",
        "          7.50399931e-02,  -3.91852845e-02,  -5.24950675e-02,\n",
        "         -2.03188322e-02,  -1.28184323e-02,  -1.56280212e-01,\n",
        "         -2.83083919e-03,   3.26424649e-03,   9.36346657e-01,\n",
        "         -1.72047212e-02,  -1.76056575e-03,  -5.27966470e-02,\n",
        "          1.15833596e-02,   1.21187390e-02,  -1.67498365e-02],\n",
        "       [  1.43590944e-03,  -6.52716325e-03,   5.78891554e-03,\n",
        "         -4.88085526e-03,   1.75944331e-02,  -4.06368107e-02,\n",
        "          2.70577420e-02,   1.71381906e-02,  -7.08212145e-02,\n",
        "         -1.30734179e-02,   1.45601895e-02,  -8.04725967e-02,\n",
        "         -1.22177803e-01,   3.10725586e-02,  -4.18816026e-02,\n",
        "         -5.12917326e-02,  -1.62138650e-02,  -1.72047212e-02,\n",
        "          9.53229621e-01,  -3.06218382e-02,  -2.75879207e-03,\n",
        "         -8.87919883e-03,  -2.34055958e-02,  -1.09364081e-02],\n",
        "       [  1.78495734e-01,   1.95350448e-01,  -1.38674054e-01,\n",
        "         -1.33119204e-02,   1.92358073e-01,  -3.17970623e-02,\n",
        "         -9.00204518e-03,   1.87033656e-01,  -3.84261094e-02,\n",
        "         -7.22812496e-03,   1.84641656e-01,  -4.52122757e-02,\n",
        "         -4.25616974e-02,   1.85869803e-01,   3.66367578e-02,\n",
        "         -3.28371897e-02,   1.48518454e-01,  -1.76056575e-03,\n",
        "         -3.06218382e-02,   1.13963991e+00,   2.06040557e-02,\n",
        "         -4.86830462e-03,   1.35710250e-01,  -2.28295066e-02],\n",
        "       [ -1.97888437e-03,   3.71148732e-03,   5.27930393e-03,\n",
        "          3.77669476e-02,  -2.97185270e-02,  -7.71981348e-03,\n",
        "          7.18148938e-02,  -2.73751152e-02,   1.47617310e-02,\n",
        "          7.25689458e-02,  -2.50532600e-02,  -2.50651865e-02,\n",
        "          1.86580460e-02,  -6.36521345e-03,  -1.26330066e-01,\n",
        "          1.17834468e-02,   2.11442666e-02,  -5.27966470e-02,\n",
        "         -2.75879207e-03,   2.06040557e-02,   9.53986487e-01,\n",
        "          1.31398379e-02,   3.06443091e-02,  -1.36830287e-02],\n",
        "       [  7.50679304e-03,   5.14181805e-03,  -5.60181540e-03,\n",
        "         -1.20174580e-02,   1.99667887e-02,  -6.41104925e-03,\n",
        "         -1.56050959e-02,   1.90966515e-02,  -1.82817277e-02,\n",
        "         -2.28647156e-02,   1.78367595e-02,  -9.26207885e-03,\n",
        "         -2.86868944e-02,   1.55699511e-02,   2.93858806e-02,\n",
        "         -1.38150044e-02,  -2.07593647e-03,   1.15833596e-02,\n",
        "         -8.87919883e-03,  -4.86830462e-03,   1.31398379e-02,\n",
        "          9.94532717e-01,  -6.54023961e-03,   8.42127586e-04],\n",
        "       [  1.74613449e-01,   1.90823626e-01,  -1.37355391e-01,\n",
        "         -2.07354791e-02,   1.92249928e-01,  -2.42303214e-02,\n",
        "         -2.80776388e-02,   1.86588613e-01,  -3.18690473e-02,\n",
        "         -2.14518438e-02,   1.84063837e-01,  -2.84784488e-02,\n",
        "         -3.02950466e-02,   1.79051098e-01,   6.89899911e-02,\n",
        "         -2.82137276e-02,   1.42447067e-01,   1.21187390e-02,\n",
        "         -2.34055958e-02,   1.35710250e-01,   3.06443091e-02,\n",
        "         -6.54023961e-03,   1.12874274e+00,  -1.78972629e-02],\n",
        "       [ -2.26086812e-02,  -2.59099081e-02,   2.04859599e-02,\n",
        "          8.62960467e-03,  -2.60674685e-02,  -1.00323163e-02,\n",
        "          2.53670766e-02,  -2.50343003e-02,  -1.34101320e-02,\n",
        "          1.30618370e-02,  -2.49792257e-02,  -2.43022527e-02,\n",
        "         -2.76747203e-02,  -1.59328322e-02,  -4.55629682e-02,\n",
        "         -8.80639454e-03,  -1.94560161e-02,  -1.67498365e-02,\n",
        "         -1.09364081e-02,  -2.28295066e-02,  -1.36830287e-02,\n",
        "          8.42127586e-04,  -1.78972629e-02,   9.96576141e-01]])\n",
        "      fun: 0.000441893111877938\n",
        "        x: array([-0.13408449, -0.04283943,  0.08664712,  0.32199493,  0.64317443,\n",
        "       -0.51579918,  0.36805164,  0.64167206, -0.52344728,  0.34518321,\n",
        "        0.89925981, -0.606925  ,  0.33040117,  0.64936851, -0.59224746,\n",
        "        0.19002249,  0.73207092, -0.51926917,  0.38696463,  0.72676859,\n",
        "       -0.49503349,  0.3864245 ,  0.72532442, -0.49491041])\n",
        "  message: 'Optimization terminated successfully.'\n",
        "      jac: array([ -1.91816071e-07,   3.46153683e-07,  -4.80795279e-08,\n",
        "         9.81526682e-09,  -1.09139364e-07,   1.41590135e-07,\n",
        "        -1.41175406e-07,  -1.39523763e-07,   2.24441465e-07,\n",
        "         5.11499820e-09,  -1.15142029e-07,   3.06645234e-07,\n",
        "         4.16104740e-07,  -1.72673026e-07,   2.22513336e-07,\n",
        "         1.78704795e-07,  -2.99987732e-08,   9.46238288e-08,\n",
        "         1.76216417e-07,   2.24645191e-08,   6.68369466e-08,\n",
        "         2.98823579e-08,  -1.50284905e-08,   5.99975465e-08])\n"
       ]
      }
     ],
     "prompt_number": 14
    },
    {
     "cell_type": "markdown",
     "metadata": {},
     "source": [
      "Now lets see the results the v vector, and the final value of the error. Check that the final status is 0, and success is True... otherwise adjustments should be made to the initial values or model (maybe change the norm)."
     ]
    },
    {
     "cell_type": "code",
     "collapsed": false,
     "input": [
      "print \"Success: \", res.success\n",
      "print res.fun\n",
      "v=res.x[0:3]\n",
      "print v"
     ],
     "language": "python",
     "metadata": {},
     "outputs": [
      {
       "output_type": "stream",
       "stream": "stdout",
       "text": [
        "Success:  True\n",
        "0.000441893111878\n",
        "[-0.13408449 -0.04283943  0.08664712]\n"
       ]
      }
     ],
     "prompt_number": 15
    },
    {
     "cell_type": "markdown",
     "metadata": {},
     "source": [
      "## 1.3 Verifying results\n",
      "\n"
     ]
    },
    {
     "cell_type": "markdown",
     "metadata": {},
     "source": [
      "Lets calculate the mappings to the tip, given the vector v"
     ]
    },
    {
     "cell_type": "code",
     "collapsed": false,
     "input": [
      "point = get_point_function(v)\n",
      "mapped_points = [map(lambda p:point(p.pos,p.orn),s) for s in pointer_pairs]\n",
      "print mapped_points"
     ],
     "language": "python",
     "metadata": {},
     "outputs": [
      {
       "output_type": "stream",
       "stream": "stdout",
       "text": [
        "[[array([ 0.32405677,  0.64511899, -0.51840192]), array([ 0.31827895,  0.64114282, -0.51702317]), array([ 0.32321445,  0.64158131, -0.51287942]), array([ 0.32242957,  0.64485467, -0.51489226])], [array([ 0.36777893,  0.64291623, -0.52465934]), array([ 0.36912813,  0.64081142, -0.52540847]), array([ 0.36761021,  0.64017894, -0.52095762]), array([ 0.36768937,  0.64278175, -0.52276377])], [array([ 0.34283143,  0.90007064, -0.60901754]), array([ 0.34579621,  0.8993696 , -0.60844836]), array([ 0.3465505 ,  0.90030649, -0.60551801]), array([ 0.34555472,  0.8972926 , -0.60471622])], [array([ 0.32806105,  0.64855586, -0.59146247]), array([ 0.32595393,  0.6549591 , -0.59485811]), array([ 0.33385462,  0.64823381, -0.59332134]), array([ 0.33373491,  0.64572538, -0.58934798])], [array([ 0.19345606,  0.73301469, -0.51474541]), array([ 0.18977911,  0.73552169, -0.52183111]), array([ 0.1905674 ,  0.73188877, -0.52448708]), array([ 0.18628732,  0.72785859, -0.5160131 ])], [array([ 0.38584883,  0.7248707 , -0.49758203]), array([ 0.38832376,  0.72485049, -0.49583495]), array([ 0.38198712,  0.72957568, -0.49295851]), array([ 0.39169874,  0.72777751, -0.49375849])], [array([ 0.38476427,  0.722194  , -0.49667672]), array([ 0.38698254,  0.72770833, -0.49201376]), array([ 0.38681506,  0.72545453, -0.49508937]), array([ 0.38713616,  0.72594088, -0.49586178])]]\n"
       ]
      }
     ],
     "prompt_number": 16
    },
    {
     "cell_type": "markdown",
     "metadata": {},
     "source": [
      "Now lets use vtk to verify the calibration results"
     ]
    },
    {
     "cell_type": "code",
     "collapsed": false,
     "input": [
      "viewer = VtkViewer()\n",
      "#The x_i\n",
      "for i,xi in enumerate(mapped_points):\n",
      "    \n",
      "    x = np.mean(np.array(xi),axis=0)\n",
      "    ac = get_sphere_actor(*x)\n",
      "    c = colors[i]\n",
      "    ac.GetProperty().SetColor(c)\n",
      "    ac.GetProperty().SetRepresentationToWireframe()\n",
      "    viewer.add_actor(ac)\n",
      "    \n",
      "\n",
      "#viewer.start()"
     ],
     "language": "python",
     "metadata": {},
     "outputs": [],
     "prompt_number": 17
    },
    {
     "cell_type": "markdown",
     "metadata": {},
     "source": [
      "Let's add the mapped points in the same colors"
     ]
    },
    {
     "cell_type": "code",
     "collapsed": false,
     "input": [
      "for i,s in enumerate(mapped_points):\n",
      "    for p in s:\n",
      "        ac = get_sphere_actor(*p)\n",
      "        ac.GetProperty().SetColor(colors[i])\n",
      "        ac.GetProperty().SetRepresentationToWireframe()\n",
      "        viewer.add_actor(ac)\n",
      "\n",
      "#viewer.start()"
     ],
     "language": "python",
     "metadata": {},
     "outputs": [],
     "prompt_number": 18
    },
    {
     "cell_type": "markdown",
     "metadata": {},
     "source": [
      "And Let's add the original data"
     ]
    },
    {
     "cell_type": "code",
     "collapsed": false,
     "input": [
      " for i,si in enumerate(pointer_pairs):\n",
      "    c = colors[i]\n",
      "    for p in si:\n",
      "        ac = get_sphere_actor(*p.pos)\n",
      "        ac.GetProperty().SetColor(c)\n",
      "        viewer.add_actor(ac)\n",
      "#viewer.start()"
     ],
     "language": "python",
     "metadata": {},
     "outputs": [],
     "prompt_number": 19
    },
    {
     "cell_type": "markdown",
     "metadata": {},
     "source": [
      "Let's connect them with lines"
     ]
    },
    {
     "cell_type": "code",
     "collapsed": false,
     "input": [
      "for i,(ops,mps) in enumerate(izip(pointer_pairs,mapped_points)):\n",
      "    c = colors[i]\n",
      "    for p1,p2 in izip(ops,mps):\n",
      "        ac = get_line_actor(p1.pos,p2)\n",
      "        ac.GetProperty().SetColor(c)\n",
      "        viewer.add_actor(ac)\n",
      "viewer.start()\n",
      "del viewer"
     ],
     "language": "python",
     "metadata": {},
     "outputs": [],
     "prompt_number": 20
    },
    {
     "cell_type": "markdown",
     "metadata": {},
     "source": [
      "<img src=\"files/Captura.PNG\">"
     ]
    },
    {
     "cell_type": "markdown",
     "metadata": {},
     "source": [
      "## 1.4 Save Results\n",
      "\n",
      "If everything looks ok, let's copy the results to the file calibration_data.py\n"
     ]
    },
    {
     "cell_type": "code",
     "collapsed": false,
     "input": [
      "#Final V\n",
      "v=res.x[0:3]\n",
      "print tuple(v), \",\"\n",
      "#Final error\n",
      "print res.fun, \",\"\n"
     ],
     "language": "python",
     "metadata": {},
     "outputs": [
      {
       "output_type": "stream",
       "stream": "stdout",
       "text": [
        "(-0.13408449309806408, -0.042839431502549027, 0.086647120191742269) ,\n",
        "0.000441893111878 ,\n"
       ]
      }
     ],
     "prompt_number": 22
    },
    {
     "cell_type": "markdown",
     "metadata": {},
     "source": [
      "## 1.5 Test Saved Results\n"
     ]
    },
    {
     "cell_type": "code",
     "collapsed": false,
     "input": [
      "from read_and_transform import *\n",
      "date = pointer_data[0][0].date\n",
      "p_f = get_pointer_transform_function(date)\n",
      "\n",
      "centers = [ [p_f(p) for p in trial] for trial in pointer_data]\n",
      "\n",
      "\n",
      "viewer = VtkViewer()\n",
      "for i,pcs in enumerate(izip(pointer_data,centers)):\n",
      "    \n",
      "    c = colors[i]\n",
      "    for pp,ct in izip(*pcs):\n",
      "        p=pp.point_pos\n",
      "        ac = get_sphere_actor(*ct)\n",
      "        ac.GetProperty().SetColor(c)\n",
      "        ac.GetProperty().SetRepresentationToWireframe()\n",
      "        viewer.add_actor(ac)\n",
      "        \n",
      "        ac = get_sphere_actor(*p)\n",
      "        ac.GetProperty().SetColor(c)\n",
      "        viewer.add_actor(ac)\n",
      "        \n",
      "        ac = get_line_actor(p,ct)\n",
      "        ac.GetProperty().SetColor(c)\n",
      "        viewer.add_actor(ac)\n",
      "\n",
      "\n",
      "        \n",
      "viewer.start()\n",
      "del viewer"
     ],
     "language": "python",
     "metadata": {},
     "outputs": [
      {
       "output_type": "stream",
       "stream": "stdout",
       "text": [
        "([(1,2013-04-24 11:32:27,1970-01-01 11:51:19,(0.433356374502182, 0.7686194181442261, -0.5294849276542664),(0.9245642423629761, 0.0570138618350029, -0.24808603525161743, 0.2835201621055603),1970-01-01 11:48:34,(0.9020995497703552, 1.3117856979370117, -0.2683728337287903),(0.35526034235954285, 0.7190861105918884, -0.529931366443634, 0.27545955777168274)), (2,2013-04-24 11:32:37,1970-01-01 11:51:29,(0.36791741847991943, 0.7602229714393616, -0.6203553080558777),(0.9258040189743042, 0.20711684226989746, 0.2666151821613312, 0.17001718282699585),1970-01-01 11:51:21,(0.41310402750968933, 0.760026752948761, -0.48809221386909485),(0.32399678230285645, -0.3837200403213501, 0.8288359045982361, 0.24660919606685638)), (3,2013-04-24 11:32:47,1970-01-01 11:51:39,(0.3469897508621216, 0.764621913433075, -0.4050956666469574),(0.5964057445526123, -0.00870213471353054, -0.743718147277832, 0.3018406629562378),1970-01-01 11:51:31,(0.4065108299255371, 0.7637034058570862, -0.4764512777328491),(0.3457014560699463, -0.38497886061668396, 0.8071589469909668, 0.28421175479888916)), (4,2013-04-24 11:32:57,1970-01-01 11:51:49,(0.21655923128128052, 0.7701968550682068, -0.4948323667049408),(0.10495807230472565, 0.22472849488258362, 0.9426276087760925, -0.2234593778848648),1970-01-01 11:51:31,(0.4065108299255371, 0.7637034058570862, -0.4764512777328491),(0.3457014560699463, -0.38497886061668396, 0.8071589469909668, 0.28421175479888916))], [array([ 0.32405677,  0.64511899, -0.51840192]), array([ 0.31827895,  0.64114282, -0.51702317]), array([ 0.32321445,  0.64158131, -0.51287942]), array([ 0.32242957,  0.64485467, -0.51489226])])\n",
        "2\n",
        "([(1,2013-04-24 11:33:57,1970-01-01 11:52:50,(0.46444231271743774, 0.7642903923988342, -0.4676847755908966),(0.8312631845474243, 0.053199734538793564, -0.4795333445072174, 0.27607816457748413),1970-01-01 11:51:52,(1.2588609457015991, 1.3039122819900513, -0.5838918685913086),(-0.12445651739835739, 0.1426360160112381, 0.3932367265224457, 0.8997390866279602)), (2,2013-04-24 11:34:07,1970-01-01 11:53:00,(0.45255643129348755, 0.7684402465820312, -0.5892221927642822),(0.9506239891052246, 0.19453732669353485, 0.05267030745744705, 0.2359979897737503),1970-01-01 11:52:51,(0.4330196976661682, 0.7719925045967102, -0.565577507019043),(0.30914685130119324, -0.6144809722900391, 0.2889023721218109, -0.665865421295166)), (3,2013-04-24 11:34:17,1970-01-01 11:53:10,(0.3751828968524933, 0.7715115547180176, -0.42087769508361816),(0.5427798628807068, -0.04350685328245163, -0.7689645886421204, 0.33494874835014343),1970-01-01 11:52:51,(0.4330196976661682, 0.7719925045967102, -0.565577507019043),(0.30914685130119324, -0.6144809722900391, 0.2889023721218109, -0.665865421295166)), (4,2013-04-24 11:34:27,1970-01-01 11:53:20,(0.277794748544693, 0.7629818916320801, -0.45353615283966064),(0.0597604475915432, -0.2029953896999359, -0.959755003452301, 0.18463939428329468),1970-01-01 11:52:51,(0.4330196976661682, 0.7719925045967102, -0.565577507019043),(0.30914685130119324, -0.6144809722900391, 0.2889023721218109, -0.665865421295166))], [array([ 0.36777893,  0.64291623, -0.52465934]), array([ 0.36912813,  0.64081142, -0.52540847]), array([ 0.36761021,  0.64017894, -0.52095762]), array([ 0.36768937,  0.64278175, -0.52276377])])"
       ]
      },
      {
       "output_type": "stream",
       "stream": "stdout",
       "text": [
        "\n",
        "2\n",
        "([(1,2013-04-24 11:36:05,1970-01-01 11:54:58,(0.45847126841545105, 1.0110728740692139, -0.6493601202964783),(0.966792643070221, 0.14276383817195892, -0.09131614118814468, 0.1912899762392044),1970-01-01 11:54:44,(0.06712191551923752, 1.095075011253357, -1.027394413948059),(0.3784431517124176, -0.5235141515731812, 0.7580212354660034, 0.0900970846414566)), (2,2013-04-24 11:36:15,1970-01-01 11:55:08,(0.393216997385025, 1.0114330053329468, -0.49657943844795227),(0.653701901435852, 0.0005753850564360619, -0.7144761085510254, 0.24939414858818054),1970-01-01 11:54:44,(0.06712191551923752, 1.095075011253357, -1.027394413948059),(0.3784431517124176, -0.5235141515731812, 0.7580212354660034, 0.0900970846414566)), (3,2013-04-24 11:36:25,1970-01-01 11:55:18,(0.4227747917175293, 1.0199410915374756, -0.6903650164604187),(0.9476724863052368, 0.21891656517982483, 0.1610124409198761, 0.16753345727920532),1970-01-01 11:54:44,(0.06712191551923752, 1.095075011253357, -1.027394413948059),(0.3784431517124176, -0.5235141515731812, 0.7580212354660034, 0.0900970846414566)), (4,2013-04-24 11:36:35,1970-01-01 11:55:28,(0.33841440081596375, 1.0531975030899048, -0.5502711534500122),(0.3788023889064789, -0.2417139708995819, -0.7994486093521118, 0.39870408177375793),1970-01-01 11:54:44,(0.06712191551923752, 1.095075011253357, -1.027394413948059),(0.3784431517124176, -0.5235141515731812, 0.7580212354660034, 0.0900970846414566))], [array([ 0.34283143,  0.90007064, -0.60901754]), array([ 0.34579621,  0.8993696 , -0.60844836]), array([ 0.3465505 ,  0.90030649, -0.60551801]), array([ 0.34555472,  0.8972926 , -0.60471622])])\n",
        "2\n",
        "([(1,2013-04-24 11:37:37,1970-01-01 11:56:30,(0.4088577330112457, 0.7921199798583984, -0.5779410600662231),(0.8874867558479309, 0.23352305591106415, -0.21113397181034088, 0.3365361988544464),1970-01-01 11:56:15,(0.0012313042534515262, 1.132068395614624, -1.167128324508667),(0.9048807621002197, 0.29435980319976807, -0.11885710060596466, 0.28357744216918945)), (2,2013-04-24 11:37:47,1970-01-01 11:56:40,(0.4653109908103943, 0.7425207495689392, -0.5795558094978333),(0.9412481784820557, 0.14172899723052979, -0.2833442687988281, 0.1169649288058281),1970-01-01 11:56:15,(0.0012313042534515262, 1.132068395614624, -1.167128324508667),(0.9048807621002197, 0.29435980319976807, -0.11885710060596466, 0.28357744216918945)), (3,2013-04-24 11:37:57,1970-01-01 11:56:50,(0.40134695172309875, 0.760078489780426, -0.694598913192749),(0.9200369119644165, 0.2718595862388611, 0.2753933072090149, 0.06150628626346588),1970-01-01 11:56:15,(0.0012313042534515262, 1.132068395614624, -1.167128324508667),(0.9048807621002197, 0.29435980319976807, -0.11885710060596466, 0.28357744216918945)), (4,2013-04-24 11:38:07,1970-01-01 11:57:00,(0.3656518757343292, 0.7999820113182068, -0.6394258141517639),(0.7971221208572388, 0.4542951285839081, 0.36378952860832214, 0.16083978116512299),1970-01-01 11:56:15,(0.0012313042534515262, 1.132068395614624, -1.167128324508667),(0.9048807621002197, 0.29435980319976807, -0.11885710060596466, 0.28357744216918945))], [array([ 0.32806105,  0.64855586, -0.59146247]), array([ 0.32595393,  0.6549591 , -0.59485811]), array([ 0.33385462,  0.64823381, -0.59332134]), array([ 0.33373491,  0.64572538, -0.58934798])])"
       ]
      },
      {
       "output_type": "stream",
       "stream": "stdout",
       "text": [
        "\n",
        "2\n",
        "([(1,2013-04-24 11:55:41,1970-01-01 12:14:34,(0.24944323301315308, 0.8883746266365051, -0.5218389630317688),(0.8530058860778809, 0.11218784004449844, -0.24003633856773376, 0.4496414065361023),1970-01-01 12:05:02,(1.2195303440093994, 1.384728193283081, -0.8498274087905884),(0.37490445375442505, 0.0805729329586029, -0.9224219918251038, -0.04574288800358772)), (2,2013-04-24 11:55:51,1970-01-01 12:14:44,(0.23780912160873413, 0.8776119351387024, -0.5912938117980957),(0.9043490290641785, 0.28042128682136536, 0.19942131638526917, 0.2524832785129547),1970-01-01 12:05:02,(1.2195303440093994, 1.384728193283081, -0.8498274087905884),(0.37490445375442505, 0.0805729329586029, -0.9224219918251038, -0.04574288800358772)), (3,2013-04-24 11:56:01,1970-01-01 12:14:54,(0.20470665395259857, 0.890658438205719, -0.5682348608970642),(0.7190912365913391, 0.4976392090320587, 0.46875113248825073, 0.12464126199483871),1970-01-01 12:05:02,(1.2195303440093994, 1.384728193283081, -0.8498274087905884),(0.37490445375442505, 0.0805729329586029, -0.9224219918251038, -0.04574288800358772)), (4,2013-04-24 11:56:11,1970-01-01 12:15:04,(0.16370755434036255, 0.8910422325134277, -0.502491295337677),(0.2567084729671478, -0.30085569620132446, -0.7864907383918762, 0.47436150908470154),1970-01-01 12:05:02,(1.2195303440093994, 1.384728193283081, -0.8498274087905884),(0.37490445375442505, 0.0805729329586029, -0.9224219918251038, -0.04574288800358772))], [array([ 0.19345606,  0.73301469, -0.51474541]), array([ 0.18977911,  0.73552169, -0.52183111]), array([ 0.1905674 ,  0.73188877, -0.52448708]), array([ 0.18628732,  0.72785859, -0.5160131 ])])\n",
        "2\n",
        "([(1,2013-04-24 11:58:14,1970-01-01 12:17:06,(0.39675068855285645, 0.8886245489120483, -0.47789904475212097),(0.45136725902557373, -0.25664252042770386, -0.6967176198959351, 0.4949614107608795),1970-01-01 12:15:17,(0.3020058572292328, 1.2355163097381592, -0.23840278387069702),(0.44075366854667664, -0.28817352652549744, -0.5506636500358582, 0.6476587057113647)), (2,2013-04-24 11:58:24,1970-01-01 12:17:16,(0.4362345337867737, 0.8824613690376282, -0.5094350576400757),(0.8601641058921814, 0.16081516444683075, -0.16811957955360413, 0.4538634419441223),1970-01-01 12:15:17,(0.3020058572292328, 1.2355163097381592, -0.23840278387069702),(0.44075366854667664, -0.28817352652549744, -0.5506636500358582, 0.6476587057113647)), (3,2013-04-24 11:58:34,1970-01-01 12:17:26,(0.39850276708602905, 0.8863659501075745, -0.542613685131073),(0.8010122776031494, 0.42096152901649475, 0.3612574636936188, 0.22508609294891357),1970-01-01 12:17:25,(0.4302148222923279, 0.8577204346656799, -0.5314266085624695),(0.20231842994689941, 0.14148351550102234, -0.7750160098075867, -0.5817214846611023)), (4,2013-04-24 11:58:44,1970-01-01 12:17:36,(0.3586236536502838, 0.8856315016746521, -0.529948890209198),(0.5870826840400696, 0.4744868576526642, 0.6494853496551514, 0.09145952761173248),1970-01-01 12:17:27,(0.43120428919792175, 0.8589961528778076, -0.5306395292282104),(0.20898795127868652, 0.12882769107818604, -0.7724877595901489, -0.58565354347229))], [array([ 0.38584883,  0.7248707 , -0.49758203]), array([ 0.38832376,  0.72485049, -0.49583495]), array([ 0.38198712,  0.72957568, -0.49295851]), array([ 0.39169874,  0.72777751, -0.49375849])])"
       ]
      },
      {
       "output_type": "stream",
       "stream": "stdout",
       "text": [
        "\n",
        "2\n",
        "([(1,2013-04-24 11:59:15,1970-01-01 12:18:08,(0.35648074746131897, 0.8835105299949646, -0.5190063714981079),(-0.03741629421710968, -0.43034493923187256, -0.8076575994491577, 0.4013632833957672),1970-01-01 12:17:55,(-0.0660175308585167, 1.1330130100250244, -0.3000143766403198),(0.2115519940853119, 0.09956060349941254, -0.7235484719276428, 0.6494698524475098)), (2,2013-04-24 11:59:25,1970-01-01 12:18:18,(0.3859087824821472, 0.8875529170036316, -0.5340868830680847),(0.6894603967666626, 0.49051162600517273, 0.5164008736610413, 0.13180620968341827),1970-01-01 12:17:55,(-0.0660175308585167, 1.1330130100250244, -0.3000143766403198),(0.2115519940853119, 0.09956060349941254, -0.7235484719276428, 0.6494698524475098)), (3,2013-04-24 11:59:35,1970-01-01 12:18:28,(0.4463484287261963, 0.8747367858886719, -0.5337181091308594),(0.9053258299827576, 0.1776987612247467, -0.0482005849480629, 0.38273364305496216),1970-01-01 12:17:55,(-0.0660175308585167, 1.1330130100250244, -0.3000143766403198),(0.2115519940853119, 0.09956060349941254, -0.7235484719276428, 0.6494698524475098)), (4,2013-04-24 11:59:45,1970-01-01 12:18:38,(0.4054984748363495, 0.8890559673309326, -0.4764224588871002),(0.6276062726974487, -0.09010173380374908, -0.5584726333618164, 0.5348835587501526),1970-01-01 12:17:55,(-0.0660175308585167, 1.1330130100250244, -0.3000143766403198),(0.2115519940853119, 0.09956060349941254, -0.7235484719276428, 0.6494698524475098))], [array([ 0.38476427,  0.722194  , -0.49667672]), array([ 0.38698254,  0.72770833, -0.49201376]), array([ 0.38681506,  0.72545453, -0.49508937]), array([ 0.38713616,  0.72594088, -0.49586178])])\n",
        "2\n"
       ]
      }
     ],
     "prompt_number": 33
    }
   ],
   "metadata": {}
  }
 ]
}